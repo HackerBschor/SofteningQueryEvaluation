{
 "cells": [
  {
   "cell_type": "code",
   "id": "initial_id",
   "metadata": {
    "collapsed": true,
    "ExecuteTime": {
     "end_time": "2025-01-24T15:51:20.211533Z",
     "start_time": "2025-01-24T15:51:18.294272Z"
    }
   },
   "source": [
    "from models import ModelMgr\n",
    "import kagglehub\n",
    "import ast\n",
    "import pandas as pd\n",
    "\n",
    "from models.semantic_validation import LLaMAValidationModel\n",
    "\n",
    "from sklearn.metrics import classification_report, f1_score\n",
    "from sklearn.model_selection import train_test_split\n",
    "\n",
    "from tqdm import tqdm\n",
    "tqdm.pandas()"
   ],
   "outputs": [],
   "execution_count": 1
  },
  {
   "metadata": {
    "ExecuteTime": {
     "end_time": "2025-01-24T15:51:21.253288Z",
     "start_time": "2025-01-24T15:51:20.215062Z"
    }
   },
   "cell_type": "code",
   "source": [
    "lvm = LLaMAValidationModel(ModelMgr())\n",
    "lvm"
   ],
   "id": "a433921524bc6632",
   "outputs": [
    {
     "data": {
      "text/plain": [
       "Loading checkpoint shards:   0%|          | 0/2 [00:00<?, ?it/s]"
      ],
      "application/vnd.jupyter.widget-view+json": {
       "version_major": 2,
       "version_minor": 0,
       "model_id": "5351ec3805ae4e2ba2a1bc03aa47d166"
      }
     },
     "metadata": {},
     "output_type": "display_data"
    },
    {
     "data": {
      "text/plain": [
       "<models.semantic_validation.LLaMA.LLaMAValidationModel at 0x7524106f1c10>"
      ]
     },
     "execution_count": 2,
     "metadata": {},
     "output_type": "execute_result"
    }
   ],
   "execution_count": 2
  },
  {
   "metadata": {
    "ExecuteTime": {
     "end_time": "2025-01-24T15:51:21.608564Z",
     "start_time": "2025-01-24T15:51:21.295886Z"
    }
   },
   "cell_type": "code",
   "source": [
    "# Download latest version\n",
    "path = kagglehub.dataset_download(\"rounakbanik/the-movies-dataset\")\n",
    "\n",
    "print(\"Path to dataset files:\", path)"
   ],
   "id": "7538f0281e946054",
   "outputs": [
    {
     "name": "stdout",
     "output_type": "stream",
     "text": [
      "Path to dataset files: /home/nico/.cache/kagglehub/datasets/rounakbanik/the-movies-dataset/versions/7\n"
     ]
    }
   ],
   "execution_count": 3
  },
  {
   "metadata": {
    "ExecuteTime": {
     "end_time": "2025-01-24T15:51:22.572833Z",
     "start_time": "2025-01-24T15:51:22.289349Z"
    }
   },
   "cell_type": "code",
   "source": [
    "# df_ratings_small = pd.read_csv(f\"{path}/ratings_small.csv\")\n",
    "# df_links = pd.read_csv(f\"{path}/links.csv\")\n",
    "# df_links_small = pd.read_csv(f\"{path}/links_small.csv\")\n",
    "# df_credits = pd.read_csv(f\"{path}/credits.csv\")\n",
    "# df_ratings = pd.read_csv(f\"{path}/ratings.csv\")\n",
    "\n",
    "df_movies_metadata = pd.read_csv(f\"{path}/movies_metadata.csv\", low_memory=False, index_col=\"id\").drop(index='1997-08-20').drop(index=\"2012-09-29\")\n",
    "\n",
    "df_keywords = pd.read_csv(f\"{path}/keywords.csv\", index_col=\"id\")\n",
    "df_keywords.index = df_keywords.index.astype(str)"
   ],
   "id": "de64addca30be9fe",
   "outputs": [],
   "execution_count": 4
  },
  {
   "metadata": {
    "ExecuteTime": {
     "end_time": "2025-01-24T15:51:24.272113Z",
     "start_time": "2025-01-24T15:51:23.459615Z"
    }
   },
   "cell_type": "code",
   "source": [
    "df_keywords_map = df_keywords.copy()\n",
    "df_keywords_map[\"keywords\"] = df_keywords_map[\"keywords\"].apply(lambda x: {y[\"name\"] for y in ast.literal_eval(x)})\n",
    "df_keywords_map"
   ],
   "id": "e8535a51e4f0b04b",
   "outputs": [
    {
     "data": {
      "text/plain": [
       "                                                 keywords\n",
       "id                                                       \n",
       "862     {toy, friendship, boy next door, new toy, toy ...\n",
       "8844    {disappearance, recluse, board game, new home,...\n",
       "15602   {duringcreditsstinger, best friend, fishing, o...\n",
       "31357   {based on novel, interracial relationship, div...\n",
       "11862   {contraception, midlife crisis, mother daughte...\n",
       "...                                                   ...\n",
       "439050                                      {tragic love}\n",
       "111109                              {pinoy, play, artist}\n",
       "67758                                                  {}\n",
       "227506                                                 {}\n",
       "461257                                                 {}\n",
       "\n",
       "[46419 rows x 1 columns]"
      ],
      "text/html": [
       "<div>\n",
       "<style scoped>\n",
       "    .dataframe tbody tr th:only-of-type {\n",
       "        vertical-align: middle;\n",
       "    }\n",
       "\n",
       "    .dataframe tbody tr th {\n",
       "        vertical-align: top;\n",
       "    }\n",
       "\n",
       "    .dataframe thead th {\n",
       "        text-align: right;\n",
       "    }\n",
       "</style>\n",
       "<table border=\"1\" class=\"dataframe\">\n",
       "  <thead>\n",
       "    <tr style=\"text-align: right;\">\n",
       "      <th></th>\n",
       "      <th>keywords</th>\n",
       "    </tr>\n",
       "    <tr>\n",
       "      <th>id</th>\n",
       "      <th></th>\n",
       "    </tr>\n",
       "  </thead>\n",
       "  <tbody>\n",
       "    <tr>\n",
       "      <th>862</th>\n",
       "      <td>{toy, friendship, boy next door, new toy, toy ...</td>\n",
       "    </tr>\n",
       "    <tr>\n",
       "      <th>8844</th>\n",
       "      <td>{disappearance, recluse, board game, new home,...</td>\n",
       "    </tr>\n",
       "    <tr>\n",
       "      <th>15602</th>\n",
       "      <td>{duringcreditsstinger, best friend, fishing, o...</td>\n",
       "    </tr>\n",
       "    <tr>\n",
       "      <th>31357</th>\n",
       "      <td>{based on novel, interracial relationship, div...</td>\n",
       "    </tr>\n",
       "    <tr>\n",
       "      <th>11862</th>\n",
       "      <td>{contraception, midlife crisis, mother daughte...</td>\n",
       "    </tr>\n",
       "    <tr>\n",
       "      <th>...</th>\n",
       "      <td>...</td>\n",
       "    </tr>\n",
       "    <tr>\n",
       "      <th>439050</th>\n",
       "      <td>{tragic love}</td>\n",
       "    </tr>\n",
       "    <tr>\n",
       "      <th>111109</th>\n",
       "      <td>{pinoy, play, artist}</td>\n",
       "    </tr>\n",
       "    <tr>\n",
       "      <th>67758</th>\n",
       "      <td>{}</td>\n",
       "    </tr>\n",
       "    <tr>\n",
       "      <th>227506</th>\n",
       "      <td>{}</td>\n",
       "    </tr>\n",
       "    <tr>\n",
       "      <th>461257</th>\n",
       "      <td>{}</td>\n",
       "    </tr>\n",
       "  </tbody>\n",
       "</table>\n",
       "<p>46419 rows × 1 columns</p>\n",
       "</div>"
      ]
     },
     "execution_count": 5,
     "metadata": {},
     "output_type": "execute_result"
    }
   ],
   "execution_count": 5
  },
  {
   "metadata": {
    "ExecuteTime": {
     "end_time": "2025-01-24T15:51:24.558803Z",
     "start_time": "2025-01-24T15:51:24.553791Z"
    }
   },
   "cell_type": "code",
   "source": [
    "def assign_random_keywords(current_keywords: set, df_keywords_pool: pd.DataFrame):\n",
    "    selected_keywords = df_keywords_pool.sample(1)[\"keywords\"].values[0]\n",
    "    while not selected_keywords.isdisjoint(current_keywords):\n",
    "        selected_keywords: set = df_keywords_pool.sample(1)[\"keywords\"].values[0]\n",
    "    return selected_keywords"
   ],
   "id": "1511da4aca3858a2",
   "outputs": [],
   "execution_count": 6
  },
  {
   "metadata": {
    "ExecuteTime": {
     "end_time": "2025-01-24T15:51:30.693022Z",
     "start_time": "2025-01-24T15:51:25.600735Z"
    }
   },
   "cell_type": "code",
   "source": [
    "df_true, df_false = train_test_split(df_keywords_map, test_size=0.5)\n",
    "\n",
    "df_true[\"class\"] = True\n",
    "\n",
    "df_false[\"keywords\"] = df_false[\"keywords\"].apply(lambda x: assign_random_keywords(x, df_true))\n",
    "df_false[\"class\"] = False"
   ],
   "id": "3861d5f61d0c9f0f",
   "outputs": [],
   "execution_count": 7
  },
  {
   "metadata": {
    "ExecuteTime": {
     "end_time": "2025-01-24T15:51:48.896923Z",
     "start_time": "2025-01-24T15:51:48.841012Z"
    }
   },
   "cell_type": "code",
   "source": [
    "df_full = pd.concat([df_true, df_false])\\\n",
    "    .merge(df_movies_metadata, left_index=True, right_index=True)\\\n",
    "    [[\"keywords\", \"overview\", \"original_title\", \"class\"]]\n",
    "\n",
    "df_full = df_full[df_full[\"keywords\"].apply(lambda x: len(x) > 0)].sample(frac=1)\n",
    "\n",
    "df_full.head()"
   ],
   "id": "9fe5ddfc2c27223a",
   "outputs": [
    {
     "data": {
      "text/plain": [
       "                                                 keywords  \\\n",
       "id                                                          \n",
       "56338                                    {woman director}   \n",
       "78265                     {gangster, criminal mastermind}   \n",
       "9540    {voyeurism, prostitution, drug, spectacle, twi...   \n",
       "132379                                      {silent film}   \n",
       "25518                                    {woman director}   \n",
       "\n",
       "                                                 overview  \\\n",
       "id                                                          \n",
       "56338   7 Khoon Maaf movie is a romantic misadventures...   \n",
       "78265   Elizabeth is losing her sight, so while her lo...   \n",
       "9540    Elliot, a successful gynecologist, works at th...   \n",
       "132379  A magical glowing white motorcar dismembers po...   \n",
       "25518   As part of an intergalactic coalition, a well-...   \n",
       "\n",
       "                 original_title  class  \n",
       "id                                      \n",
       "56338              7 Khoon Maaf  False  \n",
       "78265   This Woman Is Dangerous   True  \n",
       "9540               Dead Ringers   True  \n",
       "132379         The '?' Motorist   True  \n",
       "25518            La Belle verte   True  "
      ],
      "text/html": [
       "<div>\n",
       "<style scoped>\n",
       "    .dataframe tbody tr th:only-of-type {\n",
       "        vertical-align: middle;\n",
       "    }\n",
       "\n",
       "    .dataframe tbody tr th {\n",
       "        vertical-align: top;\n",
       "    }\n",
       "\n",
       "    .dataframe thead th {\n",
       "        text-align: right;\n",
       "    }\n",
       "</style>\n",
       "<table border=\"1\" class=\"dataframe\">\n",
       "  <thead>\n",
       "    <tr style=\"text-align: right;\">\n",
       "      <th></th>\n",
       "      <th>keywords</th>\n",
       "      <th>overview</th>\n",
       "      <th>original_title</th>\n",
       "      <th>class</th>\n",
       "    </tr>\n",
       "    <tr>\n",
       "      <th>id</th>\n",
       "      <th></th>\n",
       "      <th></th>\n",
       "      <th></th>\n",
       "      <th></th>\n",
       "    </tr>\n",
       "  </thead>\n",
       "  <tbody>\n",
       "    <tr>\n",
       "      <th>56338</th>\n",
       "      <td>{woman director}</td>\n",
       "      <td>7 Khoon Maaf movie is a romantic misadventures...</td>\n",
       "      <td>7 Khoon Maaf</td>\n",
       "      <td>False</td>\n",
       "    </tr>\n",
       "    <tr>\n",
       "      <th>78265</th>\n",
       "      <td>{gangster, criminal mastermind}</td>\n",
       "      <td>Elizabeth is losing her sight, so while her lo...</td>\n",
       "      <td>This Woman Is Dangerous</td>\n",
       "      <td>True</td>\n",
       "    </tr>\n",
       "    <tr>\n",
       "      <th>9540</th>\n",
       "      <td>{voyeurism, prostitution, drug, spectacle, twi...</td>\n",
       "      <td>Elliot, a successful gynecologist, works at th...</td>\n",
       "      <td>Dead Ringers</td>\n",
       "      <td>True</td>\n",
       "    </tr>\n",
       "    <tr>\n",
       "      <th>132379</th>\n",
       "      <td>{silent film}</td>\n",
       "      <td>A magical glowing white motorcar dismembers po...</td>\n",
       "      <td>The '?' Motorist</td>\n",
       "      <td>True</td>\n",
       "    </tr>\n",
       "    <tr>\n",
       "      <th>25518</th>\n",
       "      <td>{woman director}</td>\n",
       "      <td>As part of an intergalactic coalition, a well-...</td>\n",
       "      <td>La Belle verte</td>\n",
       "      <td>True</td>\n",
       "    </tr>\n",
       "  </tbody>\n",
       "</table>\n",
       "</div>"
      ]
     },
     "execution_count": 11,
     "metadata": {},
     "output_type": "execute_result"
    }
   ],
   "execution_count": 11
  },
  {
   "metadata": {
    "ExecuteTime": {
     "end_time": "2025-01-24T15:51:57.300991Z",
     "start_time": "2025-01-24T15:51:57.298940Z"
    }
   },
   "cell_type": "code",
   "source": [
    "def eval(df, prompt_creation):\n",
    "    df[\"prompt\"] = df.apply(prompt_creation, axis=1)\n",
    "    df[\"prediction\"] = df[\"prompt\"].progress_apply(lambda x: lvm(x))\n",
    "    print(classification_report(df[\"class\"], df[\"prediction\"]))\n",
    "    return f1_score(df[\"class\"], df[\"prediction\"])"
   ],
   "id": "36cc50c30804b0f6",
   "outputs": [],
   "execution_count": 12
  },
  {
   "metadata": {
    "ExecuteTime": {
     "end_time": "2025-01-24T15:53:43.339625Z",
     "start_time": "2025-01-24T15:53:33.352851Z"
    }
   },
   "cell_type": "code",
   "source": [
    "score = eval(df_full.head(200).copy(), lambda x: f\"Do these keywords: {', '.join(x[\"keywords\"])} describe this movie: \\\"{x[\"original_title\"]}\\\"?\")\n",
    "print(score)"
   ],
   "id": "e834f7c8420868fd",
   "outputs": [
    {
     "name": "stderr",
     "output_type": "stream",
     "text": [
      "100%|██████████| 200/200 [00:09<00:00, 20.05it/s]"
     ]
    },
    {
     "name": "stdout",
     "output_type": "stream",
     "text": [
      "              precision    recall  f1-score   support\n",
      "\n",
      "       False       0.61      0.89      0.72       105\n",
      "        True       0.74      0.37      0.49        95\n",
      "\n",
      "    accuracy                           0.64       200\n",
      "   macro avg       0.68      0.63      0.61       200\n",
      "weighted avg       0.67      0.64      0.61       200\n",
      "\n",
      "0.49295774647887325\n"
     ]
    },
    {
     "name": "stderr",
     "output_type": "stream",
     "text": [
      "\n"
     ]
    }
   ],
   "execution_count": 14
  },
  {
   "metadata": {
    "ExecuteTime": {
     "end_time": "2025-01-24T15:54:19.600971Z",
     "start_time": "2025-01-24T15:54:09.083818Z"
    }
   },
   "cell_type": "code",
   "source": [
    "score = eval(df_full.head(200).copy(), lambda x: f\"Do these: {', '.join(x[\"keywords\"])} describe this: \\\"{x[\"original_title\"]}\\\"?\")\n",
    "print(score)"
   ],
   "id": "72c4a7b7f8e1828b",
   "outputs": [
    {
     "name": "stderr",
     "output_type": "stream",
     "text": [
      "100%|██████████| 200/200 [00:10<00:00, 19.03it/s]"
     ]
    },
    {
     "name": "stdout",
     "output_type": "stream",
     "text": [
      "              precision    recall  f1-score   support\n",
      "\n",
      "       False       0.59      0.90      0.71       105\n",
      "        True       0.74      0.31      0.43        95\n",
      "\n",
      "    accuracy                           0.62       200\n",
      "   macro avg       0.67      0.61      0.57       200\n",
      "weighted avg       0.66      0.62      0.58       200\n",
      "\n",
      "0.43283582089552236\n"
     ]
    },
    {
     "name": "stderr",
     "output_type": "stream",
     "text": [
      "\n"
     ]
    }
   ],
   "execution_count": 15
  },
  {
   "metadata": {
    "ExecuteTime": {
     "end_time": "2025-01-24T15:54:31.188935Z",
     "start_time": "2025-01-24T15:54:19.614512Z"
    }
   },
   "cell_type": "code",
   "source": [
    "score = eval(df_full.head(200).copy(), lambda x: f\"Do these keywords: {', '.join(x[\"keywords\"])} describe a movie with this description: \\\"{x[\"overview\"]}\\\"?\")\n",
    "print(score)"
   ],
   "id": "527af1564068012a",
   "outputs": [
    {
     "name": "stderr",
     "output_type": "stream",
     "text": [
      "100%|██████████| 200/200 [00:11<00:00, 17.29it/s]"
     ]
    },
    {
     "name": "stdout",
     "output_type": "stream",
     "text": [
      "              precision    recall  f1-score   support\n",
      "\n",
      "       False       0.60      0.90      0.72       105\n",
      "        True       0.76      0.34      0.47        95\n",
      "\n",
      "    accuracy                           0.64       200\n",
      "   macro avg       0.68      0.62      0.59       200\n",
      "weighted avg       0.68      0.64      0.60       200\n",
      "\n",
      "0.46715328467153283\n"
     ]
    },
    {
     "name": "stderr",
     "output_type": "stream",
     "text": [
      "\n"
     ]
    }
   ],
   "execution_count": 16
  },
  {
   "metadata": {
    "ExecuteTime": {
     "end_time": "2025-01-24T15:54:42.433273Z",
     "start_time": "2025-01-24T15:54:31.200414Z"
    }
   },
   "cell_type": "code",
   "source": [
    "score = eval(df_full.head(200).copy(), lambda x: f\"Do these: {', '.join(x[\"keywords\"])} describe this: \\\"{x[\"overview\"]}\\\"?\")\n",
    "print(score)"
   ],
   "id": "6ff3d92294bbe429",
   "outputs": [
    {
     "name": "stderr",
     "output_type": "stream",
     "text": [
      "100%|██████████| 200/200 [00:11<00:00, 17.82it/s]"
     ]
    },
    {
     "name": "stdout",
     "output_type": "stream",
     "text": [
      "              precision    recall  f1-score   support\n",
      "\n",
      "       False       0.60      0.75      0.67       105\n",
      "        True       0.62      0.45      0.52        95\n",
      "\n",
      "    accuracy                           0.61       200\n",
      "   macro avg       0.61      0.60      0.60       200\n",
      "weighted avg       0.61      0.61      0.60       200\n",
      "\n",
      "0.524390243902439\n"
     ]
    },
    {
     "name": "stderr",
     "output_type": "stream",
     "text": [
      "\n"
     ]
    }
   ],
   "execution_count": 17
  }
 ],
 "metadata": {
  "kernelspec": {
   "display_name": "Python 3",
   "language": "python",
   "name": "python3"
  },
  "language_info": {
   "codemirror_mode": {
    "name": "ipython",
    "version": 2
   },
   "file_extension": ".py",
   "mimetype": "text/x-python",
   "name": "python",
   "nbconvert_exporter": "python",
   "pygments_lexer": "ipython2",
   "version": "2.7.6"
  }
 },
 "nbformat": 4,
 "nbformat_minor": 5
}
