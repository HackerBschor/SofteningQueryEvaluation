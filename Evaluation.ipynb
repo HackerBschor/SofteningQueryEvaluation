{
 "cells": [
  {
   "metadata": {},
   "cell_type": "markdown",
   "source": [
    "# Evaluation\n",
    "\n",
    "To evaluate our database's performance, we analyze every operator separately and perform an integration test afterwards."
   ],
   "id": "3ed340c691f0a68"
  },
  {
   "cell_type": "code",
   "id": "initial_id",
   "metadata": {
    "collapsed": true,
    "ExecuteTime": {
     "end_time": "2025-02-04T13:55:05.986929Z",
     "start_time": "2025-02-04T13:55:03.706026Z"
    }
   },
   "source": [
    "import configparser\n",
    "import copy\n",
    "import logging\n",
    "import random\n",
    "import pandas as pd\n",
    "from jinja2.ext import debug\n",
    "from tqdm import tqdm\n",
    "from collections import Counter\n",
    "from sklearn.metrics import classification_report\n",
    "\n",
    "from models import ModelMgr\n",
    "from db.structure import Column, Constant, SQLColumn\n",
    "from db.criteria import Negation, HardEqual, SoftEqual, SoftValidate\n",
    "from db.operators import Dummy, Scan, Transform, Select, Project, Join, InnerHashJoin, InnerSoftJoin, ColumnTransform\n",
    "from db.operators.Aggregate import HashAggregate, SumAggregation, DistinctAggregation\n",
    "from models.text_generation.LLaMA import LLaMATextGenerationModel\n",
    "\n",
    "from utils import CosineSimilarity, get_config\n",
    "\n",
    "from models.semantic_validation import GeminiValidationModel, LLaMAValidationModel\n",
    "from models.embedding import GenericEmbeddingModel, LLaMAEmbeddingModel, SentenceTransformerEmbeddingModel\n",
    "\n",
    "from db.db import DBConnector"
   ],
   "outputs": [],
   "execution_count": 1
  },
  {
   "metadata": {
    "ExecuteTime": {
     "end_time": "2025-02-04T13:55:26.657834Z",
     "start_time": "2025-02-04T13:55:05.993006Z"
    }
   },
   "cell_type": "code",
   "source": [
    "# Load Models\n",
    "m = ModelMgr()\n",
    "em = SentenceTransformerEmbeddingModel(m)\n",
    "sv = LLaMAValidationModel(m)\n",
    "gm = LLaMATextGenerationModel(m)\n",
    "\n",
    "# Load DB\n",
    "db = DBConnector(\"./config.ini\", load_db=True)"
   ],
   "id": "5160f65981a2dfbc",
   "outputs": [
    {
     "data": {
      "text/plain": [
       "Loading checkpoint shards:   0%|          | 0/2 [00:00<?, ?it/s]"
      ],
      "application/vnd.jupyter.widget-view+json": {
       "version_major": 2,
       "version_minor": 0,
       "model_id": "62f9d6dba68245a49369439322b3ca93"
      }
     },
     "metadata": {},
     "output_type": "display_data"
    },
    {
     "data": {
      "text/plain": [
       "Loading checkpoint shards:   0%|          | 0/2 [00:00<?, ?it/s]"
      ],
      "application/vnd.jupyter.widget-view+json": {
       "version_major": 2,
       "version_minor": 0,
       "model_id": "a3d31de30e9141cea493b78f3b516506"
      }
     },
     "metadata": {},
     "output_type": "display_data"
    }
   ],
   "execution_count": 2
  },
  {
   "metadata": {},
   "cell_type": "markdown",
   "source": [
    "## Evaluate Select Operator\n",
    "\n",
    "### Company Data\n",
    "\n",
    "We used the [People Data Labs 2019 Global Company Dataset](https://www.kaggle.com/datasets/peopledatalabssf/free-7-million-company-dataset) to evaluate the `SoftEqual`- and `SoftValidate`-Operator.\n",
    "\n",
    "#### Data Understanding\n",
    "\n",
    "First, we evaluate the data understanding. The dataset contains a size estimate as ranges ('1 - 10', '5001 - 10000', '10001+').\n",
    "We test if the `SoftValidate` is able to determine if an arbitrary test number is 1) bigger than, 2) smaller than or 3) in between a given size range.\n",
    "\n",
    "So, we test the performance of:\n",
    "* $\\sigma_{\\checkmark ( \\text{ Is x in range \\{size\\_range\\}? })}(Companies)$\n",
    "* $\\sigma_{\\checkmark ( \\text{ Is x lower than the range \\{size\\_range\\}? })}(Companies)$\n",
    "* $\\sigma_{\\checkmark ( \\text{ Is x bigger than the range \\{size\\_range\\}? })}(Companies)$"
   ],
   "id": "5963d7ce1c9d7739"
  },
  {
   "metadata": {
    "ExecuteTime": {
     "end_time": "2025-02-04T14:03:14.509735Z",
     "start_time": "2025-02-04T14:02:40.500815Z"
    }
   },
   "cell_type": "code",
   "source": [
    "# Determine all size ranges\n",
    "scan_companies = Scan(\"companies\", em=em, sv=sv, db=db)\n",
    "agg = HashAggregate(scan_companies, [\"size_range\"], [DistinctAggregation(\"size_range\", \"text\")])\n",
    "size_ranges = {row[\"size_range\"] for row in agg}\n",
    "size_ranges"
   ],
   "id": "fd5455ce6b4b6439",
   "outputs": [
    {
     "data": {
      "text/plain": [
       "{'1 - 10',\n",
       " '10001+',\n",
       " '1001 - 5000',\n",
       " '11 - 50',\n",
       " '201 - 500',\n",
       " '5001 - 10000',\n",
       " '501 - 1000',\n",
       " '51 - 200'}"
      ]
     },
     "execution_count": 17,
     "metadata": {},
     "output_type": "execute_result"
    }
   ],
   "execution_count": 17
  },
  {
   "metadata": {
    "ExecuteTime": {
     "end_time": "2025-02-04T14:27:24.616037Z",
     "start_time": "2025-02-04T14:27:21.371729Z"
    }
   },
   "cell_type": "code",
   "source": [
    "gt =  [\n",
    "    (8, \"=\", \"1 - 10\"), (-5, \"<\", \"1 - 10\"), (35, \">\", \"1 - 10\"),\n",
    "    (35, \"=\", \"11 - 50\"), (8, \"<\", \"11 - 50\"), (172, \">\", \"11 - 50\"),\n",
    "    (172, \"=\", \"51 - 200\"), (35, \"<\", \"51 - 200\"), (354, \">\", \"51 - 200\"),\n",
    "    (354, \"=\", \"201 - 500\"), (172, \"<\", \"201 - 500\"), (502, \">\", \"201 - 500\"),\n",
    "    (502, \"=\", \"501 - 1000\"), (354, \"<\", \"501 - 1000\"), (3581, \">\", \"501 - 1000\"),\n",
    "    (3581, \"=\", \"1001 - 5000\"), (502, \"<\", \"1001 - 5000\"), (6000, \">\", \"1001 - 5000\"),\n",
    "    (6000, \"=\", \"5001 - 10000\"), (3581, \"<\", \"5001 - 10000\"), (32100, \">\", \"5001 - 10000\"),\n",
    "    (32100, \"=\", \"10001+\"), (6000, \"<\", \"10001+\"),\n",
    "]\n",
    "\n",
    "\n",
    "results = []\n",
    "for row in gt:\n",
    "    result = {\"test_no\": row[0], \"gt\": row[1], \"size_range\": row[2]}\n",
    "    data = Dummy(\"data\", [\"test_no\", \"size_range\"], [(row[0], row[2])])\n",
    "    sel_equal = Select(data, SoftValidate(\"Is {test_no} in range of {size_range}?\", sv=sv, full_record=False))\n",
    "    result[\"=\"] = len(list(sel_equal)) > 0\n",
    "    sel_greater = Select(data, SoftValidate(\"Is {test_no} lower than the range {size_range}?\", sv=sv, full_record=False))\n",
    "    result[\">\"] = len(list(sel_greater)) > 0\n",
    "    sel_lower = Select(data, SoftValidate(\"Is {test_no} bigger than the range {size_range}\", sv=sv, full_record=False))\n",
    "    result[\"<\"] = len(list(sel_lower)) > 0\n",
    "    results.append(result)\n",
    "\n",
    "df_eval = pd.DataFrame(results)\n",
    "df_eval.head()"
   ],
   "id": "e8af00e7e036e94",
   "outputs": [
    {
     "data": {
      "text/plain": [
       "   test_no gt size_range      =      >      <\n",
       "0        8  =     1 - 10   True  False  False\n",
       "1       -5  <     1 - 10  False  False  False\n",
       "2       35  >     1 - 10  False  False  False\n",
       "3       35  =    11 - 50   True   True  False\n",
       "4        8  <    11 - 50   True  False  False"
      ],
      "text/html": [
       "<div>\n",
       "<style scoped>\n",
       "    .dataframe tbody tr th:only-of-type {\n",
       "        vertical-align: middle;\n",
       "    }\n",
       "\n",
       "    .dataframe tbody tr th {\n",
       "        vertical-align: top;\n",
       "    }\n",
       "\n",
       "    .dataframe thead th {\n",
       "        text-align: right;\n",
       "    }\n",
       "</style>\n",
       "<table border=\"1\" class=\"dataframe\">\n",
       "  <thead>\n",
       "    <tr style=\"text-align: right;\">\n",
       "      <th></th>\n",
       "      <th>test_no</th>\n",
       "      <th>gt</th>\n",
       "      <th>size_range</th>\n",
       "      <th>=</th>\n",
       "      <th>&gt;</th>\n",
       "      <th>&lt;</th>\n",
       "    </tr>\n",
       "  </thead>\n",
       "  <tbody>\n",
       "    <tr>\n",
       "      <th>0</th>\n",
       "      <td>8</td>\n",
       "      <td>=</td>\n",
       "      <td>1 - 10</td>\n",
       "      <td>True</td>\n",
       "      <td>False</td>\n",
       "      <td>False</td>\n",
       "    </tr>\n",
       "    <tr>\n",
       "      <th>1</th>\n",
       "      <td>-5</td>\n",
       "      <td>&lt;</td>\n",
       "      <td>1 - 10</td>\n",
       "      <td>False</td>\n",
       "      <td>False</td>\n",
       "      <td>False</td>\n",
       "    </tr>\n",
       "    <tr>\n",
       "      <th>2</th>\n",
       "      <td>35</td>\n",
       "      <td>&gt;</td>\n",
       "      <td>1 - 10</td>\n",
       "      <td>False</td>\n",
       "      <td>False</td>\n",
       "      <td>False</td>\n",
       "    </tr>\n",
       "    <tr>\n",
       "      <th>3</th>\n",
       "      <td>35</td>\n",
       "      <td>=</td>\n",
       "      <td>11 - 50</td>\n",
       "      <td>True</td>\n",
       "      <td>True</td>\n",
       "      <td>False</td>\n",
       "    </tr>\n",
       "    <tr>\n",
       "      <th>4</th>\n",
       "      <td>8</td>\n",
       "      <td>&lt;</td>\n",
       "      <td>11 - 50</td>\n",
       "      <td>True</td>\n",
       "      <td>False</td>\n",
       "      <td>False</td>\n",
       "    </tr>\n",
       "  </tbody>\n",
       "</table>\n",
       "</div>"
      ]
     },
     "execution_count": 36,
     "metadata": {},
     "output_type": "execute_result"
    }
   ],
   "execution_count": 36
  },
  {
   "metadata": {
    "ExecuteTime": {
     "end_time": "2025-02-04T14:27:24.640285Z",
     "start_time": "2025-02-04T14:27:24.635746Z"
    }
   },
   "cell_type": "code",
   "source": [
    "print(\"Classification for {test_no} in range of {size_range}\")\n",
    "print(classification_report(df_eval[\"gt\"] == \"=\", df_eval[\"=\"]))"
   ],
   "id": "826fddffa2f07287",
   "outputs": [
    {
     "name": "stdout",
     "output_type": "stream",
     "text": [
      "Classification for {test_no} in range of {size_range}\n",
      "              precision    recall  f1-score   support\n",
      "\n",
      "       False       1.00      0.47      0.64        15\n",
      "        True       0.50      1.00      0.67         8\n",
      "\n",
      "    accuracy                           0.65        23\n",
      "   macro avg       0.75      0.73      0.65        23\n",
      "weighted avg       0.83      0.65      0.65        23\n",
      "\n"
     ]
    }
   ],
   "execution_count": 37
  },
  {
   "metadata": {
    "ExecuteTime": {
     "end_time": "2025-02-04T14:27:24.807403Z",
     "start_time": "2025-02-04T14:27:24.801647Z"
    }
   },
   "cell_type": "code",
   "source": [
    "print(\"Classification for {test_no} lower than range {size_range}\")\n",
    "print(classification_report(df_eval[\"gt\"] == \">\", df_eval[\">\"]))"
   ],
   "id": "409ad7b3a7f444f9",
   "outputs": [
    {
     "name": "stdout",
     "output_type": "stream",
     "text": [
      "Classification for {test_no} lower than range {size_range}\n",
      "              precision    recall  f1-score   support\n",
      "\n",
      "       False       0.60      0.19      0.29        16\n",
      "        True       0.28      0.71      0.40         7\n",
      "\n",
      "    accuracy                           0.35        23\n",
      "   macro avg       0.44      0.45      0.34        23\n",
      "weighted avg       0.50      0.35      0.32        23\n",
      "\n"
     ]
    }
   ],
   "execution_count": 38
  },
  {
   "metadata": {
    "ExecuteTime": {
     "end_time": "2025-02-04T14:27:26.302103Z",
     "start_time": "2025-02-04T14:27:26.291363Z"
    }
   },
   "cell_type": "code",
   "source": [
    "print(\"Classification for {test_no} bigger than range {size_range}\")\n",
    "print(classification_report(df_eval[\"gt\"] == \"<\", df_eval[\"<\"]))"
   ],
   "id": "7a377a594be639ea",
   "outputs": [
    {
     "name": "stdout",
     "output_type": "stream",
     "text": [
      "Classification for {test_no} bigger than range {size_range}\n",
      "              precision    recall  f1-score   support\n",
      "\n",
      "       False       0.56      0.60      0.58        15\n",
      "        True       0.14      0.12      0.13         8\n",
      "\n",
      "    accuracy                           0.43        23\n",
      "   macro avg       0.35      0.36      0.36        23\n",
      "weighted avg       0.42      0.43      0.43        23\n",
      "\n"
     ]
    }
   ],
   "execution_count": 39
  },
  {
   "metadata": {},
   "cell_type": "markdown",
   "source": [
    "#### Domain Knowledge\n",
    "\n",
    "To evaluate the domain knowledge of the operators (and the LLM), we predict if a company has 'automotive' as industry.\n",
    "Therefore, we collect all big companies (`size > 1000`) as ground truth and store the classification value (true for all rows with 'automotive'=industry).\n",
    "\n",
    "To generate the predictions, we execute two other queries and classify the row with `True` if the query returns a result. To avoid data leakage, we remove the 'industry' column first.\n",
    " * `SoftEqual`-Operator: $ \\sigma_{\\text{(name, country, size\\_range, locality, year\\_founded}) \\approx \\text{'car company'}} (Companies)$\n",
    " * `SoftValidate`-Operator: $\\sigma_{\\checkmark ( \\text{Is this company record:  \\{name: \\{name\\}, country:\\{country\\}, size\\_range: \\{size\\_range\\}, locality: \\{locality\\}, year\\_founded: \\{year\\_founded\\}\\} of a car company? })}(Companies)$"
   ],
   "id": "2c740a8278f74d87"
  },
  {
   "metadata": {
    "ExecuteTime": {
     "end_time": "2025-02-04T10:33:08.558443Z",
     "start_time": "2025-02-04T10:33:06.946740Z"
    }
   },
   "cell_type": "code",
   "source": [
    "scan_companies = Scan(\"companies\", em=em, sv=sv, db=db, sql_annex=f\"  WHERE size_range IN ('10001+', '1001 - 5000')\")\n",
    "gt = [row for row in scan_companies]\n",
    "len(gt), gt[:3]"
   ],
   "id": "3f7d185f85fc8f9a",
   "outputs": [
    {
     "data": {
      "text/plain": [
       "(26632,\n",
       " [RealDictRow([('id', 1537541),\n",
       "               ('name', 'british american tobacco'),\n",
       "               ('domain', 'bat.com'),\n",
       "               ('year_founded', 1902),\n",
       "               ('industry', 'tobacco'),\n",
       "               ('size_range', '10001+'),\n",
       "               ('locality', 'london, greater london, united kingdom'),\n",
       "               ('country', 'united kingdom'),\n",
       "               ('linkedin_url',\n",
       "                'linkedin.com/company/british-american-tobacco'),\n",
       "               ('current_employee_estimate', '15511'),\n",
       "               ('total_employee_estimate', '46381')]),\n",
       "  RealDictRow([('id', 3678648),\n",
       "               ('name', 'nordea'),\n",
       "               ('domain', 'nordea.com'),\n",
       "               ('year_founded', None),\n",
       "               ('industry', 'banking'),\n",
       "               ('size_range', '10001+'),\n",
       "               ('locality', 'ase, vasternorrlands lan, sweden'),\n",
       "               ('country', 'sweden'),\n",
       "               ('linkedin_url', 'linkedin.com/company/nordea'),\n",
       "               ('current_employee_estimate', '15508'),\n",
       "               ('total_employee_estimate', '32665')]),\n",
       "  RealDictRow([('id', 4732310),\n",
       "               ('name', 'bank of america merrill lynch'),\n",
       "               ('domain', 'bofaml.com'),\n",
       "               ('year_founded', None),\n",
       "               ('industry', 'financial services'),\n",
       "               ('size_range', '10001+'),\n",
       "               ('locality', 'charlotte, north carolina, united states'),\n",
       "               ('country', 'united states'),\n",
       "               ('linkedin_url',\n",
       "                'linkedin.com/company/bank-of-america-merrill-lynch'),\n",
       "               ('current_employee_estimate', '15449'),\n",
       "               ('total_employee_estimate', '31386')])])"
      ]
     },
     "execution_count": 76,
     "metadata": {},
     "output_type": "execute_result"
    }
   ],
   "execution_count": 76
  },
  {
   "metadata": {
    "ExecuteTime": {
     "end_time": "2025-02-04T11:13:53.450064Z",
     "start_time": "2025-02-04T11:13:51.750189Z"
    }
   },
   "cell_type": "code",
   "source": [
    "p = Project(scan_companies, [x.column_name for x in scan_companies.table.table_structure if x.column_name != 'industry'], em=em)\n",
    "sel = Select(p, SoftEqual([\"name\", \"country\", \"size_range\", \"locality\", \"year_founded\"], Constant('car company'), em=em, threshold=0.3))\n",
    "str(sel)"
   ],
   "id": "e66ab6bb49ba0d42",
   "outputs": [
    {
     "name": "stdout",
     "output_type": "stream",
     "text": [
      "σ_{name, country, size_range, locality, year_founded ≈ 'car company'} (π_{\"country\"≈>country, \"current_employee_estimate\"≈>current_employee_estimate, \"domain\"≈>domain, \"id\"≈>id, \"linkedin_url\"≈>linkedin_url, \"locality\"≈>locality, \"name\"≈>name, \"size_range\"≈>size_range, \"total_employee_estimate\"≈>total_employee_estimate, \"year_founded\"≈>year_founded} (\"companies\"≈>\"people_data_labs.companies\"))\n"
     ]
    }
   ],
   "execution_count": 84
  },
  {
   "metadata": {},
   "cell_type": "code",
   "outputs": [],
   "execution_count": null,
   "source": [
    "prediction = [row for row in sel]\n",
    "len(prediction), prediction[0:3]"
   ],
   "id": "f61545b5aa852bf3"
  },
  {
   "metadata": {
    "ExecuteTime": {
     "end_time": "2025-02-04T10:36:26.677316Z",
     "start_time": "2025-02-04T10:36:26.586912Z"
    }
   },
   "cell_type": "code",
   "source": [
    "df_gt = pd.DataFrame(gt).set_index('id')\n",
    "df_prediction = pd.DataFrame(prediction).set_index('id')\n",
    "df_merge = df_gt.merge(df_prediction, left_index=True, right_index=True, how='left')\n",
    "df_merge[\"class\"] = df_merge[\"industry\"] == \"automotive\"\n",
    "df_merge[\"prediction\"] = df_merge[\"name_y\"].notna()\n",
    "\n",
    "print(classification_report(df_merge[\"class\"], df_merge[\"prediction\"]))"
   ],
   "id": "a603f7caae3b293a",
   "outputs": [
    {
     "name": "stdout",
     "output_type": "stream",
     "text": [
      "              precision    recall  f1-score   support\n",
      "\n",
      "       False       0.99      0.89      0.94     26112\n",
      "        True       0.10      0.59      0.17       520\n",
      "\n",
      "    accuracy                           0.89     26632\n",
      "   macro avg       0.55      0.74      0.56     26632\n",
      "weighted avg       0.97      0.89      0.93     26632\n",
      "\n"
     ]
    }
   ],
   "execution_count": 78
  },
  {
   "metadata": {
    "ExecuteTime": {
     "end_time": "2025-02-04T11:18:51.820200Z",
     "start_time": "2025-02-04T11:18:51.013652Z"
    }
   },
   "cell_type": "code",
   "source": [
    "p = Project(scan_companies, [x.column_name for x in scan_companies.table.table_structure if x.column_name != 'industry'], em=em)\n",
    "sel = Select(p, SoftValidate(\"Is this company record: {{name: {name}, country: {country}, size_range: {size_range}, locality: {locality}, year_founded: {year_founded}}} of a car company? \", sv=sv, full_record=False))\n",
    "str(sel)"
   ],
   "id": "b5c2ac4928d7ee4b",
   "outputs": [
    {
     "data": {
      "text/plain": [
       "'σ_{✓_{Is this company record: {{name: {name}, country: {country}, size_range: {size_range}, locality: {locality}, year_founded: {year_founded}}} of a car company? }} (π_{\"country\"≈>country, \"current_employee_estimate\"≈>current_employee_estimate, \"domain\"≈>domain, \"id\"≈>id, \"linkedin_url\"≈>linkedin_url, \"locality\"≈>locality, \"name\"≈>name, \"size_range\"≈>size_range, \"total_employee_estimate\"≈>total_employee_estimate, \"year_founded\"≈>year_founded} (\"companies\"≈>\"people_data_labs.companies\"))'"
      ]
     },
     "execution_count": 85,
     "metadata": {},
     "output_type": "execute_result"
    }
   ],
   "execution_count": 85
  },
  {
   "metadata": {},
   "cell_type": "code",
   "outputs": [],
   "execution_count": null,
   "source": [
    "prediction = [row for row in sel]\n",
    "len(prediction), prediction[0:3]"
   ],
   "id": "12ba5f0a41eeed5"
  },
  {
   "metadata": {
    "ExecuteTime": {
     "end_time": "2025-02-04T10:56:17.383517Z",
     "start_time": "2025-02-04T10:56:17.314841Z"
    }
   },
   "cell_type": "code",
   "source": [
    "df_gt = pd.DataFrame(gt).set_index('id')\n",
    "df_prediction = pd.DataFrame(prediction).set_index('id')\n",
    "df_merge = df_gt.merge(df_prediction, left_index=True, right_index=True, how='left')\n",
    "df_merge[\"class\"] = df_merge[\"industry\"] == \"automotive\"\n",
    "df_merge[\"prediction\"] = df_merge[\"name_y\"].notna()\n",
    "\n",
    "print(classification_report(df_merge[\"class\"], df_merge[\"prediction\"]))"
   ],
   "id": "8afdae3e5af6797d",
   "outputs": [
    {
     "name": "stdout",
     "output_type": "stream",
     "text": [
      "              precision    recall  f1-score   support\n",
      "\n",
      "       False       0.98      1.00      0.99     26112\n",
      "        True       0.94      0.10      0.18       520\n",
      "\n",
      "    accuracy                           0.98     26632\n",
      "   macro avg       0.96      0.55      0.58     26632\n",
      "weighted avg       0.98      0.98      0.98     26632\n",
      "\n"
     ]
    }
   ],
   "execution_count": 81
  }
 ],
 "metadata": {
  "kernelspec": {
   "display_name": "Python 3",
   "language": "python",
   "name": "python3"
  },
  "language_info": {
   "codemirror_mode": {
    "name": "ipython",
    "version": 2
   },
   "file_extension": ".py",
   "mimetype": "text/x-python",
   "name": "python",
   "nbconvert_exporter": "python",
   "pygments_lexer": "ipython2",
   "version": "2.7.6"
  }
 },
 "nbformat": 4,
 "nbformat_minor": 5
}
