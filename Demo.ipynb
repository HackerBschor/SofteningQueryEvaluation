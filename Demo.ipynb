{
 "cells": [
  {
   "metadata": {},
   "cell_type": "markdown",
   "source": [
    "# Demonstration of the Soft-Query-Evaluation-System\n",
    "\n",
    "## Python & Schema Imports\n",
    "\n",
    "To ensure reproducibility, we insert all records in the Database"
   ],
   "id": "af6100c938bbfd8"
  },
  {
   "metadata": {
    "ExecuteTime": {
     "end_time": "2025-02-20T17:07:25.801704Z",
     "start_time": "2025-02-20T17:07:22.587865Z"
    }
   },
   "cell_type": "code",
   "source": [
    "import json\n",
    "\n",
    "from db.db import DBConnector\n",
    "\n",
    "from db.operators import *\n",
    "from db.criteria import *\n",
    "\n",
    "from models import ModelMgr\n",
    "from models.embedding import SentenceTransformerEmbeddingModel\n",
    "from models.semantic_validation import DeepSeekValidationModel, LLaMAValidationModel"
   ],
   "id": "e001ce064166e144",
   "outputs": [],
   "execution_count": 1
  },
  {
   "metadata": {
    "ExecuteTime": {
     "end_time": "2025-02-20T17:07:28.087290Z",
     "start_time": "2025-02-20T17:07:25.804548Z"
    }
   },
   "cell_type": "code",
   "source": [
    "m = ModelMgr(\"config.ini\")\n",
    "em = SentenceTransformerEmbeddingModel(m)\n",
    "# sv_ds = DeepSeekValidationModel(m)\n",
    "sv = LLaMAValidationModel(m)"
   ],
   "id": "6c495e4f453a5920",
   "outputs": [
    {
     "data": {
      "text/plain": [
       "Loading checkpoint shards:   0%|          | 0/2 [00:00<?, ?it/s]"
      ],
      "application/vnd.jupyter.widget-view+json": {
       "version_major": 2,
       "version_minor": 0,
       "model_id": "60aecdaa68684046a5bf3913721ac8c9"
      }
     },
     "metadata": {},
     "output_type": "display_data"
    }
   ],
   "execution_count": 2
  },
  {
   "metadata": {
    "ExecuteTime": {
     "end_time": "2025-02-20T17:07:28.271902Z",
     "start_time": "2025-02-20T17:07:28.132601Z"
    }
   },
   "cell_type": "code",
   "source": [
    "db = DBConnector(\"config.ini\")\n",
    "\n",
    "with open(\"evaluation/schema.json\", encoding=\"utf-8\") as f:\n",
    "    database = json.load(f)\n",
    "\n",
    "def cast_schema_type(schema_type: str):\n",
    "    schema_type = schema_type.lower().strip()\n",
    "    if schema_type == \"string\" or schema_type == \"text\":\n",
    "        return \"TEXT\"\n",
    "    if schema_type == \"integer\":\n",
    "        return \"INTEGER\"\n",
    "    if schema_type == \"boolean\":\n",
    "        return \"BOOLEAN\"\n",
    "    if schema_type == \"number\":\n",
    "        return \"DOUBLE PRECISION\"\n",
    "    raise Exception(\"Unknown schema type: \" + schema_type)\n",
    "\n",
    "def sanitize_table_name(table_name: str):\n",
    "    return table_name.replace(\"/\", \"_\").replace(\" \", \"_\")\\\n",
    "        .replace(\"(\", \"\").replace(\")\", \"\").replace(\".\", \"\")\\\n",
    "        .replace(\"-\", \"_\").lower()\n",
    "\n",
    "with db.get_cursor() as cursor:\n",
    "    cursor.execute(\"DROP SCHEMA IF EXISTS demo CASCADE ;\")\n",
    "    cursor.execute(\"CREATE SCHEMA demo;\")\n",
    "\n",
    "    for table in database:\n",
    "        table_name = f\"demo.{table}\"\n",
    "        column_map = {x['name']: sanitize_table_name(x['name']) for x in database[table][\"schema\"]}\n",
    "        columns = [column_map[x['name']] for x in database[table][\"schema\"]]\n",
    "        types = [cast_schema_type(x['type']) for x in database[table][\"schema\"]]\n",
    "        table_column = [f\"{col} {col_type}\" for col, col_type in zip(columns, types)]\n",
    "\n",
    "        cursor.execute(f\"CREATE TABLE {table_name} ({', '.join(table_column)})\")\n",
    "\n",
    "        print(\"Creating Table \", table_name)\n",
    "\n",
    "        for data in database[table][\"data\"]:\n",
    "            param_names = [f\"%({col})s\" for col in columns]\n",
    "            params = {v: data[k] for k, v in column_map.items()}\n",
    "            cursor.execute(f\"INSERT INTO {table_name} VALUES ({', '.join(param_names)})\", params)\n",
    "\n",
    "db.conn.commit()"
   ],
   "id": "18bcee0ec32c5f94",
   "outputs": [
    {
     "name": "stdout",
     "output_type": "stream",
     "text": [
      "Creating Table  demo.language_detection\n",
      "Creating Table  demo.chemicals\n",
      "Creating Table  demo.chemical_warnings\n",
      "Creating Table  demo.elements\n",
      "Creating Table  demo.elements_phase\n",
      "Creating Table  demo.movies\n",
      "Creating Table  demo.movies_de\n",
      "Creating Table  demo.actors\n",
      "Creating Table  demo.plays_in\n",
      "Creating Table  demo.top_artists_2023\n",
      "Creating Table  demo.diseases\n",
      "Creating Table  demo.diseases_symptom\n",
      "Creating Table  demo.human_vital_sign\n",
      "Creating Table  demo.companies_1\n",
      "Creating Table  demo.companies_2\n",
      "Creating Table  demo.user_data\n",
      "Creating Table  demo.random_countries\n",
      "Creating Table  demo.countries\n"
     ]
    }
   ],
   "execution_count": 3
  },
  {
   "metadata": {
    "ExecuteTime": {
     "end_time": "2025-02-20T17:07:46.069572Z",
     "start_time": "2025-02-20T17:07:28.300922Z"
    }
   },
   "cell_type": "code",
   "source": "db = DBConnector(\"config.ini\", load_db=True)",
   "id": "1e6daf831c7c00c2",
   "outputs": [],
   "execution_count": 4
  },
  {
   "metadata": {},
   "cell_type": "markdown",
   "source": [
    "## Soft Scan\n",
    "\n",
    "Demonstrate the semantic search for database tables:\n",
    "* $Scan(\\text{actors}) \\rightarrow demo.actors$\n",
    "* $Scan(\\text{movies\\_german}) \\rightarrow \\text{demo.actors\\_de}$"
   ],
   "id": "8511d78b967ad315"
  },
  {
   "cell_type": "code",
   "id": "initial_id",
   "metadata": {
    "collapsed": true,
    "ExecuteTime": {
     "end_time": "2025-02-20T17:07:48.215578Z",
     "start_time": "2025-02-20T17:07:46.072824Z"
    }
   },
   "source": [
    "op = Scan(\"actors\", db=db, em=em, sv=sv, threshold=0.2).open()\n",
    "print(op.table.table_schema, op.table.table_name, op.fetch_one())"
   ],
   "outputs": [
    {
     "name": "stdout",
     "output_type": "stream",
     "text": [
      "demo actors RealDictRow({'name': 'Johnny Depp', 'birth_year': 1963})\n"
     ]
    }
   ],
   "execution_count": 5
  },
  {
   "metadata": {
    "ExecuteTime": {
     "end_time": "2025-02-20T17:07:50.947903Z",
     "start_time": "2025-02-20T17:07:48.220300Z"
    }
   },
   "cell_type": "code",
   "source": [
    "op = Scan(\"demo movies german\", db=db, em=em, sv=sv, threshold=0).open()\n",
    "print(op.table.table_schema, op.table.table_name, op.fetch_one())"
   ],
   "id": "e24a338de9e95ec7",
   "outputs": [
    {
     "name": "stdout",
     "output_type": "stream",
     "text": [
      "demo movies_de RealDictRow({'name': 'Fluch der Karibik', 'release': '2003', 'genres': 'Action,Adventure,Fantasy', 'description': 'Waffenschmied Will Turner tut sich mit dem exzentrischen Piraten \"Captain\" Jack Sparrow zusammen, um seine große Liebe, die Tochter des Gouverneurs, aus den Händen der Piraten zu retten, die früher mit Jack verbündet waren, jetzt aber Untote sind'})\n"
     ]
    }
   ],
   "execution_count": 6
  },
  {
   "metadata": {},
   "cell_type": "markdown",
   "source": [
    "## Soft Select\n",
    "\n",
    "Demonstrates how the SoftSelect Operator can be used to capture semantic meanings.\n",
    "* $\\sigma_{\\text{name, description} \\approx_{\\tau = 0.6} \\text{'First Pirate of the Caribbean movie'}}(Movies)$\n",
    "* $\\sigma_{\\checkmark(\\text{Is '\\{name\\}' the first pirates of the Caribbean movie})}(Movies)$\n",
    "* $\\sigma_{\\checkmark(\\text{The chemical \\{scientific\\_name\\} with ph \\{ph\\} is neutral})}(Chemical)$\n",
    "* $\\sigma_{\\checkmark(\\text{The chemical \\{scientific\\_name\\} with ph \\{ph\\} is acidic})}(Chemical)$\n",
    "* $\\sigma_{\\checkmark(\\text{The chemical \\{scientific\\_name\\} with ph \\{ph\\} is base})}(Chemical)$"
   ],
   "id": "5068b8b5c61acbf2"
  },
  {
   "metadata": {
    "ExecuteTime": {
     "end_time": "2025-02-20T17:07:52.505213Z",
     "start_time": "2025-02-20T17:07:50.952134Z"
    }
   },
   "cell_type": "code",
   "source": [
    "op = Select(Scan(\"demo.movies\", db=db, use_semantic_table_search=False), SoftEqual([\"name\", \"description\"], Constant(\"First pirates of the Caribbean movie\"), em=em, threshold=0.7)).open()\n",
    "[x[\"name\"] for x in op]"
   ],
   "id": "a1ea33c8345509a",
   "outputs": [
    {
     "data": {
      "text/plain": [
       "['Pirates of the Caribbean: The Curse of the Black Pearl']"
      ]
     },
     "execution_count": 7,
     "metadata": {},
     "output_type": "execute_result"
    }
   ],
   "execution_count": 7
  },
  {
   "metadata": {
    "ExecuteTime": {
     "end_time": "2025-02-20T17:07:53.345049Z",
     "start_time": "2025-02-20T17:07:52.510009Z"
    }
   },
   "cell_type": "code",
   "source": [
    "op = Select(Scan(\"demo.movies\", db=db, use_semantic_table_search=False), SoftValidate(\"Is '{name}' the first pirates of the Caribbean movie\", sv=sv)).open()\n",
    "[x[\"name\"] for x in op]"
   ],
   "id": "28f36842948fdd75",
   "outputs": [
    {
     "data": {
      "text/plain": [
       "['Pirates of the Caribbean: The Curse of the Black Pearl', 'The Matrix']"
      ]
     },
     "execution_count": 8,
     "metadata": {},
     "output_type": "execute_result"
    }
   ],
   "execution_count": 8
  },
  {
   "metadata": {
    "ExecuteTime": {
     "end_time": "2025-02-20T17:07:55.350420Z",
     "start_time": "2025-02-20T17:07:53.395160Z"
    }
   },
   "cell_type": "code",
   "source": [
    "op = Select(Scan(\"demo.language_detection\", db=db, use_semantic_table_search=False), SoftEqual([\"text\"], Constant(\"Is Dutch\"), em=em, threshold=0.3)).open()\n",
    "[(x[\"text\"], x[\"language\"]) for x in op]"
   ],
   "id": "432c11c8b9862d9d",
   "outputs": [
    {
     "data": {
      "text/plain": [
       "[('de b begint weer in het noorden van de stad halle op een kruising met de l en de lb de bb loopt als een vierbaans stadsweg in zuidoostelijke richting door halle op een kruising bij halle-haupbahnhof slaat de b in westelijke richting terwijl de b hier begint en samen met de b naar een zuidelijker gelegen kruispunt loopt op dit bewuste kruispunt slaat de b af en loopt in zuidoostelijke richting de stad uit de weg loopt langs gröbers en großkugel waarna net voor de a de deelstaatgrens met saksen volgt',\n",
       "  'Dutch'),\n",
       " ('bij de volkstelling in  werd het aantal inwoners vastgesteld op  in  is het aantal inwoners door het united states census bureau geschat op  een stijging van  ',\n",
       "  'Dutch'),\n",
       " ('in  werd de gemeente kethel en spaland geannexeerd waardoor er ruimte was voor grootschalige woningbouw ten noorden van schiedam hier liggen nu de wijken tuindorp kethel groenoord woudhoek en spaland',\n",
       "  'Dutch'),\n",
       " ('philocaenus jinjaensis is een vliesvleugelig insect uit de familie pteromalidae de wetenschappelijke naam is voor het eerst geldig gepubliceerd in  door van noort',\n",
       "  'Dutch'),\n",
       " ('win is de -bit api voor moderne versies van windows de api bestaat uit functies die net zoals bij win geïmplementeerd zijn in systeem-dll-bestanden de kern-dll-bestanden van win zijn kerneldll user_namedll en gdidll win werd geïntroduceerd met windows nt de win-versie die bij windows  kwam werd aanvankelijk winc genoemd met de \"c\" die stond voor \"compatibiliteit\" maar deze term moest van microsoft plaatsmaken voor de naam \"win\"',\n",
       "  'Dutch')]"
      ]
     },
     "execution_count": 9,
     "metadata": {},
     "output_type": "execute_result"
    }
   ],
   "execution_count": 9
  },
  {
   "metadata": {
    "ExecuteTime": {
     "end_time": "2025-02-20T17:07:56.344729Z",
     "start_time": "2025-02-20T17:07:55.384249Z"
    }
   },
   "cell_type": "code",
   "source": [
    "op = Select(Scan(\"demo.chemicals\", db=db, use_semantic_table_search=False), SoftValidate(\"The chemical {scientific_name} with ph {ph} is neutral\", sv=sv)).open()\n",
    "[(x[\"ph\"], x[\"scientific_name\"]) for x in op]"
   ],
   "id": "8022749a2223affd",
   "outputs": [
    {
     "data": {
      "text/plain": [
       "[('7.0', 'H2O'), ('Neutral', 'CH3OH'), ('7.0', 'C2H5OH'), ('14.0', 'NaOH')]"
      ]
     },
     "execution_count": 10,
     "metadata": {},
     "output_type": "execute_result"
    }
   ],
   "execution_count": 10
  },
  {
   "metadata": {
    "ExecuteTime": {
     "end_time": "2025-02-20T17:07:56.740676Z",
     "start_time": "2025-02-20T17:07:56.359420Z"
    }
   },
   "cell_type": "code",
   "source": [
    "op = Select(Scan(\"demo.chemicals\", db=db, use_semantic_table_search=False), SoftValidate(\"The chemical {scientific_name} with ph {ph} is acidic\", sv=sv)).open()\n",
    "[(x[\"ph\"], x[\"scientific_name\"]) for x in op]"
   ],
   "id": "534c02f74159cae1",
   "outputs": [
    {
     "data": {
      "text/plain": [
       "[('0.3', 'H2SO4'), ('1.0', 'HCl'), ('Acidic in water', 'Cl2')]"
      ]
     },
     "execution_count": 11,
     "metadata": {},
     "output_type": "execute_result"
    }
   ],
   "execution_count": 11
  },
  {
   "metadata": {
    "ExecuteTime": {
     "end_time": "2025-02-20T17:07:57.050036Z",
     "start_time": "2025-02-20T17:07:56.744201Z"
    }
   },
   "cell_type": "code",
   "source": [
    "op = Select(Scan(\"demo.chemicals\", db=db, use_semantic_table_search=False), SoftValidate(\"The chemical {scientific_name} with ph {ph} is base\", sv=sv)).open()\n",
    "[(x[\"ph\"], x[\"scientific_name\"]) for x in op]"
   ],
   "id": "3b0ecdb4e9b44a9f",
   "outputs": [
    {
     "data": {
      "text/plain": [
       "[('7.0', 'C2H5OH'), ('14.0', 'NaOH'), ('Base', 'C8H10N4O2')]"
      ]
     },
     "execution_count": 12,
     "metadata": {},
     "output_type": "execute_result"
    }
   ],
   "execution_count": 12
  }
 ],
 "metadata": {
  "kernelspec": {
   "display_name": "Python 3",
   "language": "python",
   "name": "python3"
  },
  "language_info": {
   "codemirror_mode": {
    "name": "ipython",
    "version": 2
   },
   "file_extension": ".py",
   "mimetype": "text/x-python",
   "name": "python",
   "nbconvert_exporter": "python",
   "pygments_lexer": "ipython2",
   "version": "2.7.6"
  }
 },
 "nbformat": 4,
 "nbformat_minor": 5
}
