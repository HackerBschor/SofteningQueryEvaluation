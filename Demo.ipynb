{
 "cells": [
  {
   "metadata": {},
   "cell_type": "markdown",
   "source": [
    "# Demonstration of the Soft-Query-Evaluation-System\n",
    "\n",
    "## Python & Schema Imports"
   ],
   "id": "af6100c938bbfd8"
  },
  {
   "metadata": {
    "ExecuteTime": {
     "end_time": "2025-02-20T13:25:12.503720Z",
     "start_time": "2025-02-20T13:25:08.338275Z"
    }
   },
   "cell_type": "code",
   "source": [
    "import json\n",
    "\n",
    "from db.db import DBConnector\n",
    "\n",
    "from db.operators import *\n",
    "from db.criteria import *\n",
    "\n",
    "from models import ModelMgr\n",
    "from models.embedding import GenericEmbeddingModel\n",
    "from models.semantic_validation import LLaMAValidationModel"
   ],
   "id": "e001ce064166e144",
   "outputs": [],
   "execution_count": 1
  },
  {
   "metadata": {
    "ExecuteTime": {
     "end_time": "2025-02-20T13:25:15.098788Z",
     "start_time": "2025-02-20T13:25:12.507233Z"
    }
   },
   "cell_type": "code",
   "source": [
    "db = DBConnector(\"config.ini\")\n",
    "\n",
    "m = ModelMgr(\"config.ini\")\n",
    "em = GenericEmbeddingModel(m)\n",
    "sv = LLaMAValidationModel(m)"
   ],
   "id": "6c495e4f453a5920",
   "outputs": [
    {
     "data": {
      "text/plain": [
       "Loading checkpoint shards:   0%|          | 0/2 [00:00<?, ?it/s]"
      ],
      "application/vnd.jupyter.widget-view+json": {
       "version_major": 2,
       "version_minor": 0,
       "model_id": "4ebcdc2cef8a41329c05bc87213e940a"
      }
     },
     "metadata": {},
     "output_type": "display_data"
    }
   ],
   "execution_count": 2
  },
  {
   "metadata": {
    "ExecuteTime": {
     "end_time": "2025-02-20T13:23:42.635371Z",
     "start_time": "2025-02-20T13:23:42.517279Z"
    }
   },
   "cell_type": "code",
   "source": [
    "with open(\"evaluation/schema.json\", encoding=\"utf-8\") as f:\n",
    "    database = json.load(f)\n",
    "\n",
    "def cast_schema_type(schema_type: str):\n",
    "    schema_type = schema_type.lower().strip()\n",
    "    if schema_type == \"string\" or schema_type == \"text\":\n",
    "        return \"TEXT\"\n",
    "    if schema_type == \"integer\":\n",
    "        return \"INTEGER\"\n",
    "    if schema_type == \"boolean\":\n",
    "        return \"BOOLEAN\"\n",
    "    if schema_type == \"number\":\n",
    "        return \"DOUBLE PRECISION\"\n",
    "    raise Exception(\"Unknown schema type: \" + schema_type)\n",
    "\n",
    "def sanitize_table_name(table_name: str):\n",
    "    return table_name.replace(\"/\", \"_\").replace(\" \", \"_\")\\\n",
    "        .replace(\"(\", \"\").replace(\")\", \"\").replace(\".\", \"\")\\\n",
    "        .replace(\"-\", \"_\").lower()\n",
    "\n",
    "with db.get_cursor() as cursor:\n",
    "    cursor.execute(\"DROP SCHEMA IF EXISTS demo CASCADE ;\")\n",
    "    cursor.execute(\"CREATE SCHEMA demo;\")\n",
    "\n",
    "    for table in database:\n",
    "        table_name = f\"demo.{table}\"\n",
    "        column_map = {x['name']: sanitize_table_name(x['name']) for x in database[table][\"schema\"]}\n",
    "        columns = [column_map[x['name']] for x in database[table][\"schema\"]]\n",
    "        types = [cast_schema_type(x['type']) for x in database[table][\"schema\"]]\n",
    "        table_column = [f\"{col} {col_type}\" for col, col_type in zip(columns, types)]\n",
    "\n",
    "        cursor.execute(f\"CREATE TABLE {table_name} ({', '.join(table_column)})\")\n",
    "\n",
    "        print(\"Creating Table \", table_name)\n",
    "\n",
    "        for data in database[table][\"data\"]:\n",
    "            param_names = [f\"%({col})s\" for col in columns]\n",
    "            params = {v: data[k] for k, v in column_map.items()}\n",
    "            cursor.execute(f\"INSERT INTO {table_name} VALUES ({', '.join(param_names)})\", params)\n",
    "\n",
    "db.conn.commit()"
   ],
   "id": "18bcee0ec32c5f94",
   "outputs": [
    {
     "name": "stdout",
     "output_type": "stream",
     "text": [
      "Creating Table  demo.language_detection\n",
      "Creating Table  demo.chemicals\n",
      "Creating Table  demo.chemical_warnings\n",
      "Creating Table  demo.elements\n",
      "Creating Table  demo.elements_phase\n",
      "Creating Table  demo.movies\n",
      "Creating Table  demo.movies_de\n",
      "Creating Table  demo.actors\n",
      "Creating Table  demo.plays_in\n",
      "Creating Table  demo.top_artists_2023\n",
      "Creating Table  demo.diseases\n",
      "Creating Table  demo.diseases_symptom\n",
      "Creating Table  demo.human_vital_sign\n",
      "Creating Table  demo.companies_1\n",
      "Creating Table  demo.companies_2\n",
      "Creating Table  demo.user_data\n",
      "Creating Table  demo.random_countries\n",
      "Creating Table  demo.countries\n"
     ]
    }
   ],
   "execution_count": 3
  },
  {
   "metadata": {
    "ExecuteTime": {
     "end_time": "2025-02-20T13:25:36.336965Z",
     "start_time": "2025-02-20T13:25:15.228855Z"
    }
   },
   "cell_type": "code",
   "source": "db = DBConnector(\"config.ini\", load_db=True)",
   "id": "1e6daf831c7c00c2",
   "outputs": [],
   "execution_count": 3
  },
  {
   "metadata": {},
   "cell_type": "markdown",
   "source": [
    "## Soft Scan\n",
    "\n",
    "Demonstrate the semantic search for database containing\n",
    "\n",
    "$Scan(\\text{})$"
   ],
   "id": "8511d78b967ad315"
  },
  {
   "cell_type": "code",
   "id": "initial_id",
   "metadata": {
    "collapsed": true,
    "ExecuteTime": {
     "end_time": "2025-02-20T13:26:01.952977Z",
     "start_time": "2025-02-20T13:25:59.650936Z"
    }
   },
   "source": [
    "op = Scan(\"demo.actors\", db=db, em=em, sv=sv, threshold=0.8).open()\n",
    "op.fetch_all()"
   ],
   "outputs": [
    {
     "data": {
      "text/plain": [
       "[RealDictRow([('name', 'Johnny Depp'), ('birth_year', 1963)]),\n",
       " RealDictRow([('name', 'Orlando Bloom'), ('birth_year', 1977)]),\n",
       " RealDictRow([('name', 'Keira Knightley'), ('birth_year', 1985)]),\n",
       " RealDictRow([('name', 'Elijah Wood'), ('birth_year', 1981)]),\n",
       " RealDictRow([('name', 'Ian McKellen'), ('birth_year', 1939)]),\n",
       " RealDictRow([('name', 'Freddie Highmore'), ('birth_year', 1992)]),\n",
       " RealDictRow([('name', 'Viggo Mortensen'), ('birth_year', 1958)]),\n",
       " RealDictRow([('name', 'Leonardo DiCaprio'), ('birth_year', 1974)]),\n",
       " RealDictRow([('name', 'Joseph Gordon-Levitt'), ('birth_year', 1981)]),\n",
       " RealDictRow([('name', 'Elliot Page'), ('birth_year', 1987)]),\n",
       " RealDictRow([('name', 'Keanu Reeves'), ('birth_year', 1964)]),\n",
       " RealDictRow([('name', 'Carrie-Anne Moss'), ('birth_year', 1967)]),\n",
       " RealDictRow([('name', 'Laurence Fishburne'), ('birth_year', 1961)])]"
      ]
     },
     "execution_count": 6,
     "metadata": {},
     "output_type": "execute_result"
    }
   ],
   "execution_count": 6
  },
  {
   "metadata": {
    "ExecuteTime": {
     "end_time": "2025-02-20T13:27:21.201264Z",
     "start_time": "2025-02-20T13:27:19.089134Z"
    }
   },
   "cell_type": "code",
   "source": [
    "op = Scan(\"demo.langauges\", db=db, em=em, sv=sv, threshold=0.8).open()\n",
    "op.fetch_one()"
   ],
   "id": "e24a338de9e95ec7",
   "outputs": [
    {
     "ename": "Exception",
     "evalue": "Table 'demo.actors' seams not to contain the information",
     "output_type": "error",
     "traceback": [
      "\u001B[1;31m---------------------------------------------------------------------------\u001B[0m",
      "\u001B[1;31mException\u001B[0m                                 Traceback (most recent call last)",
      "Cell \u001B[1;32mIn[10], line 1\u001B[0m\n\u001B[1;32m----> 1\u001B[0m op \u001B[38;5;241m=\u001B[39m \u001B[43mScan\u001B[49m\u001B[43m(\u001B[49m\u001B[38;5;124;43m\"\u001B[39;49m\u001B[38;5;124;43mdemo langauges\u001B[39;49m\u001B[38;5;124;43m\"\u001B[39;49m\u001B[43m,\u001B[49m\u001B[43m \u001B[49m\u001B[43mdb\u001B[49m\u001B[38;5;241;43m=\u001B[39;49m\u001B[43mdb\u001B[49m\u001B[43m,\u001B[49m\u001B[43m \u001B[49m\u001B[43mem\u001B[49m\u001B[38;5;241;43m=\u001B[39;49m\u001B[43mem\u001B[49m\u001B[43m,\u001B[49m\u001B[43m \u001B[49m\u001B[43msv\u001B[49m\u001B[38;5;241;43m=\u001B[39;49m\u001B[43msv\u001B[49m\u001B[43m,\u001B[49m\u001B[43m \u001B[49m\u001B[43mthreshold\u001B[49m\u001B[38;5;241;43m=\u001B[39;49m\u001B[38;5;241;43m0.8\u001B[39;49m\u001B[43m)\u001B[49m\u001B[38;5;241m.\u001B[39mopen()\n\u001B[0;32m      2\u001B[0m op\u001B[38;5;241m.\u001B[39mfetch_one()\n",
      "File \u001B[1;32m~\\PycharmProjects\\Master\\db\\operators\\Scan.py:60\u001B[0m, in \u001B[0;36mScan.__init__\u001B[1;34m(self, name, db, em, sv, vector_index_class, threshold, limit, sql_annex, use_semantic_table_search, use_semantic_validation)\u001B[0m\n\u001B[0;32m     58\u001B[0m \u001B[38;5;28mself\u001B[39m\u001B[38;5;241m.\u001B[39mis_distance \u001B[38;5;241m=\u001B[39m \u001B[38;5;28mself\u001B[39m\u001B[38;5;241m.\u001B[39mvector_index\u001B[38;5;241m.\u001B[39mmetric_type \u001B[38;5;241m==\u001B[39m faiss\u001B[38;5;241m.\u001B[39mMETRIC_L2\n\u001B[0;32m     59\u001B[0m \u001B[38;5;28mself\u001B[39m\u001B[38;5;241m.\u001B[39muse_semantic_validation \u001B[38;5;241m=\u001B[39m use_semantic_validation\n\u001B[1;32m---> 60\u001B[0m table, confidence \u001B[38;5;241m=\u001B[39m \u001B[38;5;28;43mself\u001B[39;49m\u001B[38;5;241;43m.\u001B[39;49m\u001B[43m_get_table\u001B[49m\u001B[43m(\u001B[49m\u001B[43m)\u001B[49m \u001B[38;5;66;03m# Semantic Search for table\u001B[39;00m\n\u001B[0;32m     62\u001B[0m \u001B[38;5;28;01massert\u001B[39;00m table \u001B[38;5;129;01mis\u001B[39;00m \u001B[38;5;129;01mnot\u001B[39;00m \u001B[38;5;28;01mNone\u001B[39;00m, \u001B[38;5;124m\"\u001B[39m\u001B[38;5;124mNo table found\u001B[39m\u001B[38;5;124m\"\u001B[39m\n\u001B[0;32m     64\u001B[0m logging\u001B[38;5;241m.\u001B[39mdebug(\u001B[38;5;124mf\u001B[39m\u001B[38;5;124m\"\u001B[39m\u001B[38;5;124mSelected Table (confidence \u001B[39m\u001B[38;5;132;01m{\u001B[39;00mconfidence\u001B[38;5;132;01m:\u001B[39;00m\u001B[38;5;124m.02\u001B[39m\u001B[38;5;132;01m}\u001B[39;00m\u001B[38;5;124m): \u001B[39m\u001B[38;5;132;01m{\u001B[39;00mtable\u001B[38;5;132;01m}\u001B[39;00m\u001B[38;5;124m\"\u001B[39m)\n",
      "File \u001B[1;32m~\\PycharmProjects\\Master\\db\\operators\\Scan.py:153\u001B[0m, in \u001B[0;36mScan._get_table\u001B[1;34m(self)\u001B[0m\n\u001B[0;32m    150\u001B[0m \u001B[38;5;28;01mif\u001B[39;00m \u001B[38;5;28mself\u001B[39m\u001B[38;5;241m.\u001B[39msv(\u001B[38;5;124mf\u001B[39m\u001B[38;5;124m\"\u001B[39m\u001B[38;5;124mDoes this SQL Table \u001B[39m\u001B[38;5;124m'\u001B[39m\u001B[38;5;132;01m{\u001B[39;00msql_table\u001B[38;5;132;01m}\u001B[39;00m\u001B[38;5;124m'\u001B[39m\u001B[38;5;124m describe entities for \u001B[39m\u001B[38;5;124m'\u001B[39m\u001B[38;5;132;01m{\u001B[39;00m\u001B[38;5;28mself\u001B[39m\u001B[38;5;241m.\u001B[39mname\u001B[38;5;132;01m}\u001B[39;00m\u001B[38;5;124m'\u001B[39m\u001B[38;5;124m?\u001B[39m\u001B[38;5;124m\"\u001B[39m):\n\u001B[0;32m    151\u001B[0m     \u001B[38;5;28;01mreturn\u001B[39;00m sql_table, distances[\u001B[38;5;241m0\u001B[39m]\n\u001B[1;32m--> 153\u001B[0m \u001B[38;5;28;01mraise\u001B[39;00m \u001B[38;5;167;01mException\u001B[39;00m(\u001B[38;5;124mf\u001B[39m\u001B[38;5;124m\"\u001B[39m\u001B[38;5;124mTable \u001B[39m\u001B[38;5;124m'\u001B[39m\u001B[38;5;132;01m{\u001B[39;00msql_table\u001B[38;5;241m.\u001B[39mtable_schema\u001B[38;5;132;01m}\u001B[39;00m\u001B[38;5;124m.\u001B[39m\u001B[38;5;132;01m{\u001B[39;00msql_table\u001B[38;5;241m.\u001B[39mtable_name\u001B[38;5;132;01m}\u001B[39;00m\u001B[38;5;124m'\u001B[39m\u001B[38;5;124m seams not to contain the information\u001B[39m\u001B[38;5;124m\"\u001B[39m)\n",
      "\u001B[1;31mException\u001B[0m: Table 'demo.actors' seams not to contain the information"
     ]
    }
   ],
   "execution_count": 10
  }
 ],
 "metadata": {
  "kernelspec": {
   "display_name": "Python 3",
   "language": "python",
   "name": "python3"
  },
  "language_info": {
   "codemirror_mode": {
    "name": "ipython",
    "version": 2
   },
   "file_extension": ".py",
   "mimetype": "text/x-python",
   "name": "python",
   "nbconvert_exporter": "python",
   "pygments_lexer": "ipython2",
   "version": "2.7.6"
  }
 },
 "nbformat": 4,
 "nbformat_minor": 5
}
