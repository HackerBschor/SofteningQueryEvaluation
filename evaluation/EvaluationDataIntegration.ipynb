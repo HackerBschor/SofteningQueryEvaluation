{
 "cells": [
  {
   "metadata": {},
   "cell_type": "markdown",
   "source": [
    "# Evaluation of Data Integration\n",
    "\n",
    "In this notebook, we evaluate how effective two relations can be integrated using the soft join operator.\n",
    "Therefore, we utilize the [Datasets for DeepMatcher paper](https://github.com/anhaidgroup/deepmatcher/blob/master/Datasets.md).\n",
    "\n",
    "The datasets contain two relations with the same entities from two different sources.\n",
    "E.g. `iTunes-Amazon` contains song records obtained from iTunes and Amazon. So, the task is to identify same songs.\n",
    "\n",
    "To test different Models, datasets, ..., there are parameters in the [modifications](#modifications) section.\n",
    "**Modfy Code in [Modifications](#modifications) Section Only!**\n",
    "\n",
    "We calculate:\n",
    "* $ TP = \\text{True Matches} \\cap \\text{Predicted Matches} $\n",
    "* $ FN = \\text{True Matches} \\setminus \\text{Predicted Matches} $\n",
    "* $ FP = \\text{Predicted Matches} \\setminus \\text{True Matches} $\n",
    "\n",
    "To determine the scores:\n",
    "* $ Precision = \\frac{TP}{TP + FP}$\n",
    "* $ Recall = \\frac{TP}{TP + FN}$\n",
    "* $ F_1 = \\frac{2 \\cdot precision \\cdot recall}{precision + recall} $\n",
    "* BLEU 1-4\n",
    "\n",
    "## Imports"
   ],
   "id": "1425ff15ce177929"
  },
  {
   "cell_type": "code",
   "id": "initial_id",
   "metadata": {
    "collapsed": true,
    "ExecuteTime": {
     "end_time": "2025-03-08T16:33:30.739915Z",
     "start_time": "2025-03-08T16:33:26.668576Z"
    }
   },
   "source": [
    "import os\n",
    "import time\n",
    "\n",
    "import tqdm\n",
    "import requests\n",
    "import zipfile\n",
    "\n",
    "import pandas as pd\n",
    "import numpy as np\n",
    "\n",
    "from db.operators import Dummy, InnerSoftJoin\n",
    "\n",
    "from models import ModelMgr\n",
    "from models.embedding.SentenceTransformer import SentenceTransformerEmbeddingModel\n",
    "from models.semantic_validation import LLaMAValidationModel\n",
    "\n",
    "import nltk\n",
    "from nltk.translate.bleu_score import sentence_bleu\n",
    "from nltk.tokenize import word_tokenize\n",
    "from nltk.translate.bleu_score import SmoothingFunction\n",
    "\n",
    "nltk.download('punkt')\n",
    "nltk.download('punkt_tab')"
   ],
   "outputs": [
    {
     "name": "stderr",
     "output_type": "stream",
     "text": [
      "[nltk_data] Downloading package punkt to /home/nico/nltk_data...\n",
      "[nltk_data]   Package punkt is already up-to-date!\n",
      "[nltk_data] Downloading package punkt_tab to /home/nico/nltk_data...\n",
      "[nltk_data]   Package punkt_tab is already up-to-date!\n"
     ]
    },
    {
     "data": {
      "text/plain": [
       "True"
      ]
     },
     "execution_count": 2,
     "metadata": {},
     "output_type": "execute_result"
    }
   ],
   "execution_count": 2
  },
  {
   "metadata": {},
   "cell_type": "markdown",
   "source": "## Modifications",
   "id": "1a101cc81dbda208"
  },
  {
   "metadata": {
    "ExecuteTime": {
     "end_time": "2025-03-08T16:33:30.746185Z",
     "start_time": "2025-03-08T16:33:30.744447Z"
    }
   },
   "cell_type": "code",
   "source": [
    "dataset = (\"Structured\", \"iTunes-Amazon\") # The tested dataset\n",
    "data_path = \"../data/\"  # Data Path (usually remains unchanged)\n",
    "\n",
    "significant_columns_left = [\"Album_Name\", \"Artist_Name\", \"Released\", \"Song_Name\", \"Time\"]\n",
    "significant_columns_right = [\"Album_Name\", \"Artist_Name\", \"Released\", \"Song_Name\", \"Time\"]"
   ],
   "id": "859c939303fa398b",
   "outputs": [],
   "execution_count": 3
  },
  {
   "metadata": {},
   "cell_type": "markdown",
   "source": "## Function and Dataset Declarations",
   "id": "65bb6e8e066b043"
  },
  {
   "metadata": {
    "ExecuteTime": {
     "end_time": "2025-03-08T16:33:30.796298Z",
     "start_time": "2025-03-08T16:33:30.792139Z"
    }
   },
   "cell_type": "code",
   "source": [
    "# Available Dataset with meta data\n",
    "\n",
    "datasets = {\n",
    "    \"Structured\": {\n",
    "        \"Beer\": {\"filename\": \"beer_raw_data.zip\",  \"matches\": \"labeled_data.csv\", \"key_column\": \"Label\", \"label_column\": \"gold\", \"drop_columns\": [\"_id\"]},\n",
    "        \"iTunes-Amazon\": {\"filename\": \"itunes_amazon_raw_data.zip\",  \"matches\": \"labeled_data.csv\", \"key_column\": \"Sno\", \"label_column\": \"label\", \"drop_columns\": [\"Unnamed: 0\", \"_id\"]},\n",
    "        \"Fodors-Zagats\": \"fodors_zagat_raw_data.zip\",\n",
    "        \"DBLP-ACM\": \"dblp_acm_raw_data.zip\",\n",
    "        \"DBLP-GoogleScholar\": \"dblp_scholar_raw_data.zip\",\n",
    "        \"Amazon-Google\": \"amazon_google_raw_data.zip\",\n",
    "        \"Walmart-Amazon\": \"walmart_amazon_raw_data.zip\",\n",
    "    },\n",
    "    \"Textual\": {\n",
    "        \"Abt-Buy\": \"abt_buy_raw_data.zip\",\n",
    "        \"Company\": \"company_raw_data.zip\"\n",
    "    }\n",
    "}\n",
    "\n",
    "dataset_data = datasets[dataset[0]][dataset[1]]"
   ],
   "id": "1891bdb398cac572",
   "outputs": [],
   "execution_count": 4
  },
  {
   "metadata": {
    "ExecuteTime": {
     "end_time": "2025-03-08T16:33:31.000515Z",
     "start_time": "2025-03-08T16:33:30.940220Z"
    }
   },
   "cell_type": "code",
   "source": [
    "def compute_bleu_representativeness(input_dataset, integrated_dataset, use_n_grams=4, smoothing_function = SmoothingFunction().method1):\n",
    "    \"\"\"\n",
    "    Compute BLEU-based representativeness score between input and integrated datasets.\n",
    "\n",
    "    :param input_dataset: List of text entries from the input dataset\n",
    "    :param integrated_dataset: List of text entries from the integrated dataset\n",
    "    :param use_n_grams: Number of n-grams to use (BLEU 1, 2, 3, 4)\n",
    "    :param smoothing_function: Smoothing function to use for computing BLEU\n",
    "    :return: Average BLEU score as the representativeness measure\n",
    "    \"\"\"\n",
    "    assert use_n_grams in (1,2,3,4)\n",
    "    weights = np.array([0., 0., 0., 0.])\n",
    "    weights[:use_n_grams] = 1.0/float(use_n_grams)\n",
    "\n",
    "    integrated_tokens = [word_tokenize(entry.lower()) for entry in integrated_dataset]\n",
    "    input_tokens = [word_tokenize(entry.lower()) for entry in input_dataset]\n",
    "\n",
    "    bleu_scores = []\n",
    "\n",
    "    for input_entry in input_tokens:\n",
    "        item_bleu_scores = max([sentence_bleu([integrated_entry], input_entry, smoothing_function=smoothing_function, weights=weights) for integrated_entry in integrated_tokens])\n",
    "        bleu_scores.append(item_bleu_scores)\n",
    "\n",
    "    return np.average(bleu_scores)\n",
    "\n",
    "def download_file(url, save_file):\n",
    "    \"\"\"\n",
    "    Download deep matcher dataset\n",
    "\n",
    "    :param url: URL to download from\n",
    "    :param save_file: File to save to\n",
    "    \"\"\"\n",
    "    with requests.get(url, stream=True) as response:\n",
    "        response.raise_for_status()\n",
    "        with open(save_file, \"wb\") as file:\n",
    "            for chunk in response.iter_content(chunk_size=8192):\n",
    "                file.write(chunk)\n",
    "\n",
    "def process_dataset(ds):\n",
    "    \"\"\"\n",
    "    Download deep matcher dataset and return DataFrame with joined data\n",
    "\n",
    "    :param ds: The dataset which will be downloaded and processed\n",
    "    \"\"\"\n",
    "    url = f\"https://pages.cs.wisc.edu/~anhai/data1/deepmatcher_data/{ds[0]}/{ds[1]}/{dataset_data[\"filename\"]}\"\n",
    "    save_path = f\"{data_path}{dataset[0]}/{dataset[1]}/\"\n",
    "    save_file = save_path + dataset_data[\"filename\"]\n",
    "\n",
    "    os.makedirs(save_path, exist_ok=True)\n",
    "\n",
    "    if not os.path.exists(save_file):\n",
    "        download_file(url, save_file)\n",
    "\n",
    "    # Unzip the file\n",
    "    with zipfile.ZipFile(save_file, \"r\") as zip_ref:\n",
    "        zip_ref.extractall(save_path)\n",
    "\n",
    "    #pd.read_csv(save_path + dataset_data[\"tableA\"], encoding=\"unicode_escape\"),\n",
    "    #pd.read_csv(save_path + dataset_data[\"tableB\"], encoding=\"unicode_escape\"),\n",
    "\n",
    "    return pd.read_csv(save_path + dataset_data[\"matches\"], encoding=\"unicode_escape\", skiprows=5)\n",
    "\n",
    "\n",
    "#table_a, table_b, matches = process_dataset(dataset)\n",
    "candidates = process_dataset(dataset) # table_a.head(), table_b.head()\n",
    "candidates.head()"
   ],
   "id": "86a7b0843d549ced",
   "outputs": [
    {
     "data": {
      "text/plain": [
       "   Unnamed: 0   _id  ltable.Sno  rtable.Sno  \\\n",
       "0         916   916         111       53124   \n",
       "1        1053  1053         148       50767   \n",
       "2        1290  1290         206       41214   \n",
       "3        1424  1424         211       19812   \n",
       "4        1706  1706         250       53111   \n",
       "\n",
       "                     ltable.Album_Name ltable.Artist_Name  \\\n",
       "0                                  vhs      x ambassadors   \n",
       "1                       title (deluxe)     meghan trainor   \n",
       "2                  slow down (remixes)       selena gomez   \n",
       "3  slow down (reggae remixes) - single       selena gomez   \n",
       "4                                  vhs      x ambassadors   \n",
       "\n",
       "                                    ltable.CopyRight ltable.Released  \\\n",
       "0               2015 kidinakorner/interscope records       30-Jun-15   \n",
       "1   2014, 2015 epic records, a division of sony m...        9-Jan-15   \n",
       "2                       2013 hollywood records, inc.       20-Aug-13   \n",
       "3                       2013 hollywood records, inc.       20-Aug-13   \n",
       "4               2015 kidinakorner/interscope records       30-Jun-15   \n",
       "\n",
       "                                 ltable.Song_Name ltable.Time  \\\n",
       "0                           vhs outro (interlude)        1:25   \n",
       "1                                          credit        2:51   \n",
       "2                    slow down (smash mode remix)        5:21   \n",
       "3  slow down (sure shot rockers reggae dub remix)        3:15   \n",
       "4                           vhs outro (interlude)        1:25   \n",
       "\n",
       "        rtable.Album_Name rtable.Artist_Name  \\\n",
       "0          vhs [explicit]      x ambassadors   \n",
       "1          title (deluxe)     meghan trainor   \n",
       "2       slow down remixes       selena gomez   \n",
       "3  good for you (remixes)       selena gomez   \n",
       "4          vhs [explicit]      x ambassadors   \n",
       "\n",
       "                                    rtable.CopyRight     rtable.Released  \\\n",
       "0           (c) 2015 kidinakorner/interscope records       June 30, 2015   \n",
       "1   2011 what a music ltd, licence exclusive parl...     January 9, 2015   \n",
       "2                   (c) 2013 hollywood records, inc.     August 20, 2013   \n",
       "3                        (c) 2015 interscope records   September 4, 2015   \n",
       "4           (c) 2015 kidinakorner/interscope records       June 30, 2015   \n",
       "\n",
       "                                    rtable.Song_Name rtable.Time  label  \n",
       "0                   vhs outro (interlude) [explicit]        1:25      1  \n",
       "1                                             credit        2:51      1  \n",
       "2                       slow down (smash mode remix)        5:21      1  \n",
       "3  good for you (yellow claw & cesqeaux remix) [f...        3:01      0  \n",
       "4                             first show (interlude)        0:11      0  "
      ],
      "text/html": [
       "<div>\n",
       "<style scoped>\n",
       "    .dataframe tbody tr th:only-of-type {\n",
       "        vertical-align: middle;\n",
       "    }\n",
       "\n",
       "    .dataframe tbody tr th {\n",
       "        vertical-align: top;\n",
       "    }\n",
       "\n",
       "    .dataframe thead th {\n",
       "        text-align: right;\n",
       "    }\n",
       "</style>\n",
       "<table border=\"1\" class=\"dataframe\">\n",
       "  <thead>\n",
       "    <tr style=\"text-align: right;\">\n",
       "      <th></th>\n",
       "      <th>Unnamed: 0</th>\n",
       "      <th>_id</th>\n",
       "      <th>ltable.Sno</th>\n",
       "      <th>rtable.Sno</th>\n",
       "      <th>ltable.Album_Name</th>\n",
       "      <th>ltable.Artist_Name</th>\n",
       "      <th>ltable.CopyRight</th>\n",
       "      <th>ltable.Released</th>\n",
       "      <th>ltable.Song_Name</th>\n",
       "      <th>ltable.Time</th>\n",
       "      <th>rtable.Album_Name</th>\n",
       "      <th>rtable.Artist_Name</th>\n",
       "      <th>rtable.CopyRight</th>\n",
       "      <th>rtable.Released</th>\n",
       "      <th>rtable.Song_Name</th>\n",
       "      <th>rtable.Time</th>\n",
       "      <th>label</th>\n",
       "    </tr>\n",
       "  </thead>\n",
       "  <tbody>\n",
       "    <tr>\n",
       "      <th>0</th>\n",
       "      <td>916</td>\n",
       "      <td>916</td>\n",
       "      <td>111</td>\n",
       "      <td>53124</td>\n",
       "      <td>vhs</td>\n",
       "      <td>x ambassadors</td>\n",
       "      <td>2015 kidinakorner/interscope records</td>\n",
       "      <td>30-Jun-15</td>\n",
       "      <td>vhs outro (interlude)</td>\n",
       "      <td>1:25</td>\n",
       "      <td>vhs [explicit]</td>\n",
       "      <td>x ambassadors</td>\n",
       "      <td>(c) 2015 kidinakorner/interscope records</td>\n",
       "      <td>June 30, 2015</td>\n",
       "      <td>vhs outro (interlude) [explicit]</td>\n",
       "      <td>1:25</td>\n",
       "      <td>1</td>\n",
       "    </tr>\n",
       "    <tr>\n",
       "      <th>1</th>\n",
       "      <td>1053</td>\n",
       "      <td>1053</td>\n",
       "      <td>148</td>\n",
       "      <td>50767</td>\n",
       "      <td>title (deluxe)</td>\n",
       "      <td>meghan trainor</td>\n",
       "      <td>2014, 2015 epic records, a division of sony m...</td>\n",
       "      <td>9-Jan-15</td>\n",
       "      <td>credit</td>\n",
       "      <td>2:51</td>\n",
       "      <td>title (deluxe)</td>\n",
       "      <td>meghan trainor</td>\n",
       "      <td>2011 what a music ltd, licence exclusive parl...</td>\n",
       "      <td>January 9, 2015</td>\n",
       "      <td>credit</td>\n",
       "      <td>2:51</td>\n",
       "      <td>1</td>\n",
       "    </tr>\n",
       "    <tr>\n",
       "      <th>2</th>\n",
       "      <td>1290</td>\n",
       "      <td>1290</td>\n",
       "      <td>206</td>\n",
       "      <td>41214</td>\n",
       "      <td>slow down (remixes)</td>\n",
       "      <td>selena gomez</td>\n",
       "      <td>2013 hollywood records, inc.</td>\n",
       "      <td>20-Aug-13</td>\n",
       "      <td>slow down (smash mode remix)</td>\n",
       "      <td>5:21</td>\n",
       "      <td>slow down remixes</td>\n",
       "      <td>selena gomez</td>\n",
       "      <td>(c) 2013 hollywood records, inc.</td>\n",
       "      <td>August 20, 2013</td>\n",
       "      <td>slow down (smash mode remix)</td>\n",
       "      <td>5:21</td>\n",
       "      <td>1</td>\n",
       "    </tr>\n",
       "    <tr>\n",
       "      <th>3</th>\n",
       "      <td>1424</td>\n",
       "      <td>1424</td>\n",
       "      <td>211</td>\n",
       "      <td>19812</td>\n",
       "      <td>slow down (reggae remixes) - single</td>\n",
       "      <td>selena gomez</td>\n",
       "      <td>2013 hollywood records, inc.</td>\n",
       "      <td>20-Aug-13</td>\n",
       "      <td>slow down (sure shot rockers reggae dub remix)</td>\n",
       "      <td>3:15</td>\n",
       "      <td>good for you (remixes)</td>\n",
       "      <td>selena gomez</td>\n",
       "      <td>(c) 2015 interscope records</td>\n",
       "      <td>September 4, 2015</td>\n",
       "      <td>good for you (yellow claw &amp; cesqeaux remix) [f...</td>\n",
       "      <td>3:01</td>\n",
       "      <td>0</td>\n",
       "    </tr>\n",
       "    <tr>\n",
       "      <th>4</th>\n",
       "      <td>1706</td>\n",
       "      <td>1706</td>\n",
       "      <td>250</td>\n",
       "      <td>53111</td>\n",
       "      <td>vhs</td>\n",
       "      <td>x ambassadors</td>\n",
       "      <td>2015 kidinakorner/interscope records</td>\n",
       "      <td>30-Jun-15</td>\n",
       "      <td>vhs outro (interlude)</td>\n",
       "      <td>1:25</td>\n",
       "      <td>vhs [explicit]</td>\n",
       "      <td>x ambassadors</td>\n",
       "      <td>(c) 2015 kidinakorner/interscope records</td>\n",
       "      <td>June 30, 2015</td>\n",
       "      <td>first show (interlude)</td>\n",
       "      <td>0:11</td>\n",
       "      <td>0</td>\n",
       "    </tr>\n",
       "  </tbody>\n",
       "</table>\n",
       "</div>"
      ]
     },
     "execution_count": 5,
     "metadata": {},
     "output_type": "execute_result"
    }
   ],
   "execution_count": 5
  },
  {
   "metadata": {},
   "cell_type": "markdown",
   "source": [
    "## Evaluation\n",
    "\n",
    "### Determine Matching Set and Data"
   ],
   "id": "aa943e9d62a359cb"
  },
  {
   "metadata": {
    "ExecuteTime": {
     "end_time": "2025-03-08T16:33:34.027804Z",
     "start_time": "2025-03-08T16:33:34.016418Z"
    }
   },
   "cell_type": "code",
   "source": [
    "matches = candidates[candidates[dataset_data[\"label_column\"]] == 1]\n",
    "matches = matches.drop(columns=dataset_data[\"drop_columns\"])\n",
    "\n",
    "gt = {(x[f\"ltable.{dataset_data['key_column']}\"], x[f\"rtable.{dataset_data['key_column']}\"]) for _, x in matches.iterrows()}\n",
    "print(str(gt)[0: 50], \"...\")\n",
    "\n",
    "matches.head()"
   ],
   "id": "68c19cad3744d936",
   "outputs": [
    {
     "name": "stdout",
     "output_type": "stream",
     "text": [
      "{(2743, 17193), (6533, 38335), (5713, 35091), (149 ...\n"
     ]
    },
    {
     "data": {
      "text/plain": [
       "   ltable.Sno  rtable.Sno    ltable.Album_Name ltable.Artist_Name  \\\n",
       "0         111       53124                  vhs      x ambassadors   \n",
       "1         148       50767       title (deluxe)     meghan trainor   \n",
       "2         206       41214  slow down (remixes)       selena gomez   \n",
       "5         250       53124                  vhs      x ambassadors   \n",
       "7         252       53004                  vhs      x ambassadors   \n",
       "\n",
       "                                    ltable.CopyRight ltable.Released  \\\n",
       "0               2015 kidinakorner/interscope records       30-Jun-15   \n",
       "1   2014, 2015 epic records, a division of sony m...        9-Jan-15   \n",
       "2                       2013 hollywood records, inc.       20-Aug-13   \n",
       "5               2015 kidinakorner/interscope records       30-Jun-15   \n",
       "7               2015 kidinakorner/interscope records       30-Jun-15   \n",
       "\n",
       "               ltable.Song_Name ltable.Time  rtable.Album_Name  \\\n",
       "0         vhs outro (interlude)        1:25     vhs [explicit]   \n",
       "1                        credit        2:51     title (deluxe)   \n",
       "2  slow down (smash mode remix)        5:21  slow down remixes   \n",
       "5         vhs outro (interlude)        1:25     vhs [explicit]   \n",
       "7         vhs outro (interlude)        1:25               vhs    \n",
       "\n",
       "  rtable.Artist_Name                                   rtable.CopyRight  \\\n",
       "0      x ambassadors           (c) 2015 kidinakorner/interscope records   \n",
       "1     meghan trainor   2011 what a music ltd, licence exclusive parl...   \n",
       "2       selena gomez                   (c) 2013 hollywood records, inc.   \n",
       "5      x ambassadors           (c) 2015 kidinakorner/interscope records   \n",
       "7      x ambassadors           (c) 2015 kidinakorner/interscope records   \n",
       "\n",
       "    rtable.Released                  rtable.Song_Name rtable.Time  label  \n",
       "0     June 30, 2015  vhs outro (interlude) [explicit]        1:25      1  \n",
       "1   January 9, 2015                            credit        2:51      1  \n",
       "2   August 20, 2013      slow down (smash mode remix)        5:21      1  \n",
       "5     June 30, 2015  vhs outro (interlude) [explicit]        1:25      1  \n",
       "7     June 30, 2015            vhs outro (interlude)         1:26      1  "
      ],
      "text/html": [
       "<div>\n",
       "<style scoped>\n",
       "    .dataframe tbody tr th:only-of-type {\n",
       "        vertical-align: middle;\n",
       "    }\n",
       "\n",
       "    .dataframe tbody tr th {\n",
       "        vertical-align: top;\n",
       "    }\n",
       "\n",
       "    .dataframe thead th {\n",
       "        text-align: right;\n",
       "    }\n",
       "</style>\n",
       "<table border=\"1\" class=\"dataframe\">\n",
       "  <thead>\n",
       "    <tr style=\"text-align: right;\">\n",
       "      <th></th>\n",
       "      <th>ltable.Sno</th>\n",
       "      <th>rtable.Sno</th>\n",
       "      <th>ltable.Album_Name</th>\n",
       "      <th>ltable.Artist_Name</th>\n",
       "      <th>ltable.CopyRight</th>\n",
       "      <th>ltable.Released</th>\n",
       "      <th>ltable.Song_Name</th>\n",
       "      <th>ltable.Time</th>\n",
       "      <th>rtable.Album_Name</th>\n",
       "      <th>rtable.Artist_Name</th>\n",
       "      <th>rtable.CopyRight</th>\n",
       "      <th>rtable.Released</th>\n",
       "      <th>rtable.Song_Name</th>\n",
       "      <th>rtable.Time</th>\n",
       "      <th>label</th>\n",
       "    </tr>\n",
       "  </thead>\n",
       "  <tbody>\n",
       "    <tr>\n",
       "      <th>0</th>\n",
       "      <td>111</td>\n",
       "      <td>53124</td>\n",
       "      <td>vhs</td>\n",
       "      <td>x ambassadors</td>\n",
       "      <td>2015 kidinakorner/interscope records</td>\n",
       "      <td>30-Jun-15</td>\n",
       "      <td>vhs outro (interlude)</td>\n",
       "      <td>1:25</td>\n",
       "      <td>vhs [explicit]</td>\n",
       "      <td>x ambassadors</td>\n",
       "      <td>(c) 2015 kidinakorner/interscope records</td>\n",
       "      <td>June 30, 2015</td>\n",
       "      <td>vhs outro (interlude) [explicit]</td>\n",
       "      <td>1:25</td>\n",
       "      <td>1</td>\n",
       "    </tr>\n",
       "    <tr>\n",
       "      <th>1</th>\n",
       "      <td>148</td>\n",
       "      <td>50767</td>\n",
       "      <td>title (deluxe)</td>\n",
       "      <td>meghan trainor</td>\n",
       "      <td>2014, 2015 epic records, a division of sony m...</td>\n",
       "      <td>9-Jan-15</td>\n",
       "      <td>credit</td>\n",
       "      <td>2:51</td>\n",
       "      <td>title (deluxe)</td>\n",
       "      <td>meghan trainor</td>\n",
       "      <td>2011 what a music ltd, licence exclusive parl...</td>\n",
       "      <td>January 9, 2015</td>\n",
       "      <td>credit</td>\n",
       "      <td>2:51</td>\n",
       "      <td>1</td>\n",
       "    </tr>\n",
       "    <tr>\n",
       "      <th>2</th>\n",
       "      <td>206</td>\n",
       "      <td>41214</td>\n",
       "      <td>slow down (remixes)</td>\n",
       "      <td>selena gomez</td>\n",
       "      <td>2013 hollywood records, inc.</td>\n",
       "      <td>20-Aug-13</td>\n",
       "      <td>slow down (smash mode remix)</td>\n",
       "      <td>5:21</td>\n",
       "      <td>slow down remixes</td>\n",
       "      <td>selena gomez</td>\n",
       "      <td>(c) 2013 hollywood records, inc.</td>\n",
       "      <td>August 20, 2013</td>\n",
       "      <td>slow down (smash mode remix)</td>\n",
       "      <td>5:21</td>\n",
       "      <td>1</td>\n",
       "    </tr>\n",
       "    <tr>\n",
       "      <th>5</th>\n",
       "      <td>250</td>\n",
       "      <td>53124</td>\n",
       "      <td>vhs</td>\n",
       "      <td>x ambassadors</td>\n",
       "      <td>2015 kidinakorner/interscope records</td>\n",
       "      <td>30-Jun-15</td>\n",
       "      <td>vhs outro (interlude)</td>\n",
       "      <td>1:25</td>\n",
       "      <td>vhs [explicit]</td>\n",
       "      <td>x ambassadors</td>\n",
       "      <td>(c) 2015 kidinakorner/interscope records</td>\n",
       "      <td>June 30, 2015</td>\n",
       "      <td>vhs outro (interlude) [explicit]</td>\n",
       "      <td>1:25</td>\n",
       "      <td>1</td>\n",
       "    </tr>\n",
       "    <tr>\n",
       "      <th>7</th>\n",
       "      <td>252</td>\n",
       "      <td>53004</td>\n",
       "      <td>vhs</td>\n",
       "      <td>x ambassadors</td>\n",
       "      <td>2015 kidinakorner/interscope records</td>\n",
       "      <td>30-Jun-15</td>\n",
       "      <td>vhs outro (interlude)</td>\n",
       "      <td>1:25</td>\n",
       "      <td>vhs</td>\n",
       "      <td>x ambassadors</td>\n",
       "      <td>(c) 2015 kidinakorner/interscope records</td>\n",
       "      <td>June 30, 2015</td>\n",
       "      <td>vhs outro (interlude)</td>\n",
       "      <td>1:26</td>\n",
       "      <td>1</td>\n",
       "    </tr>\n",
       "  </tbody>\n",
       "</table>\n",
       "</div>"
      ]
     },
     "execution_count": 6,
     "metadata": {},
     "output_type": "execute_result"
    }
   ],
   "execution_count": 6
  },
  {
   "metadata": {
    "ExecuteTime": {
     "end_time": "2025-03-08T16:33:35.406191Z",
     "start_time": "2025-03-08T16:33:35.402597Z"
    }
   },
   "cell_type": "code",
   "source": [
    "columns_left = [col.replace(\"ltable.\", \"\") for col in matches.columns if col.startswith(\"ltable\")]\n",
    "columns_right = [col.replace(\"rtable.\", \"\") for col in matches.columns if col.startswith(\"rtable\")]\n",
    "print(columns_left, columns_right, sep=\"\\n\")"
   ],
   "id": "cb0b82588cb8f515",
   "outputs": [
    {
     "name": "stdout",
     "output_type": "stream",
     "text": [
      "['Sno', 'Album_Name', 'Artist_Name', 'CopyRight', 'Released', 'Song_Name', 'Time']\n",
      "['Sno', 'Album_Name', 'Artist_Name', 'CopyRight', 'Released', 'Song_Name', 'Time']\n"
     ]
    }
   ],
   "execution_count": 7
  },
  {
   "metadata": {
    "ExecuteTime": {
     "end_time": "2025-03-08T16:33:37.052732Z",
     "start_time": "2025-03-08T16:33:37.042845Z"
    }
   },
   "cell_type": "code",
   "source": [
    "data_left = list(set([tuple([row[f\"ltable.{col}\"] for col in columns_left]) for _, row in matches.iterrows()]))\n",
    "data_right = list(set([tuple([row[f\"rtable.{col}\"] for col in columns_right]) for _, row in matches.iterrows()]))\n",
    "print(data_left[0], data_right[0], sep=\"\\n\")"
   ],
   "id": "491c511bf1df8e07",
   "outputs": [
    {
     "name": "stdout",
     "output_type": "stream",
     "text": [
      "(3359, 'rolling papers', 'wiz khalifa', ' 2011 atlantic recording corporation for the united states and wea international inc. for the world outside of the united states', '28-Mar-11', 'cameras', '4:29')\n",
      "(11280, 'control', 'disclosure', ' 2013 greco-roman ltd', ' April 2, 2013', 'boiling (medlar remix)', '5:52')\n"
     ]
    }
   ],
   "execution_count": 8
  },
  {
   "metadata": {},
   "cell_type": "markdown",
   "source": "### Execute Operator and Evaluate",
   "id": "9fc88d749d70502b"
  },
  {
   "metadata": {
    "ExecuteTime": {
     "end_time": "2025-03-08T16:33:38.122527Z",
     "start_time": "2025-03-08T16:33:38.113327Z"
    }
   },
   "cell_type": "code",
   "source": [
    "def evaluate(em, sv, threshold, method, embedding_comparison, embedding_method):\n",
    "    key = (threshold, method, embedding_comparison, embedding_method)\n",
    "\n",
    "    op1 = Dummy(\"ltable\", columns_left, data_left)\n",
    "    op2 = Dummy(\"rtable\", columns_right, data_right)\n",
    "\n",
    "    op = InnerSoftJoin(\n",
    "        op1, op2, em=em, sv=sv,\n",
    "        threshold=threshold, method=method,\n",
    "        columns_left=significant_columns_left, columns_right=significant_columns_right,\n",
    "        embedding_comparison=embedding_comparison,\n",
    "        embedding_method = embedding_method\n",
    "    )\n",
    "\n",
    "    tic = time.time()\n",
    "    result = op.open().fetch_all()\n",
    "    toc = time.time()\n",
    "    pred = {(r[f\"ltable.{dataset_data['key_column']}\"], r[f\"rtable.{dataset_data['key_column']}\"]) for r in result}\n",
    "\n",
    "    tps, fns, fps = gt & pred, gt - pred, pred - gt\n",
    "    tp, fn, fp = len(tps), len(fns), len(fps)\n",
    "\n",
    "    # values = {\"tp\": tp, \"fn\": fn, \"fp\": fp}\n",
    "\n",
    "    precision = tp / (tp + fp) if (tp + fp) > 0 else 0\n",
    "    recall = tp / (tp + fn) if (tp + fn) > 0 else 0\n",
    "    f1_score = (2 * precision * recall) / (precision + recall) if (precision + recall) > 0 else 0\n",
    "\n",
    "    # BLEU\n",
    "    joined_column = [f\"ltable.{c}\" for c in columns_left] + [f\"rtable.{c}\" for c in columns_right]\n",
    "\n",
    "    serialized_results = [\", \".join(str(v) for k,v in x.items()) for x in result]\n",
    "    serialized_ground_truth = [\", \".join([str(v[col]) for col in joined_column]) for k, v in matches.iterrows()]\n",
    "\n",
    "    # print(\"Sample for matched records: \", serialized_results[0], serialized_ground_truth[0], sep=\"\\n\")\n",
    "\n",
    "    scores = { \"Precision\": precision, \"Recall\": recall, \"F1 Score\": f1_score, \"Runtime\": toc-tic}\n",
    "\n",
    "    for i in range(4):\n",
    "        try:\n",
    "            scores[f\"bleu{i+1}\"] = compute_bleu_representativeness(serialized_ground_truth, serialized_results, use_n_grams=i+1)\n",
    "        except:\n",
    "            scores[f\"bleu{i+1}\"] = -1\n",
    "\n",
    "    print(key, \": \", scores, sep=\"\")\n",
    "\n",
    "    return key, scores"
   ],
   "id": "62251953eaf97f2e",
   "outputs": [],
   "execution_count": 9
  },
  {
   "metadata": {
    "ExecuteTime": {
     "end_time": "2025-03-08T16:33:42.183672Z",
     "start_time": "2025-03-08T16:33:40.037051Z"
    }
   },
   "cell_type": "code",
   "source": [
    "# Models\n",
    "m = ModelMgr()\n",
    "stem = SentenceTransformerEmbeddingModel(m)\n",
    "lsv = LLaMAValidationModel(m)\n",
    "\n",
    "thresholds = [1.0, 0.9, 0.8, 0.7, 0.6, 0.5, 0.4, 0.3, 0.2, 0.1]\n",
    "\n",
    "evaluation_results = {}"
   ],
   "id": "b778f9c3a76a0875",
   "outputs": [
    {
     "data": {
      "text/plain": [
       "Loading checkpoint shards:   0%|          | 0/2 [00:00<?, ?it/s]"
      ],
      "application/vnd.jupyter.widget-view+json": {
       "version_major": 2,
       "version_minor": 0,
       "model_id": "abe6d370fada4a88883928c91750052d"
      }
     },
     "metadata": {},
     "output_type": "display_data"
    }
   ],
   "execution_count": 10
  },
  {
   "metadata": {
    "ExecuteTime": {
     "end_time": "2025-03-08T16:46:27.741197Z",
     "start_time": "2025-03-08T16:33:42.187966Z"
    }
   },
   "cell_type": "code",
   "source": [
    "for t in thresholds:\n",
    "    res = evaluate(stem, lsv, threshold = t, method = \"threshold\", embedding_comparison = \"RECORD_WISE\", embedding_method = \"FIELD_SERIALIZED\")\n",
    "    evaluation_results[res[0]] = res[1]\n",
    "    if res[1][\"Recall\"] == 1.0:\n",
    "        break"
   ],
   "id": "f5a4cbe95777fea4",
   "outputs": [
    {
     "name": "stdout",
     "output_type": "stream",
     "text": [
      "(1.0, 'threshold', 'RECORD_WISE', 'FIELD_SERIALIZED'): {'Precision': 0, 'Recall': 0.0, 'F1 Score': 0, 'Runtime': 0.8213868141174316, 'bleu1': -1, 'bleu2': -1, 'bleu3': -1, 'bleu4': -1}\n",
      "(0.9, 'threshold', 'RECORD_WISE', 'FIELD_SERIALIZED'): {'Precision': 0, 'Recall': 0.0, 'F1 Score': 0, 'Runtime': 0.5048065185546875, 'bleu1': -1, 'bleu2': -1, 'bleu3': -1, 'bleu4': -1}\n",
      "(0.8, 'threshold', 'RECORD_WISE', 'FIELD_SERIALIZED'): {'Precision': 0, 'Recall': 0.0, 'F1 Score': 0, 'Runtime': 0.5410277843475342, 'bleu1': -1, 'bleu2': -1, 'bleu3': -1, 'bleu4': -1}\n",
      "(0.7, 'threshold', 'RECORD_WISE', 'FIELD_SERIALIZED'): {'Precision': 0, 'Recall': 0.0, 'F1 Score': 0, 'Runtime': 0.5418837070465088, 'bleu1': -1, 'bleu2': -1, 'bleu3': -1, 'bleu4': -1}\n",
      "(0.6, 'threshold', 'RECORD_WISE', 'FIELD_SERIALIZED'): {'Precision': 0, 'Recall': 0.0, 'F1 Score': 0, 'Runtime': 0.5507450103759766, 'bleu1': -1, 'bleu2': -1, 'bleu3': -1, 'bleu4': -1}\n",
      "(0.5, 'threshold', 'RECORD_WISE', 'FIELD_SERIALIZED'): {'Precision': 0, 'Recall': 0.0, 'F1 Score': 0, 'Runtime': 0.5597105026245117, 'bleu1': -1, 'bleu2': -1, 'bleu3': -1, 'bleu4': -1}\n",
      "(0.4, 'threshold', 'RECORD_WISE', 'FIELD_SERIALIZED'): {'Precision': 1.0, 'Recall': 0.007575757575757576, 'F1 Score': 0.015037593984962407, 'Runtime': 0.508664608001709, 'bleu1': 0.2347477233882323, 'bleu2': 0.0938792082248881, 'bleu3': 0.06615778776093469, 'bleu4': 0.05214578185797302}\n",
      "(0.3, 'threshold', 'RECORD_WISE', 'FIELD_SERIALIZED'): {'Precision': 0.697841726618705, 'Recall': 0.7348484848484849, 'F1 Score': 0.7158671586715867, 'Runtime': 0.6097571849822998, 'bleu1': 0.8791435819152431, 'bleu2': 0.846915431006653, 'bleu3': 0.8330239317532199, 'bleu4': 0.8230237107624365}\n",
      "(0.2, 'threshold', 'RECORD_WISE', 'FIELD_SERIALIZED'): {'Precision': 0.012036108324974924, 'Recall': 1.0, 'F1 Score': 0.023785926660059464, 'Runtime': 0.5874788761138916, 'bleu1': 1.0, 'bleu2': 1.0, 'bleu3': 1.0, 'bleu4': 1.0}\n"
     ]
    }
   ],
   "execution_count": 11
  },
  {
   "metadata": {
    "ExecuteTime": {
     "end_time": "2025-03-08T13:11:11.368430Z",
     "start_time": "2025-03-08T12:51:03.017090Z"
    }
   },
   "cell_type": "code",
   "source": [
    "for t in thresholds:\n",
    "    res = evaluate(stem, lsv, threshold = t, method = \"threshold\", embedding_comparison = \"RECORD_WISE\", embedding_method = \"FULL_SERIALIZED\")\n",
    "    evaluation_results[res[0]] = res[1]\n",
    "    if res[1][\"Recall\"] == 1.0:\n",
    "        break"
   ],
   "id": "e6df55c6e31aad9d",
   "outputs": [
    {
     "name": "stdout",
     "output_type": "stream",
     "text": [
      "(1.0, 'threshold', 'RECORD_WISE', 'FULL_SERIALIZED'): {'Precision': 0, 'Recall': 0.0, 'F1 Score': 0, 'Runtime': 0.6876139640808105, 'bleu1': -1, 'bleu2': -1, 'bleu3': -1, 'bleu4': -1}\n",
      "(0.9, 'threshold', 'RECORD_WISE', 'FULL_SERIALIZED'): {'Precision': 1.0, 'Recall': 0.007575757575757576, 'F1 Score': 0.015037593984962407, 'Runtime': 1.0624871253967285, 'bleu1': 0.11533143994144268, 'bleu2': 0.060385224463451015, 'bleu3': 0.04576146247909286, 'bleu4': 0.03915953854793376}\n",
      "(0.8, 'threshold', 'RECORD_WISE', 'FULL_SERIALIZED'): {'Precision': 0.058222222222222224, 'Recall': 0.9924242424242424, 'F1 Score': 0.10999160369437448, 'Runtime': 0.6329195499420166, 'bleu1': 0.9976943346508566, 'bleu2': 0.9971338626678805, 'bleu3': 0.9968694393209289, 'bleu4': 0.9966700712267533}\n",
      "(0.7, 'threshold', 'RECORD_WISE', 'FULL_SERIALIZED'): {'Precision': 0.008778346744696415, 'Recall': 1.0, 'F1 Score': 0.01740391588107324, 'Runtime': 0.9583263397216797, 'bleu1': 1.0, 'bleu2': 1.0, 'bleu3': 1.0, 'bleu4': 1.0}\n"
     ]
    }
   ],
   "execution_count": 11
  },
  {
   "metadata": {
    "ExecuteTime": {
     "end_time": "2025-03-08T13:11:46.396660Z",
     "start_time": "2025-03-08T13:11:11.458435Z"
    }
   },
   "cell_type": "code",
   "source": [
    "for t in thresholds:\n",
    "    res = evaluate(stem, lsv, threshold = t, method = \"threshold\", embedding_comparison = \"COLUMN_WISE\", embedding_method = None)\n",
    "    evaluation_results[res[0]] = res[1]\n",
    "    if res[1][\"Recall\"] == 1.0:\n",
    "        break"
   ],
   "id": "54dabcab18798af7",
   "outputs": [
    {
     "name": "stdout",
     "output_type": "stream",
     "text": [
      "(1.0, 'threshold', 'COLUMN_WISE', None): {'Precision': 0, 'Recall': 0.0, 'F1 Score': 0, 'Runtime': 1.0187842845916748, 'bleu1': -1, 'bleu2': -1, 'bleu3': -1, 'bleu4': -1}\n",
      "(0.9, 'threshold', 'COLUMN_WISE', None): {'Precision': 0.8105263157894737, 'Recall': 0.5833333333333334, 'F1 Score': 0.6784140969162996, 'Runtime': 1.036787509918213, 'bleu1': 0.8099082244808259, 'bleu2': 0.7603881066424467, 'bleu3': 0.7361576586079828, 'bleu4': 0.719170905705405}\n",
      "(0.8, 'threshold', 'COLUMN_WISE', None): {'Precision': 0.8211920529801324, 'Recall': 0.9393939393939394, 'F1 Score': 0.8763250883392226, 'Runtime': 1.136911153793335, 'bleu1': 0.9727556089946999, 'bleu2': 0.964784029218628, 'bleu3': 0.9603010022464545, 'bleu4': 0.9570555055932958}\n",
      "(0.7, 'threshold', 'COLUMN_WISE', None): {'Precision': 0.6804123711340206, 'Recall': 1.0, 'F1 Score': 0.8098159509202454, 'Runtime': 1.3441667556762695, 'bleu1': 1.0, 'bleu2': 1.0, 'bleu3': 1.0, 'bleu4': 1.0}\n"
     ]
    }
   ],
   "execution_count": 12
  },
  {
   "metadata": {
    "ExecuteTime": {
     "end_time": "2025-03-08T16:54:02.688155Z",
     "start_time": "2025-03-08T16:46:27.790104Z"
    }
   },
   "cell_type": "code",
   "source": [
    "res = evaluate(stem, lsv, method = \"zero-shot-prompting\", threshold = None, embedding_comparison = None, embedding_method = None)\n",
    "evaluation_results[res[0]] = res[1]"
   ],
   "id": "d5c48af0c73f7396",
   "outputs": [
    {
     "name": "stdout",
     "output_type": "stream",
     "text": [
      "(None, 'zero-shot-prompting', None, None): {'Precision': 0.7040816326530612, 'Recall': 0.5227272727272727, 'F1 Score': 0.6, 'Runtime': 447.9653444290161, 'bleu1': 0.8166178517939763, 'bleu2': 0.7683757500144516, 'bleu3': 0.7451108521427563, 'bleu4': 0.7285428371635542}\n"
     ]
    }
   ],
   "execution_count": 12
  },
  {
   "metadata": {
    "ExecuteTime": {
     "end_time": "2025-03-08T13:35:04.688496Z",
     "start_time": "2025-03-08T13:12:04.739118Z"
    }
   },
   "cell_type": "code",
   "source": [
    "for t in thresholds:\n",
    "    res = evaluate(stem, lsv, threshold = t, method = \"both\", embedding_comparison = \"RECORD_WISE\", embedding_method = \"FIELD_SERIALIZED\")\n",
    "    evaluation_results[res[0]] = res[1]\n",
    "    if res[1][\"Recall\"] == 1.0:\n",
    "        break"
   ],
   "id": "a555a124365f0a36",
   "outputs": [
    {
     "name": "stdout",
     "output_type": "stream",
     "text": [
      "(1.0, 'both', 'RECORD_WISE', 'FIELD_SERIALIZED'): {'Precision': 0, 'Recall': 0.0, 'F1 Score': 0, 'Runtime': 2.201704740524292, 'bleu1': -1, 'bleu2': -1, 'bleu3': -1, 'bleu4': -1}\n",
      "(0.9, 'both', 'RECORD_WISE', 'FIELD_SERIALIZED'): {'Precision': 0, 'Recall': 0.0, 'F1 Score': 0, 'Runtime': 0.4905233383178711, 'bleu1': -1, 'bleu2': -1, 'bleu3': -1, 'bleu4': -1}\n",
      "(0.8, 'both', 'RECORD_WISE', 'FIELD_SERIALIZED'): {'Precision': 0, 'Recall': 0.0, 'F1 Score': 0, 'Runtime': 0.5249264240264893, 'bleu1': -1, 'bleu2': -1, 'bleu3': -1, 'bleu4': -1}\n",
      "(0.7, 'both', 'RECORD_WISE', 'FIELD_SERIALIZED'): {'Precision': 0, 'Recall': 0.0, 'F1 Score': 0, 'Runtime': 0.5006089210510254, 'bleu1': -1, 'bleu2': -1, 'bleu3': -1, 'bleu4': -1}\n",
      "(0.6, 'both', 'RECORD_WISE', 'FIELD_SERIALIZED'): {'Precision': 0, 'Recall': 0.0, 'F1 Score': 0, 'Runtime': 0.5346734523773193, 'bleu1': -1, 'bleu2': -1, 'bleu3': -1, 'bleu4': -1}\n",
      "(0.5, 'both', 'RECORD_WISE', 'FIELD_SERIALIZED'): {'Precision': 0, 'Recall': 0.0, 'F1 Score': 0, 'Runtime': 0.5034594535827637, 'bleu1': -1, 'bleu2': -1, 'bleu3': -1, 'bleu4': -1}\n",
      "(0.4, 'both', 'RECORD_WISE', 'FIELD_SERIALIZED'): {'Precision': 0, 'Recall': 0.0, 'F1 Score': 0, 'Runtime': 2.6907806396484375, 'bleu1': -1, 'bleu2': -1, 'bleu3': -1, 'bleu4': -1}\n",
      "(0.3, 'both', 'RECORD_WISE', 'FIELD_SERIALIZED'): {'Precision': 0.8405797101449275, 'Recall': 0.4393939393939394, 'F1 Score': 0.5771144278606964, 'Runtime': 168.2384979724884, 'bleu1': 0.7487784072199798, 'bleu2': 0.6772687299423698, 'bleu3': 0.6452587600435008, 'bleu4': 0.6228339093573304}\n",
      "(0.2, 'both', 'RECORD_WISE', 'FIELD_SERIALIZED'): {'Precision': 0.7419354838709677, 'Recall': 0.5227272727272727, 'F1 Score': 0.6133333333333333, 'Runtime': 504.56748843193054, 'bleu1': 0.8189880350257117, 'bleu2': 0.7711328817183356, 'bleu3': 0.7496127583325314, 'bleu4': 0.7341756241398638}\n",
      "(0.1, 'both', 'RECORD_WISE', 'FIELD_SERIALIZED'): {'Precision': 0.6568627450980392, 'Recall': 0.5075757575757576, 'F1 Score': 0.5726495726495726, 'Runtime': 680.641783952713, 'bleu1': 0.7954900870176256, 'bleu2': 0.7387519527810673, 'bleu3': 0.7115134739893554, 'bleu4': 0.6926617682178916}\n"
     ]
    }
   ],
   "execution_count": 14
  },
  {
   "metadata": {
    "ExecuteTime": {
     "end_time": "2025-03-08T14:48:34.364924Z",
     "start_time": "2025-03-08T13:35:04.738292Z"
    }
   },
   "cell_type": "code",
   "source": [
    "for t in thresholds:\n",
    "    res = evaluate(stem, lsv, threshold = t, method = \"both\", embedding_comparison = \"RECORD_WISE\", embedding_method = \"FULL_SERIALIZED\")\n",
    "    evaluation_results[res[0]] = res[1]\n",
    "    if res[1][\"Recall\"] == 1.0:\n",
    "        break"
   ],
   "id": "c07a3158e5178e5",
   "outputs": [
    {
     "name": "stdout",
     "output_type": "stream",
     "text": [
      "(1.0, 'both', 'RECORD_WISE', 'FULL_SERIALIZED'): {'Precision': 0, 'Recall': 0.0, 'F1 Score': 0, 'Runtime': 1.7119879722595215, 'bleu1': -1, 'bleu2': -1, 'bleu3': -1, 'bleu4': -1}\n",
      "(0.9, 'both', 'RECORD_WISE', 'FULL_SERIALIZED'): {'Precision': 0, 'Recall': 0.0, 'F1 Score': 0, 'Runtime': 2.382183313369751, 'bleu1': -1, 'bleu2': -1, 'bleu3': -1, 'bleu4': -1}\n",
      "(0.8, 'both', 'RECORD_WISE', 'FULL_SERIALIZED'): {'Precision': 0.7634408602150538, 'Recall': 0.5378787878787878, 'F1 Score': 0.6311111111111111, 'Runtime': 230.46481084823608, 'bleu1': 0.8091357162524635, 'bleu2': 0.7582338081316166, 'bleu3': 0.7329722199339458, 'bleu4': 0.7147947382289851}\n",
      "(0.7, 'both', 'RECORD_WISE', 'FULL_SERIALIZED'): {'Precision': 0.71875, 'Recall': 0.5227272727272727, 'F1 Score': 0.6052631578947368, 'Runtime': 582.5686266422272, 'bleu1': 0.8128025953606497, 'bleu2': 0.7636547453904907, 'bleu3': 0.7392707462324616, 'bleu4': 0.7223206264585948}\n",
      "(0.6, 'both', 'RECORD_WISE', 'FULL_SERIALIZED'): {'Precision': 0.6792452830188679, 'Recall': 0.5454545454545454, 'F1 Score': 0.6050420168067228, 'Runtime': 589.3077607154846, 'bleu1': 0.8361996879060156, 'bleu2': 0.7929689689749032, 'bleu3': 0.7729684298966747, 'bleu4': 0.7587942737688737}\n",
      "(0.5, 'both', 'RECORD_WISE', 'FULL_SERIALIZED'): {'Precision': 0.6952380952380952, 'Recall': 0.553030303030303, 'F1 Score': 0.6160337552742615, 'Runtime': 595.5740947723389, 'bleu1': 0.8213946783263928, 'bleu2': 0.7758526557964508, 'bleu3': 0.7558031410991148, 'bleu4': 0.7416088154766772}\n",
      "(0.4, 'both', 'RECORD_WISE', 'FULL_SERIALIZED'): {'Precision': 0.6363636363636364, 'Recall': 0.5303030303030303, 'F1 Score': 0.578512396694215, 'Runtime': 602.9962389469147, 'bleu1': 0.8178742781583495, 'bleu2': 0.7658982422642144, 'bleu3': 0.7419298206857642, 'bleu4': 0.7261027583827281}\n",
      "(0.3, 'both', 'RECORD_WISE', 'FULL_SERIALIZED'): {'Precision': 0.625, 'Recall': 0.5303030303030303, 'F1 Score': 0.5737704918032787, 'Runtime': 584.9728388786316, 'bleu1': 0.8347855455317693, 'bleu2': 0.7914377125712939, 'bleu3': 0.7689407127018729, 'bleu4': 0.7527313644782798}\n",
      "(0.2, 'both', 'RECORD_WISE', 'FULL_SERIALIZED'): {'Precision': 0.7634408602150538, 'Recall': 0.5378787878787878, 'F1 Score': 0.6311111111111111, 'Runtime': 577.4469780921936, 'bleu1': 0.8139631641092171, 'bleu2': 0.7640015617032011, 'bleu3': 0.7401503589699449, 'bleu4': 0.7225946202090675}\n",
      "(0.1, 'both', 'RECORD_WISE', 'FULL_SERIALIZED'): {'Precision': 0.6804123711340206, 'Recall': 0.5, 'F1 Score': 0.5764192139737991, 'Runtime': 584.2045907974243, 'bleu1': 0.8026491269397295, 'bleu2': 0.754936001273043, 'bleu3': 0.7307277174422769, 'bleu4': 0.7127919678924836}\n"
     ]
    }
   ],
   "execution_count": 15
  },
  {
   "metadata": {
    "ExecuteTime": {
     "end_time": "2025-03-08T15:35:05.229096Z",
     "start_time": "2025-03-08T14:48:34.430317Z"
    }
   },
   "cell_type": "code",
   "source": [
    "for t in thresholds:\n",
    "    res = evaluate(stem, lsv, threshold = t, method = \"both\", embedding_comparison = \"COLUMN_WISE\", embedding_method = None)\n",
    "    evaluation_results[res[0]] = res[1]\n",
    "    if res[1][\"Recall\"] == 1.0:\n",
    "        break"
   ],
   "id": "1ec6d64c845dddbf",
   "outputs": [
    {
     "name": "stdout",
     "output_type": "stream",
     "text": [
      "(1.0, 'both', 'COLUMN_WISE', None): {'Precision': 0, 'Recall': 0.0, 'F1 Score': 0, 'Runtime': 1.9077739715576172, 'bleu1': -1, 'bleu2': -1, 'bleu3': -1, 'bleu4': -1}\n",
      "(0.9, 'both', 'COLUMN_WISE', None): {'Precision': 0.7843137254901961, 'Recall': 0.30303030303030304, 'F1 Score': 0.4371584699453552, 'Runtime': 88.06190299987793, 'bleu1': 0.6909997137565955, 'bleu2': 0.6064822302816835, 'bleu3': 0.5688032243799542, 'bleu4': 0.5417118299816917}\n",
      "(0.8, 'both', 'COLUMN_WISE', None): {'Precision': 0.8481012658227848, 'Recall': 0.5075757575757576, 'F1 Score': 0.6350710900473934, 'Runtime': 126.59877324104309, 'bleu1': 0.7899973431185057, 'bleu2': 0.731787098837809, 'bleu3': 0.7046718153065405, 'bleu4': 0.685944893118298}\n",
      "(0.7, 'both', 'COLUMN_WISE', None): {'Precision': 0.8089887640449438, 'Recall': 0.5454545454545454, 'F1 Score': 0.6515837104072397, 'Runtime': 129.05220818519592, 'bleu1': 0.8186039965165084, 'bleu2': 0.7706338567683519, 'bleu3': 0.7482203844076682, 'bleu4': 0.7322746594455944}\n",
      "(0.6, 'both', 'COLUMN_WISE', None): {'Precision': 0.7640449438202247, 'Recall': 0.5151515151515151, 'F1 Score': 0.6153846153846153, 'Runtime': 129.8130578994751, 'bleu1': 0.8066290796084664, 'bleu2': 0.754480509703573, 'bleu3': 0.7293209028984046, 'bleu4': 0.7108171649322581}\n",
      "(0.5, 'both', 'COLUMN_WISE', None): {'Precision': 0.7294117647058823, 'Recall': 0.4696969696969697, 'F1 Score': 0.5714285714285714, 'Runtime': 155.79261660575867, 'bleu1': 0.7895571699914298, 'bleu2': 0.731460302602549, 'bleu3': 0.7043355327703608, 'bleu4': 0.6851522308712683}\n",
      "(0.4, 'both', 'COLUMN_WISE', None): {'Precision': 0.7191011235955056, 'Recall': 0.48484848484848486, 'F1 Score': 0.5791855203619909, 'Runtime': 397.99812936782837, 'bleu1': 0.8046711959869908, 'bleu2': 0.7512158239579546, 'bleu3': 0.7239959848593771, 'bleu4': 0.7055408818231486}\n",
      "(0.3, 'both', 'COLUMN_WISE', None): {'Precision': 0.69, 'Recall': 0.5227272727272727, 'F1 Score': 0.5948275862068966, 'Runtime': 566.5776517391205, 'bleu1': 0.8102462336448111, 'bleu2': 0.7603683743204275, 'bleu3': 0.7365363033134406, 'bleu4': 0.7199014977030469}\n",
      "(0.2, 'both', 'COLUMN_WISE', None): {'Precision': 0.74, 'Recall': 0.5606060606060606, 'F1 Score': 0.6379310344827586, 'Runtime': 570.4585256576538, 'bleu1': 0.840506281372426, 'bleu2': 0.7988766819085281, 'bleu3': 0.7795674357714335, 'bleu4': 0.7659113100969634}\n",
      "(0.1, 'both', 'COLUMN_WISE', None): {'Precision': 0.69, 'Recall': 0.5227272727272727, 'F1 Score': 0.5948275862068966, 'Runtime': 569.2976713180542, 'bleu1': 0.8072748660757268, 'bleu2': 0.7561130758407847, 'bleu3': 0.7321131294401115, 'bleu4': 0.715489374100053}\n"
     ]
    }
   ],
   "execution_count": 16
  },
  {
   "metadata": {
    "ExecuteTime": {
     "end_time": "2025-03-08T16:20:30.656871Z",
     "start_time": "2025-03-08T16:20:30.647354Z"
    }
   },
   "cell_type": "code",
   "source": [
    "keys = [\"threshold\", \"method\", \"embedding_comparison\", \"embedding_method\"]\n",
    "evaluation_results_list = [v | {ki: vi for ki, vi in zip(keys, k)} for k, v in evaluation_results.items()]\n",
    "df_evaluation_results = pd.DataFrame.from_records(evaluation_results_list, index=keys)\n",
    "df_evaluation_results.head()"
   ],
   "id": "cfed7cd463feed0d",
   "outputs": [
    {
     "data": {
      "text/plain": [
       "                                                           Precision  Recall  \\\n",
       "threshold method    embedding_comparison embedding_method                      \n",
       "1.0       threshold RECORD_WISE          FIELD_SERIALIZED        0.0     0.0   \n",
       "0.9       threshold RECORD_WISE          FIELD_SERIALIZED        0.0     0.0   \n",
       "0.8       threshold RECORD_WISE          FIELD_SERIALIZED        0.0     0.0   \n",
       "0.7       threshold RECORD_WISE          FIELD_SERIALIZED        0.0     0.0   \n",
       "0.6       threshold RECORD_WISE          FIELD_SERIALIZED        0.0     0.0   \n",
       "\n",
       "                                                           F1 Score   Runtime  \\\n",
       "threshold method    embedding_comparison embedding_method                       \n",
       "1.0       threshold RECORD_WISE          FIELD_SERIALIZED       0.0  0.891951   \n",
       "0.9       threshold RECORD_WISE          FIELD_SERIALIZED       0.0  0.492512   \n",
       "0.8       threshold RECORD_WISE          FIELD_SERIALIZED       0.0  0.487332   \n",
       "0.7       threshold RECORD_WISE          FIELD_SERIALIZED       0.0  0.619905   \n",
       "0.6       threshold RECORD_WISE          FIELD_SERIALIZED       0.0  0.607469   \n",
       "\n",
       "                                                           bleu1  bleu2  \\\n",
       "threshold method    embedding_comparison embedding_method                 \n",
       "1.0       threshold RECORD_WISE          FIELD_SERIALIZED   -1.0   -1.0   \n",
       "0.9       threshold RECORD_WISE          FIELD_SERIALIZED   -1.0   -1.0   \n",
       "0.8       threshold RECORD_WISE          FIELD_SERIALIZED   -1.0   -1.0   \n",
       "0.7       threshold RECORD_WISE          FIELD_SERIALIZED   -1.0   -1.0   \n",
       "0.6       threshold RECORD_WISE          FIELD_SERIALIZED   -1.0   -1.0   \n",
       "\n",
       "                                                           bleu3  bleu4  \n",
       "threshold method    embedding_comparison embedding_method                \n",
       "1.0       threshold RECORD_WISE          FIELD_SERIALIZED   -1.0   -1.0  \n",
       "0.9       threshold RECORD_WISE          FIELD_SERIALIZED   -1.0   -1.0  \n",
       "0.8       threshold RECORD_WISE          FIELD_SERIALIZED   -1.0   -1.0  \n",
       "0.7       threshold RECORD_WISE          FIELD_SERIALIZED   -1.0   -1.0  \n",
       "0.6       threshold RECORD_WISE          FIELD_SERIALIZED   -1.0   -1.0  "
      ],
      "text/html": [
       "<div>\n",
       "<style scoped>\n",
       "    .dataframe tbody tr th:only-of-type {\n",
       "        vertical-align: middle;\n",
       "    }\n",
       "\n",
       "    .dataframe tbody tr th {\n",
       "        vertical-align: top;\n",
       "    }\n",
       "\n",
       "    .dataframe thead th {\n",
       "        text-align: right;\n",
       "    }\n",
       "</style>\n",
       "<table border=\"1\" class=\"dataframe\">\n",
       "  <thead>\n",
       "    <tr style=\"text-align: right;\">\n",
       "      <th></th>\n",
       "      <th></th>\n",
       "      <th></th>\n",
       "      <th></th>\n",
       "      <th>Precision</th>\n",
       "      <th>Recall</th>\n",
       "      <th>F1 Score</th>\n",
       "      <th>Runtime</th>\n",
       "      <th>bleu1</th>\n",
       "      <th>bleu2</th>\n",
       "      <th>bleu3</th>\n",
       "      <th>bleu4</th>\n",
       "    </tr>\n",
       "    <tr>\n",
       "      <th>threshold</th>\n",
       "      <th>method</th>\n",
       "      <th>embedding_comparison</th>\n",
       "      <th>embedding_method</th>\n",
       "      <th></th>\n",
       "      <th></th>\n",
       "      <th></th>\n",
       "      <th></th>\n",
       "      <th></th>\n",
       "      <th></th>\n",
       "      <th></th>\n",
       "      <th></th>\n",
       "    </tr>\n",
       "  </thead>\n",
       "  <tbody>\n",
       "    <tr>\n",
       "      <th>1.0</th>\n",
       "      <th>threshold</th>\n",
       "      <th>RECORD_WISE</th>\n",
       "      <th>FIELD_SERIALIZED</th>\n",
       "      <td>0.0</td>\n",
       "      <td>0.0</td>\n",
       "      <td>0.0</td>\n",
       "      <td>0.891951</td>\n",
       "      <td>-1.0</td>\n",
       "      <td>-1.0</td>\n",
       "      <td>-1.0</td>\n",
       "      <td>-1.0</td>\n",
       "    </tr>\n",
       "    <tr>\n",
       "      <th>0.9</th>\n",
       "      <th>threshold</th>\n",
       "      <th>RECORD_WISE</th>\n",
       "      <th>FIELD_SERIALIZED</th>\n",
       "      <td>0.0</td>\n",
       "      <td>0.0</td>\n",
       "      <td>0.0</td>\n",
       "      <td>0.492512</td>\n",
       "      <td>-1.0</td>\n",
       "      <td>-1.0</td>\n",
       "      <td>-1.0</td>\n",
       "      <td>-1.0</td>\n",
       "    </tr>\n",
       "    <tr>\n",
       "      <th>0.8</th>\n",
       "      <th>threshold</th>\n",
       "      <th>RECORD_WISE</th>\n",
       "      <th>FIELD_SERIALIZED</th>\n",
       "      <td>0.0</td>\n",
       "      <td>0.0</td>\n",
       "      <td>0.0</td>\n",
       "      <td>0.487332</td>\n",
       "      <td>-1.0</td>\n",
       "      <td>-1.0</td>\n",
       "      <td>-1.0</td>\n",
       "      <td>-1.0</td>\n",
       "    </tr>\n",
       "    <tr>\n",
       "      <th>0.7</th>\n",
       "      <th>threshold</th>\n",
       "      <th>RECORD_WISE</th>\n",
       "      <th>FIELD_SERIALIZED</th>\n",
       "      <td>0.0</td>\n",
       "      <td>0.0</td>\n",
       "      <td>0.0</td>\n",
       "      <td>0.619905</td>\n",
       "      <td>-1.0</td>\n",
       "      <td>-1.0</td>\n",
       "      <td>-1.0</td>\n",
       "      <td>-1.0</td>\n",
       "    </tr>\n",
       "    <tr>\n",
       "      <th>0.6</th>\n",
       "      <th>threshold</th>\n",
       "      <th>RECORD_WISE</th>\n",
       "      <th>FIELD_SERIALIZED</th>\n",
       "      <td>0.0</td>\n",
       "      <td>0.0</td>\n",
       "      <td>0.0</td>\n",
       "      <td>0.607469</td>\n",
       "      <td>-1.0</td>\n",
       "      <td>-1.0</td>\n",
       "      <td>-1.0</td>\n",
       "      <td>-1.0</td>\n",
       "    </tr>\n",
       "  </tbody>\n",
       "</table>\n",
       "</div>"
      ]
     },
     "execution_count": 37,
     "metadata": {},
     "output_type": "execute_result"
    }
   ],
   "execution_count": 37
  },
  {
   "metadata": {
    "ExecuteTime": {
     "end_time": "2025-03-08T16:21:07.005253Z",
     "start_time": "2025-03-08T16:21:07.002159Z"
    }
   },
   "cell_type": "code",
   "source": "df_evaluation_results.to_csv(\"results/EvaluationDataIntegration.csv\")",
   "id": "7d1e4c7a32f20162",
   "outputs": [],
   "execution_count": 38
  }
 ],
 "metadata": {
  "kernelspec": {
   "display_name": "Python 3",
   "language": "python",
   "name": "python3"
  },
  "language_info": {
   "codemirror_mode": {
    "name": "ipython",
    "version": 2
   },
   "file_extension": ".py",
   "mimetype": "text/x-python",
   "name": "python",
   "nbconvert_exporter": "python",
   "pygments_lexer": "ipython2",
   "version": "2.7.6"
  }
 },
 "nbformat": 4,
 "nbformat_minor": 5
}
