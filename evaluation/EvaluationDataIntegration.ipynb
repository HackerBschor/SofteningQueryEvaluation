{
 "cells": [
  {
   "metadata": {},
   "cell_type": "markdown",
   "source": [
    "# Evaluation of Data Integration\n",
    "\n",
    "In this notebook, we evaluate how effective two relations can be integrated using the soft join operator.\n",
    "Therefore, we utilize the [Datasets for DeepMatcher paper](https://github.com/anhaidgroup/deepmatcher/blob/master/Datasets.md).\n",
    "\n",
    "The datasets contain two relations with the same entities from two different sources.\n",
    "E.g. `iTunes-Amazon` contains song records obtained from iTunes and Amazon. So, the task is to identify same songs.\n",
    "\n",
    "To test different Models, datasets, ..., there are parameters in the [modifications](#modifications) section.\n",
    "**Modfy Code in [Modifications](#modifications) Section Only!**\n",
    "\n",
    "We calculate:\n",
    "* $ TP = \\text{True Matches} \\cap \\text{Predicted Matches} $\n",
    "* $ FN = \\text{True Matches} \\setminus \\text{Predicted Matches} $\n",
    "* $ FP = \\text{Predicted Matches} \\setminus \\text{True Matches} $\n",
    "\n",
    "To determine the scores:\n",
    "* $ Precision = \\frac{TP}{TP + FP}$\n",
    "* $ Recall = \\frac{TP}{TP + FN}$\n",
    "* $ F_1 = \\frac{2 \\cdot precision \\cdot recall}{precision + recall} $\n",
    "* BLEU 1-4\n",
    "\n",
    "## Imports"
   ],
   "id": "1425ff15ce177929"
  },
  {
   "cell_type": "code",
   "id": "initial_id",
   "metadata": {
    "collapsed": true,
    "ExecuteTime": {
     "end_time": "2025-03-05T15:11:33.572572Z",
     "start_time": "2025-03-05T15:11:33.564966Z"
    }
   },
   "source": [
    "import os\n",
    "import tqdm\n",
    "import requests\n",
    "import zipfile\n",
    "\n",
    "import pandas as pd\n",
    "import numpy as np\n",
    "\n",
    "from db.operators import Dummy, InnerSoftJoin\n",
    "\n",
    "from models import ModelMgr\n",
    "from models.embedding.SentenceTransformer import SentenceTransformerEmbeddingModel\n",
    "from models.semantic_validation import LLaMAValidationModel\n",
    "\n",
    "import nltk\n",
    "from nltk.translate.bleu_score import sentence_bleu\n",
    "from nltk.tokenize import word_tokenize\n",
    "from nltk.translate.bleu_score import SmoothingFunction\n",
    "\n",
    "nltk.download('punkt')\n",
    "nltk.download('punkt_tab')"
   ],
   "outputs": [
    {
     "name": "stderr",
     "output_type": "stream",
     "text": [
      "[nltk_data] Downloading package punkt to /home/nico/nltk_data...\n",
      "[nltk_data]   Package punkt is already up-to-date!\n",
      "[nltk_data] Downloading package punkt_tab to /home/nico/nltk_data...\n",
      "[nltk_data]   Package punkt_tab is already up-to-date!\n"
     ]
    },
    {
     "data": {
      "text/plain": [
       "True"
      ]
     },
     "execution_count": 11,
     "metadata": {},
     "output_type": "execute_result"
    }
   ],
   "execution_count": 11
  },
  {
   "metadata": {},
   "cell_type": "markdown",
   "source": "## Modifications",
   "id": "1a101cc81dbda208"
  },
  {
   "metadata": {
    "ExecuteTime": {
     "end_time": "2025-03-05T15:11:34.834084Z",
     "start_time": "2025-03-05T15:11:33.577359Z"
    }
   },
   "cell_type": "code",
   "source": [
    "dataset = (\"Structured\", \"iTunes-Amazon\") # The tested dataset\n",
    "data_path = \"../data/\"  # Data Path (usually remains unchanged)\n",
    "\n",
    "# Models\n",
    "m = ModelMgr()\n",
    "stem = SentenceTransformerEmbeddingModel(m)\n",
    "sv = LLaMAValidationModel(m)\n",
    "\n",
    "threshold = 0.80\n",
    "method = \"threshold\"\n",
    "embedding_comparison = \"COLUMN_WISE\"\n",
    "\n",
    "significant_columns_left = [\"Album_Name\", \"Artist_Name\", \"Released\", \"Song_Name\", \"Time\"]\n",
    "significant_columns_right = [\"Album_Name\", \"Artist_Name\", \"Released\", \"Song_Name\", \"Time\"]\n",
    "# significant_columns_left, significant_columns_right = [\"BeerName\"], [\"BeerName\"]"
   ],
   "id": "859c939303fa398b",
   "outputs": [
    {
     "data": {
      "text/plain": [
       "Loading checkpoint shards:   0%|          | 0/2 [00:00<?, ?it/s]"
      ],
      "application/vnd.jupyter.widget-view+json": {
       "version_major": 2,
       "version_minor": 0,
       "model_id": "7576c5da3ab24917a5a53c4d6fcc3104"
      }
     },
     "metadata": {},
     "output_type": "display_data"
    }
   ],
   "execution_count": 12
  },
  {
   "metadata": {},
   "cell_type": "markdown",
   "source": "## Function and Dataset Declarations",
   "id": "65bb6e8e066b043"
  },
  {
   "metadata": {
    "ExecuteTime": {
     "end_time": "2025-03-05T15:11:34.843553Z",
     "start_time": "2025-03-05T15:11:34.841620Z"
    }
   },
   "cell_type": "code",
   "source": [
    "# Available Dataset with meta data\n",
    "\n",
    "datasets = {\n",
    "    \"Structured\": {\n",
    "        \"Beer\": {\"filename\": \"beer_raw_data.zip\",  \"matches\": \"labeled_data.csv\", \"key_column\": \"Label\", \"label_column\": \"gold\", \"drop_columns\": [\"_id\"]},\n",
    "        \"iTunes-Amazon\": {\"filename\": \"itunes_amazon_raw_data.zip\",  \"matches\": \"labeled_data.csv\", \"key_column\": \"Sno\", \"label_column\": \"label\", \"drop_columns\": [\"Unnamed: 0\", \"_id\"]},\n",
    "        \"Fodors-Zagats\": \"fodors_zagat_raw_data.zip\",\n",
    "        \"DBLP-ACM\": \"dblp_acm_raw_data.zip\",\n",
    "        \"DBLP-GoogleScholar\": \"dblp_scholar_raw_data.zip\",\n",
    "        \"Amazon-Google\": \"amazon_google_raw_data.zip\",\n",
    "        \"Walmart-Amazon\": \"walmart_amazon_raw_data.zip\",\n",
    "    },\n",
    "    \"Textual\": {\n",
    "        \"Abt-Buy\": \"abt_buy_raw_data.zip\",\n",
    "        \"Company\": \"company_raw_data.zip\"\n",
    "    }\n",
    "}\n",
    "\n",
    "dataset_data = datasets[dataset[0]][dataset[1]]"
   ],
   "id": "1891bdb398cac572",
   "outputs": [],
   "execution_count": 13
  },
  {
   "metadata": {
    "ExecuteTime": {
     "end_time": "2025-03-05T15:11:34.949632Z",
     "start_time": "2025-03-05T15:11:34.896871Z"
    }
   },
   "cell_type": "code",
   "source": [
    "def compute_bleu_representativeness(input_dataset, integrated_dataset, use_n_grams=4, smoothing_function = SmoothingFunction().method1):\n",
    "    \"\"\"\n",
    "    Compute BLEU-based representativeness score between input and integrated datasets.\n",
    "\n",
    "    :param input_dataset: List of text entries from the input dataset\n",
    "    :param integrated_dataset: List of text entries from the integrated dataset\n",
    "    :param use_n_grams: Number of n-grams to use (BLEU 1, 2, 3, 4)\n",
    "    :param smoothing_function: Smoothing function to use for computing BLEU\n",
    "    :return: Average BLEU score as the representativeness measure\n",
    "    \"\"\"\n",
    "    assert use_n_grams in (1,2,3,4)\n",
    "    weights = np.array([0., 0., 0., 0.])\n",
    "    weights[:use_n_grams] = 1.0/float(use_n_grams)\n",
    "\n",
    "    integrated_tokens = [word_tokenize(entry.lower()) for entry in integrated_dataset]\n",
    "    input_tokens = [word_tokenize(entry.lower()) for entry in input_dataset]\n",
    "\n",
    "    bleu_scores = []\n",
    "\n",
    "    for input_entry in input_tokens:\n",
    "        item_bleu_scores = max([sentence_bleu([integrated_entry], input_entry, smoothing_function=smoothing_function, weights=weights) for integrated_entry in integrated_tokens])\n",
    "        bleu_scores.append(item_bleu_scores)\n",
    "\n",
    "    return np.average(bleu_scores)\n",
    "\n",
    "def download_file(url, save_file):\n",
    "    \"\"\"\n",
    "    Download deep matcher dataset\n",
    "\n",
    "    :param url: URL to download from\n",
    "    :param save_file: File to save to\n",
    "    \"\"\"\n",
    "    with requests.get(url, stream=True) as response:\n",
    "        response.raise_for_status()\n",
    "        with open(save_file, \"wb\") as file:\n",
    "            for chunk in response.iter_content(chunk_size=8192):\n",
    "                file.write(chunk)\n",
    "\n",
    "def process_dataset(ds):\n",
    "    \"\"\"\n",
    "    Download deep matcher dataset and return DataFrame with joined data\n",
    "\n",
    "    :param ds: The dataset which will be downloaded and processed\n",
    "    \"\"\"\n",
    "    url = f\"https://pages.cs.wisc.edu/~anhai/data1/deepmatcher_data/{ds[0]}/{ds[1]}/{dataset_data[\"filename\"]}\"\n",
    "    save_path = f\"{data_path}{dataset[0]}/{dataset[1]}/\"\n",
    "    save_file = save_path + dataset_data[\"filename\"]\n",
    "\n",
    "    os.makedirs(save_path, exist_ok=True)\n",
    "\n",
    "    if not os.path.exists(save_file):\n",
    "        download_file(url, save_file)\n",
    "\n",
    "    # Unzip the file\n",
    "    with zipfile.ZipFile(save_file, \"r\") as zip_ref:\n",
    "        zip_ref.extractall(save_path)\n",
    "\n",
    "    #pd.read_csv(save_path + dataset_data[\"tableA\"], encoding=\"unicode_escape\"),\n",
    "    #pd.read_csv(save_path + dataset_data[\"tableB\"], encoding=\"unicode_escape\"),\n",
    "\n",
    "    return pd.read_csv(save_path + dataset_data[\"matches\"], encoding=\"unicode_escape\", skiprows=5)\n",
    "\n",
    "\n",
    "#table_a, table_b, matches = process_dataset(dataset)\n",
    "candidates = process_dataset(dataset) # table_a.head(), table_b.head()\n",
    "candidates.head()"
   ],
   "id": "86a7b0843d549ced",
   "outputs": [
    {
     "data": {
      "text/plain": [
       "   Unnamed: 0   _id  ltable.Sno  rtable.Sno  \\\n",
       "0         916   916         111       53124   \n",
       "1        1053  1053         148       50767   \n",
       "2        1290  1290         206       41214   \n",
       "3        1424  1424         211       19812   \n",
       "4        1706  1706         250       53111   \n",
       "\n",
       "                     ltable.Album_Name ltable.Artist_Name  \\\n",
       "0                                  vhs      x ambassadors   \n",
       "1                       title (deluxe)     meghan trainor   \n",
       "2                  slow down (remixes)       selena gomez   \n",
       "3  slow down (reggae remixes) - single       selena gomez   \n",
       "4                                  vhs      x ambassadors   \n",
       "\n",
       "                                    ltable.CopyRight ltable.Released  \\\n",
       "0               2015 kidinakorner/interscope records       30-Jun-15   \n",
       "1   2014, 2015 epic records, a division of sony m...        9-Jan-15   \n",
       "2                       2013 hollywood records, inc.       20-Aug-13   \n",
       "3                       2013 hollywood records, inc.       20-Aug-13   \n",
       "4               2015 kidinakorner/interscope records       30-Jun-15   \n",
       "\n",
       "                                 ltable.Song_Name ltable.Time  \\\n",
       "0                           vhs outro (interlude)        1:25   \n",
       "1                                          credit        2:51   \n",
       "2                    slow down (smash mode remix)        5:21   \n",
       "3  slow down (sure shot rockers reggae dub remix)        3:15   \n",
       "4                           vhs outro (interlude)        1:25   \n",
       "\n",
       "        rtable.Album_Name rtable.Artist_Name  \\\n",
       "0          vhs [explicit]      x ambassadors   \n",
       "1          title (deluxe)     meghan trainor   \n",
       "2       slow down remixes       selena gomez   \n",
       "3  good for you (remixes)       selena gomez   \n",
       "4          vhs [explicit]      x ambassadors   \n",
       "\n",
       "                                    rtable.CopyRight     rtable.Released  \\\n",
       "0           (c) 2015 kidinakorner/interscope records       June 30, 2015   \n",
       "1   2011 what a music ltd, licence exclusive parl...     January 9, 2015   \n",
       "2                   (c) 2013 hollywood records, inc.     August 20, 2013   \n",
       "3                        (c) 2015 interscope records   September 4, 2015   \n",
       "4           (c) 2015 kidinakorner/interscope records       June 30, 2015   \n",
       "\n",
       "                                    rtable.Song_Name rtable.Time  label  \n",
       "0                   vhs outro (interlude) [explicit]        1:25      1  \n",
       "1                                             credit        2:51      1  \n",
       "2                       slow down (smash mode remix)        5:21      1  \n",
       "3  good for you (yellow claw & cesqeaux remix) [f...        3:01      0  \n",
       "4                             first show (interlude)        0:11      0  "
      ],
      "text/html": [
       "<div>\n",
       "<style scoped>\n",
       "    .dataframe tbody tr th:only-of-type {\n",
       "        vertical-align: middle;\n",
       "    }\n",
       "\n",
       "    .dataframe tbody tr th {\n",
       "        vertical-align: top;\n",
       "    }\n",
       "\n",
       "    .dataframe thead th {\n",
       "        text-align: right;\n",
       "    }\n",
       "</style>\n",
       "<table border=\"1\" class=\"dataframe\">\n",
       "  <thead>\n",
       "    <tr style=\"text-align: right;\">\n",
       "      <th></th>\n",
       "      <th>Unnamed: 0</th>\n",
       "      <th>_id</th>\n",
       "      <th>ltable.Sno</th>\n",
       "      <th>rtable.Sno</th>\n",
       "      <th>ltable.Album_Name</th>\n",
       "      <th>ltable.Artist_Name</th>\n",
       "      <th>ltable.CopyRight</th>\n",
       "      <th>ltable.Released</th>\n",
       "      <th>ltable.Song_Name</th>\n",
       "      <th>ltable.Time</th>\n",
       "      <th>rtable.Album_Name</th>\n",
       "      <th>rtable.Artist_Name</th>\n",
       "      <th>rtable.CopyRight</th>\n",
       "      <th>rtable.Released</th>\n",
       "      <th>rtable.Song_Name</th>\n",
       "      <th>rtable.Time</th>\n",
       "      <th>label</th>\n",
       "    </tr>\n",
       "  </thead>\n",
       "  <tbody>\n",
       "    <tr>\n",
       "      <th>0</th>\n",
       "      <td>916</td>\n",
       "      <td>916</td>\n",
       "      <td>111</td>\n",
       "      <td>53124</td>\n",
       "      <td>vhs</td>\n",
       "      <td>x ambassadors</td>\n",
       "      <td>2015 kidinakorner/interscope records</td>\n",
       "      <td>30-Jun-15</td>\n",
       "      <td>vhs outro (interlude)</td>\n",
       "      <td>1:25</td>\n",
       "      <td>vhs [explicit]</td>\n",
       "      <td>x ambassadors</td>\n",
       "      <td>(c) 2015 kidinakorner/interscope records</td>\n",
       "      <td>June 30, 2015</td>\n",
       "      <td>vhs outro (interlude) [explicit]</td>\n",
       "      <td>1:25</td>\n",
       "      <td>1</td>\n",
       "    </tr>\n",
       "    <tr>\n",
       "      <th>1</th>\n",
       "      <td>1053</td>\n",
       "      <td>1053</td>\n",
       "      <td>148</td>\n",
       "      <td>50767</td>\n",
       "      <td>title (deluxe)</td>\n",
       "      <td>meghan trainor</td>\n",
       "      <td>2014, 2015 epic records, a division of sony m...</td>\n",
       "      <td>9-Jan-15</td>\n",
       "      <td>credit</td>\n",
       "      <td>2:51</td>\n",
       "      <td>title (deluxe)</td>\n",
       "      <td>meghan trainor</td>\n",
       "      <td>2011 what a music ltd, licence exclusive parl...</td>\n",
       "      <td>January 9, 2015</td>\n",
       "      <td>credit</td>\n",
       "      <td>2:51</td>\n",
       "      <td>1</td>\n",
       "    </tr>\n",
       "    <tr>\n",
       "      <th>2</th>\n",
       "      <td>1290</td>\n",
       "      <td>1290</td>\n",
       "      <td>206</td>\n",
       "      <td>41214</td>\n",
       "      <td>slow down (remixes)</td>\n",
       "      <td>selena gomez</td>\n",
       "      <td>2013 hollywood records, inc.</td>\n",
       "      <td>20-Aug-13</td>\n",
       "      <td>slow down (smash mode remix)</td>\n",
       "      <td>5:21</td>\n",
       "      <td>slow down remixes</td>\n",
       "      <td>selena gomez</td>\n",
       "      <td>(c) 2013 hollywood records, inc.</td>\n",
       "      <td>August 20, 2013</td>\n",
       "      <td>slow down (smash mode remix)</td>\n",
       "      <td>5:21</td>\n",
       "      <td>1</td>\n",
       "    </tr>\n",
       "    <tr>\n",
       "      <th>3</th>\n",
       "      <td>1424</td>\n",
       "      <td>1424</td>\n",
       "      <td>211</td>\n",
       "      <td>19812</td>\n",
       "      <td>slow down (reggae remixes) - single</td>\n",
       "      <td>selena gomez</td>\n",
       "      <td>2013 hollywood records, inc.</td>\n",
       "      <td>20-Aug-13</td>\n",
       "      <td>slow down (sure shot rockers reggae dub remix)</td>\n",
       "      <td>3:15</td>\n",
       "      <td>good for you (remixes)</td>\n",
       "      <td>selena gomez</td>\n",
       "      <td>(c) 2015 interscope records</td>\n",
       "      <td>September 4, 2015</td>\n",
       "      <td>good for you (yellow claw &amp; cesqeaux remix) [f...</td>\n",
       "      <td>3:01</td>\n",
       "      <td>0</td>\n",
       "    </tr>\n",
       "    <tr>\n",
       "      <th>4</th>\n",
       "      <td>1706</td>\n",
       "      <td>1706</td>\n",
       "      <td>250</td>\n",
       "      <td>53111</td>\n",
       "      <td>vhs</td>\n",
       "      <td>x ambassadors</td>\n",
       "      <td>2015 kidinakorner/interscope records</td>\n",
       "      <td>30-Jun-15</td>\n",
       "      <td>vhs outro (interlude)</td>\n",
       "      <td>1:25</td>\n",
       "      <td>vhs [explicit]</td>\n",
       "      <td>x ambassadors</td>\n",
       "      <td>(c) 2015 kidinakorner/interscope records</td>\n",
       "      <td>June 30, 2015</td>\n",
       "      <td>first show (interlude)</td>\n",
       "      <td>0:11</td>\n",
       "      <td>0</td>\n",
       "    </tr>\n",
       "  </tbody>\n",
       "</table>\n",
       "</div>"
      ]
     },
     "execution_count": 14,
     "metadata": {},
     "output_type": "execute_result"
    }
   ],
   "execution_count": 14
  },
  {
   "metadata": {},
   "cell_type": "markdown",
   "source": [
    "## Evaluation\n",
    "\n",
    "### Determine Matching Set and Data"
   ],
   "id": "aa943e9d62a359cb"
  },
  {
   "metadata": {
    "ExecuteTime": {
     "end_time": "2025-03-05T15:11:34.971675Z",
     "start_time": "2025-03-05T15:11:34.964669Z"
    }
   },
   "cell_type": "code",
   "source": [
    "matches = candidates[candidates[dataset_data[\"label_column\"]] == 1]\n",
    "matches = matches.drop(columns=dataset_data[\"drop_columns\"])\n",
    "\n",
    "gt = {(x[f\"ltable.{dataset_data['key_column']}\"], x[f\"rtable.{dataset_data['key_column']}\"]) for _, x in matches.iterrows()}\n",
    "print(str(gt)[0: 50], \"...\")\n",
    "\n",
    "matches.head()"
   ],
   "id": "68c19cad3744d936",
   "outputs": [
    {
     "name": "stdout",
     "output_type": "stream",
     "text": [
      "{(2743, 17193), (6533, 38335), (5713, 35091), (149 ...\n"
     ]
    },
    {
     "data": {
      "text/plain": [
       "   ltable.Sno  rtable.Sno    ltable.Album_Name ltable.Artist_Name  \\\n",
       "0         111       53124                  vhs      x ambassadors   \n",
       "1         148       50767       title (deluxe)     meghan trainor   \n",
       "2         206       41214  slow down (remixes)       selena gomez   \n",
       "5         250       53124                  vhs      x ambassadors   \n",
       "7         252       53004                  vhs      x ambassadors   \n",
       "\n",
       "                                    ltable.CopyRight ltable.Released  \\\n",
       "0               2015 kidinakorner/interscope records       30-Jun-15   \n",
       "1   2014, 2015 epic records, a division of sony m...        9-Jan-15   \n",
       "2                       2013 hollywood records, inc.       20-Aug-13   \n",
       "5               2015 kidinakorner/interscope records       30-Jun-15   \n",
       "7               2015 kidinakorner/interscope records       30-Jun-15   \n",
       "\n",
       "               ltable.Song_Name ltable.Time  rtable.Album_Name  \\\n",
       "0         vhs outro (interlude)        1:25     vhs [explicit]   \n",
       "1                        credit        2:51     title (deluxe)   \n",
       "2  slow down (smash mode remix)        5:21  slow down remixes   \n",
       "5         vhs outro (interlude)        1:25     vhs [explicit]   \n",
       "7         vhs outro (interlude)        1:25               vhs    \n",
       "\n",
       "  rtable.Artist_Name                                   rtable.CopyRight  \\\n",
       "0      x ambassadors           (c) 2015 kidinakorner/interscope records   \n",
       "1     meghan trainor   2011 what a music ltd, licence exclusive parl...   \n",
       "2       selena gomez                   (c) 2013 hollywood records, inc.   \n",
       "5      x ambassadors           (c) 2015 kidinakorner/interscope records   \n",
       "7      x ambassadors           (c) 2015 kidinakorner/interscope records   \n",
       "\n",
       "    rtable.Released                  rtable.Song_Name rtable.Time  label  \n",
       "0     June 30, 2015  vhs outro (interlude) [explicit]        1:25      1  \n",
       "1   January 9, 2015                            credit        2:51      1  \n",
       "2   August 20, 2013      slow down (smash mode remix)        5:21      1  \n",
       "5     June 30, 2015  vhs outro (interlude) [explicit]        1:25      1  \n",
       "7     June 30, 2015            vhs outro (interlude)         1:26      1  "
      ],
      "text/html": [
       "<div>\n",
       "<style scoped>\n",
       "    .dataframe tbody tr th:only-of-type {\n",
       "        vertical-align: middle;\n",
       "    }\n",
       "\n",
       "    .dataframe tbody tr th {\n",
       "        vertical-align: top;\n",
       "    }\n",
       "\n",
       "    .dataframe thead th {\n",
       "        text-align: right;\n",
       "    }\n",
       "</style>\n",
       "<table border=\"1\" class=\"dataframe\">\n",
       "  <thead>\n",
       "    <tr style=\"text-align: right;\">\n",
       "      <th></th>\n",
       "      <th>ltable.Sno</th>\n",
       "      <th>rtable.Sno</th>\n",
       "      <th>ltable.Album_Name</th>\n",
       "      <th>ltable.Artist_Name</th>\n",
       "      <th>ltable.CopyRight</th>\n",
       "      <th>ltable.Released</th>\n",
       "      <th>ltable.Song_Name</th>\n",
       "      <th>ltable.Time</th>\n",
       "      <th>rtable.Album_Name</th>\n",
       "      <th>rtable.Artist_Name</th>\n",
       "      <th>rtable.CopyRight</th>\n",
       "      <th>rtable.Released</th>\n",
       "      <th>rtable.Song_Name</th>\n",
       "      <th>rtable.Time</th>\n",
       "      <th>label</th>\n",
       "    </tr>\n",
       "  </thead>\n",
       "  <tbody>\n",
       "    <tr>\n",
       "      <th>0</th>\n",
       "      <td>111</td>\n",
       "      <td>53124</td>\n",
       "      <td>vhs</td>\n",
       "      <td>x ambassadors</td>\n",
       "      <td>2015 kidinakorner/interscope records</td>\n",
       "      <td>30-Jun-15</td>\n",
       "      <td>vhs outro (interlude)</td>\n",
       "      <td>1:25</td>\n",
       "      <td>vhs [explicit]</td>\n",
       "      <td>x ambassadors</td>\n",
       "      <td>(c) 2015 kidinakorner/interscope records</td>\n",
       "      <td>June 30, 2015</td>\n",
       "      <td>vhs outro (interlude) [explicit]</td>\n",
       "      <td>1:25</td>\n",
       "      <td>1</td>\n",
       "    </tr>\n",
       "    <tr>\n",
       "      <th>1</th>\n",
       "      <td>148</td>\n",
       "      <td>50767</td>\n",
       "      <td>title (deluxe)</td>\n",
       "      <td>meghan trainor</td>\n",
       "      <td>2014, 2015 epic records, a division of sony m...</td>\n",
       "      <td>9-Jan-15</td>\n",
       "      <td>credit</td>\n",
       "      <td>2:51</td>\n",
       "      <td>title (deluxe)</td>\n",
       "      <td>meghan trainor</td>\n",
       "      <td>2011 what a music ltd, licence exclusive parl...</td>\n",
       "      <td>January 9, 2015</td>\n",
       "      <td>credit</td>\n",
       "      <td>2:51</td>\n",
       "      <td>1</td>\n",
       "    </tr>\n",
       "    <tr>\n",
       "      <th>2</th>\n",
       "      <td>206</td>\n",
       "      <td>41214</td>\n",
       "      <td>slow down (remixes)</td>\n",
       "      <td>selena gomez</td>\n",
       "      <td>2013 hollywood records, inc.</td>\n",
       "      <td>20-Aug-13</td>\n",
       "      <td>slow down (smash mode remix)</td>\n",
       "      <td>5:21</td>\n",
       "      <td>slow down remixes</td>\n",
       "      <td>selena gomez</td>\n",
       "      <td>(c) 2013 hollywood records, inc.</td>\n",
       "      <td>August 20, 2013</td>\n",
       "      <td>slow down (smash mode remix)</td>\n",
       "      <td>5:21</td>\n",
       "      <td>1</td>\n",
       "    </tr>\n",
       "    <tr>\n",
       "      <th>5</th>\n",
       "      <td>250</td>\n",
       "      <td>53124</td>\n",
       "      <td>vhs</td>\n",
       "      <td>x ambassadors</td>\n",
       "      <td>2015 kidinakorner/interscope records</td>\n",
       "      <td>30-Jun-15</td>\n",
       "      <td>vhs outro (interlude)</td>\n",
       "      <td>1:25</td>\n",
       "      <td>vhs [explicit]</td>\n",
       "      <td>x ambassadors</td>\n",
       "      <td>(c) 2015 kidinakorner/interscope records</td>\n",
       "      <td>June 30, 2015</td>\n",
       "      <td>vhs outro (interlude) [explicit]</td>\n",
       "      <td>1:25</td>\n",
       "      <td>1</td>\n",
       "    </tr>\n",
       "    <tr>\n",
       "      <th>7</th>\n",
       "      <td>252</td>\n",
       "      <td>53004</td>\n",
       "      <td>vhs</td>\n",
       "      <td>x ambassadors</td>\n",
       "      <td>2015 kidinakorner/interscope records</td>\n",
       "      <td>30-Jun-15</td>\n",
       "      <td>vhs outro (interlude)</td>\n",
       "      <td>1:25</td>\n",
       "      <td>vhs</td>\n",
       "      <td>x ambassadors</td>\n",
       "      <td>(c) 2015 kidinakorner/interscope records</td>\n",
       "      <td>June 30, 2015</td>\n",
       "      <td>vhs outro (interlude)</td>\n",
       "      <td>1:26</td>\n",
       "      <td>1</td>\n",
       "    </tr>\n",
       "  </tbody>\n",
       "</table>\n",
       "</div>"
      ]
     },
     "execution_count": 15,
     "metadata": {},
     "output_type": "execute_result"
    }
   ],
   "execution_count": 15
  },
  {
   "metadata": {
    "ExecuteTime": {
     "end_time": "2025-03-05T15:11:35.029196Z",
     "start_time": "2025-03-05T15:11:35.027451Z"
    }
   },
   "cell_type": "code",
   "source": [
    "columns_left = [col.replace(\"ltable.\", \"\") for col in matches.columns if col.startswith(\"ltable\")]\n",
    "columns_right = [col.replace(\"rtable.\", \"\") for col in matches.columns if col.startswith(\"rtable\")]\n",
    "print(columns_left, columns_right, sep=\"\\n\")"
   ],
   "id": "cb0b82588cb8f515",
   "outputs": [
    {
     "name": "stdout",
     "output_type": "stream",
     "text": [
      "['Sno', 'Album_Name', 'Artist_Name', 'CopyRight', 'Released', 'Song_Name', 'Time']\n",
      "['Sno', 'Album_Name', 'Artist_Name', 'CopyRight', 'Released', 'Song_Name', 'Time']\n"
     ]
    }
   ],
   "execution_count": 16
  },
  {
   "metadata": {
    "ExecuteTime": {
     "end_time": "2025-03-05T15:11:35.105377Z",
     "start_time": "2025-03-05T15:11:35.098560Z"
    }
   },
   "cell_type": "code",
   "source": [
    "data_left = list(set([tuple([row[f\"ltable.{col}\"] for col in columns_left]) for _, row in matches.iterrows()]))\n",
    "data_right = list(set([tuple([row[f\"rtable.{col}\"] for col in columns_right]) for _, row in matches.iterrows()]))\n",
    "print(data_left[0], data_right[0], sep=\"\\n\")"
   ],
   "id": "491c511bf1df8e07",
   "outputs": [
    {
     "name": "stdout",
     "output_type": "stream",
     "text": [
      "(6048, 'artpop', 'lady gaga', '__æ 2013 interscope records', '11-Nov-13', 'g.u.y.', '3:52')\n",
      "(9123, 'caldwell county ep', 'eric church', ' (c) 2011 emi records nashville', ' January 14, 2011', 'chevy van', '2:48')\n"
     ]
    }
   ],
   "execution_count": 17
  },
  {
   "metadata": {},
   "cell_type": "markdown",
   "source": "### Execute Operator and Evaluate",
   "id": "9fc88d749d70502b"
  },
  {
   "metadata": {
    "ExecuteTime": {
     "end_time": "2025-03-05T15:11:36.595503Z",
     "start_time": "2025-03-05T15:11:35.173834Z"
    }
   },
   "cell_type": "code",
   "source": [
    "op1 = Dummy(\"ltable\", columns_left, data_left)\n",
    "op2 = Dummy(\"rtable\", columns_right, data_right)\n",
    "\n",
    "op = InnerSoftJoin(op1, op2, em=stem, sv=sv, threshold=threshold, method=method, columns_left=significant_columns_left, columns_right=significant_columns_right, embedding_comparison=embedding_comparison)\n",
    "\n",
    "result = [x for x in tqdm.tqdm(op.open())]\n",
    "pred = {(r[f\"ltable.{dataset_data['key_column']}\"], r[f\"rtable.{dataset_data['key_column']}\"]) for r in result}"
   ],
   "id": "f5a4cbe95777fea4",
   "outputs": [
    {
     "name": "stderr",
     "output_type": "stream",
     "text": [
      "151it [00:01, 132.30it/s]\n"
     ]
    }
   ],
   "execution_count": 18
  },
  {
   "metadata": {
    "ExecuteTime": {
     "end_time": "2025-03-05T15:11:36.603003Z",
     "start_time": "2025-03-05T15:11:36.599576Z"
    }
   },
   "cell_type": "code",
   "source": [
    "tps, fns, fps = gt & pred, gt - pred, pred - gt\n",
    "tp, fn, fp = len(tps), len(fns), len(fps)\n",
    "\n",
    "values = {\"tp\": tp, \"fn\": fn, \"fp\": fp}\n",
    "\n",
    "precision = tp / (tp + fp) if (tp + fp) > 0 else 0\n",
    "recall = tp / (tp + fn) if (tp + fn) > 0 else 0\n",
    "f1_score = (2 * precision * recall) / (precision + recall) if (precision + recall) > 0 else 0\n",
    "\n",
    "scores = { \"Precision\": precision, \"Recall\": recall, \"F1 Score\": f1_score, }\n",
    "print(scores)"
   ],
   "id": "8f4740ec835beb7",
   "outputs": [
    {
     "name": "stdout",
     "output_type": "stream",
     "text": [
      "{'Precision': 0.8211920529801324, 'Recall': 0.9393939393939394, 'F1 Score': 0.8763250883392226}\n"
     ]
    }
   ],
   "execution_count": 19
  },
  {
   "metadata": {
    "ExecuteTime": {
     "end_time": "2025-03-05T15:11:47.524809Z",
     "start_time": "2025-03-05T15:11:36.649244Z"
    }
   },
   "cell_type": "code",
   "source": [
    "joined_column = [f\"ltable.{c}\" for c in columns_left] + [f\"rtable.{c}\" for c in columns_right]\n",
    "\n",
    "serialized_results = [\", \".join(str(v) for k,v in x.items()) for x in result]\n",
    "serialized_ground_truth = [\", \".join([str(v[col]) for col in joined_column]) for k, v in matches.iterrows()]\n",
    "\n",
    "print(\"Sample for matched records: \", serialized_results[0], serialized_ground_truth[0], sep=\"\\n\")\n",
    "\n",
    "print(\"\\nBLUE Scores: \")\n",
    "for i in range(4):\n",
    "    print(f\"\\tbleu{i+1}: {compute_bleu_representativeness(serialized_ground_truth, serialized_results, use_n_grams=i+1):0.4}\",)"
   ],
   "id": "fcfb4b46ac1df2a4",
   "outputs": [
    {
     "name": "stdout",
     "output_type": "stream",
     "text": [
      "Sample for matched records: \n",
      "3851, caldwell county - ep, eric church,    2011 emi records nashville. all rights reserved. unauthorized reproduction is a violation of applicable laws.  manufactured by capitol records nashville, 3322 west end avenue, 11th floor, nashville, tn   37203, 14-Jan-11, chevy van, 2:48, 9123, caldwell county ep, eric church,  (c) 2011 emi records nashville,  January 14, 2011, chevy van, 2:48\n",
      "111, vhs, x ambassadors,  2015 kidinakorner/interscope records, 30-Jun-15, vhs outro (interlude), 1:25, 53124, vhs [explicit], x ambassadors,  (c) 2015 kidinakorner/interscope records,  June 30, 2015, vhs outro (interlude) [explicit], 1:25\n",
      "\n",
      "BLUE Scores: \n",
      "\tbleu1: 0.9728\n",
      "\tbleu2: 0.9648\n",
      "\tbleu3: 0.9603\n",
      "\tbleu4: 0.9571\n"
     ]
    }
   ],
   "execution_count": 20
  }
 ],
 "metadata": {
  "kernelspec": {
   "display_name": "Python 3",
   "language": "python",
   "name": "python3"
  },
  "language_info": {
   "codemirror_mode": {
    "name": "ipython",
    "version": 2
   },
   "file_extension": ".py",
   "mimetype": "text/x-python",
   "name": "python",
   "nbconvert_exporter": "python",
   "pygments_lexer": "ipython2",
   "version": "2.7.6"
  }
 },
 "nbformat": 4,
 "nbformat_minor": 5
}
