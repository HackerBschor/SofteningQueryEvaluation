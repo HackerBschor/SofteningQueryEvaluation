{
 "cells": [
  {
   "metadata": {},
   "cell_type": "markdown",
   "source": [
    "# Evaluation of Data Integration\n",
    "\n",
    "In this notebook, we evaluate how effective two relations can be integrated using the soft join operator.\n",
    "Therefore, we utilize the [Datasets for DeepMatcher paper](https://github.com/anhaidgroup/deepmatcher/blob/master/Datasets.md).\n",
    "\n",
    "The datasets contain two relations with the same entities from two different sources.\n",
    "E.g. `iTunes-Amazon` contains song records obtained from iTunes and Amazon. So, the task is to identify same songs.\n",
    "\n",
    "To test different Models, datasets, ..., there are parameters in the [modifications](#modifications) section.\n",
    "**Modfy Code in [Modifications](#modifications) Section Only!**\n",
    "\n",
    "We calculate:\n",
    "* $ TP = \\text{True Matches} \\cap \\text{Predicted Matches} $\n",
    "* $ FN = \\text{True Matches} \\setminus \\text{Predicted Matches} $\n",
    "* $ FP = \\text{Predicted Matches} \\setminus \\text{True Matches} $\n",
    "\n",
    "To determine the scores:\n",
    "* $ Precision = \\frac{TP}{TP + FP}$\n",
    "* $ Recall = \\frac{TP}{TP + FN}$\n",
    "* $ F_1 = \\frac{2 \\cdot precision \\cdot recall}{precision + recall} $\n",
    "* BLEU 1-4\n",
    "\n",
    "## Imports"
   ],
   "id": "1425ff15ce177929"
  },
  {
   "cell_type": "code",
   "id": "initial_id",
   "metadata": {
    "collapsed": true,
    "ExecuteTime": {
     "end_time": "2025-03-16T10:02:24.904363Z",
     "start_time": "2025-03-16T10:02:24.901163Z"
    }
   },
   "source": [
    "import time\n",
    "import json\n",
    "import numpy as np\n",
    "import pandas as pd\n",
    "import seaborn as sns\n",
    "import matplotlib.pyplot as plt\n",
    "\n",
    "from db.operators import Dummy, InnerSoftJoin\n",
    "\n",
    "from models import ModelMgr\n",
    "from models.embedding.SentenceTransformer import SentenceTransformerEmbeddingModel\n",
    "from models.semantic_validation import LLaMAValidationModel\n",
    "\n",
    "from evaluation.util import calculate_metrics"
   ],
   "outputs": [],
   "execution_count": 19
  },
  {
   "metadata": {
    "ExecuteTime": {
     "end_time": "2025-03-16T09:57:51.738275Z",
     "start_time": "2025-03-16T09:57:51.705303Z"
    }
   },
   "cell_type": "code",
   "source": [
    "with open(\"DataIntegration.json\") as f:\n",
    "    datasets = json.load(f)"
   ],
   "id": "6cc35f6d44ac2fb",
   "outputs": [],
   "execution_count": 2
  },
  {
   "metadata": {},
   "cell_type": "markdown",
   "source": "## Modifications",
   "id": "1a101cc81dbda208"
  },
  {
   "metadata": {
    "ExecuteTime": {
     "end_time": "2025-03-16T09:57:51.790738Z",
     "start_time": "2025-03-16T09:57:51.789255Z"
    }
   },
   "cell_type": "code",
   "source": [
    "dataset_name = \"iTunesAmazon\" # The tested dataset\n",
    "\n",
    "significant_columns_left = [\"Album_Name\", \"Artist_Name\", \"Released\", \"Song_Name\", \"Time\"]\n",
    "significant_columns_right = [\"Album_Name\", \"Artist_Name\", \"Released\", \"Song_Name\", \"Time\"]"
   ],
   "id": "859c939303fa398b",
   "outputs": [],
   "execution_count": 3
  },
  {
   "metadata": {},
   "cell_type": "markdown",
   "source": "## Function and Dataset Declarations",
   "id": "65bb6e8e066b043"
  },
  {
   "metadata": {
    "ExecuteTime": {
     "end_time": "2025-03-16T09:57:51.843416Z",
     "start_time": "2025-03-16T09:57:51.839592Z"
    }
   },
   "cell_type": "code",
   "source": [
    "significant_columns_left = [f\"left_{x}\" for x in significant_columns_left]\n",
    "significant_columns_right = [f\"right_{x}\" for x in significant_columns_right]"
   ],
   "id": "99ae3501c9681df9",
   "outputs": [],
   "execution_count": 4
  },
  {
   "metadata": {
    "ExecuteTime": {
     "end_time": "2025-03-16T09:57:51.902029Z",
     "start_time": "2025-03-16T09:57:51.894704Z"
    }
   },
   "cell_type": "code",
   "source": [
    "dataset = datasets[dataset_name]\n",
    "matches = pd.DataFrame(dataset[\"matches\"])\n",
    "matches.head(2)"
   ],
   "id": "422f358d28927298",
   "outputs": [
    {
     "data": {
      "text/plain": [
       "   snoLeft  snoRight\n",
       "0      111     53124\n",
       "1      148     50767"
      ],
      "text/html": [
       "<div>\n",
       "<style scoped>\n",
       "    .dataframe tbody tr th:only-of-type {\n",
       "        vertical-align: middle;\n",
       "    }\n",
       "\n",
       "    .dataframe tbody tr th {\n",
       "        vertical-align: top;\n",
       "    }\n",
       "\n",
       "    .dataframe thead th {\n",
       "        text-align: right;\n",
       "    }\n",
       "</style>\n",
       "<table border=\"1\" class=\"dataframe\">\n",
       "  <thead>\n",
       "    <tr style=\"text-align: right;\">\n",
       "      <th></th>\n",
       "      <th>snoLeft</th>\n",
       "      <th>snoRight</th>\n",
       "    </tr>\n",
       "  </thead>\n",
       "  <tbody>\n",
       "    <tr>\n",
       "      <th>0</th>\n",
       "      <td>111</td>\n",
       "      <td>53124</td>\n",
       "    </tr>\n",
       "    <tr>\n",
       "      <th>1</th>\n",
       "      <td>148</td>\n",
       "      <td>50767</td>\n",
       "    </tr>\n",
       "  </tbody>\n",
       "</table>\n",
       "</div>"
      ]
     },
     "execution_count": 5,
     "metadata": {},
     "output_type": "execute_result"
    }
   ],
   "execution_count": 5
  },
  {
   "metadata": {
    "ExecuteTime": {
     "end_time": "2025-03-16T09:57:51.960103Z",
     "start_time": "2025-03-16T09:57:51.951884Z"
    }
   },
   "cell_type": "code",
   "source": [
    "left = pd.DataFrame(dataset[\"left\"])\n",
    "left.rename(columns={c: f\"left_{c}\" for c in left.columns}, inplace=True)\n",
    "left.head(2)"
   ],
   "id": "d72d2de18eb35573",
   "outputs": [
    {
     "data": {
      "text/plain": [
       "   left_snoLeft left_Album_Name left_Album_Price left_Artist_Name  \\\n",
       "0           111             VHS           $7.99     X Ambassadors   \n",
       "1           148  Title (Deluxe)          $12.99    Meghan Trainor   \n",
       "\n",
       "                                      left_CopyRight  left_Customer_Rating  \\\n",
       "0               2015 KIDinaKORNER/Interscope Records               4.54839   \n",
       "1   2014, 2015 Epic Records, a division of Sony M...               4.06740   \n",
       "\n",
       "                                 left_Genre left_Price left_Released  \\\n",
       "0  Alternative,Music,Rock,Adult Alternative     $1.29      30-Jun-15   \n",
       "1    Pop,Music,Rock,Pop/Rock,Dance,Teen Pop     $1.29       9-Jan-15   \n",
       "\n",
       "          left_Song_Name left_Time  \n",
       "0  VHS Outro (Interlude)      1:25  \n",
       "1                 Credit      2:51  "
      ],
      "text/html": [
       "<div>\n",
       "<style scoped>\n",
       "    .dataframe tbody tr th:only-of-type {\n",
       "        vertical-align: middle;\n",
       "    }\n",
       "\n",
       "    .dataframe tbody tr th {\n",
       "        vertical-align: top;\n",
       "    }\n",
       "\n",
       "    .dataframe thead th {\n",
       "        text-align: right;\n",
       "    }\n",
       "</style>\n",
       "<table border=\"1\" class=\"dataframe\">\n",
       "  <thead>\n",
       "    <tr style=\"text-align: right;\">\n",
       "      <th></th>\n",
       "      <th>left_snoLeft</th>\n",
       "      <th>left_Album_Name</th>\n",
       "      <th>left_Album_Price</th>\n",
       "      <th>left_Artist_Name</th>\n",
       "      <th>left_CopyRight</th>\n",
       "      <th>left_Customer_Rating</th>\n",
       "      <th>left_Genre</th>\n",
       "      <th>left_Price</th>\n",
       "      <th>left_Released</th>\n",
       "      <th>left_Song_Name</th>\n",
       "      <th>left_Time</th>\n",
       "    </tr>\n",
       "  </thead>\n",
       "  <tbody>\n",
       "    <tr>\n",
       "      <th>0</th>\n",
       "      <td>111</td>\n",
       "      <td>VHS</td>\n",
       "      <td>$7.99</td>\n",
       "      <td>X Ambassadors</td>\n",
       "      <td>2015 KIDinaKORNER/Interscope Records</td>\n",
       "      <td>4.54839</td>\n",
       "      <td>Alternative,Music,Rock,Adult Alternative</td>\n",
       "      <td>$1.29</td>\n",
       "      <td>30-Jun-15</td>\n",
       "      <td>VHS Outro (Interlude)</td>\n",
       "      <td>1:25</td>\n",
       "    </tr>\n",
       "    <tr>\n",
       "      <th>1</th>\n",
       "      <td>148</td>\n",
       "      <td>Title (Deluxe)</td>\n",
       "      <td>$12.99</td>\n",
       "      <td>Meghan Trainor</td>\n",
       "      <td>2014, 2015 Epic Records, a division of Sony M...</td>\n",
       "      <td>4.06740</td>\n",
       "      <td>Pop,Music,Rock,Pop/Rock,Dance,Teen Pop</td>\n",
       "      <td>$1.29</td>\n",
       "      <td>9-Jan-15</td>\n",
       "      <td>Credit</td>\n",
       "      <td>2:51</td>\n",
       "    </tr>\n",
       "  </tbody>\n",
       "</table>\n",
       "</div>"
      ]
     },
     "execution_count": 6,
     "metadata": {},
     "output_type": "execute_result"
    }
   ],
   "execution_count": 6
  },
  {
   "metadata": {
    "ExecuteTime": {
     "end_time": "2025-03-16T09:57:53.077379Z",
     "start_time": "2025-03-16T09:57:53.071663Z"
    }
   },
   "cell_type": "code",
   "source": [
    "right = pd.DataFrame(dataset[\"right\"])\n",
    "right.rename(columns={c: f\"right_{c}\" for c in right.columns}, inplace=True)\n",
    "right.head(2)"
   ],
   "id": "96a6916ad09d8b21",
   "outputs": [
    {
     "data": {
      "text/plain": [
       "   right_snoRight right_Album_Name right_Artist_Name  \\\n",
       "0             363           #NAME?        Ed Sheeran   \n",
       "1             379           #NAME?        Ed Sheeran   \n",
       "\n",
       "            right_Song_Name right_Price right_Time      right_Released  \\\n",
       "0  Sunburn (Deluxe Edition)       $1.29       4:35   September 9, 2011   \n",
       "1  Sunburn (Deluxe Edition)       $1.29       4:35   September 9, 2011   \n",
       "\n",
       "            right_Label right_Copyright right_Genre  \n",
       "0   Atlantic Records UK    Doll records         Pop  \n",
       "1   Atlantic Records UK    Doll records         Pop  "
      ],
      "text/html": [
       "<div>\n",
       "<style scoped>\n",
       "    .dataframe tbody tr th:only-of-type {\n",
       "        vertical-align: middle;\n",
       "    }\n",
       "\n",
       "    .dataframe tbody tr th {\n",
       "        vertical-align: top;\n",
       "    }\n",
       "\n",
       "    .dataframe thead th {\n",
       "        text-align: right;\n",
       "    }\n",
       "</style>\n",
       "<table border=\"1\" class=\"dataframe\">\n",
       "  <thead>\n",
       "    <tr style=\"text-align: right;\">\n",
       "      <th></th>\n",
       "      <th>right_snoRight</th>\n",
       "      <th>right_Album_Name</th>\n",
       "      <th>right_Artist_Name</th>\n",
       "      <th>right_Song_Name</th>\n",
       "      <th>right_Price</th>\n",
       "      <th>right_Time</th>\n",
       "      <th>right_Released</th>\n",
       "      <th>right_Label</th>\n",
       "      <th>right_Copyright</th>\n",
       "      <th>right_Genre</th>\n",
       "    </tr>\n",
       "  </thead>\n",
       "  <tbody>\n",
       "    <tr>\n",
       "      <th>0</th>\n",
       "      <td>363</td>\n",
       "      <td>#NAME?</td>\n",
       "      <td>Ed Sheeran</td>\n",
       "      <td>Sunburn (Deluxe Edition)</td>\n",
       "      <td>$1.29</td>\n",
       "      <td>4:35</td>\n",
       "      <td>September 9, 2011</td>\n",
       "      <td>Atlantic Records UK</td>\n",
       "      <td>Doll records</td>\n",
       "      <td>Pop</td>\n",
       "    </tr>\n",
       "    <tr>\n",
       "      <th>1</th>\n",
       "      <td>379</td>\n",
       "      <td>#NAME?</td>\n",
       "      <td>Ed Sheeran</td>\n",
       "      <td>Sunburn (Deluxe Edition)</td>\n",
       "      <td>$1.29</td>\n",
       "      <td>4:35</td>\n",
       "      <td>September 9, 2011</td>\n",
       "      <td>Atlantic Records UK</td>\n",
       "      <td>Doll records</td>\n",
       "      <td>Pop</td>\n",
       "    </tr>\n",
       "  </tbody>\n",
       "</table>\n",
       "</div>"
      ]
     },
     "execution_count": 7,
     "metadata": {},
     "output_type": "execute_result"
    }
   ],
   "execution_count": 7
  },
  {
   "metadata": {
    "ExecuteTime": {
     "end_time": "2025-03-16T09:57:54.189704Z",
     "start_time": "2025-03-16T09:57:54.174501Z"
    }
   },
   "cell_type": "code",
   "source": [
    "candidates = matches\\\n",
    "    .merge(left, left_on=matches.columns[0], right_on=f\"left_{matches.columns[0]}\")\\\n",
    "    .merge(right, left_on=matches.columns[1], right_on=f\"right_{matches.columns[1]}\")\\\n",
    "    .drop(columns=matches.columns)\n",
    "\n",
    "candidates.head(2)"
   ],
   "id": "ada6320f7a32b87a",
   "outputs": [
    {
     "data": {
      "text/plain": [
       "   left_snoLeft left_Album_Name left_Album_Price left_Artist_Name  \\\n",
       "0           111             VHS           $7.99     X Ambassadors   \n",
       "1           148  Title (Deluxe)          $12.99    Meghan Trainor   \n",
       "\n",
       "                                      left_CopyRight  left_Customer_Rating  \\\n",
       "0               2015 KIDinaKORNER/Interscope Records               4.54839   \n",
       "1   2014, 2015 Epic Records, a division of Sony M...               4.06740   \n",
       "\n",
       "                                 left_Genre left_Price left_Released  \\\n",
       "0  Alternative,Music,Rock,Adult Alternative     $1.29      30-Jun-15   \n",
       "1    Pop,Music,Rock,Pop/Rock,Dance,Teen Pop     $1.29       9-Jan-15   \n",
       "\n",
       "          left_Song_Name  ... right_snoRight  right_Album_Name  \\\n",
       "0  VHS Outro (Interlude)  ...          53124    VHS [Explicit]   \n",
       "1                 Credit  ...          50767    Title (Deluxe)   \n",
       "\n",
       "  right_Artist_Name                   right_Song_Name right_Price right_Time  \\\n",
       "0     X Ambassadors  VHS Outro (Interlude) [Explicit]       $1.29       1:25   \n",
       "1    Meghan Trainor                            Credit       $1.29       2:51   \n",
       "\n",
       "     right_Released                       right_Label  \\\n",
       "0     June 30, 2015   KIDinaKORNER/Interscope Records   \n",
       "1   January 9, 2015                              Epic   \n",
       "\n",
       "                                     right_Copyright       right_Genre  \n",
       "0           (C) 2015 KIDinaKORNER/Interscope Records  Alternative Rock  \n",
       "1   2011 What A Music Ltd, licence exclusive Parl...               Pop  \n",
       "\n",
       "[2 rows x 21 columns]"
      ],
      "text/html": [
       "<div>\n",
       "<style scoped>\n",
       "    .dataframe tbody tr th:only-of-type {\n",
       "        vertical-align: middle;\n",
       "    }\n",
       "\n",
       "    .dataframe tbody tr th {\n",
       "        vertical-align: top;\n",
       "    }\n",
       "\n",
       "    .dataframe thead th {\n",
       "        text-align: right;\n",
       "    }\n",
       "</style>\n",
       "<table border=\"1\" class=\"dataframe\">\n",
       "  <thead>\n",
       "    <tr style=\"text-align: right;\">\n",
       "      <th></th>\n",
       "      <th>left_snoLeft</th>\n",
       "      <th>left_Album_Name</th>\n",
       "      <th>left_Album_Price</th>\n",
       "      <th>left_Artist_Name</th>\n",
       "      <th>left_CopyRight</th>\n",
       "      <th>left_Customer_Rating</th>\n",
       "      <th>left_Genre</th>\n",
       "      <th>left_Price</th>\n",
       "      <th>left_Released</th>\n",
       "      <th>left_Song_Name</th>\n",
       "      <th>...</th>\n",
       "      <th>right_snoRight</th>\n",
       "      <th>right_Album_Name</th>\n",
       "      <th>right_Artist_Name</th>\n",
       "      <th>right_Song_Name</th>\n",
       "      <th>right_Price</th>\n",
       "      <th>right_Time</th>\n",
       "      <th>right_Released</th>\n",
       "      <th>right_Label</th>\n",
       "      <th>right_Copyright</th>\n",
       "      <th>right_Genre</th>\n",
       "    </tr>\n",
       "  </thead>\n",
       "  <tbody>\n",
       "    <tr>\n",
       "      <th>0</th>\n",
       "      <td>111</td>\n",
       "      <td>VHS</td>\n",
       "      <td>$7.99</td>\n",
       "      <td>X Ambassadors</td>\n",
       "      <td>2015 KIDinaKORNER/Interscope Records</td>\n",
       "      <td>4.54839</td>\n",
       "      <td>Alternative,Music,Rock,Adult Alternative</td>\n",
       "      <td>$1.29</td>\n",
       "      <td>30-Jun-15</td>\n",
       "      <td>VHS Outro (Interlude)</td>\n",
       "      <td>...</td>\n",
       "      <td>53124</td>\n",
       "      <td>VHS [Explicit]</td>\n",
       "      <td>X Ambassadors</td>\n",
       "      <td>VHS Outro (Interlude) [Explicit]</td>\n",
       "      <td>$1.29</td>\n",
       "      <td>1:25</td>\n",
       "      <td>June 30, 2015</td>\n",
       "      <td>KIDinaKORNER/Interscope Records</td>\n",
       "      <td>(C) 2015 KIDinaKORNER/Interscope Records</td>\n",
       "      <td>Alternative Rock</td>\n",
       "    </tr>\n",
       "    <tr>\n",
       "      <th>1</th>\n",
       "      <td>148</td>\n",
       "      <td>Title (Deluxe)</td>\n",
       "      <td>$12.99</td>\n",
       "      <td>Meghan Trainor</td>\n",
       "      <td>2014, 2015 Epic Records, a division of Sony M...</td>\n",
       "      <td>4.06740</td>\n",
       "      <td>Pop,Music,Rock,Pop/Rock,Dance,Teen Pop</td>\n",
       "      <td>$1.29</td>\n",
       "      <td>9-Jan-15</td>\n",
       "      <td>Credit</td>\n",
       "      <td>...</td>\n",
       "      <td>50767</td>\n",
       "      <td>Title (Deluxe)</td>\n",
       "      <td>Meghan Trainor</td>\n",
       "      <td>Credit</td>\n",
       "      <td>$1.29</td>\n",
       "      <td>2:51</td>\n",
       "      <td>January 9, 2015</td>\n",
       "      <td>Epic</td>\n",
       "      <td>2011 What A Music Ltd, licence exclusive Parl...</td>\n",
       "      <td>Pop</td>\n",
       "    </tr>\n",
       "  </tbody>\n",
       "</table>\n",
       "<p>2 rows × 21 columns</p>\n",
       "</div>"
      ]
     },
     "execution_count": 8,
     "metadata": {},
     "output_type": "execute_result"
    }
   ],
   "execution_count": 8
  },
  {
   "metadata": {
    "ExecuteTime": {
     "end_time": "2025-03-16T09:57:55.767767Z",
     "start_time": "2025-03-16T09:57:55.757561Z"
    }
   },
   "cell_type": "code",
   "source": [
    "gt = {tuple([x[col] for col in list(left.columns) + list(right.columns)]) for _, x in candidates.iterrows()}\n",
    "print(str(gt)[0:500] + \"...\")"
   ],
   "id": "30182a843e995a7c",
   "outputs": [
    {
     "name": "stdout",
     "output_type": "stream",
     "text": [
      "{(3355, 'Flight School', '$9.99 ', 'Wiz Khalifa', ' 2009 Rostrum Records', 4.47268, 'Hip-Hop/Rap,Music', '$0.99 ', '17-Apr-09', 'Extra Extra Credit', '4:03', 17655, 'Flight School [Explicit]', 'Wiz Khalifa', 'Extra Extra Credit [Explicit]', '$0.99', '4:03', ' April 17, 2009', ' Rostrum Records', ' 2013 Mad Decent', 'Rap & Hip-Hop'), (2223, '1989', '$9.99 ', 'Ryan Adams', ' 2015 PaxAmericana Recording Company Under Exclusive License To Blue Note Records', 3.53792, 'Rock,Music', '$1.29 ', '21-Sep-...\n"
     ]
    }
   ],
   "execution_count": 9
  },
  {
   "metadata": {},
   "cell_type": "markdown",
   "source": [
    "## Evaluation\n",
    "### Execute Operator and Evaluate"
   ],
   "id": "aa943e9d62a359cb"
  },
  {
   "metadata": {
    "ExecuteTime": {
     "end_time": "2025-03-16T09:59:49.421624Z",
     "start_time": "2025-03-16T09:59:49.418428Z"
    }
   },
   "cell_type": "code",
   "source": [
    "def evaluate(em, sv, threshold, method, embedding_comparison, embedding_method, calc_bleu=False):\n",
    "    key = (threshold, method, embedding_comparison, embedding_method)\n",
    "\n",
    "    op1 = Dummy(\"ltable\", left.columns, list(left.values))\n",
    "    op2 = Dummy(\"rtable\", right.columns, list(right.values))\n",
    "\n",
    "    op = InnerSoftJoin(\n",
    "        op1, op2, em=em, sv=sv,\n",
    "        threshold=threshold, method=method,\n",
    "        columns_left=significant_columns_left, columns_right=significant_columns_right,\n",
    "        embedding_comparison=embedding_comparison,\n",
    "        embedding_method = embedding_method\n",
    "    )\n",
    "\n",
    "    tic = time.time()\n",
    "    result = op.open().fetch_all()\n",
    "    toc = time.time()\n",
    "    pred = {tuple([x[col] for col in list(left.columns) + list(right.columns)]) for x in result}\n",
    "\n",
    "    scores = calculate_metrics(gt, pred, toc - tic)\n",
    "\n",
    "    print(key, scores[\"Precision\"], scores[\"Recall\"], scores[\"F1 Score\"])\n",
    "\n",
    "    return key, scores"
   ],
   "id": "62251953eaf97f2e",
   "outputs": [],
   "execution_count": 15
  },
  {
   "metadata": {
    "ExecuteTime": {
     "end_time": "2025-03-16T09:58:23.194379Z",
     "start_time": "2025-03-16T09:58:20.823075Z"
    }
   },
   "cell_type": "code",
   "source": [
    "# Models\n",
    "m = ModelMgr()\n",
    "stem = SentenceTransformerEmbeddingModel(m)\n",
    "lsv = LLaMAValidationModel(m)"
   ],
   "id": "b778f9c3a76a0875",
   "outputs": [
    {
     "data": {
      "text/plain": [
       "Loading checkpoint shards:   0%|          | 0/2 [00:00<?, ?it/s]"
      ],
      "application/vnd.jupyter.widget-view+json": {
       "version_major": 2,
       "version_minor": 0,
       "model_id": "af43390aa7e74d96a05d97ab9a5e06f5"
      }
     },
     "metadata": {},
     "output_type": "display_data"
    }
   ],
   "execution_count": 12
  },
  {
   "metadata": {
    "ExecuteTime": {
     "end_time": "2025-03-16T10:01:48.758517Z",
     "start_time": "2025-03-16T09:59:52.956319Z"
    }
   },
   "cell_type": "code",
   "source": [
    "threshold_experiments_data = []\n",
    "\n",
    "for t in np.linspace(1.0, 0.5, 100):\n",
    "    res = evaluate(stem, lsv, threshold = t, method = \"threshold\", embedding_comparison = \"COLUMN_WISE\", embedding_method = None)\n",
    "    threshold_experiments_data.append((t, res[1]))"
   ],
   "id": "a159c047115e35d5",
   "outputs": [
    {
     "name": "stdout",
     "output_type": "stream",
     "text": [
      "(1.0, 'threshold', 'COLUMN_WISE', None) 0 0.0 0\n",
      "(0.9949494949494949, 'threshold', 'COLUMN_WISE', None) 0 0.0 0\n",
      "(0.98989898989899, 'threshold', 'COLUMN_WISE', None) 0 0.0 0\n",
      "(0.9848484848484849, 'threshold', 'COLUMN_WISE', None) 0 0.0 0\n",
      "(0.9797979797979798, 'threshold', 'COLUMN_WISE', None) 0 0.0 0\n",
      "(0.9747474747474747, 'threshold', 'COLUMN_WISE', None) 0 0.0 0\n",
      "(0.9696969696969697, 'threshold', 'COLUMN_WISE', None) 0 0.0 0\n",
      "(0.9646464646464646, 'threshold', 'COLUMN_WISE', None) 0 0.0 0\n",
      "(0.9595959595959596, 'threshold', 'COLUMN_WISE', None) 0 0.0 0\n",
      "(0.9545454545454546, 'threshold', 'COLUMN_WISE', None) 1.0 0.007575757575757576 0.015037593984962407\n",
      "(0.9494949494949495, 'threshold', 'COLUMN_WISE', None) 1.0 0.015151515151515152 0.02985074626865672\n",
      "(0.9444444444444444, 'threshold', 'COLUMN_WISE', None) 1.0 0.03787878787878788 0.07299270072992702\n",
      "(0.9393939393939394, 'threshold', 'COLUMN_WISE', None) 1.0 0.10606060606060606 0.19178082191780824\n",
      "(0.9343434343434344, 'threshold', 'COLUMN_WISE', None) 1.0 0.17424242424242425 0.2967741935483871\n",
      "(0.9292929292929293, 'threshold', 'COLUMN_WISE', None) 1.0 0.24242424242424243 0.3902439024390244\n",
      "(0.9242424242424242, 'threshold', 'COLUMN_WISE', None) 1.0 0.26515151515151514 0.41916167664670656\n",
      "(0.9191919191919192, 'threshold', 'COLUMN_WISE', None) 1.0 0.3181818181818182 0.4827586206896552\n",
      "(0.9141414141414141, 'threshold', 'COLUMN_WISE', None) 0.9777777777777777 0.3333333333333333 0.4971751412429378\n",
      "(0.9090909090909091, 'threshold', 'COLUMN_WISE', None) 0.98 0.3712121212121212 0.5384615384615384\n",
      "(0.904040404040404, 'threshold', 'COLUMN_WISE', None) 0.9206349206349206 0.4393939393939394 0.5948717948717949\n",
      "(0.898989898989899, 'threshold', 'COLUMN_WISE', None) 0.875 0.4772727272727273 0.6176470588235294\n",
      "(0.8939393939393939, 'threshold', 'COLUMN_WISE', None) 0.88 0.5 0.6376811594202899\n",
      "(0.8888888888888888, 'threshold', 'COLUMN_WISE', None) 0.8452380952380952 0.5378787878787878 0.6574074074074074\n",
      "(0.8838383838383839, 'threshold', 'COLUMN_WISE', None) 0.8488372093023255 0.553030303030303 0.6697247706422018\n",
      "(0.8787878787878788, 'threshold', 'COLUMN_WISE', None) 0.82 0.6212121212121212 0.706896551724138\n",
      "(0.8737373737373737, 'threshold', 'COLUMN_WISE', None) 0.8173076923076923 0.6439393939393939 0.7203389830508475\n",
      "(0.8686868686868687, 'threshold', 'COLUMN_WISE', None) 0.8240740740740741 0.6742424242424242 0.7416666666666667\n",
      "(0.8636363636363636, 'threshold', 'COLUMN_WISE', None) 0.8256880733944955 0.6818181818181818 0.7468879668049793\n",
      "(0.8585858585858586, 'threshold', 'COLUMN_WISE', None) 0.8256880733944955 0.6818181818181818 0.7468879668049793\n",
      "(0.8535353535353536, 'threshold', 'COLUMN_WISE', None) 0.8103448275862069 0.7121212121212122 0.7580645161290323\n",
      "(0.8484848484848485, 'threshold', 'COLUMN_WISE', None) 0.8151260504201681 0.7348484848484849 0.7729083665338646\n",
      "(0.8434343434343434, 'threshold', 'COLUMN_WISE', None) 0.808 0.7651515151515151 0.7859922178988327\n",
      "(0.8383838383838383, 'threshold', 'COLUMN_WISE', None) 0.808 0.7651515151515151 0.7859922178988327\n",
      "(0.8333333333333333, 'threshold', 'COLUMN_WISE', None) 0.8076923076923077 0.7954545454545454 0.8015267175572519\n",
      "(0.8282828282828283, 'threshold', 'COLUMN_WISE', None) 0.8088235294117647 0.8333333333333334 0.8208955223880597\n",
      "(0.8232323232323232, 'threshold', 'COLUMN_WISE', None) 0.8129496402877698 0.8560606060606061 0.8339483394833948\n",
      "(0.8181818181818181, 'threshold', 'COLUMN_WISE', None) 0.8129496402877698 0.8560606060606061 0.8339483394833948\n",
      "(0.8131313131313131, 'threshold', 'COLUMN_WISE', None) 0.8169014084507042 0.8787878787878788 0.8467153284671534\n",
      "(0.8080808080808081, 'threshold', 'COLUMN_WISE', None) 0.8206896551724138 0.9015151515151515 0.8592057761732852\n",
      "(0.803030303030303, 'threshold', 'COLUMN_WISE', None) 0.821917808219178 0.9090909090909091 0.8633093525179857\n",
      "(0.797979797979798, 'threshold', 'COLUMN_WISE', None) 0.8145695364238411 0.9318181818181818 0.8692579505300353\n",
      "(0.7929292929292929, 'threshold', 'COLUMN_WISE', None) 0.8064516129032258 0.946969696969697 0.8710801393728222\n",
      "(0.7878787878787878, 'threshold', 'COLUMN_WISE', None) 0.8037974683544303 0.9621212121212122 0.8758620689655171\n",
      "(0.7828282828282829, 'threshold', 'COLUMN_WISE', None) 0.8037974683544303 0.9621212121212122 0.8758620689655171\n",
      "(0.7777777777777778, 'threshold', 'COLUMN_WISE', None) 0.7987421383647799 0.9621212121212122 0.8728522336769761\n",
      "(0.7727272727272727, 'threshold', 'COLUMN_WISE', None) 0.7950310559006211 0.9696969696969697 0.8737201365187713\n",
      "(0.7676767676767676, 'threshold', 'COLUMN_WISE', None) 0.7818181818181819 0.9772727272727273 0.8686868686868686\n",
      "(0.7626262626262625, 'threshold', 'COLUMN_WISE', None) 0.7844311377245509 0.9924242424242424 0.8762541806020067\n",
      "(0.7575757575757576, 'threshold', 'COLUMN_WISE', None) 0.7751479289940828 0.9924242424242424 0.8704318936877077\n",
      "(0.7525252525252525, 'threshold', 'COLUMN_WISE', None) 0.7660818713450293 0.9924242424242424 0.8646864686468647\n",
      "(0.7474747474747474, 'threshold', 'COLUMN_WISE', None) 0.7528735632183908 0.9924242424242424 0.8562091503267973\n",
      "(0.7424242424242424, 'threshold', 'COLUMN_WISE', None) 0.7485714285714286 0.9924242424242424 0.8534201954397393\n",
      "(0.7373737373737373, 'threshold', 'COLUMN_WISE', None) 0.7457627118644068 1.0 0.8543689320388349\n",
      "(0.7323232323232323, 'threshold', 'COLUMN_WISE', None) 0.7252747252747253 1.0 0.840764331210191\n",
      "(0.7272727272727273, 'threshold', 'COLUMN_WISE', None) 0.7213114754098361 1.0 0.8380952380952381\n",
      "(0.7222222222222222, 'threshold', 'COLUMN_WISE', None) 0.7135135135135136 1.0 0.832807570977918\n",
      "(0.7171717171717171, 'threshold', 'COLUMN_WISE', None) 0.7135135135135136 1.0 0.832807570977918\n",
      "(0.7121212121212122, 'threshold', 'COLUMN_WISE', None) 0.7096774193548387 1.0 0.8301886792452831\n",
      "(0.7070707070707071, 'threshold', 'COLUMN_WISE', None) 0.7096774193548387 1.0 0.8301886792452831\n",
      "(0.702020202020202, 'threshold', 'COLUMN_WISE', None) 0.7058823529411765 1.0 0.8275862068965517\n",
      "(0.696969696969697, 'threshold', 'COLUMN_WISE', None) 0.6875 1.0 0.8148148148148148\n",
      "(0.6919191919191918, 'threshold', 'COLUMN_WISE', None) 0.6700507614213198 1.0 0.8024316109422492\n",
      "(0.6868686868686869, 'threshold', 'COLUMN_WISE', None) 0.6666666666666666 1.0 0.8\n",
      "(0.6818181818181818, 'threshold', 'COLUMN_WISE', None) 0.6633165829145728 1.0 0.797583081570997\n",
      "(0.6767676767676767, 'threshold', 'COLUMN_WISE', None) 0.66 1.0 0.7951807228915663\n",
      "(0.6717171717171717, 'threshold', 'COLUMN_WISE', None) 0.66 1.0 0.7951807228915663\n",
      "(0.6666666666666666, 'threshold', 'COLUMN_WISE', None) 0.6534653465346535 1.0 0.7904191616766467\n",
      "(0.6616161616161615, 'threshold', 'COLUMN_WISE', None) 0.6470588235294118 1.0 0.7857142857142858\n",
      "(0.6565656565656566, 'threshold', 'COLUMN_WISE', None) 0.6255924170616114 1.0 0.7696793002915452\n",
      "(0.6515151515151515, 'threshold', 'COLUMN_WISE', None) 0.6226415094339622 1.0 0.7674418604651162\n",
      "(0.6464646464646464, 'threshold', 'COLUMN_WISE', None) 0.6226415094339622 1.0 0.7674418604651162\n",
      "(0.6414141414141414, 'threshold', 'COLUMN_WISE', None) 0.616822429906542 1.0 0.7630057803468209\n",
      "(0.6363636363636364, 'threshold', 'COLUMN_WISE', None) 0.6111111111111112 1.0 0.7586206896551725\n",
      "(0.6313131313131313, 'threshold', 'COLUMN_WISE', None) 0.5972850678733032 1.0 0.7478753541076487\n",
      "(0.6262626262626263, 'threshold', 'COLUMN_WISE', None) 0.5945945945945946 1.0 0.7457627118644068\n",
      "(0.6212121212121211, 'threshold', 'COLUMN_WISE', None) 0.5919282511210763 1.0 0.743661971830986\n",
      "(0.6161616161616161, 'threshold', 'COLUMN_WISE', None) 0.5814977973568282 1.0 0.735376044568245\n",
      "(0.6111111111111112, 'threshold', 'COLUMN_WISE', None) 0.5764192139737991 1.0 0.7313019390581718\n",
      "(0.606060606060606, 'threshold', 'COLUMN_WISE', None) 0.5409836065573771 1.0 0.7021276595744682\n",
      "(0.601010101010101, 'threshold', 'COLUMN_WISE', None) 0.5196850393700787 1.0 0.6839378238341969\n",
      "(0.5959595959595959, 'threshold', 'COLUMN_WISE', None) 0.5057471264367817 1.0 0.6717557251908397\n",
      "(0.5909090909090908, 'threshold', 'COLUMN_WISE', None) 0.4888888888888889 1.0 0.6567164179104478\n",
      "(0.5858585858585859, 'threshold', 'COLUMN_WISE', None) 0.46153846153846156 1.0 0.631578947368421\n",
      "(0.5808080808080808, 'threshold', 'COLUMN_WISE', None) 0.4444444444444444 1.0 0.6153846153846153\n",
      "(0.5757575757575757, 'threshold', 'COLUMN_WISE', None) 0.4217252396166134 1.0 0.5932584269662922\n",
      "(0.5707070707070707, 'threshold', 'COLUMN_WISE', None) 0.4125 1.0 0.5840707964601769\n",
      "(0.5656565656565656, 'threshold', 'COLUMN_WISE', None) 0.3848396501457726 1.0 0.5557894736842105\n",
      "(0.5606060606060606, 'threshold', 'COLUMN_WISE', None) 0.36363636363636365 1.0 0.5333333333333333\n",
      "(0.5555555555555556, 'threshold', 'COLUMN_WISE', None) 0.3333333333333333 1.0 0.5\n",
      "(0.5505050505050504, 'threshold', 'COLUMN_WISE', None) 0.30985915492957744 1.0 0.47311827956989244\n",
      "(0.5454545454545454, 'threshold', 'COLUMN_WISE', None) 0.2814498933901919 1.0 0.43926788685524126\n",
      "(0.5404040404040404, 'threshold', 'COLUMN_WISE', None) 0.2578125 1.0 0.40993788819875776\n",
      "(0.5353535353535352, 'threshold', 'COLUMN_WISE', None) 0.23404255319148937 1.0 0.3793103448275862\n",
      "(0.5303030303030303, 'threshold', 'COLUMN_WISE', None) 0.2129032258064516 1.0 0.35106382978723405\n",
      "(0.5252525252525252, 'threshold', 'COLUMN_WISE', None) 0.19469026548672566 1.0 0.3259259259259259\n",
      "(0.5202020202020201, 'threshold', 'COLUMN_WISE', None) 0.17437252311756934 1.0 0.29696287964004503\n",
      "(0.5151515151515151, 'threshold', 'COLUMN_WISE', None) 0.15695600475624258 1.0 0.27132579650565264\n",
      "(0.51010101010101, 'threshold', 'COLUMN_WISE', None) 0.1382198952879581 1.0 0.24287028518859247\n",
      "(0.505050505050505, 'threshold', 'COLUMN_WISE', None) 0.12313432835820895 1.0 0.21926910299003322\n",
      "(0.5, 'threshold', 'COLUMN_WISE', None) 0.10837438423645321 1.0 0.19555555555555554\n"
     ]
    }
   ],
   "execution_count": 16
  },
  {
   "metadata": {
    "ExecuteTime": {
     "end_time": "2025-03-16T10:15:17.781570Z",
     "start_time": "2025-03-16T10:15:17.536880Z"
    }
   },
   "cell_type": "code",
   "source": [
    "df = pd.DataFrame(threshold_experiments_data, columns=[\"threshold\", \"data\"])\n",
    "\n",
    "df[\"Precision\"] = df.data.apply(lambda x: x[\"Precision\"])\n",
    "df[\"Recall\"] = df.data.apply(lambda x: x[\"Recall\"])\n",
    "df[\"F1 Score\"] = df.data.apply(lambda x: x[\"F1 Score\"])\n",
    "df[\"tp\"] = df.data.apply(lambda x: x[\"tp\"])\n",
    "df[\"fp\"] = df.data.apply(lambda x: x[\"fp\"])\n",
    "df[\"fn\"] = df.data.apply(lambda x: x[\"fn\"])\n",
    "\n",
    "df_melt1 = pd.melt(df, id_vars=['threshold'], value_vars=['Precision', 'Recall', \"F1 Score\"], var_name=\"Metric\")\n",
    "df_melt2 = pd.melt(df, id_vars=['threshold'], value_vars=['tp', 'fp', 'fn'], var_name=\"Number of\").replace({'tp': 'True Positives', 'fp': 'False Positives', 'fn': 'False Negatives'})\n",
    "\n",
    "tps = df_melt2[df_melt2[\"Number of\"] == \"True Positives\"]\n",
    "max_tps = tps[tps[\"value\"] == max(tps[\"value\"])]\n",
    "max_threshold_tps = max_tps[max_tps[\"threshold\"] == max(max_tps.threshold)].values[0][0]\n",
    "\n",
    "tps = df_melt2[df_melt2[\"Number of\"] == \"True Positives\"]\n",
    "min_tps = tps[tps[\"value\"] == min(tps[\"value\"])]\n",
    "min_threshold_tps = min_tps[min_tps[\"threshold\"] == min(min_tps.threshold)].values[0][0]\n",
    "\n",
    "tps = df_melt2[df_melt2[\"Number of\"] == \"False Positives\"]\n",
    "min_fps = tps[tps[\"value\"] == min(tps[\"value\"])]\n",
    "min_threshold_fps = min_fps[min_fps[\"threshold\"] == min(min_fps.threshold)].values[0][0]\n",
    "\n",
    "print(max_threshold_tps, min_threshold_fps, min_threshold_tps)\n",
    "\n",
    "fig, (ax1, ax2) = plt.subplots(2, 1, figsize=(8, 10))\n",
    "\n",
    "palette = sns.color_palette(\"tab10\", n_colors=6)\n",
    "palette1, palette2 = palette[:3], palette[3:]\n",
    "\n",
    "sns.lineplot(data=df_melt1, x=\"threshold\", y=\"value\", hue=\"Metric\", ax=ax1, palette=palette1)\n",
    "sns.lineplot(data=df_melt2, x=\"threshold\", y=\"value\", hue=\"Number of\", ax=ax2, palette=palette2)\n",
    "\n",
    "color_indication_line = \"black\"\n",
    "\n",
    "# Labels and title\n",
    "ax1.set_xlabel(\"Threshold\")\n",
    "ax1.set_ylabel(\"Score\")\n",
    "ax1.set_title(\"Precision, Recall, and F1 Score vs Threshold\")\n",
    "ax1.axvline(max_threshold_tps, c = color_indication_line, alpha = 0.5, linestyle=\"--\")\n",
    "ax1.axvline(min_threshold_fps, c = color_indication_line, alpha = 0.5, linestyle=\"--\")\n",
    "ax1.axvline(min_threshold_tps, c = color_indication_line, alpha = 0.5, linestyle=\"--\")\n",
    "\n",
    "ax2.set_xlabel(\"Threshold\")\n",
    "ax2.set_ylabel(\"Score\")\n",
    "ax2.set_title(\"True Positives, False Positives, False Negatives vs Threshold\")\n",
    "ax2.axvline(max_threshold_tps, c = color_indication_line, alpha = 0.5, linestyle=\"--\")\n",
    "ax2.axvline(min_threshold_fps, c = color_indication_line, alpha = 0.5, linestyle=\"--\")\n",
    "ax2.axvline(min_threshold_tps, c = color_indication_line, alpha = 0.5, linestyle=\"--\")\n",
    "# Show plot\n",
    "fig.tight_layout()\n",
    "plt.savefig(\"results/img/pcf_vs_threshold.pdf\")\n",
    "plt.show()"
   ],
   "id": "6562a8ea59375c3b",
   "outputs": [
    {
     "name": "stdout",
     "output_type": "stream",
     "text": [
      "0.7373737373737373 0.9191919191919192 0.9595959595959596\n"
     ]
    },
    {
     "data": {
      "text/plain": [
       "<Figure size 800x1000 with 2 Axes>"
      ],
      "image/png": "[encoded data removed]"
     },
     "metadata": {},
     "output_type": "display_data"
    }
   ],
   "execution_count": 46
  }
 ],
 "metadata": {
  "kernelspec": {
   "display_name": "Python 3",
   "language": "python",
   "name": "python3"
  },
  "language_info": {
   "codemirror_mode": {
    "name": "ipython",
    "version": 2
   },
   "file_extension": ".py",
   "mimetype": "text/x-python",
   "name": "python",
   "nbconvert_exporter": "python",
   "pygments_lexer": "ipython2",
   "version": "2.7.6"
  }
 },
 "nbformat": 4,
 "nbformat_minor": 5
}
