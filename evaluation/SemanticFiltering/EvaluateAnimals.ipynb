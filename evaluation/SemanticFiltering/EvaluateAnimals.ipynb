{
 "cells": [
  {
   "metadata": {},
   "cell_type": "markdown",
   "source": "# Evaluate Similarity Grouping\n",
   "id": "a935d713b194d80b"
  },
  {
   "metadata": {
    "collapsed": true,
    "ExecuteTime": {
     "end_time": "2025-03-14T10:27:13.012433Z",
     "start_time": "2025-03-14T10:27:06.435153Z"
    }
   },
   "cell_type": "code",
   "source": [
    "import pandas as pd\n",
    "import numpy as np\n",
    "\n",
    "from tqdm import tqdm\n",
    "\n",
    "from models import ModelMgr\n",
    "from models.embedding.SentenceTransformer import SentenceTransformerEmbeddingModel\n",
    "from models.semantic_validation import LLaMAValidationModel\n",
    "\n",
    "from db.operators import Dummy, Select\n",
    "from db.criteria import SoftEqual\n",
    "from db.structure import Column, Constant\n",
    "import kagglehub\n",
    "\n",
    "from evaluation.util import calculate_metrics, calc_bleu\n",
    "\n",
    "import time"
   ],
   "id": "initial_id",
   "outputs": [
    {
     "name": "stderr",
     "output_type": "stream",
     "text": [
      "[nltk_data] Downloading package punkt to\n",
      "[nltk_data]     C:\\Users\\Nico\\AppData\\Roaming\\nltk_data...\n",
      "[nltk_data]   Package punkt is already up-to-date!\n",
      "[nltk_data] Downloading package punkt_tab to\n",
      "[nltk_data]     C:\\Users\\Nico\\AppData\\Roaming\\nltk_data...\n",
      "[nltk_data]   Package punkt_tab is already up-to-date!\n"
     ]
    }
   ],
   "execution_count": 1
  },
  {
   "metadata": {
    "ExecuteTime": {
     "end_time": "2025-03-14T10:27:15.210343Z",
     "start_time": "2025-03-14T10:27:13.015437Z"
    }
   },
   "cell_type": "code",
   "source": [
    "stem = SentenceTransformerEmbeddingModel(ModelMgr())\n",
    "lsv = LLaMAValidationModel(ModelMgr())\n",
    "# lsv = DeepSeekValidationModel(m)"
   ],
   "id": "31d4b74a79360e57",
   "outputs": [
    {
     "data": {
      "text/plain": [
       "Loading checkpoint shards:   0%|          | 0/2 [00:00<?, ?it/s]"
      ],
      "application/vnd.jupyter.widget-view+json": {
       "version_major": 2,
       "version_minor": 0,
       "model_id": "513efd12ebe94b50a1ac40a1d66f9046"
      }
     },
     "metadata": {},
     "output_type": "display_data"
    }
   ],
   "execution_count": 2
  },
  {
   "metadata": {
    "ExecuteTime": {
     "end_time": "2025-03-14T10:27:15.342868Z",
     "start_time": "2025-03-14T10:27:15.339914Z"
    }
   },
   "cell_type": "code",
   "source": [
    "ZERO_SHOT_SYSTEM_PROMPT = \"You are a validator. Respond with \\\"no\\\" and \\\"yes\\\" only!\"\n",
    "ZERO_SHOT_PROMPTING_TEMPLATE = 'Does \"{}\" describes \"{}\"'"
   ],
   "id": "865ffe3cef358c6a",
   "outputs": [],
   "execution_count": 3
  },
  {
   "metadata": {
    "ExecuteTime": {
     "end_time": "2025-03-14T10:27:15.690924Z",
     "start_time": "2025-03-14T10:27:15.346745Z"
    }
   },
   "cell_type": "code",
   "source": "path = kagglehub.dataset_download(\"uciml/zoo-animal-classification\")",
   "id": "ae9f844c5fbdeab7",
   "outputs": [
    {
     "name": "stdout",
     "output_type": "stream",
     "text": [
      "Warning: Looks like you're using an outdated `kagglehub` version, please consider updating (latest version: 0.3.10)\n"
     ]
    }
   ],
   "execution_count": 4
  },
  {
   "metadata": {
    "ExecuteTime": {
     "end_time": "2025-03-14T10:27:15.703118Z",
     "start_time": "2025-03-14T10:27:15.695605Z"
    }
   },
   "cell_type": "code",
   "source": [
    "classes = pd.read_csv(f\"{path}/class.csv\", index_col=0)[[\"Class_Type\"]]\n",
    "classes"
   ],
   "id": "6149932da4fdc18d",
   "outputs": [
    {
     "data": {
      "text/plain": [
       "                Class_Type\n",
       "Class_Number              \n",
       "1                   Mammal\n",
       "2                     Bird\n",
       "3                  Reptile\n",
       "4                     Fish\n",
       "5                Amphibian\n",
       "6                      Bug\n",
       "7             Invertebrate"
      ],
      "text/html": [
       "<div>\n",
       "<style scoped>\n",
       "    .dataframe tbody tr th:only-of-type {\n",
       "        vertical-align: middle;\n",
       "    }\n",
       "\n",
       "    .dataframe tbody tr th {\n",
       "        vertical-align: top;\n",
       "    }\n",
       "\n",
       "    .dataframe thead th {\n",
       "        text-align: right;\n",
       "    }\n",
       "</style>\n",
       "<table border=\"1\" class=\"dataframe\">\n",
       "  <thead>\n",
       "    <tr style=\"text-align: right;\">\n",
       "      <th></th>\n",
       "      <th>Class_Type</th>\n",
       "    </tr>\n",
       "    <tr>\n",
       "      <th>Class_Number</th>\n",
       "      <th></th>\n",
       "    </tr>\n",
       "  </thead>\n",
       "  <tbody>\n",
       "    <tr>\n",
       "      <th>1</th>\n",
       "      <td>Mammal</td>\n",
       "    </tr>\n",
       "    <tr>\n",
       "      <th>2</th>\n",
       "      <td>Bird</td>\n",
       "    </tr>\n",
       "    <tr>\n",
       "      <th>3</th>\n",
       "      <td>Reptile</td>\n",
       "    </tr>\n",
       "    <tr>\n",
       "      <th>4</th>\n",
       "      <td>Fish</td>\n",
       "    </tr>\n",
       "    <tr>\n",
       "      <th>5</th>\n",
       "      <td>Amphibian</td>\n",
       "    </tr>\n",
       "    <tr>\n",
       "      <th>6</th>\n",
       "      <td>Bug</td>\n",
       "    </tr>\n",
       "    <tr>\n",
       "      <th>7</th>\n",
       "      <td>Invertebrate</td>\n",
       "    </tr>\n",
       "  </tbody>\n",
       "</table>\n",
       "</div>"
      ]
     },
     "execution_count": 5,
     "metadata": {},
     "output_type": "execute_result"
    }
   ],
   "execution_count": 5
  },
  {
   "metadata": {
    "ExecuteTime": {
     "end_time": "2025-03-14T10:27:15.737530Z",
     "start_time": "2025-03-14T10:27:15.724697Z"
    }
   },
   "cell_type": "code",
   "source": [
    "transforms = {\"is\": \"is not\", \"has\": \"has no\", \"does\": \"does not\", \"lays\": \"does not lays\", \"gives\": \"gives no\"}\n",
    "transform_cols = {\"hair\": \"has\", \"feathers\": \"has\", \"eggs\": \"lays\", \"milk\": \"gives\", \"airborne\": \"is\", \"aquatic\": \"is\", \"predator\": \"is\", \"toothed\": \"is\", \"backbone\": \"has\", \"breathes\": \"does\", \"venomous\": \"is\", \"fins\": \"has\", \"legs\": \"has\", \"tail\": \"has\", \"domestic\": \"is\", \"catsize\": \"is\" }\n",
    "\n",
    "columns = [\"name\"] + [col for col in transform_cols]\n",
    "\n",
    "print(columns)\n",
    "\n",
    "zoo = pd.read_csv(f\"{path}/zoo.csv\", index_col=0)\n",
    "for col in transform_cols:\n",
    "    t = transform_cols[col]\n",
    "    zoo[col] = zoo[col].apply(lambda x: f'{t if x else transforms[t]} {col}')\n",
    "zoo"
   ],
   "id": "cae10cd2082b986f",
   "outputs": [
    {
     "name": "stdout",
     "output_type": "stream",
     "text": [
      "['name', 'hair', 'feathers', 'eggs', 'milk', 'airborne', 'aquatic', 'predator', 'toothed', 'backbone', 'breathes', 'venomous', 'fins', 'legs', 'tail', 'domestic', 'catsize']\n"
     ]
    },
    {
     "data": {
      "text/plain": [
       "                    hair         feathers                eggs           milk  \\\n",
       "animal_name                                                                    \n",
       "aardvark        has hair  has no feathers  does not lays eggs     gives milk   \n",
       "antelope        has hair  has no feathers  does not lays eggs     gives milk   \n",
       "bass         has no hair  has no feathers           lays eggs  gives no milk   \n",
       "bear            has hair  has no feathers  does not lays eggs     gives milk   \n",
       "boar            has hair  has no feathers  does not lays eggs     gives milk   \n",
       "...                  ...              ...                 ...            ...   \n",
       "wallaby         has hair  has no feathers  does not lays eggs     gives milk   \n",
       "wasp            has hair  has no feathers           lays eggs  gives no milk   \n",
       "wolf            has hair  has no feathers  does not lays eggs     gives milk   \n",
       "worm         has no hair  has no feathers           lays eggs  gives no milk   \n",
       "wren         has no hair     has feathers           lays eggs  gives no milk   \n",
       "\n",
       "                    airborne         aquatic         predator         toothed  \\\n",
       "animal_name                                                                     \n",
       "aardvark     is not airborne  is not aquatic      is predator      is toothed   \n",
       "antelope     is not airborne  is not aquatic  is not predator      is toothed   \n",
       "bass         is not airborne      is aquatic      is predator      is toothed   \n",
       "bear         is not airborne  is not aquatic      is predator      is toothed   \n",
       "boar         is not airborne  is not aquatic      is predator      is toothed   \n",
       "...                      ...             ...              ...             ...   \n",
       "wallaby      is not airborne  is not aquatic  is not predator      is toothed   \n",
       "wasp             is airborne  is not aquatic  is not predator  is not toothed   \n",
       "wolf         is not airborne  is not aquatic      is predator      is toothed   \n",
       "worm         is not airborne  is not aquatic  is not predator  is not toothed   \n",
       "wren             is airborne  is not aquatic  is not predator  is not toothed   \n",
       "\n",
       "                    backbone           breathes         venomous         fins  \\\n",
       "animal_name                                                                     \n",
       "aardvark        has backbone      does breathes  is not venomous  has no fins   \n",
       "antelope        has backbone      does breathes  is not venomous  has no fins   \n",
       "bass            has backbone  does not breathes  is not venomous     has fins   \n",
       "bear            has backbone      does breathes  is not venomous  has no fins   \n",
       "boar            has backbone      does breathes  is not venomous  has no fins   \n",
       "...                      ...                ...              ...          ...   \n",
       "wallaby         has backbone      does breathes  is not venomous  has no fins   \n",
       "wasp         has no backbone      does breathes      is venomous  has no fins   \n",
       "wolf            has backbone      does breathes  is not venomous  has no fins   \n",
       "worm         has no backbone      does breathes  is not venomous  has no fins   \n",
       "wren            has backbone      does breathes  is not venomous  has no fins   \n",
       "\n",
       "                    legs         tail         domestic         catsize  \\\n",
       "animal_name                                                              \n",
       "aardvark        has legs  has no tail  is not domestic      is catsize   \n",
       "antelope        has legs     has tail  is not domestic      is catsize   \n",
       "bass         has no legs     has tail  is not domestic  is not catsize   \n",
       "bear            has legs  has no tail  is not domestic      is catsize   \n",
       "boar            has legs     has tail  is not domestic      is catsize   \n",
       "...                  ...          ...              ...             ...   \n",
       "wallaby         has legs     has tail  is not domestic      is catsize   \n",
       "wasp            has legs  has no tail  is not domestic  is not catsize   \n",
       "wolf            has legs     has tail  is not domestic      is catsize   \n",
       "worm         has no legs  has no tail  is not domestic  is not catsize   \n",
       "wren            has legs     has tail  is not domestic  is not catsize   \n",
       "\n",
       "             class_type  \n",
       "animal_name              \n",
       "aardvark              1  \n",
       "antelope              1  \n",
       "bass                  4  \n",
       "bear                  1  \n",
       "boar                  1  \n",
       "...                 ...  \n",
       "wallaby               1  \n",
       "wasp                  6  \n",
       "wolf                  1  \n",
       "worm                  7  \n",
       "wren                  2  \n",
       "\n",
       "[101 rows x 17 columns]"
      ],
      "text/html": [
       "<div>\n",
       "<style scoped>\n",
       "    .dataframe tbody tr th:only-of-type {\n",
       "        vertical-align: middle;\n",
       "    }\n",
       "\n",
       "    .dataframe tbody tr th {\n",
       "        vertical-align: top;\n",
       "    }\n",
       "\n",
       "    .dataframe thead th {\n",
       "        text-align: right;\n",
       "    }\n",
       "</style>\n",
       "<table border=\"1\" class=\"dataframe\">\n",
       "  <thead>\n",
       "    <tr style=\"text-align: right;\">\n",
       "      <th></th>\n",
       "      <th>hair</th>\n",
       "      <th>feathers</th>\n",
       "      <th>eggs</th>\n",
       "      <th>milk</th>\n",
       "      <th>airborne</th>\n",
       "      <th>aquatic</th>\n",
       "      <th>predator</th>\n",
       "      <th>toothed</th>\n",
       "      <th>backbone</th>\n",
       "      <th>breathes</th>\n",
       "      <th>venomous</th>\n",
       "      <th>fins</th>\n",
       "      <th>legs</th>\n",
       "      <th>tail</th>\n",
       "      <th>domestic</th>\n",
       "      <th>catsize</th>\n",
       "      <th>class_type</th>\n",
       "    </tr>\n",
       "    <tr>\n",
       "      <th>animal_name</th>\n",
       "      <th></th>\n",
       "      <th></th>\n",
       "      <th></th>\n",
       "      <th></th>\n",
       "      <th></th>\n",
       "      <th></th>\n",
       "      <th></th>\n",
       "      <th></th>\n",
       "      <th></th>\n",
       "      <th></th>\n",
       "      <th></th>\n",
       "      <th></th>\n",
       "      <th></th>\n",
       "      <th></th>\n",
       "      <th></th>\n",
       "      <th></th>\n",
       "      <th></th>\n",
       "    </tr>\n",
       "  </thead>\n",
       "  <tbody>\n",
       "    <tr>\n",
       "      <th>aardvark</th>\n",
       "      <td>has hair</td>\n",
       "      <td>has no feathers</td>\n",
       "      <td>does not lays eggs</td>\n",
       "      <td>gives milk</td>\n",
       "      <td>is not airborne</td>\n",
       "      <td>is not aquatic</td>\n",
       "      <td>is predator</td>\n",
       "      <td>is toothed</td>\n",
       "      <td>has backbone</td>\n",
       "      <td>does breathes</td>\n",
       "      <td>is not venomous</td>\n",
       "      <td>has no fins</td>\n",
       "      <td>has legs</td>\n",
       "      <td>has no tail</td>\n",
       "      <td>is not domestic</td>\n",
       "      <td>is catsize</td>\n",
       "      <td>1</td>\n",
       "    </tr>\n",
       "    <tr>\n",
       "      <th>antelope</th>\n",
       "      <td>has hair</td>\n",
       "      <td>has no feathers</td>\n",
       "      <td>does not lays eggs</td>\n",
       "      <td>gives milk</td>\n",
       "      <td>is not airborne</td>\n",
       "      <td>is not aquatic</td>\n",
       "      <td>is not predator</td>\n",
       "      <td>is toothed</td>\n",
       "      <td>has backbone</td>\n",
       "      <td>does breathes</td>\n",
       "      <td>is not venomous</td>\n",
       "      <td>has no fins</td>\n",
       "      <td>has legs</td>\n",
       "      <td>has tail</td>\n",
       "      <td>is not domestic</td>\n",
       "      <td>is catsize</td>\n",
       "      <td>1</td>\n",
       "    </tr>\n",
       "    <tr>\n",
       "      <th>bass</th>\n",
       "      <td>has no hair</td>\n",
       "      <td>has no feathers</td>\n",
       "      <td>lays eggs</td>\n",
       "      <td>gives no milk</td>\n",
       "      <td>is not airborne</td>\n",
       "      <td>is aquatic</td>\n",
       "      <td>is predator</td>\n",
       "      <td>is toothed</td>\n",
       "      <td>has backbone</td>\n",
       "      <td>does not breathes</td>\n",
       "      <td>is not venomous</td>\n",
       "      <td>has fins</td>\n",
       "      <td>has no legs</td>\n",
       "      <td>has tail</td>\n",
       "      <td>is not domestic</td>\n",
       "      <td>is not catsize</td>\n",
       "      <td>4</td>\n",
       "    </tr>\n",
       "    <tr>\n",
       "      <th>bear</th>\n",
       "      <td>has hair</td>\n",
       "      <td>has no feathers</td>\n",
       "      <td>does not lays eggs</td>\n",
       "      <td>gives milk</td>\n",
       "      <td>is not airborne</td>\n",
       "      <td>is not aquatic</td>\n",
       "      <td>is predator</td>\n",
       "      <td>is toothed</td>\n",
       "      <td>has backbone</td>\n",
       "      <td>does breathes</td>\n",
       "      <td>is not venomous</td>\n",
       "      <td>has no fins</td>\n",
       "      <td>has legs</td>\n",
       "      <td>has no tail</td>\n",
       "      <td>is not domestic</td>\n",
       "      <td>is catsize</td>\n",
       "      <td>1</td>\n",
       "    </tr>\n",
       "    <tr>\n",
       "      <th>boar</th>\n",
       "      <td>has hair</td>\n",
       "      <td>has no feathers</td>\n",
       "      <td>does not lays eggs</td>\n",
       "      <td>gives milk</td>\n",
       "      <td>is not airborne</td>\n",
       "      <td>is not aquatic</td>\n",
       "      <td>is predator</td>\n",
       "      <td>is toothed</td>\n",
       "      <td>has backbone</td>\n",
       "      <td>does breathes</td>\n",
       "      <td>is not venomous</td>\n",
       "      <td>has no fins</td>\n",
       "      <td>has legs</td>\n",
       "      <td>has tail</td>\n",
       "      <td>is not domestic</td>\n",
       "      <td>is catsize</td>\n",
       "      <td>1</td>\n",
       "    </tr>\n",
       "    <tr>\n",
       "      <th>...</th>\n",
       "      <td>...</td>\n",
       "      <td>...</td>\n",
       "      <td>...</td>\n",
       "      <td>...</td>\n",
       "      <td>...</td>\n",
       "      <td>...</td>\n",
       "      <td>...</td>\n",
       "      <td>...</td>\n",
       "      <td>...</td>\n",
       "      <td>...</td>\n",
       "      <td>...</td>\n",
       "      <td>...</td>\n",
       "      <td>...</td>\n",
       "      <td>...</td>\n",
       "      <td>...</td>\n",
       "      <td>...</td>\n",
       "      <td>...</td>\n",
       "    </tr>\n",
       "    <tr>\n",
       "      <th>wallaby</th>\n",
       "      <td>has hair</td>\n",
       "      <td>has no feathers</td>\n",
       "      <td>does not lays eggs</td>\n",
       "      <td>gives milk</td>\n",
       "      <td>is not airborne</td>\n",
       "      <td>is not aquatic</td>\n",
       "      <td>is not predator</td>\n",
       "      <td>is toothed</td>\n",
       "      <td>has backbone</td>\n",
       "      <td>does breathes</td>\n",
       "      <td>is not venomous</td>\n",
       "      <td>has no fins</td>\n",
       "      <td>has legs</td>\n",
       "      <td>has tail</td>\n",
       "      <td>is not domestic</td>\n",
       "      <td>is catsize</td>\n",
       "      <td>1</td>\n",
       "    </tr>\n",
       "    <tr>\n",
       "      <th>wasp</th>\n",
       "      <td>has hair</td>\n",
       "      <td>has no feathers</td>\n",
       "      <td>lays eggs</td>\n",
       "      <td>gives no milk</td>\n",
       "      <td>is airborne</td>\n",
       "      <td>is not aquatic</td>\n",
       "      <td>is not predator</td>\n",
       "      <td>is not toothed</td>\n",
       "      <td>has no backbone</td>\n",
       "      <td>does breathes</td>\n",
       "      <td>is venomous</td>\n",
       "      <td>has no fins</td>\n",
       "      <td>has legs</td>\n",
       "      <td>has no tail</td>\n",
       "      <td>is not domestic</td>\n",
       "      <td>is not catsize</td>\n",
       "      <td>6</td>\n",
       "    </tr>\n",
       "    <tr>\n",
       "      <th>wolf</th>\n",
       "      <td>has hair</td>\n",
       "      <td>has no feathers</td>\n",
       "      <td>does not lays eggs</td>\n",
       "      <td>gives milk</td>\n",
       "      <td>is not airborne</td>\n",
       "      <td>is not aquatic</td>\n",
       "      <td>is predator</td>\n",
       "      <td>is toothed</td>\n",
       "      <td>has backbone</td>\n",
       "      <td>does breathes</td>\n",
       "      <td>is not venomous</td>\n",
       "      <td>has no fins</td>\n",
       "      <td>has legs</td>\n",
       "      <td>has tail</td>\n",
       "      <td>is not domestic</td>\n",
       "      <td>is catsize</td>\n",
       "      <td>1</td>\n",
       "    </tr>\n",
       "    <tr>\n",
       "      <th>worm</th>\n",
       "      <td>has no hair</td>\n",
       "      <td>has no feathers</td>\n",
       "      <td>lays eggs</td>\n",
       "      <td>gives no milk</td>\n",
       "      <td>is not airborne</td>\n",
       "      <td>is not aquatic</td>\n",
       "      <td>is not predator</td>\n",
       "      <td>is not toothed</td>\n",
       "      <td>has no backbone</td>\n",
       "      <td>does breathes</td>\n",
       "      <td>is not venomous</td>\n",
       "      <td>has no fins</td>\n",
       "      <td>has no legs</td>\n",
       "      <td>has no tail</td>\n",
       "      <td>is not domestic</td>\n",
       "      <td>is not catsize</td>\n",
       "      <td>7</td>\n",
       "    </tr>\n",
       "    <tr>\n",
       "      <th>wren</th>\n",
       "      <td>has no hair</td>\n",
       "      <td>has feathers</td>\n",
       "      <td>lays eggs</td>\n",
       "      <td>gives no milk</td>\n",
       "      <td>is airborne</td>\n",
       "      <td>is not aquatic</td>\n",
       "      <td>is not predator</td>\n",
       "      <td>is not toothed</td>\n",
       "      <td>has backbone</td>\n",
       "      <td>does breathes</td>\n",
       "      <td>is not venomous</td>\n",
       "      <td>has no fins</td>\n",
       "      <td>has legs</td>\n",
       "      <td>has tail</td>\n",
       "      <td>is not domestic</td>\n",
       "      <td>is not catsize</td>\n",
       "      <td>2</td>\n",
       "    </tr>\n",
       "  </tbody>\n",
       "</table>\n",
       "<p>101 rows × 17 columns</p>\n",
       "</div>"
      ]
     },
     "execution_count": 6,
     "metadata": {},
     "output_type": "execute_result"
    }
   ],
   "execution_count": 6
  },
  {
   "metadata": {
    "ExecuteTime": {
     "end_time": "2025-03-14T10:27:15.769556Z",
     "start_time": "2025-03-14T10:27:15.761051Z"
    }
   },
   "cell_type": "code",
   "source": [
    "gt = {tuple([key] + [x[col] for col in columns[1:]] + [classes.loc[x[\"class_type\"]].values[0]]) for key, x in zoo.iterrows()}\n",
    "print(str(gt)[0:500], \"...\", len(gt))"
   ],
   "id": "2e31372a7a1ea379",
   "outputs": [
    {
     "name": "stdout",
     "output_type": "stream",
     "text": [
      "{('pussycat', 'has hair', 'has no feathers', 'does not lays eggs', 'gives milk', 'is not airborne', 'is not aquatic', 'is predator', 'is toothed', 'has backbone', 'does breathes', 'is not venomous', 'has no fins', 'has legs', 'has tail', 'is domestic', 'is catsize', 'Mammal'), ('mongoose', 'has hair', 'has no feathers', 'does not lays eggs', 'gives milk', 'is not airborne', 'is not aquatic', 'is predator', 'is toothed', 'has backbone', 'does breathes', 'is not venomous', 'has no fins', 'has legs ... 101\n"
     ]
    }
   ],
   "execution_count": 7
  },
  {
   "metadata": {
    "ExecuteTime": {
     "end_time": "2025-03-14T10:27:15.843292Z",
     "start_time": "2025-03-14T10:27:15.840291Z"
    }
   },
   "cell_type": "code",
   "source": [
    "data = [x[:-1] for x in gt]\n",
    "print(data[0])"
   ],
   "id": "d7e22dc6173fafc1",
   "outputs": [
    {
     "name": "stdout",
     "output_type": "stream",
     "text": [
      "('pussycat', 'has hair', 'has no feathers', 'does not lays eggs', 'gives milk', 'is not airborne', 'is not aquatic', 'is predator', 'is toothed', 'has backbone', 'does breathes', 'is not venomous', 'has no fins', 'has legs', 'has tail', 'is domestic', 'is catsize')\n"
     ]
    }
   ],
   "execution_count": 8
  },
  {
   "metadata": {
    "ExecuteTime": {
     "end_time": "2025-03-14T10:27:15.877772Z",
     "start_time": "2025-03-14T10:27:15.874647Z"
    }
   },
   "cell_type": "code",
   "source": [
    "overall_result = {}\n",
    "\n",
    "def evaluate(method, threshold, system_prompt=ZERO_SHOT_SYSTEM_PROMPT, prompt_template=ZERO_SHOT_PROMPTING_TEMPLATE):\n",
    "    pred = []\n",
    "    runtimes = []\n",
    "    for animal_type in tqdm(classes.values):\n",
    "        animal_type = animal_type[0]\n",
    "\n",
    "        d = Dummy(\"animals\", columns, data)\n",
    "        s = Select(d, SoftEqual(columns, Constant(animal_type), method=method, em=stem, sv=lsv, threshold=threshold, zfs_system_prompt=system_prompt, zfs_prompt_template = prompt_template))\n",
    "\n",
    "        tic = time.time()\n",
    "        result = s.open().fetch_all()\n",
    "        toc = time.time()\n",
    "\n",
    "        pred.extend([tuple([x[col] for col in columns] + [animal_type]) for x in result])\n",
    "        runtimes.append(toc - tic)\n",
    "\n",
    "    scores = calculate_metrics(gt, set(pred), np.mean(runtimes))\n",
    "\n",
    "    print(method, threshold, scores[\"F1 Score\"])\n",
    "\n",
    "    return scores, pred"
   ],
   "id": "c67b9c155b3664a9",
   "outputs": [],
   "execution_count": 9
  },
  {
   "metadata": {
    "ExecuteTime": {
     "end_time": "2025-03-14T10:27:52.570079Z",
     "start_time": "2025-03-14T10:27:15.930350Z"
    }
   },
   "cell_type": "code",
   "source": [
    "for thresh in [0.1, 0.2, 0.3, 0.4, 0.5, 0.6, 0.7, 0.8, 0.9, 1.0]:\n",
    "    res, _ = evaluate(\"threshold\", thresh)\n",
    "    overall_result[(\"threshold\", thresh)] = res\n",
    "    if res[\"Recall\"] == 0.0:\n",
    "        break"
   ],
   "id": "5e15da8cf591a77f",
   "outputs": [
    {
     "name": "stderr",
     "output_type": "stream",
     "text": [
      "100%|██████████| 7/7 [00:05<00:00,  1.34it/s]\n"
     ]
    },
    {
     "name": "stdout",
     "output_type": "stream",
     "text": [
      "threshold 0.1 0.2506203473945409\n"
     ]
    },
    {
     "name": "stderr",
     "output_type": "stream",
     "text": [
      "100%|██████████| 7/7 [00:04<00:00,  1.46it/s]\n"
     ]
    },
    {
     "name": "stdout",
     "output_type": "stream",
     "text": [
      "threshold 0.2 0.2717086834733894\n"
     ]
    },
    {
     "name": "stderr",
     "output_type": "stream",
     "text": [
      "100%|██████████| 7/7 [00:04<00:00,  1.45it/s]\n"
     ]
    },
    {
     "name": "stdout",
     "output_type": "stream",
     "text": [
      "threshold 0.3 0.28483920367534454\n"
     ]
    },
    {
     "name": "stderr",
     "output_type": "stream",
     "text": [
      "100%|██████████| 7/7 [00:04<00:00,  1.44it/s]\n"
     ]
    },
    {
     "name": "stdout",
     "output_type": "stream",
     "text": [
      "threshold 0.4 0.386046511627907\n"
     ]
    },
    {
     "name": "stderr",
     "output_type": "stream",
     "text": [
      "100%|██████████| 7/7 [00:05<00:00,  1.28it/s]\n"
     ]
    },
    {
     "name": "stdout",
     "output_type": "stream",
     "text": [
      "threshold 0.5 0.32653061224489793\n"
     ]
    },
    {
     "name": "stderr",
     "output_type": "stream",
     "text": [
      "100%|██████████| 7/7 [00:11<00:00,  1.63s/it]"
     ]
    },
    {
     "name": "stdout",
     "output_type": "stream",
     "text": [
      "threshold 0.6 0\n"
     ]
    },
    {
     "name": "stderr",
     "output_type": "stream",
     "text": [
      "\n"
     ]
    }
   ],
   "execution_count": 10
  },
  {
   "metadata": {
    "ExecuteTime": {
     "end_time": "2025-03-14T10:28:16.118996Z",
     "start_time": "2025-03-14T10:27:52.592184Z"
    }
   },
   "cell_type": "code",
   "source": [
    "res, pred = evaluate(\"zero-few-shot\", None)\n",
    "overall_result[(\"zero-few-shot\", None)] = res"
   ],
   "id": "cfc4b912ac2f7c42",
   "outputs": [
    {
     "name": "stderr",
     "output_type": "stream",
     "text": [
      "100%|██████████| 7/7 [00:23<00:00,  3.36s/it]"
     ]
    },
    {
     "name": "stdout",
     "output_type": "stream",
     "text": [
      "zero-few-shot None 0.8699999999999999\n"
     ]
    },
    {
     "name": "stderr",
     "output_type": "stream",
     "text": [
      "\n"
     ]
    }
   ],
   "execution_count": 11
  },
  {
   "metadata": {
    "ExecuteTime": {
     "end_time": "2025-03-14T10:29:52.345616Z",
     "start_time": "2025-03-14T10:28:16.127444Z"
    }
   },
   "cell_type": "code",
   "source": [
    "for thresh in [0.1, 0.2, 0.3, 0.4, 0.5, 0.6, 0.7, 0.8, 0.9, 1.0]:\n",
    "    res, _ = evaluate(\"both\", thresh)\n",
    "    overall_result[(\"both\", thresh)] = res\n",
    "    if res[\"Recall\"] == 0.0:\n",
    "        break"
   ],
   "id": "98562b0a6b9358b6",
   "outputs": [
    {
     "name": "stderr",
     "output_type": "stream",
     "text": [
      "100%|██████████| 7/7 [00:26<00:00,  3.72s/it]\n"
     ]
    },
    {
     "name": "stdout",
     "output_type": "stream",
     "text": [
      "both 0.1 0.8699999999999999\n"
     ]
    },
    {
     "name": "stderr",
     "output_type": "stream",
     "text": [
      "100%|██████████| 7/7 [00:23<00:00,  3.31s/it]\n"
     ]
    },
    {
     "name": "stdout",
     "output_type": "stream",
     "text": [
      "both 0.2 0.8527918781725888\n"
     ]
    },
    {
     "name": "stderr",
     "output_type": "stream",
     "text": [
      "100%|██████████| 7/7 [00:21<00:00,  3.04s/it]\n"
     ]
    },
    {
     "name": "stdout",
     "output_type": "stream",
     "text": [
      "both 0.3 0.8350515463917527\n"
     ]
    },
    {
     "name": "stderr",
     "output_type": "stream",
     "text": [
      "100%|██████████| 7/7 [00:14<00:00,  2.10s/it]\n"
     ]
    },
    {
     "name": "stdout",
     "output_type": "stream",
     "text": [
      "both 0.4 0.7978723404255319\n"
     ]
    },
    {
     "name": "stderr",
     "output_type": "stream",
     "text": [
      "100%|██████████| 7/7 [00:06<00:00,  1.13it/s]\n"
     ]
    },
    {
     "name": "stdout",
     "output_type": "stream",
     "text": [
      "both 0.5 0.34374999999999994\n"
     ]
    },
    {
     "name": "stderr",
     "output_type": "stream",
     "text": [
      "100%|██████████| 7/7 [00:04<00:00,  1.47it/s]"
     ]
    },
    {
     "name": "stdout",
     "output_type": "stream",
     "text": [
      "both 0.6 0\n"
     ]
    },
    {
     "name": "stderr",
     "output_type": "stream",
     "text": [
      "\n"
     ]
    }
   ],
   "execution_count": 12
  },
  {
   "metadata": {
    "ExecuteTime": {
     "end_time": "2025-03-14T10:31:41.778001Z",
     "start_time": "2025-03-14T10:29:52.360527Z"
    }
   },
   "cell_type": "code",
   "source": [
    "for key in tqdm(overall_result):\n",
    "    scores_bleu = calc_bleu(gt, overall_result[key][\"pred\"])\n",
    "    for score_bleu in scores_bleu:\n",
    "        overall_result[key][score_bleu] = scores_bleu[score_bleu]"
   ],
   "id": "d528cf715e35518f",
   "outputs": [
    {
     "name": "stderr",
     "output_type": "stream",
     "text": [
      "100%|██████████| 13/13 [01:49<00:00,  8.42s/it]\n"
     ]
    }
   ],
   "execution_count": 13
  },
  {
   "metadata": {
    "ExecuteTime": {
     "end_time": "2025-03-14T10:31:41.802398Z",
     "start_time": "2025-03-14T10:31:41.791245Z"
    }
   },
   "cell_type": "code",
   "source": [
    "df_results = pd.DataFrame([{\"method\": k[0], \"threshold\": k[1]} | v for k,v in overall_result.items()]).drop(columns=[\"pred\"])\n",
    "df_results"
   ],
   "id": "8c8b88349060255c",
   "outputs": [
    {
     "data": {
      "text/plain": [
       "           method  threshold  Precision    Recall  F1 Score   tp   fn   fp  \\\n",
       "0       threshold        0.1   0.143262  1.000000  0.250620  101    0  604   \n",
       "1       threshold        0.2   0.158238  0.960396  0.271709   97    4  516   \n",
       "2       threshold        0.3   0.168478  0.920792  0.284839   93    8  459   \n",
       "3       threshold        0.4   0.252280  0.821782  0.386047   83   18  246   \n",
       "4       threshold        0.5   0.521739  0.237624  0.326531   24   77   22   \n",
       "5       threshold        0.6   0.000000  0.000000  0.000000    0  101    0   \n",
       "6   zero-few-shot        NaN   0.878788  0.861386  0.870000   87   14   12   \n",
       "7            both        0.1   0.878788  0.861386  0.870000   87   14   12   \n",
       "8            both        0.2   0.875000  0.831683  0.852792   84   17   12   \n",
       "9            both        0.3   0.870968  0.801980  0.835052   81   20   12   \n",
       "10           both        0.4   0.862069  0.742574  0.797872   75   26   12   \n",
       "11           both        0.5   0.814815  0.217822  0.343750   22   79    5   \n",
       "12           both        0.6   0.000000  0.000000  0.000000    0  101    0   \n",
       "\n",
       "     runtime     bleu1     bleu2     bleu3     bleu4  \n",
       "0   0.746588  1.000000  1.000000  1.000000  1.000000  \n",
       "1   0.685437  0.999363  0.999358  0.999353  0.999347  \n",
       "2   0.690415  0.998727  0.998717  0.998706  0.998695  \n",
       "3   0.695330  0.997065  0.997041  0.997015  0.996990  \n",
       "4   0.780139  0.981684  0.975662  0.970362  0.965376  \n",
       "5   1.627356 -1.000000 -1.000000 -1.000000 -1.000000  \n",
       "6   3.359380  0.996871  0.995339  0.994164  0.993087  \n",
       "7   3.723182  0.996871  0.995339  0.994164  0.993087  \n",
       "8   3.312671  0.996399  0.994863  0.993685  0.992603  \n",
       "9   3.041573  0.995922  0.994383  0.993200  0.992115  \n",
       "10  2.095968  0.994926  0.993212  0.991854  0.990671  \n",
       "11  0.882788  0.978917  0.970887  0.963273  0.955507  \n",
       "12  0.681330 -1.000000 -1.000000 -1.000000 -1.000000  "
      ],
      "text/html": [
       "<div>\n",
       "<style scoped>\n",
       "    .dataframe tbody tr th:only-of-type {\n",
       "        vertical-align: middle;\n",
       "    }\n",
       "\n",
       "    .dataframe tbody tr th {\n",
       "        vertical-align: top;\n",
       "    }\n",
       "\n",
       "    .dataframe thead th {\n",
       "        text-align: right;\n",
       "    }\n",
       "</style>\n",
       "<table border=\"1\" class=\"dataframe\">\n",
       "  <thead>\n",
       "    <tr style=\"text-align: right;\">\n",
       "      <th></th>\n",
       "      <th>method</th>\n",
       "      <th>threshold</th>\n",
       "      <th>Precision</th>\n",
       "      <th>Recall</th>\n",
       "      <th>F1 Score</th>\n",
       "      <th>tp</th>\n",
       "      <th>fn</th>\n",
       "      <th>fp</th>\n",
       "      <th>runtime</th>\n",
       "      <th>bleu1</th>\n",
       "      <th>bleu2</th>\n",
       "      <th>bleu3</th>\n",
       "      <th>bleu4</th>\n",
       "    </tr>\n",
       "  </thead>\n",
       "  <tbody>\n",
       "    <tr>\n",
       "      <th>0</th>\n",
       "      <td>threshold</td>\n",
       "      <td>0.1</td>\n",
       "      <td>0.143262</td>\n",
       "      <td>1.000000</td>\n",
       "      <td>0.250620</td>\n",
       "      <td>101</td>\n",
       "      <td>0</td>\n",
       "      <td>604</td>\n",
       "      <td>0.746588</td>\n",
       "      <td>1.000000</td>\n",
       "      <td>1.000000</td>\n",
       "      <td>1.000000</td>\n",
       "      <td>1.000000</td>\n",
       "    </tr>\n",
       "    <tr>\n",
       "      <th>1</th>\n",
       "      <td>threshold</td>\n",
       "      <td>0.2</td>\n",
       "      <td>0.158238</td>\n",
       "      <td>0.960396</td>\n",
       "      <td>0.271709</td>\n",
       "      <td>97</td>\n",
       "      <td>4</td>\n",
       "      <td>516</td>\n",
       "      <td>0.685437</td>\n",
       "      <td>0.999363</td>\n",
       "      <td>0.999358</td>\n",
       "      <td>0.999353</td>\n",
       "      <td>0.999347</td>\n",
       "    </tr>\n",
       "    <tr>\n",
       "      <th>2</th>\n",
       "      <td>threshold</td>\n",
       "      <td>0.3</td>\n",
       "      <td>0.168478</td>\n",
       "      <td>0.920792</td>\n",
       "      <td>0.284839</td>\n",
       "      <td>93</td>\n",
       "      <td>8</td>\n",
       "      <td>459</td>\n",
       "      <td>0.690415</td>\n",
       "      <td>0.998727</td>\n",
       "      <td>0.998717</td>\n",
       "      <td>0.998706</td>\n",
       "      <td>0.998695</td>\n",
       "    </tr>\n",
       "    <tr>\n",
       "      <th>3</th>\n",
       "      <td>threshold</td>\n",
       "      <td>0.4</td>\n",
       "      <td>0.252280</td>\n",
       "      <td>0.821782</td>\n",
       "      <td>0.386047</td>\n",
       "      <td>83</td>\n",
       "      <td>18</td>\n",
       "      <td>246</td>\n",
       "      <td>0.695330</td>\n",
       "      <td>0.997065</td>\n",
       "      <td>0.997041</td>\n",
       "      <td>0.997015</td>\n",
       "      <td>0.996990</td>\n",
       "    </tr>\n",
       "    <tr>\n",
       "      <th>4</th>\n",
       "      <td>threshold</td>\n",
       "      <td>0.5</td>\n",
       "      <td>0.521739</td>\n",
       "      <td>0.237624</td>\n",
       "      <td>0.326531</td>\n",
       "      <td>24</td>\n",
       "      <td>77</td>\n",
       "      <td>22</td>\n",
       "      <td>0.780139</td>\n",
       "      <td>0.981684</td>\n",
       "      <td>0.975662</td>\n",
       "      <td>0.970362</td>\n",
       "      <td>0.965376</td>\n",
       "    </tr>\n",
       "    <tr>\n",
       "      <th>5</th>\n",
       "      <td>threshold</td>\n",
       "      <td>0.6</td>\n",
       "      <td>0.000000</td>\n",
       "      <td>0.000000</td>\n",
       "      <td>0.000000</td>\n",
       "      <td>0</td>\n",
       "      <td>101</td>\n",
       "      <td>0</td>\n",
       "      <td>1.627356</td>\n",
       "      <td>-1.000000</td>\n",
       "      <td>-1.000000</td>\n",
       "      <td>-1.000000</td>\n",
       "      <td>-1.000000</td>\n",
       "    </tr>\n",
       "    <tr>\n",
       "      <th>6</th>\n",
       "      <td>zero-few-shot</td>\n",
       "      <td>NaN</td>\n",
       "      <td>0.878788</td>\n",
       "      <td>0.861386</td>\n",
       "      <td>0.870000</td>\n",
       "      <td>87</td>\n",
       "      <td>14</td>\n",
       "      <td>12</td>\n",
       "      <td>3.359380</td>\n",
       "      <td>0.996871</td>\n",
       "      <td>0.995339</td>\n",
       "      <td>0.994164</td>\n",
       "      <td>0.993087</td>\n",
       "    </tr>\n",
       "    <tr>\n",
       "      <th>7</th>\n",
       "      <td>both</td>\n",
       "      <td>0.1</td>\n",
       "      <td>0.878788</td>\n",
       "      <td>0.861386</td>\n",
       "      <td>0.870000</td>\n",
       "      <td>87</td>\n",
       "      <td>14</td>\n",
       "      <td>12</td>\n",
       "      <td>3.723182</td>\n",
       "      <td>0.996871</td>\n",
       "      <td>0.995339</td>\n",
       "      <td>0.994164</td>\n",
       "      <td>0.993087</td>\n",
       "    </tr>\n",
       "    <tr>\n",
       "      <th>8</th>\n",
       "      <td>both</td>\n",
       "      <td>0.2</td>\n",
       "      <td>0.875000</td>\n",
       "      <td>0.831683</td>\n",
       "      <td>0.852792</td>\n",
       "      <td>84</td>\n",
       "      <td>17</td>\n",
       "      <td>12</td>\n",
       "      <td>3.312671</td>\n",
       "      <td>0.996399</td>\n",
       "      <td>0.994863</td>\n",
       "      <td>0.993685</td>\n",
       "      <td>0.992603</td>\n",
       "    </tr>\n",
       "    <tr>\n",
       "      <th>9</th>\n",
       "      <td>both</td>\n",
       "      <td>0.3</td>\n",
       "      <td>0.870968</td>\n",
       "      <td>0.801980</td>\n",
       "      <td>0.835052</td>\n",
       "      <td>81</td>\n",
       "      <td>20</td>\n",
       "      <td>12</td>\n",
       "      <td>3.041573</td>\n",
       "      <td>0.995922</td>\n",
       "      <td>0.994383</td>\n",
       "      <td>0.993200</td>\n",
       "      <td>0.992115</td>\n",
       "    </tr>\n",
       "    <tr>\n",
       "      <th>10</th>\n",
       "      <td>both</td>\n",
       "      <td>0.4</td>\n",
       "      <td>0.862069</td>\n",
       "      <td>0.742574</td>\n",
       "      <td>0.797872</td>\n",
       "      <td>75</td>\n",
       "      <td>26</td>\n",
       "      <td>12</td>\n",
       "      <td>2.095968</td>\n",
       "      <td>0.994926</td>\n",
       "      <td>0.993212</td>\n",
       "      <td>0.991854</td>\n",
       "      <td>0.990671</td>\n",
       "    </tr>\n",
       "    <tr>\n",
       "      <th>11</th>\n",
       "      <td>both</td>\n",
       "      <td>0.5</td>\n",
       "      <td>0.814815</td>\n",
       "      <td>0.217822</td>\n",
       "      <td>0.343750</td>\n",
       "      <td>22</td>\n",
       "      <td>79</td>\n",
       "      <td>5</td>\n",
       "      <td>0.882788</td>\n",
       "      <td>0.978917</td>\n",
       "      <td>0.970887</td>\n",
       "      <td>0.963273</td>\n",
       "      <td>0.955507</td>\n",
       "    </tr>\n",
       "    <tr>\n",
       "      <th>12</th>\n",
       "      <td>both</td>\n",
       "      <td>0.6</td>\n",
       "      <td>0.000000</td>\n",
       "      <td>0.000000</td>\n",
       "      <td>0.000000</td>\n",
       "      <td>0</td>\n",
       "      <td>101</td>\n",
       "      <td>0</td>\n",
       "      <td>0.681330</td>\n",
       "      <td>-1.000000</td>\n",
       "      <td>-1.000000</td>\n",
       "      <td>-1.000000</td>\n",
       "      <td>-1.000000</td>\n",
       "    </tr>\n",
       "  </tbody>\n",
       "</table>\n",
       "</div>"
      ]
     },
     "execution_count": 14,
     "metadata": {},
     "output_type": "execute_result"
    }
   ],
   "execution_count": 14
  },
  {
   "metadata": {
    "ExecuteTime": {
     "end_time": "2025-03-14T10:31:41.847698Z",
     "start_time": "2025-03-14T10:31:41.842699Z"
    }
   },
   "cell_type": "code",
   "source": "df_results.to_csv(\"results/Animals_mpnetBaseV2_LLama3B.csv\")",
   "id": "94f320a6db680672",
   "outputs": [],
   "execution_count": 15
  }
 ],
 "metadata": {
  "kernelspec": {
   "display_name": "Python 3",
   "language": "python",
   "name": "python3"
  },
  "language_info": {
   "codemirror_mode": {
    "name": "ipython",
    "version": 2
   },
   "file_extension": ".py",
   "mimetype": "text/x-python",
   "name": "python",
   "nbconvert_exporter": "python",
   "pygments_lexer": "ipython2",
   "version": "2.7.6"
  }
 },
 "nbformat": 4,
 "nbformat_minor": 5
}
