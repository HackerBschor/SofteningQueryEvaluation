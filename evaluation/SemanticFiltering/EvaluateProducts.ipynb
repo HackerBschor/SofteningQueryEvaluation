{
 "cells": [
  {
   "metadata": {},
   "cell_type": "markdown",
   "source": "# Evaluate Similarity Grouping\n",
   "id": "a935d713b194d80b"
  },
  {
   "metadata": {
    "collapsed": true,
    "ExecuteTime": {
     "end_time": "2025-03-14T09:45:55.735676Z",
     "start_time": "2025-03-14T09:45:48.995429Z"
    }
   },
   "cell_type": "code",
   "source": [
    "import pandas as pd\n",
    "import numpy as np\n",
    "\n",
    "from tqdm import tqdm\n",
    "\n",
    "from models import ModelMgr\n",
    "from models.embedding.SentenceTransformer import SentenceTransformerEmbeddingModel\n",
    "from models.semantic_validation import LLaMAValidationModel\n",
    "\n",
    "from db.operators import Dummy, Select\n",
    "from db.criteria import SoftEqual\n",
    "from db.structure import Column, Constant\n",
    "import kagglehub\n",
    "\n",
    "from evaluation.util import calculate_metrics, calc_bleu\n",
    "\n",
    "import time"
   ],
   "id": "initial_id",
   "outputs": [
    {
     "name": "stderr",
     "output_type": "stream",
     "text": [
      "[nltk_data] Downloading package punkt to\n",
      "[nltk_data]     C:\\Users\\Nico\\AppData\\Roaming\\nltk_data...\n",
      "[nltk_data]   Package punkt is already up-to-date!\n",
      "[nltk_data] Downloading package punkt_tab to\n",
      "[nltk_data]     C:\\Users\\Nico\\AppData\\Roaming\\nltk_data...\n",
      "[nltk_data]   Package punkt_tab is already up-to-date!\n"
     ]
    }
   ],
   "execution_count": 1
  },
  {
   "metadata": {
    "ExecuteTime": {
     "end_time": "2025-03-14T09:45:58.265264Z",
     "start_time": "2025-03-14T09:45:55.805623Z"
    }
   },
   "cell_type": "code",
   "source": [
    "stem = SentenceTransformerEmbeddingModel(ModelMgr())\n",
    "lsv = LLaMAValidationModel(ModelMgr())\n",
    "# lsv = DeepSeekValidationModel(m)"
   ],
   "id": "31d4b74a79360e57",
   "outputs": [
    {
     "data": {
      "text/plain": [
       "Loading checkpoint shards:   0%|          | 0/2 [00:00<?, ?it/s]"
      ],
      "application/vnd.jupyter.widget-view+json": {
       "version_major": 2,
       "version_minor": 0,
       "model_id": "fb3064b3d37045dc881208239643fdff"
      }
     },
     "metadata": {},
     "output_type": "display_data"
    }
   ],
   "execution_count": 2
  },
  {
   "metadata": {
    "ExecuteTime": {
     "end_time": "2025-03-14T09:45:58.405073Z",
     "start_time": "2025-03-14T09:45:58.401135Z"
    }
   },
   "cell_type": "code",
   "source": [
    "ZERO_SHOT_SYSTEM_PROMPT = \"You are a validator. Respond with \\\"no\\\" and \\\"yes\\\" only!\"\n",
    "ZERO_SHOT_PROMPTING_TEMPLATE = 'Does \"{}\" describes \"{}\"'\n",
    "\n",
    "random_state = 420\n",
    "max_number_categories = 100\n",
    "\n",
    "target = \"category_2\""
   ],
   "id": "865ffe3cef358c6a",
   "outputs": [],
   "execution_count": 3
  },
  {
   "metadata": {
    "ExecuteTime": {
     "end_time": "2025-03-14T09:45:58.785809Z",
     "start_time": "2025-03-14T09:45:58.410661Z"
    }
   },
   "cell_type": "code",
   "source": [
    "path = kagglehub.dataset_download(\"lakritidis/product-classification-and-categorization\")\n",
    "\n",
    "df = pd.read_csv(f\"{path}/pricerunner_aggregate.csv\", header=None, index_col=0)\n",
    "df.drop(columns=[2, 3, 5], inplace=True)\n",
    "df.columns = [\"product\", \"category_1\", \"category_2\"]\n",
    "df.head()"
   ],
   "id": "5a9cf14e0e8f7599",
   "outputs": [
    {
     "name": "stdout",
     "output_type": "stream",
     "text": [
      "Warning: Looks like you're using an outdated `kagglehub` version, please consider updating (latest version: 0.3.10)\n"
     ]
    },
    {
     "data": {
      "text/plain": [
       "                                             product  \\\n",
       "0                                                      \n",
       "1                    apple iphone 8 plus 64gb silver   \n",
       "2                apple iphone 8 plus 64 gb spacegrau   \n",
       "3  apple mq8n2b/a iphone 8 plus 64gb 5.5 12mp sim...   \n",
       "4                apple iphone 8 plus 64gb space grey   \n",
       "5  apple iphone 8 plus gold 5.5 64gb 4g unlocked ...   \n",
       "\n",
       "                 category_1     category_2  \n",
       "0                                           \n",
       "1  Apple iPhone 8 Plus 64GB  Mobile Phones  \n",
       "2  Apple iPhone 8 Plus 64GB  Mobile Phones  \n",
       "3  Apple iPhone 8 Plus 64GB  Mobile Phones  \n",
       "4  Apple iPhone 8 Plus 64GB  Mobile Phones  \n",
       "5  Apple iPhone 8 Plus 64GB  Mobile Phones  "
      ],
      "text/html": [
       "<div>\n",
       "<style scoped>\n",
       "    .dataframe tbody tr th:only-of-type {\n",
       "        vertical-align: middle;\n",
       "    }\n",
       "\n",
       "    .dataframe tbody tr th {\n",
       "        vertical-align: top;\n",
       "    }\n",
       "\n",
       "    .dataframe thead th {\n",
       "        text-align: right;\n",
       "    }\n",
       "</style>\n",
       "<table border=\"1\" class=\"dataframe\">\n",
       "  <thead>\n",
       "    <tr style=\"text-align: right;\">\n",
       "      <th></th>\n",
       "      <th>product</th>\n",
       "      <th>category_1</th>\n",
       "      <th>category_2</th>\n",
       "    </tr>\n",
       "    <tr>\n",
       "      <th>0</th>\n",
       "      <th></th>\n",
       "      <th></th>\n",
       "      <th></th>\n",
       "    </tr>\n",
       "  </thead>\n",
       "  <tbody>\n",
       "    <tr>\n",
       "      <th>1</th>\n",
       "      <td>apple iphone 8 plus 64gb silver</td>\n",
       "      <td>Apple iPhone 8 Plus 64GB</td>\n",
       "      <td>Mobile Phones</td>\n",
       "    </tr>\n",
       "    <tr>\n",
       "      <th>2</th>\n",
       "      <td>apple iphone 8 plus 64 gb spacegrau</td>\n",
       "      <td>Apple iPhone 8 Plus 64GB</td>\n",
       "      <td>Mobile Phones</td>\n",
       "    </tr>\n",
       "    <tr>\n",
       "      <th>3</th>\n",
       "      <td>apple mq8n2b/a iphone 8 plus 64gb 5.5 12mp sim...</td>\n",
       "      <td>Apple iPhone 8 Plus 64GB</td>\n",
       "      <td>Mobile Phones</td>\n",
       "    </tr>\n",
       "    <tr>\n",
       "      <th>4</th>\n",
       "      <td>apple iphone 8 plus 64gb space grey</td>\n",
       "      <td>Apple iPhone 8 Plus 64GB</td>\n",
       "      <td>Mobile Phones</td>\n",
       "    </tr>\n",
       "    <tr>\n",
       "      <th>5</th>\n",
       "      <td>apple iphone 8 plus gold 5.5 64gb 4g unlocked ...</td>\n",
       "      <td>Apple iPhone 8 Plus 64GB</td>\n",
       "      <td>Mobile Phones</td>\n",
       "    </tr>\n",
       "  </tbody>\n",
       "</table>\n",
       "</div>"
      ]
     },
     "execution_count": 4,
     "metadata": {},
     "output_type": "execute_result"
    }
   ],
   "execution_count": 4
  },
  {
   "metadata": {
    "ExecuteTime": {
     "end_time": "2025-03-14T09:45:58.839572Z",
     "start_time": "2025-03-14T09:45:58.834065Z"
    }
   },
   "cell_type": "code",
   "source": [
    "categories = pd.Series(df[target].unique())\n",
    "categories = categories.sample(min(len(categories), max_number_categories)).tolist()\n",
    "\n",
    "print(len(categories)), print(categories)"
   ],
   "id": "1e99546606e5c94a",
   "outputs": [
    {
     "name": "stdout",
     "output_type": "stream",
     "text": [
      "10\n",
      "['Fridge Freezers', 'Digital Cameras', 'Freezers', 'TVs', 'Mobile Phones', 'Dishwashers', 'Microwaves', 'Washing Machines', 'CPUs', 'Fridges']\n"
     ]
    },
    {
     "data": {
      "text/plain": [
       "(None, None)"
      ]
     },
     "execution_count": 6,
     "metadata": {},
     "output_type": "execute_result"
    }
   ],
   "execution_count": 6
  },
  {
   "metadata": {
    "ExecuteTime": {
     "end_time": "2025-03-14T09:45:58.883991Z",
     "start_time": "2025-03-14T09:45:58.865591Z"
    }
   },
   "cell_type": "code",
   "source": [
    "df_reduced = pd.concat([df[df[target] == category].sample(1, random_state=random_state) for category in categories])\n",
    "gt = {(x[\"product\"], x[target]) for key, x in df_reduced.iterrows()}\n",
    "print(str(gt)[0:100], \"...\", len(gt))"
   ],
   "id": "2e31372a7a1ea379",
   "outputs": [
    {
     "name": "stdout",
     "output_type": "stream",
     "text": [
      "{('bosch einbausp ler sbv88tx36e vollintegriert', 'Dishwashers'), ('hewlett packard enterprise intel ... 10\n"
     ]
    }
   ],
   "execution_count": 7
  },
  {
   "metadata": {
    "ExecuteTime": {
     "end_time": "2025-03-14T09:45:58.900990Z",
     "start_time": "2025-03-14T09:45:58.897002Z"
    }
   },
   "cell_type": "code",
   "source": [
    "overall_result = {}\n",
    "\n",
    "def evaluate(method, threshold, system_prompt=ZERO_SHOT_SYSTEM_PROMPT, prompt_template=ZERO_SHOT_PROMPTING_TEMPLATE):\n",
    "    pred = []\n",
    "    runtimes = []\n",
    "    for category in tqdm(categories):\n",
    "        d = Dummy(\"products\", [\"product\"], [(x[0], ) for x in gt])\n",
    "        s = Select(d, SoftEqual(Column(\"product\"),Constant(category), method=method, em=stem, sv=lsv, threshold=threshold, zfs_system_prompt=system_prompt, zfs_prompt_template = prompt_template))\n",
    "\n",
    "        tic = time.time()\n",
    "        result = s.open().fetch_all()\n",
    "        toc = time.time()\n",
    "\n",
    "        pred.extend([(x[\"product\"], category) for x in result])\n",
    "        runtimes.append(toc - tic)\n",
    "\n",
    "    scores = calculate_metrics(gt, set(pred), np.mean(runtimes))\n",
    "\n",
    "    print(method, threshold, scores[\"F1 Score\"])\n",
    "\n",
    "    return scores, pred"
   ],
   "id": "c67b9c155b3664a9",
   "outputs": [],
   "execution_count": 8
  },
  {
   "metadata": {
    "ExecuteTime": {
     "end_time": "2025-03-14T09:46:03.769522Z",
     "start_time": "2025-03-14T09:45:58.915951Z"
    }
   },
   "cell_type": "code",
   "source": [
    "for thresh in [0.1, 0.2, 0.3, 0.4, 0.5, 0.6, 0.7, 0.8, 0.9, 1.0]:\n",
    "    res, _ = evaluate(\"threshold\", thresh)\n",
    "    overall_result[(\"threshold\", thresh)] = res\n",
    "    if res[\"Recall\"] == 0.0:\n",
    "        break"
   ],
   "id": "5e15da8cf591a77f",
   "outputs": [
    {
     "name": "stderr",
     "output_type": "stream",
     "text": [
      "100%|██████████| 10/10 [00:01<00:00,  8.97it/s]\n"
     ]
    },
    {
     "name": "stdout",
     "output_type": "stream",
     "text": [
      "threshold 0.1 0.2647058823529411\n"
     ]
    },
    {
     "name": "stderr",
     "output_type": "stream",
     "text": [
      "100%|██████████| 10/10 [00:00<00:00, 13.64it/s]\n"
     ]
    },
    {
     "name": "stdout",
     "output_type": "stream",
     "text": [
      "threshold 0.2 0.5294117647058825\n"
     ]
    },
    {
     "name": "stderr",
     "output_type": "stream",
     "text": [
      "100%|██████████| 10/10 [00:00<00:00, 14.04it/s]\n"
     ]
    },
    {
     "name": "stdout",
     "output_type": "stream",
     "text": [
      "threshold 0.3 0.6666666666666666\n"
     ]
    },
    {
     "name": "stderr",
     "output_type": "stream",
     "text": [
      "100%|██████████| 10/10 [00:00<00:00, 13.78it/s]\n"
     ]
    },
    {
     "name": "stdout",
     "output_type": "stream",
     "text": [
      "threshold 0.4 0.7\n"
     ]
    },
    {
     "name": "stderr",
     "output_type": "stream",
     "text": [
      "100%|██████████| 10/10 [00:00<00:00, 12.86it/s]\n"
     ]
    },
    {
     "name": "stdout",
     "output_type": "stream",
     "text": [
      "threshold 0.5 0.16666666666666669\n"
     ]
    },
    {
     "name": "stderr",
     "output_type": "stream",
     "text": [
      "100%|██████████| 10/10 [00:00<00:00, 12.82it/s]"
     ]
    },
    {
     "name": "stdout",
     "output_type": "stream",
     "text": [
      "threshold 0.6 0\n"
     ]
    },
    {
     "name": "stderr",
     "output_type": "stream",
     "text": [
      "\n"
     ]
    }
   ],
   "execution_count": 9
  },
  {
   "metadata": {
    "ExecuteTime": {
     "end_time": "2025-03-14T09:46:09.310804Z",
     "start_time": "2025-03-14T09:46:03.781146Z"
    }
   },
   "cell_type": "code",
   "source": [
    "res, pred = evaluate(\"zero-few-shot\", None)\n",
    "overall_result[(\"zero-few-shot\", None)] = res"
   ],
   "id": "cfc4b912ac2f7c42",
   "outputs": [
    {
     "name": "stderr",
     "output_type": "stream",
     "text": [
      "100%|██████████| 10/10 [00:05<00:00,  1.81it/s]"
     ]
    },
    {
     "name": "stdout",
     "output_type": "stream",
     "text": [
      "zero-few-shot None 0.6666666666666666\n"
     ]
    },
    {
     "name": "stderr",
     "output_type": "stream",
     "text": [
      "\n"
     ]
    }
   ],
   "execution_count": 10
  },
  {
   "metadata": {
    "ExecuteTime": {
     "end_time": "2025-03-14T09:46:16.151813Z",
     "start_time": "2025-03-14T09:46:09.316808Z"
    }
   },
   "cell_type": "code",
   "source": [
    "for thresh in [0.1, 0.2, 0.3, 0.4, 0.5, 0.6, 0.7, 0.8, 0.9, 1.0]:\n",
    "    res, _ = evaluate(\"both\", thresh)\n",
    "    overall_result[(\"both\", thresh)] = res\n",
    "    if res[\"Recall\"] == 0.0:\n",
    "        break"
   ],
   "id": "98562b0a6b9358b6",
   "outputs": [
    {
     "name": "stderr",
     "output_type": "stream",
     "text": [
      "100%|██████████| 10/10 [00:02<00:00,  4.09it/s]\n"
     ]
    },
    {
     "name": "stdout",
     "output_type": "stream",
     "text": [
      "both 0.1 0.6666666666666666\n"
     ]
    },
    {
     "name": "stderr",
     "output_type": "stream",
     "text": [
      "100%|██████████| 10/10 [00:01<00:00,  7.08it/s]\n"
     ]
    },
    {
     "name": "stdout",
     "output_type": "stream",
     "text": [
      "both 0.2 0.6666666666666666\n"
     ]
    },
    {
     "name": "stderr",
     "output_type": "stream",
     "text": [
      "100%|██████████| 10/10 [00:01<00:00,  8.84it/s]\n"
     ]
    },
    {
     "name": "stdout",
     "output_type": "stream",
     "text": [
      "both 0.3 0.5714285714285715\n"
     ]
    },
    {
     "name": "stderr",
     "output_type": "stream",
     "text": [
      "100%|██████████| 10/10 [00:01<00:00,  9.73it/s]\n"
     ]
    },
    {
     "name": "stdout",
     "output_type": "stream",
     "text": [
      "both 0.4 0.4615384615384615\n"
     ]
    },
    {
     "name": "stderr",
     "output_type": "stream",
     "text": [
      "100%|██████████| 10/10 [00:00<00:00, 12.35it/s]"
     ]
    },
    {
     "name": "stdout",
     "output_type": "stream",
     "text": [
      "both 0.5 0\n"
     ]
    },
    {
     "name": "stderr",
     "output_type": "stream",
     "text": [
      "\n"
     ]
    }
   ],
   "execution_count": 11
  },
  {
   "metadata": {
    "ExecuteTime": {
     "end_time": "2025-03-14T09:46:16.417619Z",
     "start_time": "2025-03-14T09:46:16.157222Z"
    }
   },
   "cell_type": "code",
   "source": [
    "for key in tqdm(overall_result):\n",
    "    scores_bleu = calc_bleu(gt, overall_result[key][\"pred\"])\n",
    "    for score_bleu in scores_bleu:\n",
    "        overall_result[key][score_bleu] = scores_bleu[score_bleu]"
   ],
   "id": "d528cf715e35518f",
   "outputs": [
    {
     "name": "stderr",
     "output_type": "stream",
     "text": [
      "100%|██████████| 12/12 [00:00<00:00, 47.08it/s]\n"
     ]
    }
   ],
   "execution_count": 12
  },
  {
   "metadata": {
    "ExecuteTime": {
     "end_time": "2025-03-14T09:46:16.432986Z",
     "start_time": "2025-03-14T09:46:16.423282Z"
    }
   },
   "cell_type": "code",
   "source": [
    "df_results = pd.DataFrame([{\"method\": k[0], \"threshold\": k[1]} | v for k,v in overall_result.items()]).drop(columns=[\"pred\"])\n",
    "df_results"
   ],
   "id": "8c8b88349060255c",
   "outputs": [
    {
     "data": {
      "text/plain": [
       "           method  threshold  Precision  Recall  F1 Score  tp  fn  fp  \\\n",
       "0       threshold        0.1   0.155172     0.9  0.264706   9   1  49   \n",
       "1       threshold        0.2   0.375000     0.9  0.529412   9   1  15   \n",
       "2       threshold        0.3   0.571429     0.8  0.666667   8   2   6   \n",
       "3       threshold        0.4   0.700000     0.7  0.700000   7   3   3   \n",
       "4       threshold        0.5   0.500000     0.1  0.166667   1   9   1   \n",
       "5       threshold        0.6   0.000000     0.0  0.000000   0  10   0   \n",
       "6   zero-few-shot        NaN   1.000000     0.5  0.666667   5   5   0   \n",
       "7            both        0.1   1.000000     0.5  0.666667   5   5   0   \n",
       "8            both        0.2   1.000000     0.5  0.666667   5   5   0   \n",
       "9            both        0.3   1.000000     0.4  0.571429   4   6   0   \n",
       "10           both        0.4   1.000000     0.3  0.461538   3   7   0   \n",
       "11           both        0.5   0.000000     0.0  0.000000   0  10   0   \n",
       "\n",
       "     runtime     bleu1     bleu2     bleu3     bleu4  \n",
       "0   0.111067  0.985714  0.984515  0.982983  0.980911  \n",
       "1   0.072988  0.916135  0.912323  0.905556  0.903945  \n",
       "2   0.070779  0.826786  0.809105  0.806724  0.806081  \n",
       "3   0.072155  0.734478  0.711637  0.708523  0.707634  \n",
       "4   0.077640  0.288132  0.213444  0.204069  0.200907  \n",
       "5   0.077581 -1.000000 -1.000000 -1.000000 -1.000000  \n",
       "6   0.551632  0.595910  0.542653  0.531649  0.520222  \n",
       "7   0.243688  0.595910  0.542653  0.531649  0.520222  \n",
       "8   0.141115  0.595910  0.542653  0.531649  0.520222  \n",
       "9   0.112696  0.508410  0.446879  0.434748  0.422999  \n",
       "10  0.102456  0.416102  0.349411  0.336548  0.324553  \n",
       "11  0.080595 -1.000000 -1.000000 -1.000000 -1.000000  "
      ],
      "text/html": [
       "<div>\n",
       "<style scoped>\n",
       "    .dataframe tbody tr th:only-of-type {\n",
       "        vertical-align: middle;\n",
       "    }\n",
       "\n",
       "    .dataframe tbody tr th {\n",
       "        vertical-align: top;\n",
       "    }\n",
       "\n",
       "    .dataframe thead th {\n",
       "        text-align: right;\n",
       "    }\n",
       "</style>\n",
       "<table border=\"1\" class=\"dataframe\">\n",
       "  <thead>\n",
       "    <tr style=\"text-align: right;\">\n",
       "      <th></th>\n",
       "      <th>method</th>\n",
       "      <th>threshold</th>\n",
       "      <th>Precision</th>\n",
       "      <th>Recall</th>\n",
       "      <th>F1 Score</th>\n",
       "      <th>tp</th>\n",
       "      <th>fn</th>\n",
       "      <th>fp</th>\n",
       "      <th>runtime</th>\n",
       "      <th>bleu1</th>\n",
       "      <th>bleu2</th>\n",
       "      <th>bleu3</th>\n",
       "      <th>bleu4</th>\n",
       "    </tr>\n",
       "  </thead>\n",
       "  <tbody>\n",
       "    <tr>\n",
       "      <th>0</th>\n",
       "      <td>threshold</td>\n",
       "      <td>0.1</td>\n",
       "      <td>0.155172</td>\n",
       "      <td>0.9</td>\n",
       "      <td>0.264706</td>\n",
       "      <td>9</td>\n",
       "      <td>1</td>\n",
       "      <td>49</td>\n",
       "      <td>0.111067</td>\n",
       "      <td>0.985714</td>\n",
       "      <td>0.984515</td>\n",
       "      <td>0.982983</td>\n",
       "      <td>0.980911</td>\n",
       "    </tr>\n",
       "    <tr>\n",
       "      <th>1</th>\n",
       "      <td>threshold</td>\n",
       "      <td>0.2</td>\n",
       "      <td>0.375000</td>\n",
       "      <td>0.9</td>\n",
       "      <td>0.529412</td>\n",
       "      <td>9</td>\n",
       "      <td>1</td>\n",
       "      <td>15</td>\n",
       "      <td>0.072988</td>\n",
       "      <td>0.916135</td>\n",
       "      <td>0.912323</td>\n",
       "      <td>0.905556</td>\n",
       "      <td>0.903945</td>\n",
       "    </tr>\n",
       "    <tr>\n",
       "      <th>2</th>\n",
       "      <td>threshold</td>\n",
       "      <td>0.3</td>\n",
       "      <td>0.571429</td>\n",
       "      <td>0.8</td>\n",
       "      <td>0.666667</td>\n",
       "      <td>8</td>\n",
       "      <td>2</td>\n",
       "      <td>6</td>\n",
       "      <td>0.070779</td>\n",
       "      <td>0.826786</td>\n",
       "      <td>0.809105</td>\n",
       "      <td>0.806724</td>\n",
       "      <td>0.806081</td>\n",
       "    </tr>\n",
       "    <tr>\n",
       "      <th>3</th>\n",
       "      <td>threshold</td>\n",
       "      <td>0.4</td>\n",
       "      <td>0.700000</td>\n",
       "      <td>0.7</td>\n",
       "      <td>0.700000</td>\n",
       "      <td>7</td>\n",
       "      <td>3</td>\n",
       "      <td>3</td>\n",
       "      <td>0.072155</td>\n",
       "      <td>0.734478</td>\n",
       "      <td>0.711637</td>\n",
       "      <td>0.708523</td>\n",
       "      <td>0.707634</td>\n",
       "    </tr>\n",
       "    <tr>\n",
       "      <th>4</th>\n",
       "      <td>threshold</td>\n",
       "      <td>0.5</td>\n",
       "      <td>0.500000</td>\n",
       "      <td>0.1</td>\n",
       "      <td>0.166667</td>\n",
       "      <td>1</td>\n",
       "      <td>9</td>\n",
       "      <td>1</td>\n",
       "      <td>0.077640</td>\n",
       "      <td>0.288132</td>\n",
       "      <td>0.213444</td>\n",
       "      <td>0.204069</td>\n",
       "      <td>0.200907</td>\n",
       "    </tr>\n",
       "    <tr>\n",
       "      <th>5</th>\n",
       "      <td>threshold</td>\n",
       "      <td>0.6</td>\n",
       "      <td>0.000000</td>\n",
       "      <td>0.0</td>\n",
       "      <td>0.000000</td>\n",
       "      <td>0</td>\n",
       "      <td>10</td>\n",
       "      <td>0</td>\n",
       "      <td>0.077581</td>\n",
       "      <td>-1.000000</td>\n",
       "      <td>-1.000000</td>\n",
       "      <td>-1.000000</td>\n",
       "      <td>-1.000000</td>\n",
       "    </tr>\n",
       "    <tr>\n",
       "      <th>6</th>\n",
       "      <td>zero-few-shot</td>\n",
       "      <td>NaN</td>\n",
       "      <td>1.000000</td>\n",
       "      <td>0.5</td>\n",
       "      <td>0.666667</td>\n",
       "      <td>5</td>\n",
       "      <td>5</td>\n",
       "      <td>0</td>\n",
       "      <td>0.551632</td>\n",
       "      <td>0.595910</td>\n",
       "      <td>0.542653</td>\n",
       "      <td>0.531649</td>\n",
       "      <td>0.520222</td>\n",
       "    </tr>\n",
       "    <tr>\n",
       "      <th>7</th>\n",
       "      <td>both</td>\n",
       "      <td>0.1</td>\n",
       "      <td>1.000000</td>\n",
       "      <td>0.5</td>\n",
       "      <td>0.666667</td>\n",
       "      <td>5</td>\n",
       "      <td>5</td>\n",
       "      <td>0</td>\n",
       "      <td>0.243688</td>\n",
       "      <td>0.595910</td>\n",
       "      <td>0.542653</td>\n",
       "      <td>0.531649</td>\n",
       "      <td>0.520222</td>\n",
       "    </tr>\n",
       "    <tr>\n",
       "      <th>8</th>\n",
       "      <td>both</td>\n",
       "      <td>0.2</td>\n",
       "      <td>1.000000</td>\n",
       "      <td>0.5</td>\n",
       "      <td>0.666667</td>\n",
       "      <td>5</td>\n",
       "      <td>5</td>\n",
       "      <td>0</td>\n",
       "      <td>0.141115</td>\n",
       "      <td>0.595910</td>\n",
       "      <td>0.542653</td>\n",
       "      <td>0.531649</td>\n",
       "      <td>0.520222</td>\n",
       "    </tr>\n",
       "    <tr>\n",
       "      <th>9</th>\n",
       "      <td>both</td>\n",
       "      <td>0.3</td>\n",
       "      <td>1.000000</td>\n",
       "      <td>0.4</td>\n",
       "      <td>0.571429</td>\n",
       "      <td>4</td>\n",
       "      <td>6</td>\n",
       "      <td>0</td>\n",
       "      <td>0.112696</td>\n",
       "      <td>0.508410</td>\n",
       "      <td>0.446879</td>\n",
       "      <td>0.434748</td>\n",
       "      <td>0.422999</td>\n",
       "    </tr>\n",
       "    <tr>\n",
       "      <th>10</th>\n",
       "      <td>both</td>\n",
       "      <td>0.4</td>\n",
       "      <td>1.000000</td>\n",
       "      <td>0.3</td>\n",
       "      <td>0.461538</td>\n",
       "      <td>3</td>\n",
       "      <td>7</td>\n",
       "      <td>0</td>\n",
       "      <td>0.102456</td>\n",
       "      <td>0.416102</td>\n",
       "      <td>0.349411</td>\n",
       "      <td>0.336548</td>\n",
       "      <td>0.324553</td>\n",
       "    </tr>\n",
       "    <tr>\n",
       "      <th>11</th>\n",
       "      <td>both</td>\n",
       "      <td>0.5</td>\n",
       "      <td>0.000000</td>\n",
       "      <td>0.0</td>\n",
       "      <td>0.000000</td>\n",
       "      <td>0</td>\n",
       "      <td>10</td>\n",
       "      <td>0</td>\n",
       "      <td>0.080595</td>\n",
       "      <td>-1.000000</td>\n",
       "      <td>-1.000000</td>\n",
       "      <td>-1.000000</td>\n",
       "      <td>-1.000000</td>\n",
       "    </tr>\n",
       "  </tbody>\n",
       "</table>\n",
       "</div>"
      ]
     },
     "execution_count": 13,
     "metadata": {},
     "output_type": "execute_result"
    }
   ],
   "execution_count": 13
  },
  {
   "metadata": {
    "ExecuteTime": {
     "end_time": "2025-03-14T09:47:07.503297Z",
     "start_time": "2025-03-14T09:47:07.498754Z"
    }
   },
   "cell_type": "code",
   "source": "df_results.to_csv(\"results/Products_mpnetBaseV2_LLama3B.csv\")",
   "id": "94f320a6db680672",
   "outputs": [],
   "execution_count": 15
  }
 ],
 "metadata": {
  "kernelspec": {
   "display_name": "Python 3",
   "language": "python",
   "name": "python3"
  },
  "language_info": {
   "codemirror_mode": {
    "name": "ipython",
    "version": 2
   },
   "file_extension": ".py",
   "mimetype": "text/x-python",
   "name": "python",
   "nbconvert_exporter": "python",
   "pygments_lexer": "ipython2",
   "version": "2.7.6"
  }
 },
 "nbformat": 4,
 "nbformat_minor": 5
}
