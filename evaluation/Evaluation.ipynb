{
 "cells": [
  {
   "metadata": {},
   "cell_type": "markdown",
   "source": [
    "# Evaluation\n",
    "\n",
    "To evaluate our database's performance, we analyze every operator separately and perform an integration test afterwards."
   ],
   "id": "3ed340c691f0a68"
  },
  {
   "cell_type": "code",
   "id": "initial_id",
   "metadata": {
    "collapsed": true,
    "ExecuteTime": {
     "end_time": "2025-02-07T14:15:19.550925Z",
     "start_time": "2025-02-07T14:15:17.636481Z"
    }
   },
   "source": [
    "import pandas as pd\n",
    "import requests\n",
    "from sklearn.metrics import classification_report\n",
    "\n",
    "from models import ModelMgr\n",
    "from db.criteria import *\n",
    "from db.operators import *\n",
    "from db.operators.Aggregate import *\n",
    "from models.text_generation.LLaMA import LLaMATextGenerationModel\n",
    "\n",
    "from models.semantic_validation import *\n",
    "from models.embedding import *\n",
    "\n",
    "from db.db import DBConnector"
   ],
   "outputs": [],
   "execution_count": 1
  },
  {
   "metadata": {
    "ExecuteTime": {
     "end_time": "2025-02-07T14:15:40.886100Z",
     "start_time": "2025-02-07T14:15:19.553734Z"
    }
   },
   "cell_type": "code",
   "source": [
    "# Load Models\n",
    "m = ModelMgr()\n",
    "em = SentenceTransformerEmbeddingModel(m)\n",
    "sv = LLaMAValidationModel(m)\n",
    "gm = LLaMATextGenerationModel(m)\n",
    "\n",
    "# Load DB\n",
    "db = DBConnector(\"../config.ini\", load_db=True)"
   ],
   "id": "5160f65981a2dfbc",
   "outputs": [
    {
     "data": {
      "text/plain": [
       "Loading checkpoint shards:   0%|          | 0/2 [00:00<?, ?it/s]"
      ],
      "application/vnd.jupyter.widget-view+json": {
       "version_major": 2,
       "version_minor": 0,
       "model_id": "def281ba1b1b4bc384e2764643f73374"
      }
     },
     "metadata": {},
     "output_type": "display_data"
    },
    {
     "data": {
      "text/plain": [
       "Loading checkpoint shards:   0%|          | 0/2 [00:00<?, ?it/s]"
      ],
      "application/vnd.jupyter.widget-view+json": {
       "version_major": 2,
       "version_minor": 0,
       "model_id": "85966ee21924427db9195ed5c7d9828c"
      }
     },
     "metadata": {},
     "output_type": "display_data"
    }
   ],
   "execution_count": 2
  },
  {
   "metadata": {},
   "cell_type": "markdown",
   "source": [
    "## Evaluate Select Operator\n",
    "\n",
    "### Company Data\n",
    "\n",
    "We used the [People Data Labs 2019 Global Company Dataset](https://www.kaggle.com/datasets/peopledatalabssf/free-7-million-company-dataset) to evaluate the `SoftEqual`- and `SoftValidate`-Operator.\n",
    "\n",
    "#### Data Understanding\n",
    "\n",
    "First, we evaluate the data understanding. The dataset contains a size estimate as ranges ('1 - 10', '5001 - 10000', '10001+').\n",
    "We test if the `SoftValidate` is able to determine if an arbitrary test number is 1) bigger than, 2) smaller than or 3) in between a given size range.\n",
    "\n",
    "So, we test the performance of:\n",
    "* $\\sigma_{\\checkmark ( \\text{ Is x in range \\{size\\_range\\}? })}(Companies)$\n",
    "* $\\sigma_{\\checkmark ( \\text{ Is x lower than the range \\{size\\_range\\}? })}(Companies)$\n",
    "* $\\sigma_{\\checkmark ( \\text{ Is x bigger than the range \\{size\\_range\\}? })}(Companies)$"
   ],
   "id": "5963d7ce1c9d7739"
  },
  {
   "metadata": {
    "ExecuteTime": {
     "end_time": "2025-02-07T14:16:15.454260Z",
     "start_time": "2025-02-07T14:15:40.932536Z"
    }
   },
   "cell_type": "code",
   "source": [
    "# Determine all size ranges\n",
    "scan_companies = Scan(\"companies\", em=em, sv=sv, db=db)\n",
    "agg = HashAggregate(scan_companies, [\"size_range\"], [CountAggregation(\"size_range\", \"size_range_count\")])\n",
    "size_ranges = {row[\"size_range\"] for row in agg}\n",
    "size_ranges"
   ],
   "id": "fd5455ce6b4b6439",
   "outputs": [
    {
     "data": {
      "text/plain": [
       "{'1 - 10',\n",
       " '10001+',\n",
       " '1001 - 5000',\n",
       " '11 - 50',\n",
       " '201 - 500',\n",
       " '5001 - 10000',\n",
       " '501 - 1000',\n",
       " '51 - 200'}"
      ]
     },
     "execution_count": 3,
     "metadata": {},
     "output_type": "execute_result"
    }
   ],
   "execution_count": 3
  },
  {
   "metadata": {
    "ExecuteTime": {
     "end_time": "2025-02-07T14:16:19.097177Z",
     "start_time": "2025-02-07T14:16:15.502371Z"
    }
   },
   "cell_type": "code",
   "source": [
    "gt =  [\n",
    "    (8, \"=\", \"1 - 10\"), (-5, \"<\", \"1 - 10\"), (35, \">\", \"1 - 10\"),\n",
    "    (35, \"=\", \"11 - 50\"), (8, \"<\", \"11 - 50\"), (172, \">\", \"11 - 50\"),\n",
    "    (172, \"=\", \"51 - 200\"), (35, \"<\", \"51 - 200\"), (354, \">\", \"51 - 200\"),\n",
    "    (354, \"=\", \"201 - 500\"), (172, \"<\", \"201 - 500\"), (502, \">\", \"201 - 500\"),\n",
    "    (502, \"=\", \"501 - 1000\"), (354, \"<\", \"501 - 1000\"), (3581, \">\", \"501 - 1000\"),\n",
    "    (3581, \"=\", \"1001 - 5000\"), (502, \"<\", \"1001 - 5000\"), (6000, \">\", \"1001 - 5000\"),\n",
    "    (6000, \"=\", \"5001 - 10000\"), (3581, \"<\", \"5001 - 10000\"), (32100, \">\", \"5001 - 10000\"),\n",
    "    (32100, \"=\", \"10001+\"), (6000, \"<\", \"10001+\"),\n",
    "]\n",
    "\n",
    "\n",
    "results = []\n",
    "for row in gt:\n",
    "    result = {\"test_no\": row[0], \"gt\": row[1], \"size_range\": row[2]}\n",
    "    data = Dummy(\"data\", [\"test_no\", \"size_range\"], [(row[0], row[2])])\n",
    "    sel_equal = Select(data, SoftValidate(\"Is {test_no} in range of {size_range}?\", sv=sv, full_record=False))\n",
    "    result[\"=\"] = len(list(sel_equal)) > 0\n",
    "    sel_greater = Select(data, SoftValidate(\"Is {test_no} lower than the range {size_range}?\", sv=sv, full_record=False))\n",
    "    result[\">\"] = len(list(sel_greater)) > 0\n",
    "    sel_lower = Select(data, SoftValidate(\"Is {test_no} bigger than the range {size_range}\", sv=sv, full_record=False))\n",
    "    result[\"<\"] = len(list(sel_lower)) > 0\n",
    "    results.append(result)\n",
    "\n",
    "df_eval = pd.DataFrame(results)\n",
    "df_eval.head()"
   ],
   "id": "e8af00e7e036e94",
   "outputs": [
    {
     "data": {
      "text/plain": [
       "   test_no gt size_range      =      >      <\n",
       "0        8  =     1 - 10  False  False  False\n",
       "1       -5  <     1 - 10  False  False  False\n",
       "2       35  >     1 - 10  False  False  False\n",
       "3       35  =    11 - 50   True  False  False\n",
       "4        8  <    11 - 50   True   True  False"
      ],
      "text/html": [
       "<div>\n",
       "<style scoped>\n",
       "    .dataframe tbody tr th:only-of-type {\n",
       "        vertical-align: middle;\n",
       "    }\n",
       "\n",
       "    .dataframe tbody tr th {\n",
       "        vertical-align: top;\n",
       "    }\n",
       "\n",
       "    .dataframe thead th {\n",
       "        text-align: right;\n",
       "    }\n",
       "</style>\n",
       "<table border=\"1\" class=\"dataframe\">\n",
       "  <thead>\n",
       "    <tr style=\"text-align: right;\">\n",
       "      <th></th>\n",
       "      <th>test_no</th>\n",
       "      <th>gt</th>\n",
       "      <th>size_range</th>\n",
       "      <th>=</th>\n",
       "      <th>&gt;</th>\n",
       "      <th>&lt;</th>\n",
       "    </tr>\n",
       "  </thead>\n",
       "  <tbody>\n",
       "    <tr>\n",
       "      <th>0</th>\n",
       "      <td>8</td>\n",
       "      <td>=</td>\n",
       "      <td>1 - 10</td>\n",
       "      <td>False</td>\n",
       "      <td>False</td>\n",
       "      <td>False</td>\n",
       "    </tr>\n",
       "    <tr>\n",
       "      <th>1</th>\n",
       "      <td>-5</td>\n",
       "      <td>&lt;</td>\n",
       "      <td>1 - 10</td>\n",
       "      <td>False</td>\n",
       "      <td>False</td>\n",
       "      <td>False</td>\n",
       "    </tr>\n",
       "    <tr>\n",
       "      <th>2</th>\n",
       "      <td>35</td>\n",
       "      <td>&gt;</td>\n",
       "      <td>1 - 10</td>\n",
       "      <td>False</td>\n",
       "      <td>False</td>\n",
       "      <td>False</td>\n",
       "    </tr>\n",
       "    <tr>\n",
       "      <th>3</th>\n",
       "      <td>35</td>\n",
       "      <td>=</td>\n",
       "      <td>11 - 50</td>\n",
       "      <td>True</td>\n",
       "      <td>False</td>\n",
       "      <td>False</td>\n",
       "    </tr>\n",
       "    <tr>\n",
       "      <th>4</th>\n",
       "      <td>8</td>\n",
       "      <td>&lt;</td>\n",
       "      <td>11 - 50</td>\n",
       "      <td>True</td>\n",
       "      <td>True</td>\n",
       "      <td>False</td>\n",
       "    </tr>\n",
       "  </tbody>\n",
       "</table>\n",
       "</div>"
      ]
     },
     "execution_count": 4,
     "metadata": {},
     "output_type": "execute_result"
    }
   ],
   "execution_count": 4
  },
  {
   "metadata": {
    "ExecuteTime": {
     "end_time": "2025-02-07T14:16:19.209902Z",
     "start_time": "2025-02-07T14:16:19.198583Z"
    }
   },
   "cell_type": "code",
   "source": [
    "print(\"Classification for {test_no} in range of {size_range}\")\n",
    "print(classification_report(df_eval[\"gt\"] == \"=\", df_eval[\"=\"]))"
   ],
   "id": "826fddffa2f07287",
   "outputs": [
    {
     "name": "stdout",
     "output_type": "stream",
     "text": [
      "Classification for {test_no} in range of {size_range}\n",
      "              precision    recall  f1-score   support\n",
      "\n",
      "       False       0.71      0.33      0.45        15\n",
      "        True       0.38      0.75      0.50         8\n",
      "\n",
      "    accuracy                           0.48        23\n",
      "   macro avg       0.54      0.54      0.48        23\n",
      "weighted avg       0.60      0.48      0.47        23\n",
      "\n"
     ]
    }
   ],
   "execution_count": 5
  },
  {
   "metadata": {
    "ExecuteTime": {
     "end_time": "2025-02-07T14:16:19.244506Z",
     "start_time": "2025-02-07T14:16:19.239182Z"
    }
   },
   "cell_type": "code",
   "source": [
    "print(\"Classification for {test_no} lower than range {size_range}\")\n",
    "print(classification_report(df_eval[\"gt\"] == \">\", df_eval[\">\"]))"
   ],
   "id": "409ad7b3a7f444f9",
   "outputs": [
    {
     "name": "stdout",
     "output_type": "stream",
     "text": [
      "Classification for {test_no} lower than range {size_range}\n",
      "              precision    recall  f1-score   support\n",
      "\n",
      "       False       0.71      0.31      0.43        16\n",
      "        True       0.31      0.71      0.43         7\n",
      "\n",
      "    accuracy                           0.43        23\n",
      "   macro avg       0.51      0.51      0.43        23\n",
      "weighted avg       0.59      0.43      0.43        23\n",
      "\n"
     ]
    }
   ],
   "execution_count": 6
  },
  {
   "metadata": {
    "ExecuteTime": {
     "end_time": "2025-02-07T14:16:19.302560Z",
     "start_time": "2025-02-07T14:16:19.297585Z"
    }
   },
   "cell_type": "code",
   "source": [
    "print(\"Classification for {test_no} bigger than range {size_range}\")\n",
    "print(classification_report(df_eval[\"gt\"] == \"<\", df_eval[\"<\"]))"
   ],
   "id": "7a377a594be639ea",
   "outputs": [
    {
     "name": "stdout",
     "output_type": "stream",
     "text": [
      "Classification for {test_no} bigger than range {size_range}\n",
      "              precision    recall  f1-score   support\n",
      "\n",
      "       False       0.56      0.60      0.58        15\n",
      "        True       0.14      0.12      0.13         8\n",
      "\n",
      "    accuracy                           0.43        23\n",
      "   macro avg       0.35      0.36      0.36        23\n",
      "weighted avg       0.42      0.43      0.43        23\n",
      "\n"
     ]
    }
   ],
   "execution_count": 7
  },
  {
   "metadata": {},
   "cell_type": "markdown",
   "source": [
    "#### Domain Knowledge\n",
    "\n",
    "To evaluate the domain knowledge of the operators (and the LLM), we predict if a company has 'automotive' as industry.\n",
    "Therefore, we collect all big companies (`size > 1000`) as ground truth and store the classification value (true for all rows with 'automotive'=industry).\n",
    "\n",
    "To generate the predictions, we execute two other queries and classify the row with `True` if the query returns a result. To avoid data leakage, we remove the 'industry' column first.\n",
    " * `SoftEqual`-Operator: $ \\sigma_{\\text{(name, country, size\\_range, locality, year\\_founded}) \\approx \\text{'car company'}} (Companies)$\n",
    " * `SoftValidate`-Operator: $\\sigma_{\\checkmark ( \\text{Is this company record:  \\{name: \\{name\\}, country:\\{country\\}, size\\_range: \\{size\\_range\\}, locality: \\{locality\\}, year\\_founded: \\{year\\_founded\\}\\} of a car company? })}(Companies)$"
   ],
   "id": "2c740a8278f74d87"
  },
  {
   "metadata": {
    "ExecuteTime": {
     "end_time": "2025-02-07T14:16:21.662235Z",
     "start_time": "2025-02-07T14:16:19.341800Z"
    }
   },
   "cell_type": "code",
   "source": [
    "scan_companies = Scan(\"companies\", em=em, sv=sv, db=db, sql_annex=f\"  WHERE size_range IN ('10001+', '1001 - 5000')\")\n",
    "gt = [row for row in scan_companies]\n",
    "len(gt), gt[:3]"
   ],
   "id": "3f7d185f85fc8f9a",
   "outputs": [
    {
     "data": {
      "text/plain": [
       "(26632,\n",
       " [RealDictRow([('id', 4784855),\n",
       "               ('name', 'td'),\n",
       "               ('domain', 'td.com'),\n",
       "               ('year_founded', 1955),\n",
       "               ('industry', 'banking'),\n",
       "               ('size_range', '10001+'),\n",
       "               ('locality', 'toronto, ontario, canada'),\n",
       "               ('country', 'canada'),\n",
       "               ('linkedin_url', 'linkedin.com/company/td'),\n",
       "               ('current_employee_estimate', '42136'),\n",
       "               ('total_employee_estimate', '93645')]),\n",
       "  RealDictRow([('id', 6770635),\n",
       "               ('name', 'hrt'),\n",
       "               ('domain', None),\n",
       "               ('year_founded', None),\n",
       "               ('industry', 'broadcast media'),\n",
       "               ('size_range', '1001 - 5000'),\n",
       "               ('locality', None),\n",
       "               ('country', None),\n",
       "               ('linkedin_url', 'linkedin.com/company/hrt'),\n",
       "               ('current_employee_estimate', '793'),\n",
       "               ('total_employee_estimate', '1277')]),\n",
       "  RealDictRow([('id', 3383694),\n",
       "               ('name', 'sonatrach'),\n",
       "               ('domain', 'sonatrach.com'),\n",
       "               ('year_founded', 1963),\n",
       "               ('industry', 'oil & energy'),\n",
       "               ('size_range', '10001+'),\n",
       "               ('locality', 'algiers, alger, algeria'),\n",
       "               ('country', 'algeria'),\n",
       "               ('linkedin_url', 'linkedin.com/company/sonatrach'),\n",
       "               ('current_employee_estimate', '12376'),\n",
       "               ('total_employee_estimate', '17062')])])"
      ]
     },
     "execution_count": 8,
     "metadata": {},
     "output_type": "execute_result"
    }
   ],
   "execution_count": 8
  },
  {
   "metadata": {
    "ExecuteTime": {
     "end_time": "2025-02-07T14:16:22.154966Z",
     "start_time": "2025-02-07T14:16:21.673651Z"
    }
   },
   "cell_type": "code",
   "source": [
    "p = Project(scan_companies, [x.column_name for x in scan_companies.table.table_structure if x.column_name != 'industry'], em=em)\n",
    "sel = Select(p, SoftEqual([\"name\", \"country\", \"size_range\", \"locality\", \"year_founded\"], Constant('car company'), em=em, threshold=0.3))\n",
    "str(sel)"
   ],
   "id": "e66ab6bb49ba0d42",
   "outputs": [
    {
     "data": {
      "text/plain": [
       "'σ_{name, country, size_range, locality, year_founded ≈ \\'car company\\'} (π_{\"country\"≈>country, \"current_employee_estimate\"≈>current_employee_estimate, \"domain\"≈>domain, \"id\"≈>id, \"linkedin_url\"≈>linkedin_url, \"locality\"≈>locality, \"name\"≈>name, \"size_range\"≈>size_range, \"total_employee_estimate\"≈>total_employee_estimate, \"year_founded\"≈>year_founded} (\"companies\"≈>\"people_data_labs.companies\"))'"
      ]
     },
     "execution_count": 9,
     "metadata": {},
     "output_type": "execute_result"
    }
   ],
   "execution_count": 9
  },
  {
   "metadata": {
    "ExecuteTime": {
     "end_time": "2025-02-07T14:19:27.127162Z",
     "start_time": "2025-02-07T14:16:22.159224Z"
    }
   },
   "cell_type": "code",
   "source": [
    "prediction = [row for row in sel]\n",
    "len(prediction), prediction[0:3]"
   ],
   "id": "f61545b5aa852bf3",
   "outputs": [
    {
     "data": {
      "text/plain": [
       "(3056,\n",
       " [{'country': 'united states',\n",
       "   'current_employee_estimate': '122031',\n",
       "   'domain': 'cognizant.com',\n",
       "   'id': 2959148,\n",
       "   'linkedin_url': 'linkedin.com/company/cognizant',\n",
       "   'locality': 'teaneck, new jersey, united states',\n",
       "   'name': 'cognizant technology solutions',\n",
       "   'size_range': '10001+',\n",
       "   'total_employee_estimate': '210020',\n",
       "   'year_founded': 1994},\n",
       "  {'country': 'united states',\n",
       "   'current_employee_estimate': '115188',\n",
       "   'domain': 'att.com',\n",
       "   'id': 3300741,\n",
       "   'linkedin_url': 'linkedin.com/company/at&t',\n",
       "   'locality': 'dallas, texas, united states',\n",
       "   'name': 'at&t',\n",
       "   'size_range': '10001+',\n",
       "   'total_employee_estimate': '269659',\n",
       "   'year_founded': 1876},\n",
       "  {'country': 'united kingdom',\n",
       "   'current_employee_estimate': '66632',\n",
       "   'domain': 'vodafone.com',\n",
       "   'id': 1379366,\n",
       "   'linkedin_url': 'linkedin.com/company/vodafone',\n",
       "   'locality': 'berks, west berkshire, united kingdom',\n",
       "   'name': 'vodafone',\n",
       "   'size_range': '10001+',\n",
       "   'total_employee_estimate': '174892',\n",
       "   'year_founded': 1982}])"
      ]
     },
     "execution_count": 10,
     "metadata": {},
     "output_type": "execute_result"
    }
   ],
   "execution_count": 10
  },
  {
   "metadata": {
    "ExecuteTime": {
     "end_time": "2025-02-07T14:19:27.312358Z",
     "start_time": "2025-02-07T14:19:27.228857Z"
    }
   },
   "cell_type": "code",
   "source": [
    "df_gt = pd.DataFrame(gt).set_index('id')\n",
    "df_prediction = pd.DataFrame(prediction).set_index('id')\n",
    "df_merge = df_gt.merge(df_prediction, left_index=True, right_index=True, how='left')\n",
    "df_merge[\"class\"] = df_merge[\"industry\"] == \"automotive\"\n",
    "df_merge[\"prediction\"] = df_merge[\"name_y\"].notna()\n",
    "\n",
    "print(classification_report(df_merge[\"class\"], df_merge[\"prediction\"]))"
   ],
   "id": "a603f7caae3b293a",
   "outputs": [
    {
     "name": "stdout",
     "output_type": "stream",
     "text": [
      "              precision    recall  f1-score   support\n",
      "\n",
      "       False       0.99      0.89      0.94     26112\n",
      "        True       0.10      0.59      0.17       520\n",
      "\n",
      "    accuracy                           0.89     26632\n",
      "   macro avg       0.55      0.74      0.56     26632\n",
      "weighted avg       0.97      0.89      0.93     26632\n",
      "\n"
     ]
    }
   ],
   "execution_count": 11
  },
  {
   "metadata": {
    "ExecuteTime": {
     "end_time": "2025-02-07T14:19:27.706569Z",
     "start_time": "2025-02-07T14:19:27.315207Z"
    }
   },
   "cell_type": "code",
   "source": [
    "p = Project(scan_companies, [x.column_name for x in scan_companies.table.table_structure if x.column_name != 'industry'], em=em)\n",
    "sel = Select(p, SoftValidate(\"Is this company record: {{name: {name}, country: {country}, size_range: {size_range}, locality: {locality}, year_founded: {year_founded}}} of a car company? \", sv=sv, full_record=False))\n",
    "str(sel)"
   ],
   "id": "b5c2ac4928d7ee4b",
   "outputs": [
    {
     "data": {
      "text/plain": [
       "'σ_{✓_{Is this company record: {{name: {name}, country: {country}, size_range: {size_range}, locality: {locality}, year_founded: {year_founded}}} of a car company? }} (π_{\"country\"≈>country, \"current_employee_estimate\"≈>current_employee_estimate, \"domain\"≈>domain, \"id\"≈>id, \"linkedin_url\"≈>linkedin_url, \"locality\"≈>locality, \"name\"≈>name, \"size_range\"≈>size_range, \"total_employee_estimate\"≈>total_employee_estimate, \"year_founded\"≈>year_founded} (\"companies\"≈>\"people_data_labs.companies\"))'"
      ]
     },
     "execution_count": 12,
     "metadata": {},
     "output_type": "execute_result"
    }
   ],
   "execution_count": 12
  },
  {
   "metadata": {
    "ExecuteTime": {
     "end_time": "2025-02-07T14:31:12.280409Z",
     "start_time": "2025-02-07T14:19:27.715236Z"
    }
   },
   "cell_type": "code",
   "source": [
    "prediction = [row for row in sel]\n",
    "len(prediction), prediction[0:3]"
   ],
   "id": "12ba5f0a41eeed5",
   "outputs": [
    {
     "data": {
      "text/plain": [
       "(101,\n",
       " [{'country': 'united states',\n",
       "   'current_employee_estimate': '2132',\n",
       "   'domain': 'vw.com',\n",
       "   'id': 4967841,\n",
       "   'linkedin_url': 'linkedin.com/company/volkswagen-of-america-inc',\n",
       "   'locality': 'herndon, virginia, united states',\n",
       "   'name': 'volkswagen of america, inc',\n",
       "   'size_range': '1001 - 5000',\n",
       "   'total_employee_estimate': '4409',\n",
       "   'year_founded': 1955},\n",
       "  {'country': 'united kingdom',\n",
       "   'current_employee_estimate': '1865',\n",
       "   'domain': 'bentleymotors.com',\n",
       "   'id': 5163300,\n",
       "   'linkedin_url': 'linkedin.com/company/bentley-motors-ltd',\n",
       "   'locality': 'crewe, cheshire east, united kingdom',\n",
       "   'name': 'bentley motors ltd',\n",
       "   'size_range': '1001 - 5000',\n",
       "   'total_employee_estimate': '4142',\n",
       "   'year_founded': 1919},\n",
       "  {'country': 'united states',\n",
       "   'current_employee_estimate': '1753',\n",
       "   'domain': 'hondaresearch.com',\n",
       "   'id': 3260108,\n",
       "   'linkedin_url': 'linkedin.com/company/honda-r&d',\n",
       "   'locality': 'raymond, ohio, united states',\n",
       "   'name': 'honda r&d americas, inc.',\n",
       "   'size_range': '1001 - 5000',\n",
       "   'total_employee_estimate': '3292',\n",
       "   'year_founded': None}])"
      ]
     },
     "execution_count": 13,
     "metadata": {},
     "output_type": "execute_result"
    }
   ],
   "execution_count": 13
  },
  {
   "metadata": {
    "ExecuteTime": {
     "end_time": "2025-02-07T14:31:12.406379Z",
     "start_time": "2025-02-07T14:31:12.337453Z"
    }
   },
   "cell_type": "code",
   "source": [
    "df_gt = pd.DataFrame(gt).set_index('id')\n",
    "df_prediction = pd.DataFrame(prediction).set_index('id')\n",
    "df_merge = df_gt.merge(df_prediction, left_index=True, right_index=True, how='left')\n",
    "df_merge[\"class\"] = df_merge[\"industry\"] == \"automotive\"\n",
    "df_merge[\"prediction\"] = df_merge[\"name_y\"].notna()\n",
    "\n",
    "print(classification_report(df_merge[\"class\"], df_merge[\"prediction\"]))"
   ],
   "id": "8afdae3e5af6797d",
   "outputs": [
    {
     "name": "stdout",
     "output_type": "stream",
     "text": [
      "              precision    recall  f1-score   support\n",
      "\n",
      "       False       0.98      1.00      0.99     26112\n",
      "        True       0.82      0.16      0.27       520\n",
      "\n",
      "    accuracy                           0.98     26632\n",
      "   macro avg       0.90      0.58      0.63     26632\n",
      "weighted avg       0.98      0.98      0.98     26632\n",
      "\n"
     ]
    }
   ],
   "execution_count": 14
  },
  {
   "metadata": {},
   "cell_type": "markdown",
   "source": [
    "## Evaluate SoftJoin Operator\n",
    "\n",
    "To evaluate the soft Join Operator, we use the test cases from the [Semantic-Join GitHub Repository](https://github.com/Yeye-He/Semantic-Join).\n",
    "Each test case is present as two relations with one column each, and the matching records as ground truth.\n",
    "\n",
    "E.g. Country->Continent\n",
    "    A: \\[\"Afghanistan\", \"Albania\", \"Algeria\", \"Andorra\", \"Angola\", \"Luanda\", ...\\]\n",
    "    B: \\[\"Rome\", \"Amsterdam\", \"Reykjavik\", \"Bridgetown\", ...\\]\n",
    "    GT: \\[\"Afghanistan\\tKabul\", \"Albania\\tTirana\", \"Algeria\\tAlgiers\", \"Andorra\\tAndorra la Vella\", ...\\]"
   ],
   "id": "93bc9fad56027e69"
  },
  {
   "metadata": {
    "ExecuteTime": {
     "end_time": "2025-02-07T14:31:12.411568Z",
     "start_time": "2025-02-07T14:31:12.408650Z"
    }
   },
   "cell_type": "code",
   "source": [
    "def convert_to_operators(case: int):\n",
    "    case_url = f\"https://raw.githubusercontent.com/Yeye-He/Semantic-Join/refs/heads/master/Semantic-join-Benchmark/Case{case}_input.txt\"\n",
    "    gt_url = f\"https://raw.githubusercontent.com/Yeye-He/Semantic-Join/refs/heads/master/Semantic-join-Benchmark/Case{case}_groundtruth.txt\"\n",
    "    input_data = requests.get(case_url).text\n",
    "    gt_data = requests.get(gt_url).text\n",
    "    d1, d2 = input_data.split(\"\\n\\n\")\n",
    "    d1, d2 = [(x, ) for x in d1.split(\"\\n\")], [(x, ) for x in d2.split(\"\\n\")]\n",
    "    n = len(d1) * len(d2)\n",
    "    gt = {x for x in gt_data.split(\"\\n\") if x.strip() != \"\"}\n",
    "    return (Dummy(\"A\", [\"a\"], d1), Dummy(\"B\", [\"b\"], d2)), gt, n\n",
    "\n",
    "def calculate_metrics(operator: Operator, gt: set, n):\n",
    "    joined_values = {f'{row[\"a\"]}\\t{row[\"b\"]}' for row in operator}\n",
    "\n",
    "    tps, fns, fps = gt & joined_values, gt - joined_values, joined_values - gt\n",
    "    tp, fn, fp = len(tps), len(fns), len(fps)\n",
    "    tn = n - tp - fn - fp\n",
    "\n",
    "    values = {\"tp\": tp, \"fn\": fn, \"fp\": fp, \"tn\": tn}\n",
    "    results = {\"tps\": tps, \"fns\": fns, \"fps\": fps}\n",
    "\n",
    "    precision = tp / (tp + fp) if (tp + fp) > 0 else 0\n",
    "    recall = tp / (tp + fn) if (tp + fn) > 0 else 0\n",
    "    f1_score = (2 * precision * recall) / (precision + recall) if (precision + recall) > 0 else 0\n",
    "    specificity = tn / (tn + fp) if (tn + fp) > 0 else 0\n",
    "    accuracy = (tp + tn) / (tp + fp + tn + fn) if (tp + fp + tn + fn) > 0 else 0\n",
    "\n",
    "    scores = {\n",
    "        \"Precision\": precision,\n",
    "        \"Recall\": recall,\n",
    "        \"F1 Score\": f1_score,\n",
    "        \"Specificity\": specificity,\n",
    "        \"Accuracy\": accuracy\n",
    "    }\n",
    "\n",
    "    return values, scores, results"
   ],
   "id": "9a0e829fa4fc5d91",
   "outputs": [],
   "execution_count": 15
  },
  {
   "metadata": {
    "ExecuteTime": {
     "end_time": "2025-02-07T14:31:43.829312Z",
     "start_time": "2025-02-07T14:31:12.457931Z"
    }
   },
   "cell_type": "code",
   "source": [
    "semantic_join_test_cases = [\n",
    "    (1, \"Is {a} in {b}?\", \"Country->Continent\", 0.5),\n",
    "    # (9, \"Is {a} in {b}?\", \"University->US State\"),\n",
    "    # (10, \"Is {b} the capital of {a}?\", \"Countries->Capital Cities\", 0.5),\n",
    "    #(18, \"{a} has headquarter in {b}?\", \"Companies->Headquarter\"),\n",
    "    #(19, \"{b} is or was CEO of {a}?\", \"CEO<-Companies\")\n",
    "\n",
    "]\n",
    "\n",
    "total_scores = []\n",
    "total_values = []\n",
    "for case_no, sv_template, descr, threshold in semantic_join_test_cases:\n",
    "    print(f\"Evaluating case {case_no} ({descr}):\", end=\" \")\n",
    "    (table_a, table_b), gt_countries_continent, n_options = convert_to_operators(case_no)\n",
    "    sij = InnerSoftJoin(table_a, table_b, Column(\"a\"), Column(\"b\"), em=em, use_semantic_validation=True, sv=sv, sv_template=sv_template, threshold=threshold)\n",
    "    v, s, r = calculate_metrics(sij, gt_countries_continent, n_options)\n",
    "    total_values.append(v)\n",
    "    total_scores.append(s)\n",
    "    print(f\"\\t{s}\")"
   ],
   "id": "9ac26fe977eecf67",
   "outputs": [
    {
     "name": "stdout",
     "output_type": "stream",
     "text": [
      "Evaluating case 1 (Country->Continent): \t{'Precision': 0.9166666666666666, 'Recall': 0.7938144329896907, 'F1 Score': 0.850828729281768, 'Specificity': 0.9879725085910653, 'Accuracy': 0.9602356406480118}\n"
     ]
    }
   ],
   "execution_count": 16
  }
 ],
 "metadata": {
  "kernelspec": {
   "display_name": "Python 3",
   "language": "python",
   "name": "python3"
  },
  "language_info": {
   "codemirror_mode": {
    "name": "ipython",
    "version": 2
   },
   "file_extension": ".py",
   "mimetype": "text/x-python",
   "name": "python",
   "nbconvert_exporter": "python",
   "pygments_lexer": "ipython2",
   "version": "2.7.6"
  }
 },
 "nbformat": 4,
 "nbformat_minor": 5
}
