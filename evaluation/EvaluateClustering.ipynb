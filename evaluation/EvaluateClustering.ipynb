{
 "cells": [
  {
   "metadata": {},
   "cell_type": "markdown",
   "source": [
    "# Evaluate Similarity Grouping\n",
    "\n",
    "In this notebook, we evaluate how effective a relation can be integrated using the NoiseAwareGroupBy Operator.\n",
    "Therefore, we utilize the [Music Brainz 20K](https://dbs.uni-leipzig.de/research/projects/benchmark-datasets-for-entity-resolution).\n",
    "\n",
    "The dataset contains modified (usign the DAPO data generator) song records from different sources.\n",
    "The goal is to group same songs into buckets. E.g. The records {\"title\": \"Daniel Balavoine - L'enfant aux yeux d'Italie\", \"artist\": null, \"album\": \"De vous à elle en passant par moi\", ...} and {\"name\": L'enfant aux yeux d'Italie - De vous à elle en passant par moi\", \"artist\": \"Daniel Balavoine\", \"album\": null} describe the same song.\n",
    "\n",
    "The column \"CID\" describes the cluster of the record. Using the  `SoftAggregateScikit` operator, we determine clusters and calculate the metrics:\n",
    "* Adjusted Rand Index (ARI)\n",
    "* Normalized Mutual Information (NMI)\n",
    "* Fowlkes-Mallows Index (FMI)\n"
   ],
   "id": "a935d713b194d80b"
  },
  {
   "cell_type": "code",
   "id": "initial_id",
   "metadata": {
    "collapsed": true,
    "ExecuteTime": {
     "end_time": "2025-03-09T09:52:15.551167Z",
     "start_time": "2025-03-09T09:52:12.221102Z"
    }
   },
   "source": [
    "import pandas as pd\n",
    "from models import ModelMgr\n",
    "from models.embedding.SentenceTransformer import SentenceTransformerEmbeddingModel\n",
    "\n",
    "from db.operators import Dummy, SoftAggregateScikit\n",
    "from db.operators.Aggregate import SetAggregation\n",
    "from sklearn.cluster import KMeans, DBSCAN, HDBSCAN\n",
    "\n",
    "from sklearn.metrics import adjusted_rand_score, normalized_mutual_info_score, fowlkes_mallows_score"
   ],
   "outputs": [],
   "execution_count": 1
  },
  {
   "metadata": {
    "ExecuteTime": {
     "end_time": "2025-03-09T09:52:16.406139Z",
     "start_time": "2025-03-09T09:52:15.554479Z"
    }
   },
   "cell_type": "code",
   "source": [
    "m = ModelMgr()\n",
    "stem = SentenceTransformerEmbeddingModel(m)\n",
    "\n",
    "drop_na = True"
   ],
   "id": "31d4b74a79360e57",
   "outputs": [],
   "execution_count": 2
  },
  {
   "metadata": {
    "ExecuteTime": {
     "end_time": "2025-03-09T09:52:16.482951Z",
     "start_time": "2025-03-09T09:52:16.450971Z"
    }
   },
   "cell_type": "code",
   "source": [
    "df_music = pd.read_csv(\"../data/musicbrainz-20-A01.csv\", index_col=0).drop(columns=[\"length\"], axis=1)\n",
    "significant_cols = [\"title\", \"artist\", \"album\", \"year\", \"language\"]\n",
    "df_music.head()"
   ],
   "id": "5a9cf14e0e8f7599",
   "outputs": [
    {
     "data": {
      "text/plain": [
       "      CID  CTID  SourceID               id number  \\\n",
       "TID                                                 \n",
       "1       1     1         2   MBox7368722-HH      9   \n",
       "2    2512     5         4      139137-A047      7   \n",
       "3       2     1         2  MBox38440522-HH     17   \n",
       "4       3     1         5          4489993     10   \n",
       "5       4     1         5         10339621      2   \n",
       "\n",
       "                                             title  \\\n",
       "TID                                                  \n",
       "1    Daniel Balavoine - L'enfant aux yeux d'Italie   \n",
       "2                                              007   \n",
       "3                   Action PAINTING! - Mustard Gas   \n",
       "4                                       Your Grace   \n",
       "5                                 Well You Needn't   \n",
       "\n",
       "                         artist                              album  year  \\\n",
       "TID                                                                        \n",
       "1                           NaN  De vous à elle en passant par moi    75   \n",
       "2                     [unknown]         Cantigas de roda (unknown)   NaN   \n",
       "3                           NaN          There and Back Again Lane    95   \n",
       "4                Kathy Troccoli                            Comfort  2005   \n",
       "5    Ernie Stadler Jazz Quintet                         First Down  2010   \n",
       "\n",
       "    language  \n",
       "TID           \n",
       "1     French  \n",
       "2       Por.  \n",
       "3    English  \n",
       "4    English  \n",
       "5    English  "
      ],
      "text/html": [
       "<div>\n",
       "<style scoped>\n",
       "    .dataframe tbody tr th:only-of-type {\n",
       "        vertical-align: middle;\n",
       "    }\n",
       "\n",
       "    .dataframe tbody tr th {\n",
       "        vertical-align: top;\n",
       "    }\n",
       "\n",
       "    .dataframe thead th {\n",
       "        text-align: right;\n",
       "    }\n",
       "</style>\n",
       "<table border=\"1\" class=\"dataframe\">\n",
       "  <thead>\n",
       "    <tr style=\"text-align: right;\">\n",
       "      <th></th>\n",
       "      <th>CID</th>\n",
       "      <th>CTID</th>\n",
       "      <th>SourceID</th>\n",
       "      <th>id</th>\n",
       "      <th>number</th>\n",
       "      <th>title</th>\n",
       "      <th>artist</th>\n",
       "      <th>album</th>\n",
       "      <th>year</th>\n",
       "      <th>language</th>\n",
       "    </tr>\n",
       "    <tr>\n",
       "      <th>TID</th>\n",
       "      <th></th>\n",
       "      <th></th>\n",
       "      <th></th>\n",
       "      <th></th>\n",
       "      <th></th>\n",
       "      <th></th>\n",
       "      <th></th>\n",
       "      <th></th>\n",
       "      <th></th>\n",
       "      <th></th>\n",
       "    </tr>\n",
       "  </thead>\n",
       "  <tbody>\n",
       "    <tr>\n",
       "      <th>1</th>\n",
       "      <td>1</td>\n",
       "      <td>1</td>\n",
       "      <td>2</td>\n",
       "      <td>MBox7368722-HH</td>\n",
       "      <td>9</td>\n",
       "      <td>Daniel Balavoine - L'enfant aux yeux d'Italie</td>\n",
       "      <td>NaN</td>\n",
       "      <td>De vous à elle en passant par moi</td>\n",
       "      <td>75</td>\n",
       "      <td>French</td>\n",
       "    </tr>\n",
       "    <tr>\n",
       "      <th>2</th>\n",
       "      <td>2512</td>\n",
       "      <td>5</td>\n",
       "      <td>4</td>\n",
       "      <td>139137-A047</td>\n",
       "      <td>7</td>\n",
       "      <td>007</td>\n",
       "      <td>[unknown]</td>\n",
       "      <td>Cantigas de roda (unknown)</td>\n",
       "      <td>NaN</td>\n",
       "      <td>Por.</td>\n",
       "    </tr>\n",
       "    <tr>\n",
       "      <th>3</th>\n",
       "      <td>2</td>\n",
       "      <td>1</td>\n",
       "      <td>2</td>\n",
       "      <td>MBox38440522-HH</td>\n",
       "      <td>17</td>\n",
       "      <td>Action PAINTING! - Mustard Gas</td>\n",
       "      <td>NaN</td>\n",
       "      <td>There and Back Again Lane</td>\n",
       "      <td>95</td>\n",
       "      <td>English</td>\n",
       "    </tr>\n",
       "    <tr>\n",
       "      <th>4</th>\n",
       "      <td>3</td>\n",
       "      <td>1</td>\n",
       "      <td>5</td>\n",
       "      <td>4489993</td>\n",
       "      <td>10</td>\n",
       "      <td>Your Grace</td>\n",
       "      <td>Kathy Troccoli</td>\n",
       "      <td>Comfort</td>\n",
       "      <td>2005</td>\n",
       "      <td>English</td>\n",
       "    </tr>\n",
       "    <tr>\n",
       "      <th>5</th>\n",
       "      <td>4</td>\n",
       "      <td>1</td>\n",
       "      <td>5</td>\n",
       "      <td>10339621</td>\n",
       "      <td>2</td>\n",
       "      <td>Well You Needn't</td>\n",
       "      <td>Ernie Stadler Jazz Quintet</td>\n",
       "      <td>First Down</td>\n",
       "      <td>2010</td>\n",
       "      <td>English</td>\n",
       "    </tr>\n",
       "  </tbody>\n",
       "</table>\n",
       "</div>"
      ]
     },
     "execution_count": 3,
     "metadata": {},
     "output_type": "execute_result"
    }
   ],
   "execution_count": 3
  },
  {
   "metadata": {
    "ExecuteTime": {
     "end_time": "2025-03-09T09:52:16.514158Z",
     "start_time": "2025-03-09T09:52:16.511536Z"
    }
   },
   "cell_type": "code",
   "source": [
    "def evaluate(df, cluster_columns, id_column, cluster_class, cluster_params, serialization_mode, reduce_dimensions, drop_na):\n",
    "    key = (str(cluster_class), str(serialization_mode), str(reduce_dimensions), str(drop_na))\n",
    "\n",
    "    if drop_na:\n",
    "        df = df.dropna()\n",
    "\n",
    "    if cluster_class == KMeans:\n",
    "        cluster_params = {\"n_clusters\": len(df[\"CID\"].unique())}\n",
    "\n",
    "    columns = [col.strip() for col in df.columns]\n",
    "    data = [[str(y) for y in x] for x in df.itertuples(name=None)]\n",
    "\n",
    "    d = Dummy(\"data\", [\"tid\"] + columns, data).open()\n",
    "    agg = SoftAggregateScikit(\n",
    "        d,\n",
    "        cluster_columns,\n",
    "        [SetAggregation(\"tid\", \"ids\")],\n",
    "        em=stem,\n",
    "        cluster_class = cluster_class,\n",
    "        cluster_params = cluster_params,\n",
    "        serialization_mode = serialization_mode,\n",
    "        reduce_dimensions=reduce_dimensions\n",
    "    )\n",
    "\n",
    "    predictions = []\n",
    "    for i, row in enumerate(agg.open()):\n",
    "        predictions.append(pd.Series([i for _ in range(len(row[\"ids\"]))], index=[int(idx) for idx in row[\"ids\"]]))\n",
    "\n",
    "    predicted_labels = pd.concat(predictions).sort_index()\n",
    "    true_labels = df[id_column]\n",
    "\n",
    "    ari = adjusted_rand_score(true_labels, predicted_labels)\n",
    "    nmi = normalized_mutual_info_score(true_labels, predicted_labels)\n",
    "    fmi = fowlkes_mallows_score(true_labels, predicted_labels)\n",
    "\n",
    "    result = {\"adjusted_rand_score\": ari, \"normalized_mutual_info_score\": nmi, \"fowlkes_mallows_score\": fmi}\n",
    "\n",
    "    print(key, result)\n",
    "\n",
    "    return key, result\n",
    "\n",
    "overall_results = {}"
   ],
   "id": "61446035d1cf4a39",
   "outputs": [],
   "execution_count": 4
  },
  {
   "metadata": {
    "ExecuteTime": {
     "end_time": "2025-03-09T11:41:26.486374Z",
     "start_time": "2025-03-09T09:52:16.559837Z"
    }
   },
   "cell_type": "code",
   "source": [
    "cluster_classes = [\n",
    "    (KMeans, None),\n",
    "    (DBSCAN, {\"eps\": 0.1, \"min_samples\": 1}),\n",
    "    (HDBSCAN, {\"min_cluster_size\": 2}),\n",
    "]\n",
    "\n",
    "for cc, cp in cluster_classes:\n",
    "    for sm in [\"FIELD_SERIALIZED\", \"FULL_SERIALIZED\"]:\n",
    "        for dn in [True, False]:\n",
    "            for dim in [2, 10, 50, 100, None]:\n",
    "                res = evaluate(df_music, significant_cols, \"CID\", cluster_class=cc, cluster_params=cp, serialization_mode = sm, reduce_dimensions = dim, drop_na = dn)\n",
    "                overall_results[res[0]] = res[1]"
   ],
   "id": "5d8bb21862e0adde",
   "outputs": [
    {
     "name": "stderr",
     "output_type": "stream",
     "text": [
      "/home/nico/PycharmProjects/Master/.venv/lib/python3.12/site-packages/sklearn/utils/deprecation.py:151: FutureWarning: 'force_all_finite' was renamed to 'ensure_all_finite' in 1.6 and will be removed in 1.8.\n",
      "  warnings.warn(\n"
     ]
    },
    {
     "name": "stdout",
     "output_type": "stream",
     "text": [
      "(\"<class 'sklearn.cluster._kmeans.KMeans'>\", 'FIELD_SERIALIZED', '2', 'True') {'adjusted_rand_score': -2.4531393179505998e-05, 'normalized_mutual_info_score': 0.9940243916923467, 'fowlkes_mallows_score': 0.0}\n"
     ]
    },
    {
     "name": "stderr",
     "output_type": "stream",
     "text": [
      "/home/nico/PycharmProjects/Master/.venv/lib/python3.12/site-packages/sklearn/utils/deprecation.py:151: FutureWarning: 'force_all_finite' was renamed to 'ensure_all_finite' in 1.6 and will be removed in 1.8.\n",
      "  warnings.warn(\n"
     ]
    },
    {
     "name": "stdout",
     "output_type": "stream",
     "text": [
      "(\"<class 'sklearn.cluster._kmeans.KMeans'>\", 'FIELD_SERIALIZED', '10', 'True') {'adjusted_rand_score': 0.023228762452172664, 'normalized_mutual_info_score': 0.9938931018904221, 'fowlkes_mallows_score': 0.023911404992940522}\n"
     ]
    },
    {
     "name": "stderr",
     "output_type": "stream",
     "text": [
      "/home/nico/PycharmProjects/Master/.venv/lib/python3.12/site-packages/sklearn/utils/deprecation.py:151: FutureWarning: 'force_all_finite' was renamed to 'ensure_all_finite' in 1.6 and will be removed in 1.8.\n",
      "  warnings.warn(\n"
     ]
    },
    {
     "name": "stdout",
     "output_type": "stream",
     "text": [
      "(\"<class 'sklearn.cluster._kmeans.KMeans'>\", 'FIELD_SERIALIZED', '50', 'True') {'adjusted_rand_score': 0.03289605635723605, 'normalized_mutual_info_score': 0.9940368569902648, 'fowlkes_mallows_score': 0.0335012605086404}\n"
     ]
    },
    {
     "name": "stderr",
     "output_type": "stream",
     "text": [
      "/home/nico/PycharmProjects/Master/.venv/lib/python3.12/site-packages/sklearn/utils/deprecation.py:151: FutureWarning: 'force_all_finite' was renamed to 'ensure_all_finite' in 1.6 and will be removed in 1.8.\n",
      "  warnings.warn(\n"
     ]
    },
    {
     "name": "stdout",
     "output_type": "stream",
     "text": [
      "(\"<class 'sklearn.cluster._kmeans.KMeans'>\", 'FIELD_SERIALIZED', '100', 'True') {'adjusted_rand_score': 0.030507245985220293, 'normalized_mutual_info_score': 0.9939579099007047, 'fowlkes_mallows_score': 0.03148825485739376}\n",
      "(\"<class 'sklearn.cluster._kmeans.KMeans'>\", 'FIELD_SERIALIZED', 'None', 'True') {'adjusted_rand_score': 0.7389102451369347, 'normalized_mutual_info_score': 0.9985753857782258, 'fowlkes_mallows_score': 0.7391404949863534}\n"
     ]
    },
    {
     "name": "stderr",
     "output_type": "stream",
     "text": [
      "/home/nico/PycharmProjects/Master/.venv/lib/python3.12/site-packages/sklearn/utils/deprecation.py:151: FutureWarning: 'force_all_finite' was renamed to 'ensure_all_finite' in 1.6 and will be removed in 1.8.\n",
      "  warnings.warn(\n"
     ]
    },
    {
     "name": "stdout",
     "output_type": "stream",
     "text": [
      "(\"<class 'sklearn.cluster._kmeans.KMeans'>\", 'FIELD_SERIALIZED', '2', 'False') {'adjusted_rand_score': 0.001035308634552346, 'normalized_mutual_info_score': 0.9064378656949035, 'fowlkes_mallows_score': 0.0011328376915326858}\n"
     ]
    },
    {
     "name": "stderr",
     "output_type": "stream",
     "text": [
      "/home/nico/PycharmProjects/Master/.venv/lib/python3.12/site-packages/sklearn/utils/deprecation.py:151: FutureWarning: 'force_all_finite' was renamed to 'ensure_all_finite' in 1.6 and will be removed in 1.8.\n",
      "  warnings.warn(\n"
     ]
    },
    {
     "name": "stdout",
     "output_type": "stream",
     "text": [
      "(\"<class 'sklearn.cluster._kmeans.KMeans'>\", 'FIELD_SERIALIZED', '10', 'False') {'adjusted_rand_score': 0.002914061088592513, 'normalized_mutual_info_score': 0.8966928417285542, 'fowlkes_mallows_score': 0.003273256646500345}\n"
     ]
    },
    {
     "name": "stderr",
     "output_type": "stream",
     "text": [
      "/home/nico/PycharmProjects/Master/.venv/lib/python3.12/site-packages/sklearn/utils/deprecation.py:151: FutureWarning: 'force_all_finite' was renamed to 'ensure_all_finite' in 1.6 and will be removed in 1.8.\n",
      "  warnings.warn(\n"
     ]
    },
    {
     "name": "stdout",
     "output_type": "stream",
     "text": [
      "(\"<class 'sklearn.cluster._kmeans.KMeans'>\", 'FIELD_SERIALIZED', '50', 'False') {'adjusted_rand_score': 0.0032003251951670127, 'normalized_mutual_info_score': 0.8978554257390012, 'fowlkes_mallows_score': 0.0035186516874743325}\n"
     ]
    },
    {
     "name": "stderr",
     "output_type": "stream",
     "text": [
      "/home/nico/PycharmProjects/Master/.venv/lib/python3.12/site-packages/sklearn/utils/deprecation.py:151: FutureWarning: 'force_all_finite' was renamed to 'ensure_all_finite' in 1.6 and will be removed in 1.8.\n",
      "  warnings.warn(\n"
     ]
    },
    {
     "name": "stdout",
     "output_type": "stream",
     "text": [
      "(\"<class 'sklearn.cluster._kmeans.KMeans'>\", 'FIELD_SERIALIZED', '100', 'False') {'adjusted_rand_score': 0.0037893864915525518, 'normalized_mutual_info_score': 0.8986826736787318, 'fowlkes_mallows_score': 0.00410564982286738}\n",
      "(\"<class 'sklearn.cluster._kmeans.KMeans'>\", 'FIELD_SERIALIZED', 'None', 'False') {'adjusted_rand_score': 0.1422541583252007, 'normalized_mutual_info_score': 0.9222967737707368, 'fowlkes_mallows_score': 0.147723088243923}\n"
     ]
    },
    {
     "name": "stderr",
     "output_type": "stream",
     "text": [
      "/home/nico/PycharmProjects/Master/.venv/lib/python3.12/site-packages/sklearn/utils/deprecation.py:151: FutureWarning: 'force_all_finite' was renamed to 'ensure_all_finite' in 1.6 and will be removed in 1.8.\n",
      "  warnings.warn(\n"
     ]
    },
    {
     "name": "stdout",
     "output_type": "stream",
     "text": [
      "(\"<class 'sklearn.cluster._kmeans.KMeans'>\", 'FULL_SERIALIZED', '2', 'True') {'adjusted_rand_score': -2.756085893098569e-05, 'normalized_mutual_info_score': 0.9938221109864703, 'fowlkes_mallows_score': 0.0}\n"
     ]
    },
    {
     "name": "stderr",
     "output_type": "stream",
     "text": [
      "/home/nico/PycharmProjects/Master/.venv/lib/python3.12/site-packages/sklearn/utils/deprecation.py:151: FutureWarning: 'force_all_finite' was renamed to 'ensure_all_finite' in 1.6 and will be removed in 1.8.\n",
      "  warnings.warn(\n"
     ]
    },
    {
     "name": "stdout",
     "output_type": "stream",
     "text": [
      "(\"<class 'sklearn.cluster._kmeans.KMeans'>\", 'FULL_SERIALIZED', '10', 'True') {'adjusted_rand_score': 0.01473204577127165, 'normalized_mutual_info_score': 0.9937275163019804, 'fowlkes_mallows_score': 0.01532668299572343}\n"
     ]
    },
    {
     "name": "stderr",
     "output_type": "stream",
     "text": [
      "/home/nico/PycharmProjects/Master/.venv/lib/python3.12/site-packages/sklearn/utils/deprecation.py:151: FutureWarning: 'force_all_finite' was renamed to 'ensure_all_finite' in 1.6 and will be removed in 1.8.\n",
      "  warnings.warn(\n"
     ]
    },
    {
     "name": "stdout",
     "output_type": "stream",
     "text": [
      "(\"<class 'sklearn.cluster._kmeans.KMeans'>\", 'FULL_SERIALIZED', '50', 'True') {'adjusted_rand_score': 0.07140159592453649, 'normalized_mutual_info_score': 0.994145555151454, 'fowlkes_mallows_score': 0.07470387248392132}\n"
     ]
    },
    {
     "name": "stderr",
     "output_type": "stream",
     "text": [
      "/home/nico/PycharmProjects/Master/.venv/lib/python3.12/site-packages/sklearn/utils/deprecation.py:151: FutureWarning: 'force_all_finite' was renamed to 'ensure_all_finite' in 1.6 and will be removed in 1.8.\n",
      "  warnings.warn(\n"
     ]
    },
    {
     "name": "stdout",
     "output_type": "stream",
     "text": [
      "(\"<class 'sklearn.cluster._kmeans.KMeans'>\", 'FULL_SERIALIZED', '100', 'True') {'adjusted_rand_score': 0.09051075938276242, 'normalized_mutual_info_score': 0.9944549190291403, 'fowlkes_mallows_score': 0.09212846639876111}\n",
      "(\"<class 'sklearn.cluster._kmeans.KMeans'>\", 'FULL_SERIALIZED', 'None', 'True') {'adjusted_rand_score': 0.7547111056763247, 'normalized_mutual_info_score': 0.9987500218345492, 'fowlkes_mallows_score': 0.7563680370631994}\n"
     ]
    },
    {
     "name": "stderr",
     "output_type": "stream",
     "text": [
      "/home/nico/PycharmProjects/Master/.venv/lib/python3.12/site-packages/sklearn/utils/deprecation.py:151: FutureWarning: 'force_all_finite' was renamed to 'ensure_all_finite' in 1.6 and will be removed in 1.8.\n",
      "  warnings.warn(\n"
     ]
    },
    {
     "name": "stdout",
     "output_type": "stream",
     "text": [
      "(\"<class 'sklearn.cluster._kmeans.KMeans'>\", 'FULL_SERIALIZED', '2', 'False') {'adjusted_rand_score': 0.15390209649627837, 'normalized_mutual_info_score': 0.9247439743197702, 'fowlkes_mallows_score': 0.15409167339972343}\n"
     ]
    },
    {
     "name": "stderr",
     "output_type": "stream",
     "text": [
      "/home/nico/PycharmProjects/Master/.venv/lib/python3.12/site-packages/sklearn/utils/deprecation.py:151: FutureWarning: 'force_all_finite' was renamed to 'ensure_all_finite' in 1.6 and will be removed in 1.8.\n",
      "  warnings.warn(\n"
     ]
    },
    {
     "name": "stdout",
     "output_type": "stream",
     "text": [
      "(\"<class 'sklearn.cluster._kmeans.KMeans'>\", 'FULL_SERIALIZED', '10', 'False') {'adjusted_rand_score': 0.42462016537083364, 'normalized_mutual_info_score': 0.9537479482951512, 'fowlkes_mallows_score': 0.43871081354174374}\n"
     ]
    },
    {
     "name": "stderr",
     "output_type": "stream",
     "text": [
      "/home/nico/PycharmProjects/Master/.venv/lib/python3.12/site-packages/sklearn/utils/deprecation.py:151: FutureWarning: 'force_all_finite' was renamed to 'ensure_all_finite' in 1.6 and will be removed in 1.8.\n",
      "  warnings.warn(\n"
     ]
    },
    {
     "name": "stdout",
     "output_type": "stream",
     "text": [
      "(\"<class 'sklearn.cluster._kmeans.KMeans'>\", 'FULL_SERIALIZED', '50', 'False') {'adjusted_rand_score': 0.44183974863769193, 'normalized_mutual_info_score': 0.9546620529058564, 'fowlkes_mallows_score': 0.45328921479317685}\n"
     ]
    },
    {
     "name": "stderr",
     "output_type": "stream",
     "text": [
      "/home/nico/PycharmProjects/Master/.venv/lib/python3.12/site-packages/sklearn/utils/deprecation.py:151: FutureWarning: 'force_all_finite' was renamed to 'ensure_all_finite' in 1.6 and will be removed in 1.8.\n",
      "  warnings.warn(\n"
     ]
    },
    {
     "name": "stdout",
     "output_type": "stream",
     "text": [
      "(\"<class 'sklearn.cluster._kmeans.KMeans'>\", 'FULL_SERIALIZED', '100', 'False') {'adjusted_rand_score': 0.43928056165051144, 'normalized_mutual_info_score': 0.9543528482265697, 'fowlkes_mallows_score': 0.45053489765287114}\n",
      "(\"<class 'sklearn.cluster._kmeans.KMeans'>\", 'FULL_SERIALIZED', 'None', 'False') {'adjusted_rand_score': 0.8177208995930404, 'normalized_mutual_info_score': 0.9884735437395927, 'fowlkes_mallows_score': 0.8187102514807594}\n"
     ]
    },
    {
     "name": "stderr",
     "output_type": "stream",
     "text": [
      "/home/nico/PycharmProjects/Master/.venv/lib/python3.12/site-packages/sklearn/utils/deprecation.py:151: FutureWarning: 'force_all_finite' was renamed to 'ensure_all_finite' in 1.6 and will be removed in 1.8.\n",
      "  warnings.warn(\n"
     ]
    },
    {
     "name": "stdout",
     "output_type": "stream",
     "text": [
      "(\"<class 'sklearn.cluster._dbscan.DBSCAN'>\", 'FIELD_SERIALIZED', '2', 'True') {'adjusted_rand_score': 0.00016076962804905103, 'normalized_mutual_info_score': 0.6565192710050302, 'fowlkes_mallows_score': 0.004889054115215978}\n"
     ]
    },
    {
     "name": "stderr",
     "output_type": "stream",
     "text": [
      "/home/nico/PycharmProjects/Master/.venv/lib/python3.12/site-packages/sklearn/utils/deprecation.py:151: FutureWarning: 'force_all_finite' was renamed to 'ensure_all_finite' in 1.6 and will be removed in 1.8.\n",
      "  warnings.warn(\n"
     ]
    },
    {
     "name": "stdout",
     "output_type": "stream",
     "text": [
      "(\"<class 'sklearn.cluster._dbscan.DBSCAN'>\", 'FIELD_SERIALIZED', '10', 'True') {'adjusted_rand_score': 0.004276257870122506, 'normalized_mutual_info_score': 0.9517533931491164, 'fowlkes_mallows_score': 0.017612947414016113}\n"
     ]
    },
    {
     "name": "stderr",
     "output_type": "stream",
     "text": [
      "/home/nico/PycharmProjects/Master/.venv/lib/python3.12/site-packages/sklearn/utils/deprecation.py:151: FutureWarning: 'force_all_finite' was renamed to 'ensure_all_finite' in 1.6 and will be removed in 1.8.\n",
      "  warnings.warn(\n"
     ]
    },
    {
     "name": "stdout",
     "output_type": "stream",
     "text": [
      "(\"<class 'sklearn.cluster._dbscan.DBSCAN'>\", 'FIELD_SERIALIZED', '50', 'True') {'adjusted_rand_score': 0.005474834652593021, 'normalized_mutual_info_score': 0.9612817606270778, 'fowlkes_mallows_score': 0.018499891602515212}\n"
     ]
    },
    {
     "name": "stderr",
     "output_type": "stream",
     "text": [
      "/home/nico/PycharmProjects/Master/.venv/lib/python3.12/site-packages/sklearn/utils/deprecation.py:151: FutureWarning: 'force_all_finite' was renamed to 'ensure_all_finite' in 1.6 and will be removed in 1.8.\n",
      "  warnings.warn(\n"
     ]
    },
    {
     "name": "stdout",
     "output_type": "stream",
     "text": [
      "(\"<class 'sklearn.cluster._dbscan.DBSCAN'>\", 'FIELD_SERIALIZED', '100', 'True') {'adjusted_rand_score': 0.0051461036281029516, 'normalized_mutual_info_score': 0.9563002389065188, 'fowlkes_mallows_score': 0.019334656026882564}\n",
      "(\"<class 'sklearn.cluster._dbscan.DBSCAN'>\", 'FIELD_SERIALIZED', 'None', 'True') {'adjusted_rand_score': 0.0, 'normalized_mutual_info_score': 0.9971193644382403, 'fowlkes_mallows_score': 0.0}\n"
     ]
    },
    {
     "name": "stderr",
     "output_type": "stream",
     "text": [
      "/home/nico/PycharmProjects/Master/.venv/lib/python3.12/site-packages/sklearn/utils/deprecation.py:151: FutureWarning: 'force_all_finite' was renamed to 'ensure_all_finite' in 1.6 and will be removed in 1.8.\n",
      "  warnings.warn(\n"
     ]
    },
    {
     "name": "stdout",
     "output_type": "stream",
     "text": [
      "(\"<class 'sklearn.cluster._dbscan.DBSCAN'>\", 'FIELD_SERIALIZED', '2', 'False') {'adjusted_rand_score': -6.45726999082863e-05, 'normalized_mutual_info_score': 0.4244311045956481, 'fowlkes_mallows_score': 0.0014990368777767363}\n"
     ]
    },
    {
     "name": "stderr",
     "output_type": "stream",
     "text": [
      "/home/nico/PycharmProjects/Master/.venv/lib/python3.12/site-packages/sklearn/utils/deprecation.py:151: FutureWarning: 'force_all_finite' was renamed to 'ensure_all_finite' in 1.6 and will be removed in 1.8.\n",
      "  warnings.warn(\n"
     ]
    },
    {
     "name": "stdout",
     "output_type": "stream",
     "text": [
      "(\"<class 'sklearn.cluster._dbscan.DBSCAN'>\", 'FIELD_SERIALIZED', '10', 'False') {'adjusted_rand_score': 0.00016410838783171552, 'normalized_mutual_info_score': 0.7439814273074392, 'fowlkes_mallows_score': 0.0014703391020101891}\n"
     ]
    },
    {
     "name": "stderr",
     "output_type": "stream",
     "text": [
      "/home/nico/PycharmProjects/Master/.venv/lib/python3.12/site-packages/sklearn/utils/deprecation.py:151: FutureWarning: 'force_all_finite' was renamed to 'ensure_all_finite' in 1.6 and will be removed in 1.8.\n",
      "  warnings.warn(\n"
     ]
    },
    {
     "name": "stdout",
     "output_type": "stream",
     "text": [
      "(\"<class 'sklearn.cluster._dbscan.DBSCAN'>\", 'FIELD_SERIALIZED', '50', 'False') {'adjusted_rand_score': 0.00028961640385466496, 'normalized_mutual_info_score': 0.7703414335934355, 'fowlkes_mallows_score': 0.0017673344373554025}\n"
     ]
    },
    {
     "name": "stderr",
     "output_type": "stream",
     "text": [
      "/home/nico/PycharmProjects/Master/.venv/lib/python3.12/site-packages/sklearn/utils/deprecation.py:151: FutureWarning: 'force_all_finite' was renamed to 'ensure_all_finite' in 1.6 and will be removed in 1.8.\n",
      "  warnings.warn(\n"
     ]
    },
    {
     "name": "stdout",
     "output_type": "stream",
     "text": [
      "(\"<class 'sklearn.cluster._dbscan.DBSCAN'>\", 'FIELD_SERIALIZED', '100', 'False') {'adjusted_rand_score': 0.0002761793623244787, 'normalized_mutual_info_score': 0.767771493379952, 'fowlkes_mallows_score': 0.0017290964786796073}\n",
      "(\"<class 'sklearn.cluster._dbscan.DBSCAN'>\", 'FIELD_SERIALIZED', 'None', 'False') {'adjusted_rand_score': 0.0008610930005805606, 'normalized_mutual_info_score': 0.9561426619562456, 'fowlkes_mallows_score': 0.020754980866510835}\n"
     ]
    },
    {
     "name": "stderr",
     "output_type": "stream",
     "text": [
      "/home/nico/PycharmProjects/Master/.venv/lib/python3.12/site-packages/sklearn/utils/deprecation.py:151: FutureWarning: 'force_all_finite' was renamed to 'ensure_all_finite' in 1.6 and will be removed in 1.8.\n",
      "  warnings.warn(\n"
     ]
    },
    {
     "name": "stdout",
     "output_type": "stream",
     "text": [
      "(\"<class 'sklearn.cluster._dbscan.DBSCAN'>\", 'FULL_SERIALIZED', '2', 'True') {'adjusted_rand_score': 0.00027300607603154365, 'normalized_mutual_info_score': 0.6224328510070495, 'fowlkes_mallows_score': 0.011405482293920735}\n"
     ]
    },
    {
     "name": "stderr",
     "output_type": "stream",
     "text": [
      "/home/nico/PycharmProjects/Master/.venv/lib/python3.12/site-packages/sklearn/utils/deprecation.py:151: FutureWarning: 'force_all_finite' was renamed to 'ensure_all_finite' in 1.6 and will be removed in 1.8.\n",
      "  warnings.warn(\n"
     ]
    },
    {
     "name": "stdout",
     "output_type": "stream",
     "text": [
      "(\"<class 'sklearn.cluster._dbscan.DBSCAN'>\", 'FULL_SERIALIZED', '10', 'True') {'adjusted_rand_score': 0.013676659324470817, 'normalized_mutual_info_score': 0.9484393888377555, 'fowlkes_mallows_score': 0.06267511942419624}\n"
     ]
    },
    {
     "name": "stderr",
     "output_type": "stream",
     "text": [
      "/home/nico/PycharmProjects/Master/.venv/lib/python3.12/site-packages/sklearn/utils/deprecation.py:151: FutureWarning: 'force_all_finite' was renamed to 'ensure_all_finite' in 1.6 and will be removed in 1.8.\n",
      "  warnings.warn(\n"
     ]
    },
    {
     "name": "stdout",
     "output_type": "stream",
     "text": [
      "(\"<class 'sklearn.cluster._dbscan.DBSCAN'>\", 'FULL_SERIALIZED', '50', 'True') {'adjusted_rand_score': 0.015642725669675846, 'normalized_mutual_info_score': 0.9541473379336133, 'fowlkes_mallows_score': 0.06343237021855025}\n"
     ]
    },
    {
     "name": "stderr",
     "output_type": "stream",
     "text": [
      "/home/nico/PycharmProjects/Master/.venv/lib/python3.12/site-packages/sklearn/utils/deprecation.py:151: FutureWarning: 'force_all_finite' was renamed to 'ensure_all_finite' in 1.6 and will be removed in 1.8.\n",
      "  warnings.warn(\n"
     ]
    },
    {
     "name": "stdout",
     "output_type": "stream",
     "text": [
      "(\"<class 'sklearn.cluster._dbscan.DBSCAN'>\", 'FULL_SERIALIZED', '100', 'True') {'adjusted_rand_score': 0.017306686289606972, 'normalized_mutual_info_score': 0.9558997177783989, 'fowlkes_mallows_score': 0.06997098713829958}\n",
      "(\"<class 'sklearn.cluster._dbscan.DBSCAN'>\", 'FULL_SERIALIZED', 'None', 'True') {'adjusted_rand_score': 0.2782563569718429, 'normalized_mutual_info_score': 0.9975867372378017, 'fowlkes_mallows_score': 0.40201512610368484}\n"
     ]
    },
    {
     "name": "stderr",
     "output_type": "stream",
     "text": [
      "/home/nico/PycharmProjects/Master/.venv/lib/python3.12/site-packages/sklearn/utils/deprecation.py:151: FutureWarning: 'force_all_finite' was renamed to 'ensure_all_finite' in 1.6 and will be removed in 1.8.\n",
      "  warnings.warn(\n"
     ]
    },
    {
     "name": "stdout",
     "output_type": "stream",
     "text": [
      "(\"<class 'sklearn.cluster._dbscan.DBSCAN'>\", 'FULL_SERIALIZED', '2', 'False') {'adjusted_rand_score': 0.0002945619284069862, 'normalized_mutual_info_score': 0.4071903346553901, 'fowlkes_mallows_score': 0.014861438618492843}\n"
     ]
    },
    {
     "name": "stderr",
     "output_type": "stream",
     "text": [
      "/home/nico/PycharmProjects/Master/.venv/lib/python3.12/site-packages/sklearn/utils/deprecation.py:151: FutureWarning: 'force_all_finite' was renamed to 'ensure_all_finite' in 1.6 and will be removed in 1.8.\n",
      "  warnings.warn(\n"
     ]
    },
    {
     "name": "stdout",
     "output_type": "stream",
     "text": [
      "(\"<class 'sklearn.cluster._dbscan.DBSCAN'>\", 'FULL_SERIALIZED', '10', 'False') {'adjusted_rand_score': 0.046245241572788094, 'normalized_mutual_info_score': 0.913793562283398, 'fowlkes_mallows_score': 0.12856499929559168}\n"
     ]
    },
    {
     "name": "stderr",
     "output_type": "stream",
     "text": [
      "/home/nico/PycharmProjects/Master/.venv/lib/python3.12/site-packages/sklearn/utils/deprecation.py:151: FutureWarning: 'force_all_finite' was renamed to 'ensure_all_finite' in 1.6 and will be removed in 1.8.\n",
      "  warnings.warn(\n"
     ]
    },
    {
     "name": "stdout",
     "output_type": "stream",
     "text": [
      "(\"<class 'sklearn.cluster._dbscan.DBSCAN'>\", 'FULL_SERIALIZED', '50', 'False') {'adjusted_rand_score': 0.052829305476311025, 'normalized_mutual_info_score': 0.9179391124387679, 'fowlkes_mallows_score': 0.13659432353925358}\n"
     ]
    },
    {
     "name": "stderr",
     "output_type": "stream",
     "text": [
      "/home/nico/PycharmProjects/Master/.venv/lib/python3.12/site-packages/sklearn/utils/deprecation.py:151: FutureWarning: 'force_all_finite' was renamed to 'ensure_all_finite' in 1.6 and will be removed in 1.8.\n",
      "  warnings.warn(\n"
     ]
    },
    {
     "name": "stdout",
     "output_type": "stream",
     "text": [
      "(\"<class 'sklearn.cluster._dbscan.DBSCAN'>\", 'FULL_SERIALIZED', '100', 'False') {'adjusted_rand_score': 0.05228121163797588, 'normalized_mutual_info_score': 0.9191013873206045, 'fowlkes_mallows_score': 0.13551327273825686}\n",
      "(\"<class 'sklearn.cluster._dbscan.DBSCAN'>\", 'FULL_SERIALIZED', 'None', 'False') {'adjusted_rand_score': 0.004664718769860029, 'normalized_mutual_info_score': 0.9562429617492978, 'fowlkes_mallows_score': 0.04655485577920836}\n"
     ]
    },
    {
     "name": "stderr",
     "output_type": "stream",
     "text": [
      "/home/nico/PycharmProjects/Master/.venv/lib/python3.12/site-packages/sklearn/utils/deprecation.py:151: FutureWarning: 'force_all_finite' was renamed to 'ensure_all_finite' in 1.6 and will be removed in 1.8.\n",
      "  warnings.warn(\n"
     ]
    },
    {
     "name": "stdout",
     "output_type": "stream",
     "text": [
      "(\"<class 'sklearn.cluster._hdbscan.hdbscan.HDBSCAN'>\", 'FIELD_SERIALIZED', '2', 'True') {'adjusted_rand_score': 0.00692762164443134, 'normalized_mutual_info_score': 0.9328748459562475, 'fowlkes_mallows_score': 0.0199952744026458}\n"
     ]
    },
    {
     "name": "stderr",
     "output_type": "stream",
     "text": [
      "/home/nico/PycharmProjects/Master/.venv/lib/python3.12/site-packages/sklearn/utils/deprecation.py:151: FutureWarning: 'force_all_finite' was renamed to 'ensure_all_finite' in 1.6 and will be removed in 1.8.\n",
      "  warnings.warn(\n"
     ]
    },
    {
     "name": "stdout",
     "output_type": "stream",
     "text": [
      "(\"<class 'sklearn.cluster._hdbscan.hdbscan.HDBSCAN'>\", 'FIELD_SERIALIZED', '10', 'True') {'adjusted_rand_score': 0.007287510651795684, 'normalized_mutual_info_score': 0.9271057026580594, 'fowlkes_mallows_score': 0.032976099381732266}\n"
     ]
    },
    {
     "name": "stderr",
     "output_type": "stream",
     "text": [
      "/home/nico/PycharmProjects/Master/.venv/lib/python3.12/site-packages/sklearn/utils/deprecation.py:151: FutureWarning: 'force_all_finite' was renamed to 'ensure_all_finite' in 1.6 and will be removed in 1.8.\n",
      "  warnings.warn(\n"
     ]
    },
    {
     "name": "stdout",
     "output_type": "stream",
     "text": [
      "(\"<class 'sklearn.cluster._hdbscan.hdbscan.HDBSCAN'>\", 'FIELD_SERIALIZED', '50', 'True') {'adjusted_rand_score': 0.005653163165870449, 'normalized_mutual_info_score': 0.9238929414622207, 'fowlkes_mallows_score': 0.025884804715589047}\n"
     ]
    },
    {
     "name": "stderr",
     "output_type": "stream",
     "text": [
      "/home/nico/PycharmProjects/Master/.venv/lib/python3.12/site-packages/sklearn/utils/deprecation.py:151: FutureWarning: 'force_all_finite' was renamed to 'ensure_all_finite' in 1.6 and will be removed in 1.8.\n",
      "  warnings.warn(\n"
     ]
    },
    {
     "name": "stdout",
     "output_type": "stream",
     "text": [
      "(\"<class 'sklearn.cluster._hdbscan.hdbscan.HDBSCAN'>\", 'FIELD_SERIALIZED', '100', 'True') {'adjusted_rand_score': 0.0073937529958919, 'normalized_mutual_info_score': 0.9276641746361443, 'fowlkes_mallows_score': 0.02833566903406462}\n",
      "(\"<class 'sklearn.cluster._hdbscan.hdbscan.HDBSCAN'>\", 'FIELD_SERIALIZED', 'None', 'True') {'adjusted_rand_score': 0.05192791393826211, 'normalized_mutual_info_score': 0.9683860835673215, 'fowlkes_mallows_score': 0.16008995236541204}\n"
     ]
    },
    {
     "name": "stderr",
     "output_type": "stream",
     "text": [
      "/home/nico/PycharmProjects/Master/.venv/lib/python3.12/site-packages/sklearn/utils/deprecation.py:151: FutureWarning: 'force_all_finite' was renamed to 'ensure_all_finite' in 1.6 and will be removed in 1.8.\n",
      "  warnings.warn(\n"
     ]
    },
    {
     "name": "stdout",
     "output_type": "stream",
     "text": [
      "(\"<class 'sklearn.cluster._hdbscan.hdbscan.HDBSCAN'>\", 'FIELD_SERIALIZED', '2', 'False') {'adjusted_rand_score': 0.0016708004432567252, 'normalized_mutual_info_score': 0.9001678242884283, 'fowlkes_mallows_score': 0.001775617797510228}\n"
     ]
    },
    {
     "name": "stderr",
     "output_type": "stream",
     "text": [
      "/home/nico/PycharmProjects/Master/.venv/lib/python3.12/site-packages/sklearn/utils/deprecation.py:151: FutureWarning: 'force_all_finite' was renamed to 'ensure_all_finite' in 1.6 and will be removed in 1.8.\n",
      "  warnings.warn(\n"
     ]
    },
    {
     "name": "stdout",
     "output_type": "stream",
     "text": [
      "(\"<class 'sklearn.cluster._hdbscan.hdbscan.HDBSCAN'>\", 'FIELD_SERIALIZED', '10', 'False') {'adjusted_rand_score': 0.004038618578119086, 'normalized_mutual_info_score': 0.8998895397336668, 'fowlkes_mallows_score': 0.004626072513792373}\n"
     ]
    },
    {
     "name": "stderr",
     "output_type": "stream",
     "text": [
      "/home/nico/PycharmProjects/Master/.venv/lib/python3.12/site-packages/sklearn/utils/deprecation.py:151: FutureWarning: 'force_all_finite' was renamed to 'ensure_all_finite' in 1.6 and will be removed in 1.8.\n",
      "  warnings.warn(\n"
     ]
    },
    {
     "name": "stdout",
     "output_type": "stream",
     "text": [
      "(\"<class 'sklearn.cluster._hdbscan.hdbscan.HDBSCAN'>\", 'FIELD_SERIALIZED', '50', 'False') {'adjusted_rand_score': 0.0006722905719256655, 'normalized_mutual_info_score': 0.8826317569394206, 'fowlkes_mallows_score': 0.0018297411153209856}\n"
     ]
    },
    {
     "name": "stderr",
     "output_type": "stream",
     "text": [
      "/home/nico/PycharmProjects/Master/.venv/lib/python3.12/site-packages/sklearn/utils/deprecation.py:151: FutureWarning: 'force_all_finite' was renamed to 'ensure_all_finite' in 1.6 and will be removed in 1.8.\n",
      "  warnings.warn(\n"
     ]
    },
    {
     "name": "stdout",
     "output_type": "stream",
     "text": [
      "(\"<class 'sklearn.cluster._hdbscan.hdbscan.HDBSCAN'>\", 'FIELD_SERIALIZED', '100', 'False') {'adjusted_rand_score': 0.0030033114562003967, 'normalized_mutual_info_score': 0.8957471448556394, 'fowlkes_mallows_score': 0.003800845448259246}\n",
      "(\"<class 'sklearn.cluster._hdbscan.hdbscan.HDBSCAN'>\", 'FIELD_SERIALIZED', 'None', 'False') {'adjusted_rand_score': 0.265633749556373, 'normalized_mutual_info_score': 0.9507731980003694, 'fowlkes_mallows_score': 0.2709739055803423}\n"
     ]
    },
    {
     "name": "stderr",
     "output_type": "stream",
     "text": [
      "/home/nico/PycharmProjects/Master/.venv/lib/python3.12/site-packages/sklearn/utils/deprecation.py:151: FutureWarning: 'force_all_finite' was renamed to 'ensure_all_finite' in 1.6 and will be removed in 1.8.\n",
      "  warnings.warn(\n"
     ]
    },
    {
     "name": "stdout",
     "output_type": "stream",
     "text": [
      "(\"<class 'sklearn.cluster._hdbscan.hdbscan.HDBSCAN'>\", 'FULL_SERIALIZED', '2', 'True') {'adjusted_rand_score': 0.025843536625348235, 'normalized_mutual_info_score': 0.9329096294904448, 'fowlkes_mallows_score': 0.07525794130770143}\n"
     ]
    },
    {
     "name": "stderr",
     "output_type": "stream",
     "text": [
      "/home/nico/PycharmProjects/Master/.venv/lib/python3.12/site-packages/sklearn/utils/deprecation.py:151: FutureWarning: 'force_all_finite' was renamed to 'ensure_all_finite' in 1.6 and will be removed in 1.8.\n",
      "  warnings.warn(\n"
     ]
    },
    {
     "name": "stdout",
     "output_type": "stream",
     "text": [
      "(\"<class 'sklearn.cluster._hdbscan.hdbscan.HDBSCAN'>\", 'FULL_SERIALIZED', '10', 'True') {'adjusted_rand_score': 0.029034524405226723, 'normalized_mutual_info_score': 0.9298896337353193, 'fowlkes_mallows_score': 0.10802806025746284}\n"
     ]
    },
    {
     "name": "stderr",
     "output_type": "stream",
     "text": [
      "/home/nico/PycharmProjects/Master/.venv/lib/python3.12/site-packages/sklearn/utils/deprecation.py:151: FutureWarning: 'force_all_finite' was renamed to 'ensure_all_finite' in 1.6 and will be removed in 1.8.\n",
      "  warnings.warn(\n"
     ]
    },
    {
     "name": "stdout",
     "output_type": "stream",
     "text": [
      "(\"<class 'sklearn.cluster._hdbscan.hdbscan.HDBSCAN'>\", 'FULL_SERIALIZED', '50', 'True') {'adjusted_rand_score': 0.02512361554600598, 'normalized_mutual_info_score': 0.9278351031823528, 'fowlkes_mallows_score': 0.10349135227034695}\n"
     ]
    },
    {
     "name": "stderr",
     "output_type": "stream",
     "text": [
      "/home/nico/PycharmProjects/Master/.venv/lib/python3.12/site-packages/sklearn/utils/deprecation.py:151: FutureWarning: 'force_all_finite' was renamed to 'ensure_all_finite' in 1.6 and will be removed in 1.8.\n",
      "  warnings.warn(\n"
     ]
    },
    {
     "name": "stdout",
     "output_type": "stream",
     "text": [
      "(\"<class 'sklearn.cluster._hdbscan.hdbscan.HDBSCAN'>\", 'FULL_SERIALIZED', '100', 'True') {'adjusted_rand_score': 0.024956877947641107, 'normalized_mutual_info_score': 0.9287032831342533, 'fowlkes_mallows_score': 0.10003626231835393}\n",
      "(\"<class 'sklearn.cluster._hdbscan.hdbscan.HDBSCAN'>\", 'FULL_SERIALIZED', 'None', 'True') {'adjusted_rand_score': 0.020980038415771833, 'normalized_mutual_info_score': 0.9555327392749134, 'fowlkes_mallows_score': 0.10307015791448253}\n"
     ]
    },
    {
     "name": "stderr",
     "output_type": "stream",
     "text": [
      "/home/nico/PycharmProjects/Master/.venv/lib/python3.12/site-packages/sklearn/utils/deprecation.py:151: FutureWarning: 'force_all_finite' was renamed to 'ensure_all_finite' in 1.6 and will be removed in 1.8.\n",
      "  warnings.warn(\n"
     ]
    },
    {
     "name": "stdout",
     "output_type": "stream",
     "text": [
      "(\"<class 'sklearn.cluster._hdbscan.hdbscan.HDBSCAN'>\", 'FULL_SERIALIZED', '2', 'False') {'adjusted_rand_score': 0.1907136598045463, 'normalized_mutual_info_score': 0.9188190400657554, 'fowlkes_mallows_score': 0.19286428952648177}\n"
     ]
    },
    {
     "name": "stderr",
     "output_type": "stream",
     "text": [
      "/home/nico/PycharmProjects/Master/.venv/lib/python3.12/site-packages/sklearn/utils/deprecation.py:151: FutureWarning: 'force_all_finite' was renamed to 'ensure_all_finite' in 1.6 and will be removed in 1.8.\n",
      "  warnings.warn(\n"
     ]
    },
    {
     "name": "stdout",
     "output_type": "stream",
     "text": [
      "(\"<class 'sklearn.cluster._hdbscan.hdbscan.HDBSCAN'>\", 'FULL_SERIALIZED', '10', 'False') {'adjusted_rand_score': 0.5204453748525378, 'normalized_mutual_info_score': 0.956562231167877, 'fowlkes_mallows_score': 0.5305845184758278}\n"
     ]
    },
    {
     "name": "stderr",
     "output_type": "stream",
     "text": [
      "/home/nico/PycharmProjects/Master/.venv/lib/python3.12/site-packages/sklearn/utils/deprecation.py:151: FutureWarning: 'force_all_finite' was renamed to 'ensure_all_finite' in 1.6 and will be removed in 1.8.\n",
      "  warnings.warn(\n"
     ]
    },
    {
     "name": "stdout",
     "output_type": "stream",
     "text": [
      "(\"<class 'sklearn.cluster._hdbscan.hdbscan.HDBSCAN'>\", 'FULL_SERIALIZED', '50', 'False') {'adjusted_rand_score': 0.5181536880148707, 'normalized_mutual_info_score': 0.9566549887859075, 'fowlkes_mallows_score': 0.528531015577852}\n"
     ]
    },
    {
     "name": "stderr",
     "output_type": "stream",
     "text": [
      "/home/nico/PycharmProjects/Master/.venv/lib/python3.12/site-packages/sklearn/utils/deprecation.py:151: FutureWarning: 'force_all_finite' was renamed to 'ensure_all_finite' in 1.6 and will be removed in 1.8.\n",
      "  warnings.warn(\n"
     ]
    },
    {
     "name": "stdout",
     "output_type": "stream",
     "text": [
      "(\"<class 'sklearn.cluster._hdbscan.hdbscan.HDBSCAN'>\", 'FULL_SERIALIZED', '100', 'False') {'adjusted_rand_score': 0.527119186440687, 'normalized_mutual_info_score': 0.9572422943253446, 'fowlkes_mallows_score': 0.5362443961617454}\n",
      "(\"<class 'sklearn.cluster._hdbscan.hdbscan.HDBSCAN'>\", 'FULL_SERIALIZED', 'None', 'False') {'adjusted_rand_score': 0.871507546722749, 'normalized_mutual_info_score': 0.9923116420069015, 'fowlkes_mallows_score': 0.8731580103378349}\n"
     ]
    }
   ],
   "execution_count": 5
  },
  {
   "metadata": {
    "ExecuteTime": {
     "end_time": "2025-03-09T11:54:04.661699Z",
     "start_time": "2025-03-09T11:54:04.648295Z"
    }
   },
   "cell_type": "code",
   "source": [
    "keys = [\"cluster\", \"serialization\", \"dimension\", \"drop_na\"]\n",
    "evaluation_results_list = [v | {ki: vi for ki, vi in zip(keys, k)} for k, v in overall_results.items()]\n",
    "df_evaluation_results = pd.DataFrame.from_records(evaluation_results_list)\n",
    "df_evaluation_results[\"cluster\"] = df_evaluation_results[\"cluster\"].apply(lambda x: x.split(\".\")[-1].replace(\"'>\", \"\"))\n",
    "df_evaluation_results = df_evaluation_results.set_index(keys)\n",
    "df_evaluation_results.head()"
   ],
   "id": "ffb8ca3791dc46e6",
   "outputs": [
    {
     "data": {
      "text/plain": [
       "                                            adjusted_rand_score  \\\n",
       "cluster serialization    dimension drop_na                        \n",
       "KMeans  FIELD_SERIALIZED 2         True               -0.000025   \n",
       "                         10        True                0.023229   \n",
       "                         50        True                0.032896   \n",
       "                         100       True                0.030507   \n",
       "                         None      True                0.738910   \n",
       "\n",
       "                                            normalized_mutual_info_score  \\\n",
       "cluster serialization    dimension drop_na                                 \n",
       "KMeans  FIELD_SERIALIZED 2         True                         0.994024   \n",
       "                         10        True                         0.993893   \n",
       "                         50        True                         0.994037   \n",
       "                         100       True                         0.993958   \n",
       "                         None      True                         0.998575   \n",
       "\n",
       "                                            fowlkes_mallows_score  \n",
       "cluster serialization    dimension drop_na                         \n",
       "KMeans  FIELD_SERIALIZED 2         True                  0.000000  \n",
       "                         10        True                  0.023911  \n",
       "                         50        True                  0.033501  \n",
       "                         100       True                  0.031488  \n",
       "                         None      True                  0.739140  "
      ],
      "text/html": [
       "<div>\n",
       "<style scoped>\n",
       "    .dataframe tbody tr th:only-of-type {\n",
       "        vertical-align: middle;\n",
       "    }\n",
       "\n",
       "    .dataframe tbody tr th {\n",
       "        vertical-align: top;\n",
       "    }\n",
       "\n",
       "    .dataframe thead th {\n",
       "        text-align: right;\n",
       "    }\n",
       "</style>\n",
       "<table border=\"1\" class=\"dataframe\">\n",
       "  <thead>\n",
       "    <tr style=\"text-align: right;\">\n",
       "      <th></th>\n",
       "      <th></th>\n",
       "      <th></th>\n",
       "      <th></th>\n",
       "      <th>adjusted_rand_score</th>\n",
       "      <th>normalized_mutual_info_score</th>\n",
       "      <th>fowlkes_mallows_score</th>\n",
       "    </tr>\n",
       "    <tr>\n",
       "      <th>cluster</th>\n",
       "      <th>serialization</th>\n",
       "      <th>dimension</th>\n",
       "      <th>drop_na</th>\n",
       "      <th></th>\n",
       "      <th></th>\n",
       "      <th></th>\n",
       "    </tr>\n",
       "  </thead>\n",
       "  <tbody>\n",
       "    <tr>\n",
       "      <th rowspan=\"5\" valign=\"top\">KMeans</th>\n",
       "      <th rowspan=\"5\" valign=\"top\">FIELD_SERIALIZED</th>\n",
       "      <th>2</th>\n",
       "      <th>True</th>\n",
       "      <td>-0.000025</td>\n",
       "      <td>0.994024</td>\n",
       "      <td>0.000000</td>\n",
       "    </tr>\n",
       "    <tr>\n",
       "      <th>10</th>\n",
       "      <th>True</th>\n",
       "      <td>0.023229</td>\n",
       "      <td>0.993893</td>\n",
       "      <td>0.023911</td>\n",
       "    </tr>\n",
       "    <tr>\n",
       "      <th>50</th>\n",
       "      <th>True</th>\n",
       "      <td>0.032896</td>\n",
       "      <td>0.994037</td>\n",
       "      <td>0.033501</td>\n",
       "    </tr>\n",
       "    <tr>\n",
       "      <th>100</th>\n",
       "      <th>True</th>\n",
       "      <td>0.030507</td>\n",
       "      <td>0.993958</td>\n",
       "      <td>0.031488</td>\n",
       "    </tr>\n",
       "    <tr>\n",
       "      <th>None</th>\n",
       "      <th>True</th>\n",
       "      <td>0.738910</td>\n",
       "      <td>0.998575</td>\n",
       "      <td>0.739140</td>\n",
       "    </tr>\n",
       "  </tbody>\n",
       "</table>\n",
       "</div>"
      ]
     },
     "execution_count": 29,
     "metadata": {},
     "output_type": "execute_result"
    }
   ],
   "execution_count": 29
  },
  {
   "metadata": {
    "ExecuteTime": {
     "end_time": "2025-03-09T11:54:44.758724Z",
     "start_time": "2025-03-09T11:54:44.749634Z"
    }
   },
   "cell_type": "code",
   "source": "df_evaluation_results.to_csv(\"results/EvaluateClustering.csv\")",
   "id": "227cabc430135e8b",
   "outputs": [],
   "execution_count": 32
  }
 ],
 "metadata": {
  "kernelspec": {
   "display_name": "Python 3",
   "language": "python",
   "name": "python3"
  },
  "language_info": {
   "codemirror_mode": {
    "name": "ipython",
    "version": 2
   },
   "file_extension": ".py",
   "mimetype": "text/x-python",
   "name": "python",
   "nbconvert_exporter": "python",
   "pygments_lexer": "ipython2",
   "version": "2.7.6"
  }
 },
 "nbformat": 4,
 "nbformat_minor": 5
}
