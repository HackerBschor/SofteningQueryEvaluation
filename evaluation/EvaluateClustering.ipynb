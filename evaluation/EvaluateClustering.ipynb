{
 "cells": [
  {
   "metadata": {},
   "cell_type": "markdown",
   "source": [
    "# Evaluate Similarity Grouping\n",
    "\n",
    "In this notebook, we evaluate how effective a relation can be integrated using the NoiseAwareGroupBy Operator.\n",
    "Therefore, we utilize the [Music Brainz 20K](https://dbs.uni-leipzig.de/research/projects/benchmark-datasets-for-entity-resolution).\n",
    "\n",
    "The dataset contains modified (usign the DAPO data generator) song records from different sources.\n",
    "The goal is to group same songs into buckets. E.g. The records {\"title\": \"Daniel Balavoine - L'enfant aux yeux d'Italie\", \"artist\": null, \"album\": \"De vous à elle en passant par moi\", ...} and {\"name\": L'enfant aux yeux d'Italie - De vous à elle en passant par moi\", \"artist\": \"Daniel Balavoine\", \"album\": null} describe the same song.\n",
    "\n",
    "The column \"CID\" describes the cluster of the record. Using the  `SoftAggregateScikit` operator, we determine clusters and calculate the metrics:\n",
    "* Adjusted Rand Index (ARI)\n",
    "* Normalized Mutual Information (NMI)\n",
    "* Fowlkes-Mallows Index (FMI)\n"
   ],
   "id": "a935d713b194d80b"
  },
  {
   "cell_type": "code",
   "id": "initial_id",
   "metadata": {
    "collapsed": true,
    "ExecuteTime": {
     "end_time": "2025-03-06T13:26:25.386639Z",
     "start_time": "2025-03-06T13:26:21.510260Z"
    }
   },
   "source": [
    "import pandas as pd\n",
    "from models import ModelMgr\n",
    "from models.embedding.SentenceTransformer import SentenceTransformerEmbeddingModel\n",
    "from models.semantic_validation import LLaMAValidationModel\n",
    "\n",
    "from db.operators import Dummy, SoftAggregateScikit\n",
    "from db.operators.Aggregate import SetAggregation, StringAggregation\n",
    "from sklearn.cluster import KMeans, DBSCAN, HDBSCAN\n",
    "import tqdm\n",
    "\n",
    "from sklearn.metrics import adjusted_rand_score, normalized_mutual_info_score, fowlkes_mallows_score"
   ],
   "outputs": [],
   "execution_count": 1
  },
  {
   "metadata": {
    "ExecuteTime": {
     "end_time": "2025-03-06T13:26:27.359237Z",
     "start_time": "2025-03-06T13:26:25.389803Z"
    }
   },
   "cell_type": "code",
   "source": [
    "m = ModelMgr()\n",
    "stem = SentenceTransformerEmbeddingModel(m) #model_path=\"sentence-transformers/all-MiniLM-L6-v2\"\n",
    "sv = LLaMAValidationModel(m)"
   ],
   "id": "31d4b74a79360e57",
   "outputs": [
    {
     "data": {
      "text/plain": [
       "Loading checkpoint shards:   0%|          | 0/2 [00:00<?, ?it/s]"
      ],
      "application/vnd.jupyter.widget-view+json": {
       "version_major": 2,
       "version_minor": 0,
       "model_id": "81831929ba374199adc4d5db8bb031df"
      }
     },
     "metadata": {},
     "output_type": "display_data"
    }
   ],
   "execution_count": 2
  },
  {
   "metadata": {
    "ExecuteTime": {
     "end_time": "2025-03-06T13:26:27.430123Z",
     "start_time": "2025-03-06T13:26:27.403732Z"
    }
   },
   "cell_type": "code",
   "source": [
    "df_music = pd.read_csv(\"../data/musicbrainz-20-A01.csv\", index_col=0)\n",
    "df_music.head()"
   ],
   "id": "5a9cf14e0e8f7599",
   "outputs": [
    {
     "data": {
      "text/plain": [
       "      CID  CTID  SourceID               id number  \\\n",
       "TID                                                 \n",
       "1       1     1         2   MBox7368722-HH      9   \n",
       "2    2512     5         4      139137-A047      7   \n",
       "3       2     1         2  MBox38440522-HH     17   \n",
       "4       3     1         5          4489993     10   \n",
       "5       4     1         5         10339621      2   \n",
       "\n",
       "                                             title    length  \\\n",
       "TID                                                            \n",
       "1    Daniel Balavoine - L'enfant aux yeux d'Italie       219   \n",
       "2                                              007  1m 58sec   \n",
       "3                   Action PAINTING! - Mustard Gas       129   \n",
       "4                                       Your Grace      unk.   \n",
       "5                                 Well You Needn't    321266   \n",
       "\n",
       "                         artist                              album  year  \\\n",
       "TID                                                                        \n",
       "1                           NaN  De vous à elle en passant par moi    75   \n",
       "2                     [unknown]         Cantigas de roda (unknown)   NaN   \n",
       "3                           NaN          There and Back Again Lane    95   \n",
       "4                Kathy Troccoli                            Comfort  2005   \n",
       "5    Ernie Stadler Jazz Quintet                         First Down  2010   \n",
       "\n",
       "    language  \n",
       "TID           \n",
       "1     French  \n",
       "2       Por.  \n",
       "3    English  \n",
       "4    English  \n",
       "5    English  "
      ],
      "text/html": [
       "<div>\n",
       "<style scoped>\n",
       "    .dataframe tbody tr th:only-of-type {\n",
       "        vertical-align: middle;\n",
       "    }\n",
       "\n",
       "    .dataframe tbody tr th {\n",
       "        vertical-align: top;\n",
       "    }\n",
       "\n",
       "    .dataframe thead th {\n",
       "        text-align: right;\n",
       "    }\n",
       "</style>\n",
       "<table border=\"1\" class=\"dataframe\">\n",
       "  <thead>\n",
       "    <tr style=\"text-align: right;\">\n",
       "      <th></th>\n",
       "      <th>CID</th>\n",
       "      <th>CTID</th>\n",
       "      <th>SourceID</th>\n",
       "      <th>id</th>\n",
       "      <th>number</th>\n",
       "      <th>title</th>\n",
       "      <th>length</th>\n",
       "      <th>artist</th>\n",
       "      <th>album</th>\n",
       "      <th>year</th>\n",
       "      <th>language</th>\n",
       "    </tr>\n",
       "    <tr>\n",
       "      <th>TID</th>\n",
       "      <th></th>\n",
       "      <th></th>\n",
       "      <th></th>\n",
       "      <th></th>\n",
       "      <th></th>\n",
       "      <th></th>\n",
       "      <th></th>\n",
       "      <th></th>\n",
       "      <th></th>\n",
       "      <th></th>\n",
       "      <th></th>\n",
       "    </tr>\n",
       "  </thead>\n",
       "  <tbody>\n",
       "    <tr>\n",
       "      <th>1</th>\n",
       "      <td>1</td>\n",
       "      <td>1</td>\n",
       "      <td>2</td>\n",
       "      <td>MBox7368722-HH</td>\n",
       "      <td>9</td>\n",
       "      <td>Daniel Balavoine - L'enfant aux yeux d'Italie</td>\n",
       "      <td>219</td>\n",
       "      <td>NaN</td>\n",
       "      <td>De vous à elle en passant par moi</td>\n",
       "      <td>75</td>\n",
       "      <td>French</td>\n",
       "    </tr>\n",
       "    <tr>\n",
       "      <th>2</th>\n",
       "      <td>2512</td>\n",
       "      <td>5</td>\n",
       "      <td>4</td>\n",
       "      <td>139137-A047</td>\n",
       "      <td>7</td>\n",
       "      <td>007</td>\n",
       "      <td>1m 58sec</td>\n",
       "      <td>[unknown]</td>\n",
       "      <td>Cantigas de roda (unknown)</td>\n",
       "      <td>NaN</td>\n",
       "      <td>Por.</td>\n",
       "    </tr>\n",
       "    <tr>\n",
       "      <th>3</th>\n",
       "      <td>2</td>\n",
       "      <td>1</td>\n",
       "      <td>2</td>\n",
       "      <td>MBox38440522-HH</td>\n",
       "      <td>17</td>\n",
       "      <td>Action PAINTING! - Mustard Gas</td>\n",
       "      <td>129</td>\n",
       "      <td>NaN</td>\n",
       "      <td>There and Back Again Lane</td>\n",
       "      <td>95</td>\n",
       "      <td>English</td>\n",
       "    </tr>\n",
       "    <tr>\n",
       "      <th>4</th>\n",
       "      <td>3</td>\n",
       "      <td>1</td>\n",
       "      <td>5</td>\n",
       "      <td>4489993</td>\n",
       "      <td>10</td>\n",
       "      <td>Your Grace</td>\n",
       "      <td>unk.</td>\n",
       "      <td>Kathy Troccoli</td>\n",
       "      <td>Comfort</td>\n",
       "      <td>2005</td>\n",
       "      <td>English</td>\n",
       "    </tr>\n",
       "    <tr>\n",
       "      <th>5</th>\n",
       "      <td>4</td>\n",
       "      <td>1</td>\n",
       "      <td>5</td>\n",
       "      <td>10339621</td>\n",
       "      <td>2</td>\n",
       "      <td>Well You Needn't</td>\n",
       "      <td>321266</td>\n",
       "      <td>Ernie Stadler Jazz Quintet</td>\n",
       "      <td>First Down</td>\n",
       "      <td>2010</td>\n",
       "      <td>English</td>\n",
       "    </tr>\n",
       "  </tbody>\n",
       "</table>\n",
       "</div>"
      ]
     },
     "execution_count": 3,
     "metadata": {},
     "output_type": "execute_result"
    }
   ],
   "execution_count": 3
  },
  {
   "metadata": {
    "ExecuteTime": {
     "end_time": "2025-03-06T13:40:11.358324Z",
     "start_time": "2025-03-06T13:34:39.088367Z"
    }
   },
   "cell_type": "code",
   "source": [
    "def evaluate(df, cluster_columns, id_column, cluster_class, cluster_params, serialization_mode, reduce_dimensions):\n",
    "    columns = [col.strip() for col in df.columns]\n",
    "    data = [[str(y) for y in x] for x in df.itertuples(name=None)]\n",
    "\n",
    "    d = Dummy(\"data\", [\"tid\"] + columns, data).open()\n",
    "    agg = SoftAggregateScikit(\n",
    "        d,\n",
    "        cluster_columns,\n",
    "        [SetAggregation(\"tid\", \"ids\")],\n",
    "        em=stem,\n",
    "        cluster_class = cluster_class,\n",
    "        cluster_params = cluster_params,\n",
    "        serialization_mode = serialization_mode,\n",
    "        reduce_dimensions=reduce_dimensions\n",
    "    )\n",
    "\n",
    "    predictions = []\n",
    "    for i, row in enumerate(agg.open()):\n",
    "        predictions.append(pd.Series([i for _ in range(len(row[\"ids\"]))], index=[int(idx) for idx in row[\"ids\"]]))\n",
    "\n",
    "    predicted_labels = pd.concat(predictions).sort_index()\n",
    "    true_labels = df[id_column]\n",
    "\n",
    "    ari = adjusted_rand_score(true_labels, predicted_labels)\n",
    "    nmi = normalized_mutual_info_score(true_labels, predicted_labels)\n",
    "    fmi = fowlkes_mallows_score(true_labels, predicted_labels)\n",
    "\n",
    "    print(f\"Adjusted Rand Index (ARI): {ari}\")\n",
    "    print(f\"Normalized Mutual Information (NMI): {nmi}\")\n",
    "    print(f\"Fowlkes-Mallows Index (FMI): {fmi}\")\n",
    "\n",
    "    return predicted_labels\n",
    "\n",
    "\n",
    "\n",
    "cols = [\"title\", \"artist\", \"album\", \"year\", \"language\"]\n",
    "pred = evaluate(df_music, cols, \"CID\", cluster_class=HDBSCAN, cluster_params={\"min_cluster_size\": 2}, serialization_mode = \"FULL_SERIALIZED\", reduce_dimensions = None)\n",
    "# pred = evaluate(df_music, cols, cluster_class=DBSCAN, cluster_params={\"eps\": 0.1, \"min_samples\": 1}, serialization_mode = \"FULL_SERIALIZED\", reduce_dimensions = 100)\n",
    "# pred = evaluate(df_music, cols, cluster_class=KMeans, cluster_params={\"n_clusters\": len(df[\"CID\"].unique())}, serialization_mode = \"FULL_SERIALIZED\", reduce_dimensions = 100)"
   ],
   "id": "61446035d1cf4a39",
   "outputs": [
    {
     "name": "stdout",
     "output_type": "stream",
     "text": [
      "Adjusted Rand Index (ARI): 0.871507546722749\n",
      "Normalized Mutual Information (NMI): 0.9923116420069015\n",
      "Fowlkes-Mallows Index (FMI): 0.8731580103378349\n"
     ]
    }
   ],
   "execution_count": 5
  }
 ],
 "metadata": {
  "kernelspec": {
   "display_name": "Python 3",
   "language": "python",
   "name": "python3"
  },
  "language_info": {
   "codemirror_mode": {
    "name": "ipython",
    "version": 2
   },
   "file_extension": ".py",
   "mimetype": "text/x-python",
   "name": "python",
   "nbconvert_exporter": "python",
   "pygments_lexer": "ipython2",
   "version": "2.7.6"
  }
 },
 "nbformat": 4,
 "nbformat_minor": 5
}
