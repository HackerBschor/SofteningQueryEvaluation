{
 "cells": [
  {
   "metadata": {},
   "cell_type": "markdown",
   "source": "# Evaluate Similarity Grouping\n",
   "id": "a935d713b194d80b"
  },
  {
   "metadata": {
    "collapsed": true,
    "ExecuteTime": {
     "end_time": "2025-03-11T13:28:18.294450Z",
     "start_time": "2025-03-11T13:28:14.174079Z"
    }
   },
   "cell_type": "code",
   "source": [
    "import pandas as pd\n",
    "import numpy as np\n",
    "\n",
    "from tqdm import tqdm\n",
    "\n",
    "from models import ModelMgr\n",
    "from models.embedding.SentenceTransformer import SentenceTransformerEmbeddingModel\n",
    "from models.semantic_validation import LLaMAValidationModel\n",
    "\n",
    "from db.operators import Dummy, Select\n",
    "from db.criteria import SoftEqual\n",
    "from db.structure import Column, Constant\n",
    "import kagglehub\n",
    "\n",
    "from util import calculate_metrics\n",
    "\n",
    "import time"
   ],
   "id": "initial_id",
   "outputs": [
    {
     "name": "stderr",
     "output_type": "stream",
     "text": [
      "[nltk_data] Downloading package punkt to /home/nico/nltk_data...\n",
      "[nltk_data]   Package punkt is already up-to-date!\n",
      "[nltk_data] Downloading package punkt_tab to /home/nico/nltk_data...\n",
      "[nltk_data]   Package punkt_tab is already up-to-date!\n"
     ]
    }
   ],
   "execution_count": 1
  },
  {
   "metadata": {
    "ExecuteTime": {
     "end_time": "2025-03-11T13:28:20.334385Z",
     "start_time": "2025-03-11T13:28:18.296612Z"
    }
   },
   "cell_type": "code",
   "source": [
    "m = ModelMgr()\n",
    "stem = SentenceTransformerEmbeddingModel(m)\n",
    "lsv = LLaMAValidationModel(m)\n",
    "# lsv = DeepSeekValidationModel(m)"
   ],
   "id": "31d4b74a79360e57",
   "outputs": [
    {
     "data": {
      "text/plain": [
       "Loading checkpoint shards:   0%|          | 0/2 [00:00<?, ?it/s]"
      ],
      "application/vnd.jupyter.widget-view+json": {
       "version_major": 2,
       "version_minor": 0,
       "model_id": "815e537c28a7497a9ddf91f5e2c9efd3"
      }
     },
     "metadata": {},
     "output_type": "display_data"
    }
   ],
   "execution_count": 2
  },
  {
   "metadata": {
    "ExecuteTime": {
     "end_time": "2025-03-11T13:28:20.380161Z",
     "start_time": "2025-03-11T13:28:20.378452Z"
    }
   },
   "cell_type": "code",
   "source": [
    "#system_prompt = \"You are an expert in checking semantic equivalence. Respond with \\\"yes\\\" and \\\"no\\\" only!\"\n",
    "#prompt_template = \"Is \\\"{a}\\\" semantically equal to \\\"{b}\\\"?\"\n",
    "\n",
    "system_prompt = \"Respond with \\\"yes\\\"/ \\\"no\\\" only!\"\n",
    "prompt_template = 'Can \"{}\" be referred as  \"{}\"'"
   ],
   "id": "865ffe3cef358c6a",
   "outputs": [],
   "execution_count": 3
  },
  {
   "metadata": {
    "ExecuteTime": {
     "end_time": "2025-03-11T13:28:20.809888Z",
     "start_time": "2025-03-11T13:28:20.421144Z"
    }
   },
   "cell_type": "code",
   "source": [
    "path = kagglehub.dataset_download(\"lakritidis/product-classification-and-categorization\")\n",
    "\n",
    "df = pd.read_csv(f\"{path}/pricerunner_aggregate.csv\", header=None, index_col=0)\n",
    "df.drop(columns=[2, 3, 5], inplace=True)\n",
    "df.columns = [\"product\", \"category_1\", \"category_2\"]\n",
    "df.head()"
   ],
   "id": "5a9cf14e0e8f7599",
   "outputs": [
    {
     "data": {
      "text/plain": [
       "                                             product  \\\n",
       "0                                                      \n",
       "1                    apple iphone 8 plus 64gb silver   \n",
       "2                apple iphone 8 plus 64 gb spacegrau   \n",
       "3  apple mq8n2b/a iphone 8 plus 64gb 5.5 12mp sim...   \n",
       "4                apple iphone 8 plus 64gb space grey   \n",
       "5  apple iphone 8 plus gold 5.5 64gb 4g unlocked ...   \n",
       "\n",
       "                 category_1     category_2  \n",
       "0                                           \n",
       "1  Apple iPhone 8 Plus 64GB  Mobile Phones  \n",
       "2  Apple iPhone 8 Plus 64GB  Mobile Phones  \n",
       "3  Apple iPhone 8 Plus 64GB  Mobile Phones  \n",
       "4  Apple iPhone 8 Plus 64GB  Mobile Phones  \n",
       "5  Apple iPhone 8 Plus 64GB  Mobile Phones  "
      ],
      "text/html": [
       "<div>\n",
       "<style scoped>\n",
       "    .dataframe tbody tr th:only-of-type {\n",
       "        vertical-align: middle;\n",
       "    }\n",
       "\n",
       "    .dataframe tbody tr th {\n",
       "        vertical-align: top;\n",
       "    }\n",
       "\n",
       "    .dataframe thead th {\n",
       "        text-align: right;\n",
       "    }\n",
       "</style>\n",
       "<table border=\"1\" class=\"dataframe\">\n",
       "  <thead>\n",
       "    <tr style=\"text-align: right;\">\n",
       "      <th></th>\n",
       "      <th>product</th>\n",
       "      <th>category_1</th>\n",
       "      <th>category_2</th>\n",
       "    </tr>\n",
       "    <tr>\n",
       "      <th>0</th>\n",
       "      <th></th>\n",
       "      <th></th>\n",
       "      <th></th>\n",
       "    </tr>\n",
       "  </thead>\n",
       "  <tbody>\n",
       "    <tr>\n",
       "      <th>1</th>\n",
       "      <td>apple iphone 8 plus 64gb silver</td>\n",
       "      <td>Apple iPhone 8 Plus 64GB</td>\n",
       "      <td>Mobile Phones</td>\n",
       "    </tr>\n",
       "    <tr>\n",
       "      <th>2</th>\n",
       "      <td>apple iphone 8 plus 64 gb spacegrau</td>\n",
       "      <td>Apple iPhone 8 Plus 64GB</td>\n",
       "      <td>Mobile Phones</td>\n",
       "    </tr>\n",
       "    <tr>\n",
       "      <th>3</th>\n",
       "      <td>apple mq8n2b/a iphone 8 plus 64gb 5.5 12mp sim...</td>\n",
       "      <td>Apple iPhone 8 Plus 64GB</td>\n",
       "      <td>Mobile Phones</td>\n",
       "    </tr>\n",
       "    <tr>\n",
       "      <th>4</th>\n",
       "      <td>apple iphone 8 plus 64gb space grey</td>\n",
       "      <td>Apple iPhone 8 Plus 64GB</td>\n",
       "      <td>Mobile Phones</td>\n",
       "    </tr>\n",
       "    <tr>\n",
       "      <th>5</th>\n",
       "      <td>apple iphone 8 plus gold 5.5 64gb 4g unlocked ...</td>\n",
       "      <td>Apple iPhone 8 Plus 64GB</td>\n",
       "      <td>Mobile Phones</td>\n",
       "    </tr>\n",
       "  </tbody>\n",
       "</table>\n",
       "</div>"
      ]
     },
     "execution_count": 4,
     "metadata": {},
     "output_type": "execute_result"
    }
   ],
   "execution_count": 4
  },
  {
   "metadata": {
    "ExecuteTime": {
     "end_time": "2025-03-11T13:28:20.828719Z",
     "start_time": "2025-03-11T13:28:20.826422Z"
    }
   },
   "cell_type": "code",
   "source": [
    "categories = list(df[\"category_2\"].unique())\n",
    "print(categories)"
   ],
   "id": "1e99546606e5c94a",
   "outputs": [
    {
     "name": "stdout",
     "output_type": "stream",
     "text": [
      "['Mobile Phones', 'TVs', 'CPUs', 'Digital Cameras', 'Microwaves', 'Dishwashers', 'Washing Machines', 'Freezers', 'Fridge Freezers', 'Fridges']\n"
     ]
    }
   ],
   "execution_count": 5
  },
  {
   "metadata": {
    "ExecuteTime": {
     "end_time": "2025-03-11T13:28:20.942928Z",
     "start_time": "2025-03-11T13:28:20.920164Z"
    }
   },
   "cell_type": "code",
   "source": [
    "df_reduced = pd.concat([df[df[\"category_2\"] == category].sample(10) for category in categories])\n",
    "gt = {(x[\"product\"], x[\"category_2\"]) for key, x in df_reduced.iterrows()}\n",
    "print(str(gt)[0:100], \"...\", len(gt))"
   ],
   "id": "2e31372a7a1ea379",
   "outputs": [
    {
     "name": "stdout",
     "output_type": "stream",
     "text": [
      "{('russell hobbs rhm2064g compact solo microwave grey', 'Microwaves'), ('indesit dsr15bk slimline di ... 100\n"
     ]
    }
   ],
   "execution_count": 6
  },
  {
   "metadata": {
    "ExecuteTime": {
     "end_time": "2025-03-11T13:28:21.026444Z",
     "start_time": "2025-03-11T13:28:21.020734Z"
    }
   },
   "cell_type": "code",
   "source": [
    "overall_result = {}\n",
    "\n",
    "def evaluate(method, threshold, fetch_one = False, calc_bleu = False):\n",
    "    pred = []\n",
    "    runtimes = []\n",
    "    for category in tqdm(categories):\n",
    "        d = Dummy(\"products\", [\"product\"], [(x[0], ) for x in gt])\n",
    "        s = Select(d, SoftEqual(Column(\"product\"), Constant(category), method=method, em=stem, sv=lsv, threshold=threshold, zfs_system_prompt=system_prompt, zfs_prompt_template = prompt_template))\n",
    "\n",
    "        tic = time.time()\n",
    "        if fetch_one:\n",
    "            result = [s.open().fetch_one()]\n",
    "        else:\n",
    "            result = s.open().fetch_all()\n",
    "        toc = time.time()\n",
    "\n",
    "        pred.extend([(x[\"product\"], category) for x in result])\n",
    "        runtimes.append(toc - tic)\n",
    "\n",
    "    pred = set(pred)\n",
    "\n",
    "    scores = calculate_metrics(gt, pred, calc_bleu=calc_bleu)\n",
    "    scores[\"Runtime\"] = np.mean(runtimes)\n",
    "\n",
    "    print(scores)\n",
    "\n",
    "    return scores, pred"
   ],
   "id": "c67b9c155b3664a9",
   "outputs": [],
   "execution_count": 7
  },
  {
   "metadata": {
    "ExecuteTime": {
     "end_time": "2025-03-11T13:31:22.140289Z",
     "start_time": "2025-03-11T13:28:21.068780Z"
    }
   },
   "cell_type": "code",
   "source": [
    "for thresh in [0.01, 0.02, 0.03, 0.04, 0.05, 0.06, 0.07, 0.08, 0.09, 0.1, 0.2, 0.3, 0.4, 0.5, 0.6, 0.7, 0.8, 0.9, 1.0]:\n",
    "    res, _ = evaluate(\"threshold\", thresh, False, True)\n",
    "    overall_result[(\"threshold\", thresh)] = res\n",
    "    if res[\"Recall\"] == 0.0:\n",
    "        break"
   ],
   "id": "5e15da8cf591a77f",
   "outputs": [
    {
     "name": "stderr",
     "output_type": "stream",
     "text": [
      "100%|██████████| 10/10 [00:04<00:00,  2.40it/s]\n"
     ]
    },
    {
     "name": "stdout",
     "output_type": "stream",
     "text": [
      "{'Precision': 0.10675381263616558, 'Recall': 0.98, 'F1 Score': 0.1925343811394892, 'bleu1': 0.9980909090909091, 'bleu2': 0.9979896122473321, 'bleu3': 0.9978719262778781, 'bleu4': 0.9977326571860027, 'Runtime': 0.4159417629241943}\n"
     ]
    },
    {
     "name": "stderr",
     "output_type": "stream",
     "text": [
      "100%|██████████| 10/10 [00:03<00:00,  3.02it/s]\n"
     ]
    },
    {
     "name": "stdout",
     "output_type": "stream",
     "text": [
      "{'Precision': 0.10738255033557047, 'Recall': 0.96, 'F1 Score': 0.193158953722334, 'bleu1': 0.9958505971793201, 'bleu2': 0.9954864951319502, 'bleu3': 0.9951630778719928, 'bleu4': 0.9947552641197736, 'Runtime': 0.33110885620117186}\n"
     ]
    },
    {
     "name": "stderr",
     "output_type": "stream",
     "text": [
      "100%|██████████| 10/10 [00:03<00:00,  2.98it/s]\n"
     ]
    },
    {
     "name": "stdout",
     "output_type": "stream",
     "text": [
      "{'Precision': 0.10983981693363844, 'Recall': 0.96, 'F1 Score': 0.19712525667351127, 'bleu1': 0.9958505971793201, 'bleu2': 0.9954864951319502, 'bleu3': 0.9951630778719928, 'bleu4': 0.9947552641197736, 'Runtime': 0.3356718301773071}\n"
     ]
    },
    {
     "name": "stderr",
     "output_type": "stream",
     "text": [
      "100%|██████████| 10/10 [00:03<00:00,  2.97it/s]\n"
     ]
    },
    {
     "name": "stdout",
     "output_type": "stream",
     "text": [
      "{'Precision': 0.11018957345971564, 'Recall': 0.93, 'F1 Score': 0.19703389830508472, 'bleu1': 0.9921655844155844, 'bleu2': 0.9916436320544126, 'bleu3': 0.991004109199491, 'bleu4': 0.9901868352060816, 'Runtime': 0.3363892316818237}\n"
     ]
    },
    {
     "name": "stderr",
     "output_type": "stream",
     "text": [
      "100%|██████████| 10/10 [00:03<00:00,  2.87it/s]\n"
     ]
    },
    {
     "name": "stdout",
     "output_type": "stream",
     "text": [
      "{'Precision': 0.11481481481481481, 'Recall': 0.93, 'F1 Score': 0.2043956043956044, 'bleu1': 0.9921655844155844, 'bleu2': 0.9916436320544126, 'bleu3': 0.991004109199491, 'bleu4': 0.9901868352060816, 'Runtime': 0.34853320121765136}\n"
     ]
    },
    {
     "name": "stderr",
     "output_type": "stream",
     "text": [
      "100%|██████████| 10/10 [00:03<00:00,  2.96it/s]\n"
     ]
    },
    {
     "name": "stdout",
     "output_type": "stream",
     "text": [
      "{'Precision': 0.11892583120204604, 'Recall': 0.93, 'F1 Score': 0.21088435374149658, 'bleu1': 0.9921655844155844, 'bleu2': 0.9916436320544126, 'bleu3': 0.991004109199491, 'bleu4': 0.9901868352060816, 'Runtime': 0.3370701313018799}\n"
     ]
    },
    {
     "name": "stderr",
     "output_type": "stream",
     "text": [
      "100%|██████████| 10/10 [00:03<00:00,  2.82it/s]\n"
     ]
    },
    {
     "name": "stdout",
     "output_type": "stream",
     "text": [
      "{'Precision': 0.12550607287449392, 'Recall': 0.93, 'F1 Score': 0.22116527942925088, 'bleu1': 0.9921655844155844, 'bleu2': 0.9916436320544126, 'bleu3': 0.991004109199491, 'bleu4': 0.9901868352060816, 'Runtime': 0.3537137985229492}\n"
     ]
    },
    {
     "name": "stderr",
     "output_type": "stream",
     "text": [
      "100%|██████████| 10/10 [00:03<00:00,  2.83it/s]\n"
     ]
    },
    {
     "name": "stdout",
     "output_type": "stream",
     "text": [
      "{'Precision': 0.13237410071942446, 'Recall': 0.92, 'F1 Score': 0.23144654088050315, 'bleu1': 0.9913322510822511, 'bleu2': 0.9907723413461653, 'bleu3': 0.9900897121636515, 'bleu4': 0.9892228552421801, 'Runtime': 0.35247604846954345}\n"
     ]
    },
    {
     "name": "stderr",
     "output_type": "stream",
     "text": [
      "100%|██████████| 10/10 [00:03<00:00,  2.72it/s]\n"
     ]
    },
    {
     "name": "stdout",
     "output_type": "stream",
     "text": [
      "{'Precision': 0.13740458015267176, 'Recall': 0.9, 'F1 Score': 0.2384105960264901, 'bleu1': 0.9866186449874319, 'bleu2': 0.9857661088408443, 'bleu3': 0.9847101373677408, 'bleu4': 0.9833343170867255, 'Runtime': 0.3673586130142212}\n"
     ]
    },
    {
     "name": "stderr",
     "output_type": "stream",
     "text": [
      "100%|██████████| 10/10 [00:03<00:00,  2.67it/s]\n"
     ]
    },
    {
     "name": "stdout",
     "output_type": "stream",
     "text": [
      "{'Precision': 0.1461038961038961, 'Recall': 0.9, 'F1 Score': 0.2513966480446927, 'bleu1': 0.9866186449874319, 'bleu2': 0.9857661088408443, 'bleu3': 0.9847101373677408, 'bleu4': 0.9833343170867255, 'Runtime': 0.3746285676956177}\n"
     ]
    },
    {
     "name": "stderr",
     "output_type": "stream",
     "text": [
      "100%|██████████| 10/10 [00:03<00:00,  2.62it/s]\n"
     ]
    },
    {
     "name": "stdout",
     "output_type": "stream",
     "text": [
      "{'Precision': 0.39, 'Recall': 0.78, 'F1 Score': 0.5200000000000001, 'bleu1': 0.9048744971981375, 'bleu2': 0.8896128849904242, 'bleu3': 0.8722066185527999, 'bleu4': 0.8533754233449994, 'Runtime': 0.38082983493804934}\n"
     ]
    },
    {
     "name": "stderr",
     "output_type": "stream",
     "text": [
      "100%|██████████| 10/10 [00:03<00:00,  2.95it/s]\n"
     ]
    },
    {
     "name": "stdout",
     "output_type": "stream",
     "text": [
      "{'Precision': 0.6052631578947368, 'Recall': 0.69, 'F1 Score': 0.6448598130841122, 'bleu1': 0.8037254109534087, 'bleu2': 0.7789657588275908, 'bleu3': 0.7522797754762613, 'bleu4': 0.7346664405087635, 'Runtime': 0.3379930019378662}\n"
     ]
    },
    {
     "name": "stderr",
     "output_type": "stream",
     "text": [
      "100%|██████████| 10/10 [00:03<00:00,  2.76it/s]\n"
     ]
    },
    {
     "name": "stdout",
     "output_type": "stream",
     "text": [
      "{'Precision': 0.7466666666666667, 'Recall': 0.56, 'F1 Score': 0.6400000000000001, 'bleu1': 0.7055459759285828, 'bleu2': 0.672738666539556, 'bleu3': 0.6345097662482369, 'bleu4': 0.6063735705543454, 'Runtime': 0.36239233016967776}\n"
     ]
    },
    {
     "name": "stderr",
     "output_type": "stream",
     "text": [
      "100%|██████████| 10/10 [00:03<00:00,  2.60it/s]\n"
     ]
    },
    {
     "name": "stdout",
     "output_type": "stream",
     "text": [
      "{'Precision': 0.6451612903225806, 'Recall': 0.2, 'F1 Score': 0.30534351145038163, 'bleu1': 0.48125943559400136, 'bleu2': 0.4099488982393146, 'bleu3': 0.3616004982584514, 'bleu4': 0.33162421874276204, 'Runtime': 0.3836843252182007}\n"
     ]
    },
    {
     "name": "stderr",
     "output_type": "stream",
     "text": [
      "100%|██████████| 10/10 [00:03<00:00,  2.64it/s]\n"
     ]
    },
    {
     "name": "stdout",
     "output_type": "stream",
     "text": [
      "{'Precision': 1.0, 'Recall': 0.01, 'F1 Score': 0.019801980198019802, 'bleu1': 0.14078107292873082, 'bleu2': 0.06784549570954383, 'bleu3': 0.05054231645060737, 'bleu4': 0.037295369118533546, 'Runtime': 0.3785877227783203}\n"
     ]
    },
    {
     "name": "stderr",
     "output_type": "stream",
     "text": [
      "100%|██████████| 10/10 [00:03<00:00,  2.90it/s]"
     ]
    },
    {
     "name": "stdout",
     "output_type": "stream",
     "text": [
      "{'Precision': 0, 'Recall': 0.0, 'F1 Score': 0, 'bleu1': -1, 'bleu2': -1, 'bleu3': -1, 'bleu4': -1, 'Runtime': 0.3439875841140747}\n"
     ]
    },
    {
     "name": "stderr",
     "output_type": "stream",
     "text": [
      "\n"
     ]
    }
   ],
   "execution_count": 8
  },
  {
   "metadata": {
    "ExecuteTime": {
     "end_time": "2025-03-11T13:31:49.369964Z",
     "start_time": "2025-03-11T13:31:22.151083Z"
    }
   },
   "cell_type": "code",
   "source": [
    "res, pred = evaluate(\"zero-few-shot\", None, False, True)\n",
    "overall_result[(\"zero-few-shot\", None)] = res"
   ],
   "id": "cfc4b912ac2f7c42",
   "outputs": [
    {
     "name": "stderr",
     "output_type": "stream",
     "text": [
      "100%|██████████| 10/10 [00:26<00:00,  2.63s/it]\n"
     ]
    },
    {
     "name": "stdout",
     "output_type": "stream",
     "text": [
      "{'Precision': 0.7241379310344828, 'Recall': 0.42, 'F1 Score': 0.5316455696202531, 'bleu1': 0.6686946667770143, 'bleu2': 0.6088971052118335, 'bleu3': 0.5560174999684565, 'bleu4': 0.5190346640167757, 'Runtime': 2.6299542665481566}\n"
     ]
    }
   ],
   "execution_count": 9
  },
  {
   "metadata": {
    "ExecuteTime": {
     "end_time": "2025-03-11T13:51:05.968809Z",
     "start_time": "2025-03-11T13:31:49.374805Z"
    }
   },
   "cell_type": "code",
   "source": [
    "for thresh in [0.1, 0.2, 0.3, 0.4, 0.5, 0.6, 0.7, 0.8, 0.9, 1.0]:\n",
    "    res, _ = evaluate(\"both\", thresh, False, True)\n",
    "    overall_result[(\"both\", thresh)] = res\n",
    "    if res[\"Recall\"] == 0.0:\n",
    "        break"
   ],
   "id": "98562b0a6b9358b6",
   "outputs": [
    {
     "name": "stderr",
     "output_type": "stream",
     "text": [
      "100%|██████████| 10/10 [11:16<00:00, 67.68s/it]\n"
     ]
    },
    {
     "name": "stdout",
     "output_type": "stream",
     "text": [
      "{'Precision': 0.8333333333333334, 'Recall': 0.45, 'F1 Score': 0.5844155844155844, 'bleu1': 0.6794564658436427, 'bleu2': 0.6201113360556711, 'bleu3': 0.569423208084529, 'bleu4': 0.5369079675514906, 'Runtime': 67.67934219837188}\n"
     ]
    },
    {
     "name": "stderr",
     "output_type": "stream",
     "text": [
      "100%|██████████| 10/10 [03:38<00:00, 21.86s/it]\n"
     ]
    },
    {
     "name": "stdout",
     "output_type": "stream",
     "text": [
      "{'Precision': 0.803921568627451, 'Recall': 0.41, 'F1 Score': 0.543046357615894, 'bleu1': 0.6541716633060619, 'bleu2': 0.6027290750611993, 'bleu3': 0.5553724229062721, 'bleu4': 0.5206783911403058, 'Runtime': 21.86234359741211}\n"
     ]
    },
    {
     "name": "stderr",
     "output_type": "stream",
     "text": [
      "100%|██████████| 10/10 [02:10<00:00, 13.01s/it]\n"
     ]
    },
    {
     "name": "stdout",
     "output_type": "stream",
     "text": [
      "{'Precision': 0.8048780487804879, 'Recall': 0.33, 'F1 Score': 0.4680851063829787, 'bleu1': 0.5877178817609843, 'bleu2': 0.5244069924925503, 'bleu3': 0.4701255680455004, 'bleu4': 0.4320213766466749, 'Runtime': 13.010152983665467}\n"
     ]
    },
    {
     "name": "stderr",
     "output_type": "stream",
     "text": [
      "100%|██████████| 10/10 [01:26<00:00,  8.67s/it]\n"
     ]
    },
    {
     "name": "stdout",
     "output_type": "stream",
     "text": [
      "{'Precision': 0.9310344827586207, 'Recall': 0.27, 'F1 Score': 0.4186046511627907, 'bleu1': 0.4960495878448114, 'bleu2': 0.4264709319702338, 'bleu3': 0.3716630272788912, 'bleu4': 0.33507127083178195, 'Runtime': 8.670647740364075}\n"
     ]
    },
    {
     "name": "stderr",
     "output_type": "stream",
     "text": [
      "100%|██████████| 10/10 [00:36<00:00,  3.70s/it]\n"
     ]
    },
    {
     "name": "stdout",
     "output_type": "stream",
     "text": [
      "{'Precision': 0.7222222222222222, 'Recall': 0.13, 'F1 Score': 0.22033898305084748, 'bleu1': 0.4184024319273668, 'bleu2': 0.334317327567578, 'bleu3': 0.28064236169840034, 'bleu4': 0.24135212969021438, 'Runtime': 3.6956775903701784}\n"
     ]
    },
    {
     "name": "stderr",
     "output_type": "stream",
     "text": [
      "100%|██████████| 10/10 [00:04<00:00,  2.30it/s]"
     ]
    },
    {
     "name": "stdout",
     "output_type": "stream",
     "text": [
      "{'Precision': 0, 'Recall': 0.0, 'F1 Score': 0, 'bleu1': -1, 'bleu2': -1, 'bleu3': -1, 'bleu4': -1, 'Runtime': 0.4351715803146362}\n"
     ]
    },
    {
     "name": "stderr",
     "output_type": "stream",
     "text": [
      "\n"
     ]
    }
   ],
   "execution_count": 10
  },
  {
   "metadata": {
    "ExecuteTime": {
     "end_time": "2025-03-11T14:05:24.071312Z",
     "start_time": "2025-03-11T14:05:24.053854Z"
    }
   },
   "cell_type": "code",
   "source": [
    "df_results = pd.DataFrame([{\"method\": k[0], \"threshold\": k[1]} | v for k,v in overall_result.items()])\n",
    "df_results.head()"
   ],
   "id": "8c8b88349060255c",
   "outputs": [
    {
     "data": {
      "text/plain": [
       "      method  threshold  Precision  Recall  F1 Score     bleu1     bleu2  \\\n",
       "0  threshold       0.01   0.106754    0.98  0.192534  0.998091  0.997990   \n",
       "1  threshold       0.02   0.107383    0.96  0.193159  0.995851  0.995486   \n",
       "2  threshold       0.03   0.109840    0.96  0.197125  0.995851  0.995486   \n",
       "3  threshold       0.04   0.110190    0.93  0.197034  0.992166  0.991644   \n",
       "4  threshold       0.05   0.114815    0.93  0.204396  0.992166  0.991644   \n",
       "\n",
       "      bleu3     bleu4   Runtime  \n",
       "0  0.997872  0.997733  0.415942  \n",
       "1  0.995163  0.994755  0.331109  \n",
       "2  0.995163  0.994755  0.335672  \n",
       "3  0.991004  0.990187  0.336389  \n",
       "4  0.991004  0.990187  0.348533  "
      ],
      "text/html": [
       "<div>\n",
       "<style scoped>\n",
       "    .dataframe tbody tr th:only-of-type {\n",
       "        vertical-align: middle;\n",
       "    }\n",
       "\n",
       "    .dataframe tbody tr th {\n",
       "        vertical-align: top;\n",
       "    }\n",
       "\n",
       "    .dataframe thead th {\n",
       "        text-align: right;\n",
       "    }\n",
       "</style>\n",
       "<table border=\"1\" class=\"dataframe\">\n",
       "  <thead>\n",
       "    <tr style=\"text-align: right;\">\n",
       "      <th></th>\n",
       "      <th>method</th>\n",
       "      <th>threshold</th>\n",
       "      <th>Precision</th>\n",
       "      <th>Recall</th>\n",
       "      <th>F1 Score</th>\n",
       "      <th>bleu1</th>\n",
       "      <th>bleu2</th>\n",
       "      <th>bleu3</th>\n",
       "      <th>bleu4</th>\n",
       "      <th>Runtime</th>\n",
       "    </tr>\n",
       "  </thead>\n",
       "  <tbody>\n",
       "    <tr>\n",
       "      <th>0</th>\n",
       "      <td>threshold</td>\n",
       "      <td>0.01</td>\n",
       "      <td>0.106754</td>\n",
       "      <td>0.98</td>\n",
       "      <td>0.192534</td>\n",
       "      <td>0.998091</td>\n",
       "      <td>0.997990</td>\n",
       "      <td>0.997872</td>\n",
       "      <td>0.997733</td>\n",
       "      <td>0.415942</td>\n",
       "    </tr>\n",
       "    <tr>\n",
       "      <th>1</th>\n",
       "      <td>threshold</td>\n",
       "      <td>0.02</td>\n",
       "      <td>0.107383</td>\n",
       "      <td>0.96</td>\n",
       "      <td>0.193159</td>\n",
       "      <td>0.995851</td>\n",
       "      <td>0.995486</td>\n",
       "      <td>0.995163</td>\n",
       "      <td>0.994755</td>\n",
       "      <td>0.331109</td>\n",
       "    </tr>\n",
       "    <tr>\n",
       "      <th>2</th>\n",
       "      <td>threshold</td>\n",
       "      <td>0.03</td>\n",
       "      <td>0.109840</td>\n",
       "      <td>0.96</td>\n",
       "      <td>0.197125</td>\n",
       "      <td>0.995851</td>\n",
       "      <td>0.995486</td>\n",
       "      <td>0.995163</td>\n",
       "      <td>0.994755</td>\n",
       "      <td>0.335672</td>\n",
       "    </tr>\n",
       "    <tr>\n",
       "      <th>3</th>\n",
       "      <td>threshold</td>\n",
       "      <td>0.04</td>\n",
       "      <td>0.110190</td>\n",
       "      <td>0.93</td>\n",
       "      <td>0.197034</td>\n",
       "      <td>0.992166</td>\n",
       "      <td>0.991644</td>\n",
       "      <td>0.991004</td>\n",
       "      <td>0.990187</td>\n",
       "      <td>0.336389</td>\n",
       "    </tr>\n",
       "    <tr>\n",
       "      <th>4</th>\n",
       "      <td>threshold</td>\n",
       "      <td>0.05</td>\n",
       "      <td>0.114815</td>\n",
       "      <td>0.93</td>\n",
       "      <td>0.204396</td>\n",
       "      <td>0.992166</td>\n",
       "      <td>0.991644</td>\n",
       "      <td>0.991004</td>\n",
       "      <td>0.990187</td>\n",
       "      <td>0.348533</td>\n",
       "    </tr>\n",
       "  </tbody>\n",
       "</table>\n",
       "</div>"
      ]
     },
     "execution_count": 21,
     "metadata": {},
     "output_type": "execute_result"
    }
   ],
   "execution_count": 21
  },
  {
   "metadata": {
    "ExecuteTime": {
     "end_time": "2025-03-11T14:05:26.034424Z",
     "start_time": "2025-03-11T14:05:26.025909Z"
    }
   },
   "cell_type": "code",
   "source": "df_results.to_csv(\"results/EvaluateSemanticFiltering.csv\")",
   "id": "94f320a6db680672",
   "outputs": [],
   "execution_count": 22
  }
 ],
 "metadata": {
  "kernelspec": {
   "display_name": "Python 3",
   "language": "python",
   "name": "python3"
  },
  "language_info": {
   "codemirror_mode": {
    "name": "ipython",
    "version": 2
   },
   "file_extension": ".py",
   "mimetype": "text/x-python",
   "name": "python",
   "nbconvert_exporter": "python",
   "pygments_lexer": "ipython2",
   "version": "2.7.6"
  }
 },
 "nbformat": 4,
 "nbformat_minor": 5
}
