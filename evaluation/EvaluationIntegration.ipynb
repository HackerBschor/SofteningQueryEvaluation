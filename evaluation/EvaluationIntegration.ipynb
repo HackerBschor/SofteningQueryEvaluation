{
 "cells": [
  {
   "metadata": {},
   "cell_type": "markdown",
   "source": "# Evaluation\n",
   "id": "3ed340c691f0a68"
  },
  {
   "cell_type": "code",
   "id": "initial_id",
   "metadata": {
    "collapsed": true,
    "ExecuteTime": {
     "end_time": "2025-02-07T15:24:18.027214Z",
     "start_time": "2025-02-07T15:24:18.019586Z"
    }
   },
   "source": [
    "import json\n",
    "\n",
    "import sklearn.cluster\n",
    "from sklearn.cluster import DBSCAN\n",
    "\n",
    "from db.criteria import *\n",
    "from db.operators import *\n",
    "from db.operators.Aggregate import *\n",
    "from db.structure import *\n",
    "\n",
    "from models.embedding import SentenceTransformerEmbeddingModel\n",
    "from models.semantic_validation import LLaMAValidationModel\n",
    "from models.text_generation.LLaMA import LLaMATextGenerationModel\n",
    "\n",
    "# logging.basicConfig(format='%(asctime)s : %(levelname)s : %(message)s', level=logging.DEBUG)"
   ],
   "outputs": [],
   "execution_count": 87
  },
  {
   "metadata": {
    "ExecuteTime": {
     "end_time": "2025-02-07T14:44:55.161813Z",
     "start_time": "2025-02-07T14:44:52.197013Z"
    }
   },
   "cell_type": "code",
   "source": [
    "# Load Models\n",
    "m = ModelMgr()\n",
    "em = SentenceTransformerEmbeddingModel(m)\n",
    "sv = LLaMAValidationModel(m, temperature=0.0001)\n",
    "gm = LLaMATextGenerationModel(m)"
   ],
   "id": "5160f65981a2dfbc",
   "outputs": [
    {
     "data": {
      "text/plain": [
       "Loading checkpoint shards:   0%|          | 0/2 [00:00<?, ?it/s]"
      ],
      "application/vnd.jupyter.widget-view+json": {
       "version_major": 2,
       "version_minor": 0,
       "model_id": "540b847bb6974400a0f67b26a4bcad77"
      }
     },
     "metadata": {},
     "output_type": "display_data"
    },
    {
     "data": {
      "text/plain": [
       "Loading checkpoint shards:   0%|          | 0/2 [00:00<?, ?it/s]"
      ],
      "application/vnd.jupyter.widget-view+json": {
       "version_major": 2,
       "version_minor": 0,
       "model_id": "914d94e9c86a4c47bf9cb87e4a947841"
      }
     },
     "metadata": {},
     "output_type": "display_data"
    }
   ],
   "execution_count": 2
  },
  {
   "metadata": {},
   "cell_type": "markdown",
   "source": "## Load Data\n",
   "id": "ffeb2472c9f1bcbe"
  },
  {
   "metadata": {
    "ExecuteTime": {
     "end_time": "2025-02-07T15:21:21.849889Z",
     "start_time": "2025-02-07T15:21:21.845541Z"
    }
   },
   "cell_type": "code",
   "source": [
    "def load_dummy_operators():\n",
    "    with open(\"schema.json\", \"r\") as schema:\n",
    "        schema = json.load(schema)\n",
    "\n",
    "    operators = {}\n",
    "    for relation, data in schema.items():\n",
    "        operators[relation] = Dummy(relation, [x[\"name\"] for x in data[\"schema\"]], data[\"data\"])\n",
    "    return operators\n",
    "\n",
    "ops = load_dummy_operators()"
   ],
   "id": "8526818f98ef2e14",
   "outputs": [],
   "execution_count": 72
  },
  {
   "metadata": {},
   "cell_type": "markdown",
   "source": "# Evaluation",
   "id": "93bc9fad56027e69"
  },
  {
   "metadata": {
    "ExecuteTime": {
     "end_time": "2025-02-07T15:44:25.725195Z",
     "start_time": "2025-02-07T15:44:25.716571Z"
    }
   },
   "cell_type": "code",
   "source": [
    "def evaluate(gt, result):\n",
    "    tps, fns, fps = gt & result, gt - result, result - gt\n",
    "    tp, fn, fp = len(tps), len(fns), len(fps)\n",
    "    precision = round((tp / (tp + fp) if (tp + fp) > 0 else 0) * 100.0)\n",
    "    recall = round((tp / (tp + fn) if (tp + fn) > 0 else 0) * 100.0)\n",
    "    f1_score = round(((2 * precision * recall) / (precision + recall) if (precision + recall) > 0 else 0))\n",
    "    print(\"False Positives:\", \"\\n\".join(map(lambda x: f\"\\t{x}\", fps)), \"\", sep=\"\\n\")\n",
    "    print(\"False Negatives:\", \"\\n\".join(map(lambda x: f\"\\t{x}\", fns)), \"\", sep=\"\\n\")\n",
    "    return {\"precision\": precision, \"recall\": recall, \"f1_score\": f1_score}"
   ],
   "id": "802bc3e6332f0087",
   "outputs": [],
   "execution_count": 137
  },
  {
   "metadata": {},
   "cell_type": "markdown",
   "source": "## Test Case 1: Match chemical descriptions with thier common names",
   "id": "611651fed45c9f79"
  },
  {
   "metadata": {
    "ExecuteTime": {
     "end_time": "2025-02-07T14:44:55.328881Z",
     "start_time": "2025-02-07T14:44:55.323889Z"
    }
   },
   "cell_type": "code",
   "source": "gt1 = {(\"H2O\", \"Water\"), (\"H2SO4\", \"Sulfuric Acid\"), (\"CH3OH\", \"Methanol\"), (\"HCl\", \"Hydrochloric Acid\"), (\"NH3\", \"Ammonia\"), (\"C2H5OH\", \"Ethanol\"), (\"C6H6\", \"Benzene\"), (\"Cl2\", \"Chlorine\"), (\"C3H6O\", \"Acetone\"), (\"NaOH\", \"Sodium Hydroxide\"), (\"C8H10N4O2\", \"Caffeine\")}",
   "id": "94c4a0e9b459a932",
   "outputs": [],
   "execution_count": 5
  },
  {
   "metadata": {
    "ExecuteTime": {
     "end_time": "2025-02-07T14:45:23.187522Z",
     "start_time": "2025-02-07T14:44:55.374135Z"
    }
   },
   "cell_type": "code",
   "source": [
    "op1, op2 = ops[\"chemicals\"], ops[\"chemical_warnings\"]\n",
    "sv_template = \"Is {scientific_name} the scientific name for {name}\"\n",
    "join_chemicals = InnerSoftJoin(op1, op2, Column(\"scientific_name\"), Column(\"name\"), em=em, sv=sv, threshold=0.3, use_semantic_validation=True, sv_template=sv_template)\n",
    "result1 = {(x[\"scientific_name\"], x[\"name\"]) for x in join_chemicals}"
   ],
   "id": "bacfccd1be25110e",
   "outputs": [],
   "execution_count": 6
  },
  {
   "metadata": {
    "ExecuteTime": {
     "end_time": "2025-02-07T14:45:23.194146Z",
     "start_time": "2025-02-07T14:45:23.191900Z"
    }
   },
   "cell_type": "code",
   "source": "evaluate(gt1, result1)",
   "id": "bf011e818d9e9044",
   "outputs": [
    {
     "data": {
      "text/plain": [
       "{'precision': 75, 'recall': 82, 'f1_score': 78}"
      ]
     },
     "execution_count": 7,
     "metadata": {},
     "output_type": "execute_result"
    }
   ],
   "execution_count": 7
  },
  {
   "metadata": {},
   "cell_type": "markdown",
   "source": [
    "## Test Case 2: Movies & Actors\n",
    "### 2.1 Search for release disjunction"
   ],
   "id": "d0473afad358bf87"
  },
  {
   "metadata": {
    "ExecuteTime": {
     "end_time": "2025-02-07T14:45:23.242980Z",
     "start_time": "2025-02-07T14:45:23.240628Z"
    }
   },
   "cell_type": "code",
   "source": "gt2_1 = {(\"Pirates of the Caribbean: Dead Man's Chest\", ), (\"Charlie and the Chocolate Factory\", ), (\"Inception\", ), (\"The Matrix\", )}",
   "id": "dfa9fc65d3602a0b",
   "outputs": [],
   "execution_count": 8
  },
  {
   "metadata": {
    "ExecuteTime": {
     "end_time": "2025-02-07T14:45:23.970063Z",
     "start_time": "2025-02-07T14:45:23.298042Z"
    }
   },
   "cell_type": "code",
   "source": [
    "crit1 = SoftEqual(Column(\"release\"), Constant(\"2006\"), em=em, threshold=0.5)\n",
    "crit2 = SoftEqual(Column(\"release\"), Constant(\"July\"), em=em, threshold=0.5)\n",
    "crit3 = SoftEqual(Column(\"release\"), Constant(\"Before 2000\"), em=em, threshold=0.5)\n",
    "result2_2 = {(x[\"name\"], ) for x in Select(ops[\"movies\"], DisjunctiveCriteria([crit1, crit2, crit3]))}\n",
    "evaluate(gt2_1, result2_2)"
   ],
   "id": "e66ffdb8ac2fb9c9",
   "outputs": [
    {
     "data": {
      "text/plain": [
       "{'precision': 60, 'recall': 75, 'f1_score': 67}"
      ]
     },
     "execution_count": 9,
     "metadata": {},
     "output_type": "execute_result"
    }
   ],
   "execution_count": 9
  },
  {
   "metadata": {
    "ExecuteTime": {
     "end_time": "2025-02-07T14:45:24.658965Z",
     "start_time": "2025-02-07T14:45:23.974381Z"
    }
   },
   "cell_type": "code",
   "source": [
    "result2_2 = {(x[\"name\"], ) for x in Select(ops[\"movies\"], SoftValidate(\"Is {release} in 2006 or is {release} in July or is {release} before 2000?\", sv=sv, full_record=False))}\n",
    "evaluate(gt2_1, result2_2)"
   ],
   "id": "d7d244c823a9b106",
   "outputs": [
    {
     "data": {
      "text/plain": [
       "{'precision': 50, 'recall': 25, 'f1_score': 33}"
      ]
     },
     "execution_count": 10,
     "metadata": {},
     "output_type": "execute_result"
    }
   ],
   "execution_count": 10
  },
  {
   "metadata": {
    "ExecuteTime": {
     "end_time": "2025-02-07T14:45:25.192722Z",
     "start_time": "2025-02-07T14:45:24.664575Z"
    }
   },
   "cell_type": "code",
   "source": [
    "crit11 = SoftValidate(\"Is {release} in 2006?\", sv=sv, full_record=False)\n",
    "crit22 = SoftValidate(\"Is {release} in July?\", sv=sv, full_record=False)\n",
    "crit33 = SoftValidate(\"Is {release} before 2000?\", sv=sv, full_record=False)\n",
    "op = Select(ops[\"movies\"], DisjunctiveCriteria([crit11, crit22, crit33]))\n",
    "\n",
    "result2_2 = {(x[\"name\"], ) for x in op}\n",
    "evaluate(gt2_1, result2_2)"
   ],
   "id": "a08b819170498007",
   "outputs": [
    {
     "data": {
      "text/plain": [
       "{'precision': 67, 'recall': 100, 'f1_score': 80}"
      ]
     },
     "execution_count": 11,
     "metadata": {},
     "output_type": "execute_result"
    }
   ],
   "execution_count": 11
  },
  {
   "metadata": {},
   "cell_type": "markdown",
   "source": "### 2.2 Search for release conjunction",
   "id": "a67d8a4e5750a330"
  },
  {
   "metadata": {
    "ExecuteTime": {
     "end_time": "2025-02-07T14:45:25.198308Z",
     "start_time": "2025-02-07T14:45:25.196821Z"
    }
   },
   "cell_type": "code",
   "source": "gt2_2 = {(\"Charlie and the Chocolate Factory\", ), (\"Inception\", )}",
   "id": "5f3949ce72a11270",
   "outputs": [],
   "execution_count": 12
  },
  {
   "metadata": {
    "ExecuteTime": {
     "end_time": "2025-02-07T14:45:25.934958Z",
     "start_time": "2025-02-07T14:45:25.243549Z"
    }
   },
   "cell_type": "code",
   "source": [
    "crit1 = SoftEqual(Column(\"release\"), Constant(\"July\"), em=em, threshold=0.5)\n",
    "crit2 = SoftEqual(Column(\"release\"), Constant(\"After 2000\"), em=em, threshold=0.5)\n",
    "result2_2 = {(x[\"name\"], ) for x in Select(ops[\"movies\"], ConjunctiveCriteria([crit1, crit2]))}\n",
    "evaluate(gt2_2, result2_2)"
   ],
   "id": "3f14ab3aaa46ee8e",
   "outputs": [
    {
     "data": {
      "text/plain": [
       "{'precision': 33, 'recall': 50, 'f1_score': 40}"
      ]
     },
     "execution_count": 13,
     "metadata": {},
     "output_type": "execute_result"
    }
   ],
   "execution_count": 13
  },
  {
   "metadata": {
    "ExecuteTime": {
     "end_time": "2025-02-07T14:45:26.629859Z",
     "start_time": "2025-02-07T14:45:25.940196Z"
    }
   },
   "cell_type": "code",
   "source": [
    "result2_2 = {(x[\"name\"], ) for x in Select(ops[\"movies\"], SoftValidate(\"Is {release} in July and is {release} after 2000?\", sv=sv, full_record=False))}\n",
    "evaluate(gt2_2, result2_2)"
   ],
   "id": "501171171fa21532",
   "outputs": [
    {
     "data": {
      "text/plain": [
       "{'precision': 40, 'recall': 100, 'f1_score': 57}"
      ]
     },
     "execution_count": 14,
     "metadata": {},
     "output_type": "execute_result"
    }
   ],
   "execution_count": 14
  },
  {
   "metadata": {
    "ExecuteTime": {
     "end_time": "2025-02-07T14:45:26.992129Z",
     "start_time": "2025-02-07T14:45:26.633999Z"
    }
   },
   "cell_type": "code",
   "source": [
    "op = Select(ops[\"movies\"], ConjunctiveCriteria([\n",
    "    SoftValidate(\"Is {release} in July?\", sv=sv, full_record=False),\n",
    "    SoftValidate(\"Is {release} after 2000?\", sv=sv, full_record=False),\n",
    "]))\n",
    "\n",
    "result2_2 = {(x[\"name\"], ) for x in op}\n",
    "evaluate(gt2_2, result2_2)"
   ],
   "id": "d3d01307c60f8382",
   "outputs": [
    {
     "data": {
      "text/plain": [
       "{'precision': 100, 'recall': 100, 'f1_score': 100}"
      ]
     },
     "execution_count": 15,
     "metadata": {},
     "output_type": "execute_result"
    }
   ],
   "execution_count": 15
  },
  {
   "metadata": {},
   "cell_type": "markdown",
   "source": "### 2.3 Match german Titles",
   "id": "275f4675d3a65144"
  },
  {
   "metadata": {
    "ExecuteTime": {
     "end_time": "2025-02-07T14:45:26.997760Z",
     "start_time": "2025-02-07T14:45:26.996222Z"
    }
   },
   "cell_type": "code",
   "source": [
    "gt2_3 = {\n",
    "    ('The Lord of the Rings: The Fellowship of the Ring', 'Der Herr der Ringe: Die Gefährten'),\n",
    "    (\"Pirates of the Caribbean: Dead Man's Chest\", 'Pirates of the Caribbean – Fluch der Karibik 2'),\n",
    "    ('The Lord of the Rings: The Return of the King', 'Der Herr der Ringe: Die Rückkehr des Königs'),\n",
    "    ('Charlie and the Chocolate Factory', 'Charlie und die Schokoladenfabrik'),\n",
    "    ('Inception', 'Inception'),\n",
    "    ('The Matrix', 'Matrix')\n",
    "}"
   ],
   "id": "c5aa215084b8b6c5",
   "outputs": [],
   "execution_count": 16
  },
  {
   "metadata": {
    "ExecuteTime": {
     "end_time": "2025-02-07T14:45:27.772534Z",
     "start_time": "2025-02-07T14:45:27.042780Z"
    }
   },
   "cell_type": "code",
   "source": [
    "result2_3 = {(x[\"movies.name\"], x[\"movies_de.name\"]) for x in InnerSoftJoin(ops[\"movies\"], ops[\"movies_de\"], None, None, em=em, threshold=0.6)}\n",
    "evaluate(gt2_3, result2_3)"
   ],
   "id": "9a296b99469b585b",
   "outputs": [
    {
     "data": {
      "text/plain": [
       "{'precision': 50, 'recall': 100, 'f1_score': 67}"
      ]
     },
     "execution_count": 17,
     "metadata": {},
     "output_type": "execute_result"
    }
   ],
   "execution_count": 17
  },
  {
   "metadata": {
    "ExecuteTime": {
     "end_time": "2025-02-07T14:45:27.827406Z",
     "start_time": "2025-02-07T14:45:27.781361Z"
    }
   },
   "cell_type": "code",
   "source": [
    "result2_3 = {(x[\"movies.name\"], x[\"movies_de.name\"]) for x in InnerSoftJoin(ops[\"movies\"], ops[\"movies_de\"], Column(\"movies.name\"), Column(\"movies_de.name\"), em=em, threshold=0.4)}\n",
    "evaluate(gt2_3, result2_3)"
   ],
   "id": "cadc7a379e7d86c1",
   "outputs": [
    {
     "data": {
      "text/plain": [
       "{'precision': 45, 'recall': 83, 'f1_score': 58}"
      ]
     },
     "execution_count": 18,
     "metadata": {},
     "output_type": "execute_result"
    }
   ],
   "execution_count": 18
  },
  {
   "metadata": {},
   "cell_type": "markdown",
   "source": "### 2.4 Match artists",
   "id": "fff83ac901c70b18"
  },
  {
   "metadata": {
    "ExecuteTime": {
     "end_time": "2025-02-07T15:44:01.546928Z",
     "start_time": "2025-02-07T15:44:01.542994Z"
    }
   },
   "cell_type": "code",
   "source": [
    "gt2_4 =  {\n",
    "  ('Carrie-Anne Moss', 'Carrie-Anne Moss'),\n",
    "  ('Elijah Wood', 'Elijah Jordan Wood'),\n",
    "  ('Elijah Wood', 'Elijah Wood'),\n",
    "  ('Elliot Page', 'Elliot Page'),\n",
    "  ('Freddie Highmore', 'Alfred Highmore'),\n",
    "  ('Ian McKellen', 'Sir Ian Murray McKellen'),\n",
    "  ('Johnny Depp', 'John Christopher \"Johnny\" Depp II'),\n",
    "  ('Johnny Depp', 'John Christopher Depp II'),\n",
    "  ('Johnny Depp', 'The Mad Hatter in Alice in Wonderland Actor'),\n",
    "  ('Joseph Gordon-Levitt', 'Joseph Gordon-Levitt'),\n",
    "  ('Keanu Reeves', 'Keanu Charles Reeves'),\n",
    "  ('Keira Knightley', 'Keira Christina Knightley'),\n",
    "  ('Keira Knightley', 'Keira Knightley'),\n",
    "  ('Laurence Fishburne', 'Laurence Fishburne'),\n",
    "  ('Leonardo DiCaprio', 'Jack Dawson in Titanic'),\n",
    "  ('Orlando Bloom', '@orlandobloom'),\n",
    "  ('Orlando Bloom', 'Orlando Bloom'),\n",
    "  ('Orlando Bloom', 'Orlando Jonathan Blanchard Copeland Bloom'),\n",
    "  ('Viggo Mortensen', 'Viggo Mortensen')\n",
    "}"
   ],
   "id": "c206fac4945a527b",
   "outputs": [],
   "execution_count": 135
  },
  {
   "metadata": {
    "ExecuteTime": {
     "end_time": "2025-02-07T15:44:58.290311Z",
     "start_time": "2025-02-07T15:44:58.169352Z"
    }
   },
   "cell_type": "code",
   "source": [
    "ops = load_dummy_operators()\n",
    "\n",
    "result2_4 = {(row[\"name\"], row[\"actor/actress\"]) for row in InnerSoftJoin(ops[\"actors\"], ops[\"plays_in\"], Column(\"name\"), Column(\"actor/actress\"), threshold=0.7, em=em)}\n",
    "\n",
    "evaluate(gt2_4, result2_4)"
   ],
   "id": "5aa6cbe6f873c258",
   "outputs": [
    {
     "name": "stdout",
     "output_type": "stream",
     "text": [
      "False Positives:\n",
      "\t('Viggo Mortensen', 'Elijah Wood')\n",
      "\t('Leonardo DiCaprio', 'Elijah Wood')\n",
      "\t('Elijah Wood', 'Joseph Gordon-Levitt')\n",
      "\t('Joseph Gordon-Levitt', 'Keira Christina Knightley')\n",
      "\t('Laurence Fishburne', 'John Christopher Depp II')\n",
      "\t('Keira Knightley', 'Orlando Bloom')\n",
      "\t('Keira Knightley', 'Keanu Charles Reeves')\n",
      "\t('Keira Knightley', 'The Mad Hatter in Alice in Wonderland Actor')\n",
      "\t('Joseph Gordon-Levitt', 'Elijah Jordan Wood')\n",
      "\t('Carrie-Anne Moss', 'Elijah Wood')\n",
      "\t('Freddie Highmore', 'Keira Christina Knightley')\n",
      "\t('Freddie Highmore', 'Orlando Bloom')\n",
      "\t('Keira Knightley', 'Elijah Jordan Wood')\n",
      "\t('Freddie Highmore', 'Keanu Charles Reeves')\n",
      "\t('Elijah Wood', 'Jack Dawson in Titanic')\n",
      "\t('Freddie Highmore', 'Sean Bean')\n",
      "\t('Laurence Fishburne', 'The Mad Hatter in Alice in Wonderland Actor')\n",
      "\t('Freddie Highmore', 'The Mad Hatter in Alice in Wonderland Actor')\n",
      "\t('Elijah Wood', 'Keira Christina Knightley')\n",
      "\t('Keira Knightley', 'Laurence Fishburne')\n",
      "\t('Keira Knightley', 'John Christopher Depp II')\n",
      "\t('Joseph Gordon-Levitt', 'Laurence Fishburne')\n",
      "\t('Freddie Highmore', 'Elijah Jordan Wood')\n",
      "\t('Elijah Wood', 'The Mad Hatter in Alice in Wonderland Actor')\n",
      "\t('Freddie Highmore', 'Laurence Fishburne')\n",
      "\t('Freddie Highmore', 'John Christopher Depp II')\n",
      "\t('Johnny Depp', 'Orlando Jonathan Blanchard Copeland Bloom')\n",
      "\t('Joseph Gordon-Levitt', 'Elijah Wood')\n",
      "\t('Elijah Wood', 'John Christopher Depp II')\n",
      "\t('Elijah Wood', 'Laurence Fishburne')\n",
      "\t('Ian McKellen', 'Alfred Highmore')\n",
      "\t('Viggo Mortensen', 'Jack Dawson in Titanic')\n",
      "\t('Laurence Fishburne', 'Orlando Jonathan Blanchard Copeland Bloom')\n",
      "\t('Viggo Mortensen', 'Joseph Gordon-Levitt')\n",
      "\t('Ian McKellen', 'Orlando Bloom')\n",
      "\t('Ian McKellen', 'Keanu Charles Reeves')\n",
      "\t('Ian McKellen', 'Sean Bean')\n",
      "\t('Carrie-Anne Moss', 'Jack Dawson in Titanic')\n",
      "\t('Elliot Page', 'Elijah Jordan Wood')\n",
      "\t('Carrie-Anne Moss', 'Joseph Gordon-Levitt')\n",
      "\t('Elliot Page', 'Laurence Fishburne')\n",
      "\t('Ian McKellen', 'Carrie-Anne Moss')\n",
      "\t('Viggo Mortensen', 'Orlando Bloom')\n",
      "\t('Leonardo DiCaprio', 'Orlando Bloom')\n",
      "\t('Viggo Mortensen', 'Keanu Charles Reeves')\n",
      "\t('Ian McKellen', 'Viggo Mortensen')\n",
      "\t('Viggo Mortensen', 'Sean Bean')\n",
      "\t('Leonardo DiCaprio', 'Sean Bean')\n",
      "\t('Leonardo DiCaprio', 'Keanu Charles Reeves')\n",
      "\t('Freddie Highmore', 'Orlando Jonathan Blanchard Copeland Bloom')\n",
      "\t('Leonardo DiCaprio', 'The Mad Hatter in Alice in Wonderland Actor')\n",
      "\t('Laurence Fishburne', 'Alfred Highmore')\n",
      "\t('Viggo Mortensen', 'Elijah Jordan Wood')\n",
      "\t('Leonardo DiCaprio', 'Carrie-Anne Moss')\n",
      "\t('Viggo Mortensen', 'Laurence Fishburne')\n",
      "\t('Elliot Page', 'Elijah Wood')\n",
      "\t('Viggo Mortensen', 'John Christopher Depp II')\n",
      "\t('Leonardo DiCaprio', 'John Christopher Depp II')\n",
      "\t('Carrie-Anne Moss', 'Orlando Bloom')\n",
      "\t('Leonardo DiCaprio', 'Viggo Mortensen')\n",
      "\t('Carrie-Anne Moss', 'Keira Christina Knightley')\n",
      "\t('Carrie-Anne Moss', 'Keanu Charles Reeves')\n",
      "\t('Carrie-Anne Moss', 'The Mad Hatter in Alice in Wonderland Actor')\n",
      "\t('Joseph Gordon-Levitt', 'Alfred Highmore')\n",
      "\t('Carrie-Anne Moss', 'Elijah Jordan Wood')\n",
      "\t('Johnny Depp', 'Carrie-Anne Moss')\n",
      "\t('Carrie-Anne Moss', 'Laurence Fishburne')\n",
      "\t('Johnny Depp', 'Viggo Mortensen')\n",
      "\t('Carrie-Anne Moss', 'John Christopher Depp II')\n",
      "\t('Laurence Fishburne', 'Carrie-Anne Moss')\n",
      "\t('Laurence Fishburne', 'Viggo Mortensen')\n",
      "\t('Joseph Gordon-Levitt', 'Orlando Bloom')\n",
      "\t('Joseph Gordon-Levitt', 'Keanu Charles Reeves')\n",
      "\t('Ian McKellen', 'Orlando Jonathan Blanchard Copeland Bloom')\n",
      "\t('Joseph Gordon-Levitt', 'Sean Bean')\n",
      "\t('Elijah Wood', 'Alfred Highmore')\n",
      "\t('Keira Knightley', 'Sean Bean')\n",
      "\t('Joseph Gordon-Levitt', 'The Mad Hatter in Alice in Wonderland Actor')\n",
      "\t('Orlando Bloom', 'Keira Knightley')\n",
      "\t('Joseph Gordon-Levitt', 'Carrie-Anne Moss')\n",
      "\t('Joseph Gordon-Levitt', 'Viggo Mortensen')\n",
      "\t('Joseph Gordon-Levitt', 'John Christopher Depp II')\n",
      "\t('Viggo Mortensen', 'Orlando Jonathan Blanchard Copeland Bloom')\n",
      "\t('Leonardo DiCaprio', 'Orlando Jonathan Blanchard Copeland Bloom')\n",
      "\t('Elijah Wood', 'Orlando Bloom')\n",
      "\t('Keira Knightley', 'Viggo Mortensen')\n",
      "\t('Keanu Reeves', 'John Christopher \"Johnny\" Depp II')\n",
      "\t('Elijah Wood', 'Sean Bean')\n",
      "\t('Elijah Wood', 'Keanu Charles Reeves')\n",
      "\t('Keira Knightley', 'Carrie-Anne Moss')\n",
      "\t('Orlando Bloom', 'Keanu Charles Reeves')\n",
      "\t('Freddie Highmore', 'Viggo Mortensen')\n",
      "\t('Johnny Depp', 'Keira Knightley')\n",
      "\t('Elijah Wood', 'Carrie-Anne Moss')\n",
      "\t('Elliot Page', 'Alfred Highmore')\n",
      "\t('Carrie-Anne Moss', 'Orlando Jonathan Blanchard Copeland Bloom')\n",
      "\t('Elijah Wood', 'Viggo Mortensen')\n",
      "\t('Laurence Fishburne', 'Keira Knightley')\n",
      "\t('Elliot Page', 'Orlando Bloom')\n",
      "\t('Orlando Bloom', 'John Christopher \"Johnny\" Depp II')\n",
      "\t('Keanu Reeves', 'Elijah Wood')\n",
      "\t('Elliot Page', 'Sean Bean')\n",
      "\t('Joseph Gordon-Levitt', 'Orlando Jonathan Blanchard Copeland Bloom')\n",
      "\t('Keira Knightley', 'Orlando Jonathan Blanchard Copeland Bloom')\n",
      "\t('Freddie Highmore', 'Keira Knightley')\n",
      "\t('Laurence Fishburne', 'John Christopher \"Johnny\" Depp II')\n",
      "\t('Elijah Wood', 'Orlando Jonathan Blanchard Copeland Bloom')\n",
      "\t('Viggo Mortensen', 'Carrie-Anne Moss')\n",
      "\t('Keanu Reeves', 'Sir Ian Murray McKellen')\n",
      "\t('Carrie-Anne Moss', 'Sean Bean')\n",
      "\t('Keanu Reeves', 'Jack Dawson in Titanic')\n",
      "\t('Keanu Reeves', 'Joseph Gordon-Levitt')\n",
      "\t('Carrie-Anne Moss', 'Viggo Mortensen')\n",
      "\t('Elliot Page', 'Orlando Jonathan Blanchard Copeland Bloom')\n",
      "\t('Ian McKellen', 'Keira Knightley')\n",
      "\t('Orlando Bloom', 'Sir Ian Murray McKellen')\n",
      "\t('Keanu Reeves', 'Keira Christina Knightley')\n",
      "\t('Viggo Mortensen', 'Keira Knightley')\n",
      "\t('Leonardo DiCaprio', 'Keira Knightley')\n",
      "\t('Keanu Reeves', 'Orlando Bloom')\n",
      "\t('Orlando Bloom', 'Jack Dawson in Titanic')\n",
      "\t('Orlando Bloom', 'Joseph Gordon-Levitt')\n",
      "\t('Keanu Reeves', 'The Mad Hatter in Alice in Wonderland Actor')\n",
      "\t('Orlando Bloom', 'Elliot Page')\n",
      "\t('Johnny Depp', 'Sir Ian Murray McKellen')\n",
      "\t('Keanu Reeves', 'Elijah Jordan Wood')\n",
      "\t('Laurence Fishburne', 'Sir Ian Murray McKellen')\n",
      "\t('Keanu Reeves', 'Laurence Fishburne')\n",
      "\t('Keanu Reeves', 'John Christopher Depp II')\n",
      "\t('Carrie-Anne Moss', 'Keira Knightley')\n",
      "\t('Ian McKellen', 'John Christopher \"Johnny\" Depp II')\n",
      "\t('Orlando Bloom', 'Keira Christina Knightley')\n",
      "\t('Laurence Fishburne', 'Elliot Page')\n",
      "\t('Viggo Mortensen', 'John Christopher \"Johnny\" Depp II')\n",
      "\t('Leonardo DiCaprio', 'John Christopher \"Johnny\" Depp II')\n",
      "\t('Orlando Bloom', 'Elijah Jordan Wood')\n",
      "\t('Joseph Gordon-Levitt', 'Keira Knightley')\n",
      "\t('Orlando Bloom', 'Laurence Fishburne')\n",
      "\t('Freddie Highmore', 'Sir Ian Murray McKellen')\n",
      "\t('Johnny Depp', 'Keira Christina Knightley')\n",
      "\t('Laurence Fishburne', 'Keira Christina Knightley')\n",
      "\t('Elijah Wood', 'Keira Knightley')\n",
      "\t('Freddie Highmore', 'Elliot Page')\n",
      "\t('Orlando Bloom', 'Elijah Wood')\n",
      "\t('Elijah Wood', 'Elliot Page')\n",
      "\t('Joseph Gordon-Levitt', 'John Christopher \"Johnny\" Depp II')\n",
      "\t('Johnny Depp', 'Elijah Wood')\n",
      "\t('Laurence Fishburne', 'Elijah Wood')\n",
      "\t('Freddie Highmore', 'John Christopher \"Johnny\" Depp II')\n",
      "\t('Elijah Wood', 'John Christopher \"Johnny\" Depp II')\n",
      "\t('Ian McKellen', 'Jack Dawson in Titanic')\n",
      "\t('Viggo Mortensen', 'Sir Ian Murray McKellen')\n",
      "\t('Leonardo DiCaprio', 'Sir Ian Murray McKellen')\n",
      "\t('Ian McKellen', 'Joseph Gordon-Levitt')\n",
      "\t('Keira Knightley', 'Elijah Wood')\n",
      "\t('Keanu Reeves', 'Sean Bean')\n",
      "\t('Leonardo DiCaprio', 'Joseph Gordon-Levitt')\n",
      "\t('Leonardo DiCaprio', 'Laurence Fishburne')\n",
      "\t('Carrie-Anne Moss', 'Sir Ian Murray McKellen')\n",
      "\t('Freddie Highmore', 'Elijah Wood')\n",
      "\t('Keanu Reeves', 'Carrie-Anne Moss')\n",
      "\t('Ian McKellen', 'Keira Christina Knightley')\n",
      "\t('Keanu Reeves', 'Viggo Mortensen')\n",
      "\t('Ian McKellen', 'The Mad Hatter in Alice in Wonderland Actor')\n",
      "\t('Johnny Depp', 'Jack Dawson in Titanic')\n",
      "\t('Johnny Depp', 'Joseph Gordon-Levitt')\n",
      "\t('Ian McKellen', 'Elijah Jordan Wood')\n",
      "\t('Laurence Fishburne', 'Jack Dawson in Titanic')\n",
      "\t('Viggo Mortensen', 'Keira Christina Knightley')\n",
      "\t('Leonardo DiCaprio', 'Keira Christina Knightley')\n",
      "\t('Freddie Highmore', 'Jack Dawson in Titanic')\n",
      "\t('Orlando Bloom', 'Sean Bean')\n",
      "\t('Ian McKellen', 'John Christopher Depp II')\n",
      "\t('Joseph Gordon-Levitt', 'Sir Ian Murray McKellen')\n",
      "\t('Orlando Bloom', 'The Mad Hatter in Alice in Wonderland Actor')\n",
      "\t('Laurence Fishburne', 'Joseph Gordon-Levitt')\n",
      "\t('Keira Knightley', 'Sir Ian Murray McKellen')\n",
      "\t('Ian McKellen', 'Laurence Fishburne')\n",
      "\t('Leonardo DiCaprio', 'Elijah Jordan Wood')\n",
      "\t('Orlando Bloom', 'Carrie-Anne Moss')\n",
      "\t('Joseph Gordon-Levitt', 'Jack Dawson in Titanic')\n",
      "\t('Orlando Bloom', 'Viggo Mortensen')\n",
      "\t('Orlando Bloom', 'John Christopher Depp II')\n",
      "\t('Johnny Depp', 'Orlando Bloom')\n",
      "\t('Keira Knightley', 'Jack Dawson in Titanic')\n",
      "\t('Johnny Depp', 'Keanu Charles Reeves')\n",
      "\t('Ian McKellen', 'Elijah Wood')\n",
      "\t('Johnny Depp', 'Sean Bean')\n",
      "\t('Elijah Wood', 'Sir Ian Murray McKellen')\n",
      "\t('Carrie-Anne Moss', 'John Christopher \"Johnny\" Depp II')\n",
      "\t('Laurence Fishburne', 'Orlando Bloom')\n",
      "\t('Keira Knightley', 'Joseph Gordon-Levitt')\n",
      "\t('Keanu Reeves', 'Keira Knightley')\n",
      "\t('Laurence Fishburne', 'Sean Bean')\n",
      "\t('Johnny Depp', 'Elijah Jordan Wood')\n",
      "\t('Laurence Fishburne', 'Keanu Charles Reeves')\n",
      "\t('Keanu Reeves', 'Orlando Jonathan Blanchard Copeland Bloom')\n",
      "\t('Freddie Highmore', 'Joseph Gordon-Levitt')\n",
      "\t('Johnny Depp', 'Laurence Fishburne')\n",
      "\t('Laurence Fishburne', 'Elijah Jordan Wood')\n",
      "\n",
      "False Negatives:\n",
      "\n",
      "\n"
     ]
    },
    {
     "data": {
      "text/plain": [
       "{'precision': 9, 'recall': 100, 'f1_score': 17}"
      ]
     },
     "execution_count": 143,
     "metadata": {},
     "output_type": "execute_result"
    }
   ],
   "execution_count": 143
  },
  {
   "metadata": {},
   "cell_type": "markdown",
   "source": [
    "# Experiments\n",
    "## Soft Aggregation"
   ],
   "id": "bb2c2a0dcc648d06"
  },
  {
   "metadata": {
    "ExecuteTime": {
     "end_time": "2025-02-07T14:50:20.874279Z",
     "start_time": "2025-02-07T14:50:20.827049Z"
    }
   },
   "cell_type": "code",
   "source": [
    "x = SoftAggregateFaissKMeans(ops[\"movies\"], [\"name\"], [StringAggregation(\"name\", \"movies\")], em=em, num_clusters=5)\n",
    "print([a for a in x])"
   ],
   "id": "2815442aa9c31d85",
   "outputs": [
    {
     "name": "stdout",
     "output_type": "stream",
     "text": [
      "\n",
      "Clustering 7 points in 768D to 5 clusters, redo 1 times, 20 iterations\n",
      "  Preprocessing in 0.00 s\n",
      "[{'name': 'The Matrix', 'movies': 'The Matrix'}, {'name': 'Inception', 'movies': 'Inception'}, {'name': 'Charlie and the Chocolate Factory', 'movies': 'Charlie and the Chocolate Factory'}, {'name': 'Pirates of the Caribbean: The Curse of the Black Pearl', 'movies': \"Pirates of the Caribbean: The Curse of the Black Pearl, Pirates of the Caribbean: Dead Man's Chest\"}, {'name': 'The Lord of the Rings: The Fellowship of the Ring', 'movies': 'The Lord of the Rings: The Fellowship of the Ring, The Lord of the Rings: The Return of the King'}]\n"
     ]
    },
    {
     "name": "stderr",
     "output_type": "stream",
     "text": [
      "WARNING clustering 7 points to 5 centroids: please provide at least 195 training points\n"
     ]
    }
   ],
   "execution_count": 20
  },
  {
   "metadata": {
    "ExecuteTime": {
     "end_time": "2025-02-07T14:53:34.468267Z",
     "start_time": "2025-02-07T14:53:34.425562Z"
    }
   },
   "cell_type": "code",
   "source": [
    "x = SoftAggregateScikit(ops[\"movies\"], [\"name\"], [StringAggregation(\"name\", \"movies\")], em=em, cluster_class=sklearn.cluster.DBSCAN, cluster_params={\"eps\":3, \"min_samples\": 2})\n",
    "print([a for a in x])"
   ],
   "id": "894780aff1c68315",
   "outputs": [
    {
     "name": "stdout",
     "output_type": "stream",
     "text": [
      "[{'name': 'Pirates of the Caribbean: The Curse of the Black Pearl', 'movies': \"Pirates of the Caribbean: The Curse of the Black Pearl, The Lord of the Rings: The Fellowship of the Ring, Pirates of the Caribbean: Dead Man's Chest, The Lord of the Rings: The Return of the King, Charlie and the Chocolate Factory, Inception, The Matrix\"}]\n"
     ]
    }
   ],
   "execution_count": 22
  },
  {
   "metadata": {
    "ExecuteTime": {
     "end_time": "2025-02-07T14:55:55.820119Z",
     "start_time": "2025-02-07T14:55:55.789357Z"
    }
   },
   "cell_type": "code",
   "source": [
    "x = SoftAggregateScikit(ops[\"movies\"], [\"name\"], [CountAggregation(\"name\", \"movies\")], em=em, cluster_class=sklearn.cluster.SpectralClustering, cluster_params={\"n_clusters\": 5, \"assign_labels\" :'discretize', \"random_state\": 0})\n",
    "print([a for a in x])"
   ],
   "id": "95c3d63d0b8cac71",
   "outputs": [
    {
     "name": "stdout",
     "output_type": "stream",
     "text": [
      "[{'name': 'Pirates of the Caribbean: The Curse of the Black Pearl', 'movies': 2}, {'name': 'The Lord of the Rings: The Fellowship of the Ring', 'movies': 2}, {'name': 'Charlie and the Chocolate Factory', 'movies': 1}, {'name': 'Inception', 'movies': 1}, {'name': 'The Matrix', 'movies': 1}]\n"
     ]
    }
   ],
   "execution_count": 26
  }
 ],
 "metadata": {
  "kernelspec": {
   "display_name": "Python 3",
   "language": "python",
   "name": "python3"
  },
  "language_info": {
   "codemirror_mode": {
    "name": "ipython",
    "version": 2
   },
   "file_extension": ".py",
   "mimetype": "text/x-python",
   "name": "python",
   "nbconvert_exporter": "python",
   "pygments_lexer": "ipython2",
   "version": "2.7.6"
  }
 },
 "nbformat": 4,
 "nbformat_minor": 5
}
