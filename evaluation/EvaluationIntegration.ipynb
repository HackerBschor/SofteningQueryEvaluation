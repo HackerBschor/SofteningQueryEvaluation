{
 "cells": [
  {
   "metadata": {},
   "cell_type": "markdown",
   "source": "# Evaluation\n",
   "id": "3ed340c691f0a68"
  },
  {
   "cell_type": "code",
   "id": "initial_id",
   "metadata": {
    "collapsed": true,
    "ExecuteTime": {
     "end_time": "2025-02-07T14:44:52.193859Z",
     "start_time": "2025-02-07T14:44:49.842802Z"
    }
   },
   "source": [
    "import json\n",
    "\n",
    "from db.criteria import *\n",
    "from db.operators import *\n",
    "from db.operators.Aggregate import *\n",
    "from db.structure import *\n",
    "\n",
    "from models.embedding import SentenceTransformerEmbeddingModel\n",
    "from models.semantic_validation import LLaMAValidationModel\n",
    "from models.text_generation.LLaMA import LLaMATextGenerationModel\n",
    "\n",
    "# logging.basicConfig(format='%(asctime)s : %(levelname)s : %(message)s', level=logging.DEBUG)"
   ],
   "outputs": [],
   "execution_count": 1
  },
  {
   "metadata": {
    "ExecuteTime": {
     "end_time": "2025-02-07T14:44:55.161813Z",
     "start_time": "2025-02-07T14:44:52.197013Z"
    }
   },
   "cell_type": "code",
   "source": [
    "# Load Models\n",
    "m = ModelMgr()\n",
    "em = SentenceTransformerEmbeddingModel(m)\n",
    "sv = LLaMAValidationModel(m, temperature=0.0001)\n",
    "gm = LLaMATextGenerationModel(m)"
   ],
   "id": "5160f65981a2dfbc",
   "outputs": [
    {
     "data": {
      "text/plain": [
       "Loading checkpoint shards:   0%|          | 0/2 [00:00<?, ?it/s]"
      ],
      "application/vnd.jupyter.widget-view+json": {
       "version_major": 2,
       "version_minor": 0,
       "model_id": "540b847bb6974400a0f67b26a4bcad77"
      }
     },
     "metadata": {},
     "output_type": "display_data"
    },
    {
     "data": {
      "text/plain": [
       "Loading checkpoint shards:   0%|          | 0/2 [00:00<?, ?it/s]"
      ],
      "application/vnd.jupyter.widget-view+json": {
       "version_major": 2,
       "version_minor": 0,
       "model_id": "914d94e9c86a4c47bf9cb87e4a947841"
      }
     },
     "metadata": {},
     "output_type": "display_data"
    }
   ],
   "execution_count": 2
  },
  {
   "metadata": {},
   "cell_type": "markdown",
   "source": "## Load Data\n",
   "id": "ffeb2472c9f1bcbe"
  },
  {
   "metadata": {
    "ExecuteTime": {
     "end_time": "2025-02-07T14:44:55.225096Z",
     "start_time": "2025-02-07T14:44:55.222805Z"
    }
   },
   "cell_type": "code",
   "source": [
    "with open(\"schema.json\", \"r\") as schema:\n",
    "    schema = json.load(schema)\n",
    "\n",
    "ops = {}\n",
    "for relation, data in schema.items():\n",
    "    ops[relation] = Dummy(relation, [x[\"name\"] for x in data[\"schema\"]], data[\"data\"])\n",
    "    print(relation, [x for x in ops[relation]], \"\\n\")\n"
   ],
   "id": "8526818f98ef2e14",
   "outputs": [
    {
     "name": "stdout",
     "output_type": "stream",
     "text": [
      "chemicals [{'scientific_name': 'H2O', 'boiling_point_C': 100, 'state_at_room_temp': 'Liquid', 'pH': 7.0, 'flammable': False}, {'scientific_name': 'H2SO4', 'boiling_point_C': 337, 'state_at_room_temp': 'Liquid', 'pH': 0.3, 'flammable': False}, {'scientific_name': 'CH3OH', 'boiling_point_C': 64.7, 'state_at_room_temp': 'Liquid', 'pH': 'Neutral', 'flammable': True}, {'scientific_name': 'HCl', 'boiling_point_C': -85.1, 'state_at_room_temp': 'Gas (liquid in solution)', 'pH': 1.0, 'flammable': False}, {'scientific_name': 'NH3', 'boiling_point_C': -33.34, 'state_at_room_temp': 'Gas', 'pH': 11.6, 'flammable': True}, {'scientific_name': 'C2H5OH', 'boiling_point_C': 78.37, 'state_at_room_temp': 'Liquid', 'pH': 'Neutral', 'flammable': True}, {'scientific_name': 'C6H6', 'boiling_point_C': 80.1, 'state_at_room_temp': 'Liquid', 'pH': 'Neutral', 'flammable': True}, {'scientific_name': 'Cl2', 'boiling_point_C': -34.04, 'state_at_room_temp': 'Gas', 'pH': 'Acidic in water', 'flammable': False}, {'scientific_name': 'C3H6O', 'boiling_point_C': 56.05, 'state_at_room_temp': 'Liquid', 'pH': 'Neutral', 'flammable': True}, {'scientific_name': 'NaOH', 'boiling_point_C': 1388, 'state_at_room_temp': 'Solid', 'pH': 14.0, 'flammable': False}, {'scientific_name': 'C8H10N4O2', 'boiling_point_C': 178, 'state_at_room_temp': 'Solid', 'pH': 'Neutral', 'flammable': False}] \n",
      "\n",
      "chemical_warnings [{'name': 'Water', 'warning': 'No Warning'}, {'name': 'Sulfuric Acid', 'warning': 'Highly Corrosive'}, {'name': 'Methanol', 'warning': 'Toxic'}, {'name': 'Methanol', 'warning': 'Flammable'}, {'name': 'Hydrochloric Acid', 'warning': 'Highly Corrosive'}, {'name': 'Hydrochloric Acid', 'warning': 'Toxic'}, {'name': 'Ammonia', 'warning': 'Toxic'}, {'name': 'Ammonia', 'warning': 'Irritant'}, {'name': 'Ethanol', 'warning': 'Flammable'}, {'name': 'Ethanol', 'warning': 'Mildly Toxic'}, {'name': 'Benzene', 'warning': 'Carcinogenic'}, {'name': 'Benzene', 'warning': 'Flammable'}, {'name': 'Chlorine', 'warning': 'Highly Toxic'}, {'name': 'Acetone', 'warning': 'Highly Flammable'}, {'name': 'Acetone', 'warning': 'Toxic'}, {'name': 'Sodium Hydroxide', 'warning': 'Highly Corrosive'}, {'name': 'Caffeine', 'warning': 'No Warnings'}] \n",
      "\n",
      "movies [{'name': 'Pirates of the Caribbean: The Curse of the Black Pearl', 'release': '2003', 'genres': 'Action,Adventure,Fantasy', 'description': \"Jack Sparrow, a freewheeling 17th-century pirate who roams the Caribbean Sea, butts heads with a rival pirate bent on pillaging the village of Port Royal. When the governor's daughter is kidnapped, Sparrow decides to help the girl's love save her. But their seafaring mission is hardly simple.\"}, {'name': 'The Lord of the Rings: The Fellowship of the Ring', 'release': '2001', 'genres': 'Action,Adventure,Fantasy', 'description': 'Young hobbit Frodo Baggins, after inheriting a mysterious ring from his uncle Bilbo, must leave his home in order to keep it from falling into the hands of its evil creator. Along the way, a fellowship is formed to protect the ringbearer and make sure that the ring arrives at its final destination: Mt. Doom, the only place where it can be destroyed.'}, {'name': \"Pirates of the Caribbean: Dead Man's Chest\", 'release': 'June, 2006', 'genres': 'Action,Adventure,Fantasy', 'description': 'Captain Jack Sparrow works his way out of a blood debt with the ghostly Davey Jones, he also attempts to avoid eternal damnation.'}, {'name': 'The Lord of the Rings: The Return of the King', 'release': 'It was released on the 10th of December 2003', 'genres': 'Action,Adventure,Drama,Fantasy', 'description': \"Aragorn is revealed as the heir to the ancient kings as he, Gandalf and the other members of the broken fellowship struggle to save Gondor from Sauron's forces. Meanwhile, Frodo and Sam bring the ring closer to the heart of Mordor, the dark lord's realm.\"}, {'name': 'Charlie and the Chocolate Factory', 'release': '2005-07-13', 'genres': 'Adventure,Comedy,Family', 'description': \"A young boy wins a tour through the most magnificent chocolate factory in the world, led by the world's most unusual candy maker.\"}, {'name': 'Inception', 'release': 'July, 2010', 'genres': 'Action,Adventure,Sci-Fi', 'description': 'Cobb, a skilled thief who commits corporate espionage by infiltrating the subconscious of his targets is offered a chance to regain his old life as payment for a task considered to be impossible: \"inception\", the implantation of another person\\'s idea into a target\\'s subconscious.'}, {'name': 'The Matrix', 'release': 'Release Date: 17th of June 1999', 'genres': 'Action,Sci-Fi', 'description': 'Set in the 22nd century, The Matrix tells the story of a computer hacker who joins a group of underground insurgents fighting the vast and powerful computers who now rule the earth.'}] \n",
      "\n",
      "movies_de [{'name': 'Fluch der Karibik', 'release': '2003', 'genres': 'Action,Adventure,Fantasy', 'description': 'Waffenschmied Will Turner tut sich mit dem exzentrischen Piraten \"Captain\" Jack Sparrow zusammen, um seine große Liebe, die Tochter des Gouverneurs, aus den Händen der Piraten zu retten, die früher mit Jack verbündet waren, jetzt aber Untote sind'}, {'name': 'Der Herr der Ringe: Die Gefährten', 'release': '2001', 'genres': 'Action,Adventure,Fantasy', 'description': 'Ein sanftmütiger Hobbit aus dem Auenland und seine acht Gefährten machen sich auf den Weg, um den mächtigen Einen Ring zu zerstören und so die Mittelerde vor dem dunklen Herrscher Sauron zu bewahren.'}, {'name': 'Pirates of the Caribbean – Fluch der Karibik 2', 'release': 'Juni 2006', 'genres': 'Action,Adventure,Fantasy', 'description': 'Jack Sparrow rast, um das Herz von Davy Jones zu retten, um nicht seine Seele in den Dienst von Jones zu stellen, während andere Freunde und Feinde das Herz auch für ihre eigene Agenda suchen.'}, {'name': 'Der Herr der Ringe: Die Rückkehr des Königs', 'release': 'Der Film wurde am 10th December 2003 veröffentlicht', 'genres': 'Action,Adventure,Drama,Fantasy', 'description': 'Gandalf und Aragorn führen die Männer der Mittelerde in den Kampf gegen Saurons Armee, um ihn von Frodo und Sam abzulenken, die sich gerade dem Schicksalsberg mit dem Einen Ring nähern.'}, {'name': 'Charlie und die Schokoladenfabrik', 'release': '13.07.2005', 'genres': 'Adventure,Comedy,Family', 'description': 'Ein kleiner Junge gewinnt eine Führung durch die großartigste Schokoladenfabrik der Welt, angeführt von dem ungewöhnlichsten Süßwarenhersteller der Welt.'}, {'name': 'Inception', 'release': 'Juli 2010', 'genres': 'Action,Adventure,Sci-Fi', 'description': 'Ein Dieb stiehlt Unternehmensgeheimnisse mithilfe einer Technologie für gemeinsames Träumen. Dann erhält er den Auftrag, eine Idee im Kopf eines Geschäftsführers festzusetzen.'}, {'name': 'Matrix', 'release': 'Veröffentlichungsdatum: 17 Juni 1999', 'genres': 'Action,Sci-Fi', 'description': 'Ein Computerhacker erfährt von mysteriösen Rebellen die Wahrheit über seine Realität und seine Rolle im Krieg gegen deren Kontrolleure.'}] \n",
      "\n",
      "actors [{'name': 'Johnny Depp', 'birth_year': 1963}, {'name': 'Orlando Bloom', 'birth_year': 1977}, {'name': 'Keira Knightley', 'birth_year': 1985}, {'name': 'Elijah Wood', 'birth_year': 1981}, {'name': 'Ian McKellen', 'birth_year': 1939}, {'name': 'Freddie Highmore', 'birth_year': 1992}, {'name': 'Viggo Mortensen', 'birth_year': 1958}, {'name': 'Leonardo DiCaprio', 'birth_year': 1974}, {'name': 'Joseph Gordon-Levitt', 'birth_year': 1981}, {'name': 'Elliot Page', 'birth_year': 1987}, {'name': 'Keanu Reeves', 'birth_year': 1964}, {'name': 'Carrie-Anne Moss', 'birth_year': 1967}, {'name': 'Laurence Fishburne', 'birth_year': 1961}] \n",
      "\n",
      "plays_in [{'movie': 'Pirates of the Caribbean: The Curse of the Black Pearl', 'actor/actress': 'Johnny Depp', 'role': 'Jack Sparrow'}, {'movie': 'Pirates of the Caribbean: The Curse of the Black Pearl', 'actor/actress': 'Orlando Bloom', 'role': 'Will Turner'}, {'movie': 'Pirates of the Caribbean: The Curse of the Black Pearl', 'actor/actress': 'Keira Knightley', 'role': 'Elizabeth Swann'}, {'movie': 'The Lord of the Rings: The Fellowship of the Ring', 'actor/actress': 'Orlando Bloom', 'role': 'Legolas'}, {'movie': 'The Lord of the Rings: The Fellowship of the Ring', 'actor/actress': 'Elijah Wood', 'role': 'Frodo'}, {'movie': 'The Lord of the Rings: The Fellowship of the Ring', 'actor/actress': 'Ian McKellen', 'role': 'Gandalf'}, {'movie': 'The Lord of the Rings: The Fellowship of the Ring', 'actor/actress': 'Sean Bean', 'role': 'Boromir'}, {'movie': 'The Lord of the Rings: The Fellowship of the Ring', 'actor/actress': 'Viggo Mortensen', 'role': 'Aragorn'}, {'movie': 'Charlie and the Chocolate Factory', 'actor/actress': 'Johnny Depp', 'role': 'Willy Wonka'}, {'movie': 'Charlie and the Chocolate Factory', 'actor/actress': 'Freddie Highmore', 'role': 'Charlie Bucket'}, {'movie': \"Pirates of the Caribbean: Dead Man's Chest\", 'actor/actress': 'Johnny Depp', 'role': 'Jack Sparrow'}, {'movie': \"Pirates of the Caribbean: Dead Man's Chest\", 'actor/actress': 'Orlando Bloom', 'role': 'Will Turner'}, {'movie': \"Pirates of the Caribbean: Dead Man's Chest\", 'actor/actress': 'Keira Knightley', 'role': 'Elizabeth Swann'}, {'movie': 'The Lord of the Rings: The Return of the King', 'actor/actress': 'Orlando Bloom', 'role': 'Legolas'}, {'movie': 'The Lord of the Rings: The Return of the King', 'actor/actress': 'Elijah Wood', 'role': 'Frodo'}, {'movie': 'The Lord of the Rings: The Return of the King', 'actor/actress': 'Ian McKellen', 'role': 'Gandalf'}, {'movie': 'The Lord of the Rings: The Return of the King', 'actor/actress': 'Viggo Mortensen', 'role': 'Aragorn'}, {'movie': 'Inception', 'actor/actress': 'Leonardo DiCaprio', 'role': 'Cobb'}, {'movie': 'Inception', 'actor/actress': 'Joseph Gordon-Levitt', 'role': 'Arthur'}, {'movie': 'Inception', 'actor/actress': 'Elliot Page', 'role': 'Ariadne'}, {'movie': 'The Matrix', 'actor/actress': 'Keanu Reeves', 'role': 'Neo'}, {'movie': 'The Matrix', 'actor/actress': 'Carrie-Anne Moss', 'role': 'Trinity'}, {'movie': 'The Matrix', 'actor/actress': 'Laurence Fishburne', 'role': 'Morpheus'}] \n",
      "\n"
     ]
    }
   ],
   "execution_count": 3
  },
  {
   "metadata": {},
   "cell_type": "markdown",
   "source": "## Evaluation",
   "id": "93bc9fad56027e69"
  },
  {
   "metadata": {
    "ExecuteTime": {
     "end_time": "2025-02-07T14:44:55.276891Z",
     "start_time": "2025-02-07T14:44:55.274203Z"
    }
   },
   "cell_type": "code",
   "source": [
    "def evaluate(gt, result):\n",
    "    tps, fns, fps = gt & result, gt - result, result - gt\n",
    "    tp, fn, fp = len(tps), len(fns), len(fps)\n",
    "    precision = round((tp / (tp + fp) if (tp + fp) > 0 else 0) * 100.0)\n",
    "    recall = round((tp / (tp + fn) if (tp + fn) > 0 else 0) * 100.0)\n",
    "    f1_score = round(((2 * precision * recall) / (precision + recall) if (precision + recall) > 0 else 0))\n",
    "    return {\"precision\": precision, \"recall\": recall, \"f1_score\": f1_score}"
   ],
   "id": "802bc3e6332f0087",
   "outputs": [],
   "execution_count": 4
  },
  {
   "metadata": {},
   "cell_type": "markdown",
   "source": "## Test Case 1: Match chemical descriptions with thier common names",
   "id": "611651fed45c9f79"
  },
  {
   "metadata": {
    "ExecuteTime": {
     "end_time": "2025-02-07T14:44:55.328881Z",
     "start_time": "2025-02-07T14:44:55.323889Z"
    }
   },
   "cell_type": "code",
   "source": "gt1 = {(\"H2O\", \"Water\"), (\"H2SO4\", \"Sulfuric Acid\"), (\"CH3OH\", \"Methanol\"), (\"HCl\", \"Hydrochloric Acid\"), (\"NH3\", \"Ammonia\"), (\"C2H5OH\", \"Ethanol\"), (\"C6H6\", \"Benzene\"), (\"Cl2\", \"Chlorine\"), (\"C3H6O\", \"Acetone\"), (\"NaOH\", \"Sodium Hydroxide\"), (\"C8H10N4O2\", \"Caffeine\")}",
   "id": "94c4a0e9b459a932",
   "outputs": [],
   "execution_count": 5
  },
  {
   "metadata": {
    "ExecuteTime": {
     "end_time": "2025-02-07T14:45:23.187522Z",
     "start_time": "2025-02-07T14:44:55.374135Z"
    }
   },
   "cell_type": "code",
   "source": [
    "op1, op2 = ops[\"chemicals\"], ops[\"chemical_warnings\"]\n",
    "sv_template = \"Is {scientific_name} the scientific name for {name}\"\n",
    "join_chemicals = InnerSoftJoin(op1, op2, Column(\"scientific_name\"), Column(\"name\"), em=em, sv=sv, threshold=0.3, use_semantic_validation=True, sv_template=sv_template)\n",
    "result1 = {(x[\"scientific_name\"], x[\"name\"]) for x in join_chemicals}"
   ],
   "id": "bacfccd1be25110e",
   "outputs": [],
   "execution_count": 6
  },
  {
   "metadata": {
    "ExecuteTime": {
     "end_time": "2025-02-07T14:45:23.194146Z",
     "start_time": "2025-02-07T14:45:23.191900Z"
    }
   },
   "cell_type": "code",
   "source": "evaluate(gt1, result1)",
   "id": "bf011e818d9e9044",
   "outputs": [
    {
     "data": {
      "text/plain": [
       "{'precision': 75, 'recall': 82, 'f1_score': 78}"
      ]
     },
     "execution_count": 7,
     "metadata": {},
     "output_type": "execute_result"
    }
   ],
   "execution_count": 7
  },
  {
   "metadata": {},
   "cell_type": "markdown",
   "source": [
    "## Test Case 2: Movies & Actors\n",
    "### 2.1 Search for release dijunction"
   ],
   "id": "d0473afad358bf87"
  },
  {
   "metadata": {
    "ExecuteTime": {
     "end_time": "2025-02-07T14:45:23.242980Z",
     "start_time": "2025-02-07T14:45:23.240628Z"
    }
   },
   "cell_type": "code",
   "source": "gt2_1 = {(\"Pirates of the Caribbean: Dead Man's Chest\", ), (\"Charlie and the Chocolate Factory\", ), (\"Inception\", ), (\"The Matrix\", )}",
   "id": "dfa9fc65d3602a0b",
   "outputs": [],
   "execution_count": 8
  },
  {
   "metadata": {
    "ExecuteTime": {
     "end_time": "2025-02-07T14:45:23.970063Z",
     "start_time": "2025-02-07T14:45:23.298042Z"
    }
   },
   "cell_type": "code",
   "source": [
    "crit1 = SoftEqual(Column(\"release\"), Constant(\"2006\"), em=em, threshold=0.5)\n",
    "crit2 = SoftEqual(Column(\"release\"), Constant(\"July\"), em=em, threshold=0.5)\n",
    "crit3 = SoftEqual(Column(\"release\"), Constant(\"Before 2000\"), em=em, threshold=0.5)\n",
    "result2_2 = {(x[\"name\"], ) for x in Select(ops[\"movies\"], DisjunctiveCriteria([crit1, crit2, crit3]))}\n",
    "evaluate(gt2_1, result2_2)"
   ],
   "id": "e66ffdb8ac2fb9c9",
   "outputs": [
    {
     "data": {
      "text/plain": [
       "{'precision': 60, 'recall': 75, 'f1_score': 67}"
      ]
     },
     "execution_count": 9,
     "metadata": {},
     "output_type": "execute_result"
    }
   ],
   "execution_count": 9
  },
  {
   "metadata": {
    "ExecuteTime": {
     "end_time": "2025-02-07T14:45:24.658965Z",
     "start_time": "2025-02-07T14:45:23.974381Z"
    }
   },
   "cell_type": "code",
   "source": [
    "result2_2 = {(x[\"name\"], ) for x in Select(ops[\"movies\"], SoftValidate(\"Is {release} in 2006 or is {release} in July or is {release} before 2000?\", sv=sv, full_record=False))}\n",
    "evaluate(gt2_1, result2_2)"
   ],
   "id": "d7d244c823a9b106",
   "outputs": [
    {
     "data": {
      "text/plain": [
       "{'precision': 50, 'recall': 25, 'f1_score': 33}"
      ]
     },
     "execution_count": 10,
     "metadata": {},
     "output_type": "execute_result"
    }
   ],
   "execution_count": 10
  },
  {
   "metadata": {
    "ExecuteTime": {
     "end_time": "2025-02-07T14:45:25.192722Z",
     "start_time": "2025-02-07T14:45:24.664575Z"
    }
   },
   "cell_type": "code",
   "source": [
    "crit11 = SoftValidate(\"Is {release} in 2006?\", sv=sv, full_record=False)\n",
    "crit22 = SoftValidate(\"Is {release} in July?\", sv=sv, full_record=False)\n",
    "crit33 = SoftValidate(\"Is {release} before 2000?\", sv=sv, full_record=False)\n",
    "op = Select(ops[\"movies\"], DisjunctiveCriteria([crit11, crit22, crit33]))\n",
    "\n",
    "result2_2 = {(x[\"name\"], ) for x in op}\n",
    "evaluate(gt2_1, result2_2)"
   ],
   "id": "a08b819170498007",
   "outputs": [
    {
     "data": {
      "text/plain": [
       "{'precision': 67, 'recall': 100, 'f1_score': 80}"
      ]
     },
     "execution_count": 11,
     "metadata": {},
     "output_type": "execute_result"
    }
   ],
   "execution_count": 11
  },
  {
   "metadata": {},
   "cell_type": "markdown",
   "source": "### 2.2 Search for release conjunction",
   "id": "a67d8a4e5750a330"
  },
  {
   "metadata": {
    "ExecuteTime": {
     "end_time": "2025-02-07T14:45:25.198308Z",
     "start_time": "2025-02-07T14:45:25.196821Z"
    }
   },
   "cell_type": "code",
   "source": "gt2_2 = {(\"Charlie and the Chocolate Factory\", ), (\"Inception\", )}",
   "id": "5f3949ce72a11270",
   "outputs": [],
   "execution_count": 12
  },
  {
   "metadata": {
    "ExecuteTime": {
     "end_time": "2025-02-07T14:45:25.934958Z",
     "start_time": "2025-02-07T14:45:25.243549Z"
    }
   },
   "cell_type": "code",
   "source": [
    "crit1 = SoftEqual(Column(\"release\"), Constant(\"July\"), em=em, threshold=0.5)\n",
    "crit2 = SoftEqual(Column(\"release\"), Constant(\"After 2000\"), em=em, threshold=0.5)\n",
    "result2_2 = {(x[\"name\"], ) for x in Select(ops[\"movies\"], ConjunctiveCriteria([crit1, crit2]))}\n",
    "evaluate(gt2_2, result2_2)"
   ],
   "id": "3f14ab3aaa46ee8e",
   "outputs": [
    {
     "data": {
      "text/plain": [
       "{'precision': 33, 'recall': 50, 'f1_score': 40}"
      ]
     },
     "execution_count": 13,
     "metadata": {},
     "output_type": "execute_result"
    }
   ],
   "execution_count": 13
  },
  {
   "metadata": {
    "ExecuteTime": {
     "end_time": "2025-02-07T14:45:26.629859Z",
     "start_time": "2025-02-07T14:45:25.940196Z"
    }
   },
   "cell_type": "code",
   "source": [
    "result2_2 = {(x[\"name\"], ) for x in Select(ops[\"movies\"], SoftValidate(\"Is {release} in July and is {release} after 2000?\", sv=sv, full_record=False))}\n",
    "evaluate(gt2_2, result2_2)"
   ],
   "id": "501171171fa21532",
   "outputs": [
    {
     "data": {
      "text/plain": [
       "{'precision': 40, 'recall': 100, 'f1_score': 57}"
      ]
     },
     "execution_count": 14,
     "metadata": {},
     "output_type": "execute_result"
    }
   ],
   "execution_count": 14
  },
  {
   "metadata": {
    "ExecuteTime": {
     "end_time": "2025-02-07T14:45:26.992129Z",
     "start_time": "2025-02-07T14:45:26.633999Z"
    }
   },
   "cell_type": "code",
   "source": [
    "op = Select(ops[\"movies\"], ConjunctiveCriteria([\n",
    "    SoftValidate(\"Is {release} in July?\", sv=sv, full_record=False),\n",
    "    SoftValidate(\"Is {release} after 2000?\", sv=sv, full_record=False),\n",
    "]))\n",
    "\n",
    "result2_2 = {(x[\"name\"], ) for x in op}\n",
    "evaluate(gt2_2, result2_2)"
   ],
   "id": "d3d01307c60f8382",
   "outputs": [
    {
     "data": {
      "text/plain": [
       "{'precision': 100, 'recall': 100, 'f1_score': 100}"
      ]
     },
     "execution_count": 15,
     "metadata": {},
     "output_type": "execute_result"
    }
   ],
   "execution_count": 15
  },
  {
   "metadata": {},
   "cell_type": "markdown",
   "source": "### 2.3 Match german Titles",
   "id": "275f4675d3a65144"
  },
  {
   "metadata": {
    "ExecuteTime": {
     "end_time": "2025-02-07T14:45:26.997760Z",
     "start_time": "2025-02-07T14:45:26.996222Z"
    }
   },
   "cell_type": "code",
   "source": [
    "gt2_3 = {\n",
    "    ('The Lord of the Rings: The Fellowship of the Ring', 'Der Herr der Ringe: Die Gefährten'),\n",
    "    (\"Pirates of the Caribbean: Dead Man's Chest\", 'Pirates of the Caribbean – Fluch der Karibik 2'),\n",
    "    ('The Lord of the Rings: The Return of the King', 'Der Herr der Ringe: Die Rückkehr des Königs'),\n",
    "    ('Charlie and the Chocolate Factory', 'Charlie und die Schokoladenfabrik'),\n",
    "    ('Inception', 'Inception'),\n",
    "    ('The Matrix', 'Matrix')\n",
    "}"
   ],
   "id": "c5aa215084b8b6c5",
   "outputs": [],
   "execution_count": 16
  },
  {
   "metadata": {
    "ExecuteTime": {
     "end_time": "2025-02-07T14:45:27.772534Z",
     "start_time": "2025-02-07T14:45:27.042780Z"
    }
   },
   "cell_type": "code",
   "source": [
    "result2_3 = {(x[\"movies.name\"], x[\"movies_de.name\"]) for x in InnerSoftJoin(ops[\"movies\"], ops[\"movies_de\"], None, None, em=em, threshold=0.6)}\n",
    "evaluate(gt2_3, result2_3)"
   ],
   "id": "9a296b99469b585b",
   "outputs": [
    {
     "data": {
      "text/plain": [
       "{'precision': 50, 'recall': 100, 'f1_score': 67}"
      ]
     },
     "execution_count": 17,
     "metadata": {},
     "output_type": "execute_result"
    }
   ],
   "execution_count": 17
  },
  {
   "metadata": {
    "ExecuteTime": {
     "end_time": "2025-02-07T14:45:27.827406Z",
     "start_time": "2025-02-07T14:45:27.781361Z"
    }
   },
   "cell_type": "code",
   "source": [
    "result2_3 = {(x[\"movies.name\"], x[\"movies_de.name\"]) for x in InnerSoftJoin(ops[\"movies\"], ops[\"movies_de\"], Column(\"movies.name\"), Column(\"movies_de.name\"), em=em, threshold=0.4)}\n",
    "evaluate(gt2_3, result2_3)"
   ],
   "id": "cadc7a379e7d86c1",
   "outputs": [
    {
     "data": {
      "text/plain": [
       "{'precision': 45, 'recall': 83, 'f1_score': 58}"
      ]
     },
     "execution_count": 18,
     "metadata": {},
     "output_type": "execute_result"
    }
   ],
   "execution_count": 18
  }
 ],
 "metadata": {
  "kernelspec": {
   "display_name": "Python 3",
   "language": "python",
   "name": "python3"
  },
  "language_info": {
   "codemirror_mode": {
    "name": "ipython",
    "version": 2
   },
   "file_extension": ".py",
   "mimetype": "text/x-python",
   "name": "python",
   "nbconvert_exporter": "python",
   "pygments_lexer": "ipython2",
   "version": "2.7.6"
  }
 },
 "nbformat": 4,
 "nbformat_minor": 5
}
